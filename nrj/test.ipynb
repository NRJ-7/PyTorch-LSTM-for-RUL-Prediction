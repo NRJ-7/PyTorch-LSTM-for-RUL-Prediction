{
 "cells": [
  {
   "cell_type": "code",
   "execution_count": 2,
   "id": "e60c12ea",
   "metadata": {},
   "outputs": [
    {
     "name": "stdout",
     "output_type": "stream",
     "text": [
      "Using MPS (Apple Silicon GPU)\n"
     ]
    }
   ],
   "source": [
    "import pandas as pd\n",
    "import numpy as np\n",
    "import torch\n",
    "import torch.nn as nn\n",
    "import torch.optim as optim\n",
    "from torch.nn.utils.rnn import pad_sequence, pack_padded_sequence, pad_packed_sequence\n",
    "import matplotlib.pyplot as plt\n",
    "from torch.utils.data import Dataset, DataLoader\n",
    "from load_data import FD001_dataset\n",
    "from visualize_modified import visualize\n",
    "from RUL_model import RUL_Model, RUL_Model_LearnableStates\n",
    "from torch.utils.tensorboard import SummaryWriter\n",
    "from typing import Optional, Tuple, List\n",
    "from tqdm.auto import tqdm\n",
    "\n",
    "# Check if MPS is available and built\n",
    "if torch.backends.mps.is_available():\n",
    "    device = torch.device(\"mps\")\n",
    "    print(\"Using MPS (Apple Silicon GPU)\")\n",
    "elif torch.cuda.is_available():\n",
    "    # Fallback for systems with NVIDIA GPUs (though less relevant on a Mac)\n",
    "    device = torch.device(\"cuda\")\n",
    "    print(\"Using CUDA\")\n",
    "else:\n",
    "    device = torch.device(\"cpu\")\n",
    "    print(\"MPS or CUDA not available, using CPU\")\n",
    "\n",
    "DATA_DIR_PATH = '../CMAPSSData/'\n",
    "BATCH_SIZE = 20\n",
    "\n",
    "import plotly.express as px\n",
    "import plotly.io as pio\n",
    "# pio.templates.default = \"none\"\n",
    "pio.templates.default = \"plotly_dark\"\n",
    "\n",
    "N_EPOCH = 200  # NUM OF EPOCHS\n",
    "RUL_UPPER_BOUND = 130  # UPPER BOUND OF RUL\n",
    "LR = 0.001  # LEARNING RATE"
   ]
  },
  {
   "cell_type": "code",
   "execution_count": 3,
   "id": "d7a65491",
   "metadata": {},
   "outputs": [],
   "source": [
    "train_dataset = FD001_dataset(data_type='train', rul_ub=RUL_UPPER_BOUND, norm_type='zscore')\n",
    "test_dataset = FD001_dataset(data_type='test', rul_ub=RUL_UPPER_BOUND, norm_type='zscore')"
   ]
  },
  {
   "cell_type": "code",
   "execution_count": 4,
   "id": "da01dce0",
   "metadata": {},
   "outputs": [],
   "source": [
    "def train_model(\n",
    "    model: nn.Module,\n",
    "    train_dataLoader: torch.utils.data.DataLoader,\n",
    "    test_dataLoader: torch.utils.data.DataLoader,\n",
    "    loss_fn: nn.Module, # IMPORTANT: Expects loss_fn with reduction='none'\n",
    "    optimizer: torch.optim.Optimizer,\n",
    "    device: torch.device, # Pass the device object\n",
    "    writer: Optional[SummaryWriter] = None,\n",
    "    num_epochs: int = 100,\n",
    "    y_test: Optional[np.ndarray] = None, # Assuming y_test is for visualization comparison\n",
    "    start_epoch: int = 1,\n",
    "    patience: int = 10, # Number of epochs to wait for improvement before stopping\n",
    "    best_model_path: str = 'best_model.pth' # Path to save the best model\n",
    "    ) -> Tuple[float, float, int]:\n",
    "    \"\"\"\n",
    "    Trains and validates a PyTorch model for sequence prediction (e.g., RUL).\n",
    "\n",
    "    Args:\n",
    "        model: The PyTorch model to train (should already be on 'device').\n",
    "        train_dataLoader: DataLoader for training data. Yields (padded_sequences, lengths, padded_targets).\n",
    "        test_dataLoader: DataLoader for validation data. Yields (sequences, targets).\n",
    "                         Assumes fixed length or model handles variable length internally for validation.\n",
    "        loss_fn: Loss function instance (MUST have reduction='none').\n",
    "        optimizer: Optimizer instance.\n",
    "        device: The torch.device (cuda, mps, cpu) to run training on.\n",
    "        writer: Optional TensorBoard SummaryWriter instance.\n",
    "        num_epochs: Total number of epochs to train for.\n",
    "        y_test: Optional ground truth for visualization during validation.\n",
    "        start_epoch: The starting epoch number (e.g., for resuming training).\n",
    "        patience: Number of epochs with no validation loss improvement to trigger early stopping.\n",
    "        best_model_path: File path to save the best performing model state_dict.\n",
    "\n",
    "    Returns:\n",
    "        Tuple containing:\n",
    "            - Final training loss (average per sample).\n",
    "            - Best validation loss achieved (RMSE on last time step).\n",
    "            - The epoch number when training finished.\n",
    "    \"\"\"\n",
    "    print(f\"Using device: {device}\")\n",
    "    # --- Ensure loss function has reduction='none' ---\n",
    "    try:\n",
    "        if hasattr(loss_fn, 'reduction') and loss_fn.reduction != 'none':\n",
    "            print(f\"Warning: loss_fn.reduction is '{loss_fn.reduction}'. \"\n",
    "                  \"For masked loss, it should be 'none'. Attempting to proceed, \"\n",
    "                  \"but results might be incorrect if loss isn't element-wise.\")\n",
    "    except Exception as e:\n",
    "        print(f\"Could not check loss_fn.reduction: {e}. Assuming it's 'none'.\")\n",
    "\n",
    "\n",
    "    best_val_loss = float('inf')\n",
    "    epochs_no_improve = 0\n",
    "    current_batch_size = train_dataLoader.batch_size # Get batch size for printing\n",
    "\n",
    "    for epoch in range(start_epoch, start_epoch + num_epochs):\n",
    "        model.train()\n",
    "        total_train_loss_sum = 0  # Sum of losses over valid elements in epoch\n",
    "        total_valid_elements = 0  # Total number of valid (non-padded) elements\n",
    "\n",
    "        # Optional: Use tqdm for a cleaner progress bar\n",
    "        # train_iterator = tqdm(train_dataLoader, desc=f\"Epoch {epoch: 3}/{num_epochs + start_epoch - 1} Training\", leave=True)\n",
    "        # for i, (x_padSeq, original_seq_lens, y_padSeq) in enumerate(train_iterator):\n",
    "\n",
    "        print(f\"Epoch {epoch: 3}/{num_epochs + start_epoch - 1} | Training...   \", end=\"\")\n",
    "        for i, (x_padSeq, original_seq_lens, y_padSeq) in enumerate(train_dataLoader):\n",
    "            # Simple progress indicator\n",
    "            print(f\"\\b\\b{(i+1)*BATCH_SIZE:02}\", end='')\n",
    "\n",
    "            # --- Move data to device ---\n",
    "            # NOTE: original_seq_lens stays on CPU for masking/packing\n",
    "            x_padSeq = x_padSeq.to(device)\n",
    "            y_padSeq = y_padSeq.to(device)\n",
    "            # original_seq_lens = original_seq_lens.to(device) # Keep on CPU\n",
    "\n",
    "            optimizer.zero_grad()\n",
    "            # --- Forward pass ---\n",
    "            # Assumes model handles lengths correctly if passed\n",
    "            y_pred = model(x_padSeq, original_seq_lens.cpu()) # Ensure lengths are CPU for model\n",
    "\n",
    "            # --- Masked Loss Calculation ---\n",
    "            loss_elementwise = loss_fn(y_pred, y_padSeq) # Needs reduction='none'\n",
    "            # 1. Create the mask (True/1 for non-padded, False/0 for padded) on CPU\n",
    "            max_len = y_pred.size(1) # Get max sequence length from output\n",
    "            indices_cpu = torch.arange(max_len) # Shape: [max_len] on CPU\n",
    "            # Expand indices to batch shape and compare with lengths (on CPU)\n",
    "            mask_cpu = indices_cpu.expand(x_padSeq.size(0), -1) < original_seq_lens.unsqueeze(1) # Shape: [batch, max_len] (boolean) on CPU\n",
    "            mask = mask_cpu.unsqueeze(-1).to(device) # Shape: [batch, max_len, 1] (boolean) on Device\n",
    "\n",
    "            # 2. Apply mask and calculate sum of loss over valid elements\n",
    "            # Ensure mask dtype is compatible with multiplication (convert boolean to float/int)\n",
    "            masked_loss = loss_elementwise * mask.float() # Or mask.int()\n",
    "            batch_total_loss = torch.sum(masked_loss)\n",
    "            num_valid_in_batch = torch.sum(mask)\n",
    "\n",
    "            # Avoid division by zero if a batch has no valid elements (e.g., all padding)\n",
    "            if num_valid_in_batch > 0:\n",
    "                 # Optional: Calculate mean loss for the batch for debugging/logging\n",
    "                #  batch_mean_loss = batch_total_loss / num_valid_in_batch\n",
    "\n",
    "                 # --- Backward pass and optimize ---\n",
    "                 batch_total_loss.backward()\n",
    "                 # Optional: Gradient clipping\n",
    "                 # torch.nn.utils.clip_grad_norm_(model.parameters(), max_norm=1.0)\n",
    "                 optimizer.step()\n",
    "\n",
    "                 total_train_loss_sum += batch_total_loss.item()\n",
    "                 total_valid_elements += num_valid_in_batch.item()\n",
    "            else:\n",
    "                 # Handle case where batch has no valid elements (skip backward/step)\n",
    "                 print(f\"Warning: Batch {i+1} has no valid elements based on lengths.\")\n",
    "                 pass # No loss contribution, no backward pass\n",
    "\n",
    "        # --- End of Training Epoch ---\n",
    "        # Calculate average loss per valid element for the epoch\n",
    "        avg_train_loss = total_train_loss_sum / total_valid_elements if total_valid_elements > 0 else 0\n",
    "        print(f\" | Train Loss (avg/element): {avg_train_loss:.4f} | \", end=\"\")\n",
    "\n",
    "        if writer is not None:\n",
    "            writer.add_scalar(\"Loss/train_avg_per_element\", avg_train_loss, epoch)\n",
    "\n",
    "        #### VALIDATION ####\n",
    "        model.eval()\n",
    "        total_val_sq_error_sum = 0.0\n",
    "        total_val_samples = 0 # Count samples based on test_dataLoader size\n",
    "        val_predictions_list = [] # Store predictions (on CPU)\n",
    "\n",
    "        with torch.no_grad():\n",
    "            # Use validation set for evaluating performance\n",
    "            for i, (x_padSeq, original_seq_lens, y_padSeq) in enumerate(test_dataLoader):\n",
    "                # Move validation data to device\n",
    "                x_padSeq = x_padSeq.to(device)\n",
    "                y_padSeq = y_padSeq.to(device)\n",
    "\n",
    "                # Validation sequences can be variable, pass lengths from test_dataLoader\n",
    "                # y_pred_val = model(x_val, val_lengths.cpu())\n",
    "                y_pred_val = model(x_padSeq, original_seq_lens.cpu()) # Assuming model handles lengths=None if needed\n",
    "                \n",
    "                # We need the output of the *last time step* of the *last* LSTM layer\n",
    "                batch_size = x_padSeq.size(0)\n",
    "                # Gather the outputs at the actual sequence lengths\n",
    "                last_seq_idxs = (original_seq_lens - 1).to(device) # Move indices to correct device\n",
    "                # Create batch indices [0, 1, ..., batch_size-1]\n",
    "                batch_indices = torch.arange(0, batch_size).to(device)\n",
    "                # Index the target and prediction using batch_indices and last_seq_idxs\n",
    "                y_val_last_step = y_padSeq[batch_indices, last_seq_idxs, :]\n",
    "                pred_last_step = y_pred_val[batch_indices, last_seq_idxs, :]\n",
    "                \n",
    "                sq_error = torch.pow(pred_last_step - y_val_last_step, 2)\n",
    "                total_val_sq_error_sum += torch.sum(sq_error).item() # Sum squared errors in batch\n",
    "                total_val_samples += batch_size # Add number of samples in this batch\n",
    "\n",
    "                # Store predictions (move to CPU) for potential visualization\n",
    "                val_predictions_list.append(pred_last_step.cpu().numpy())\n",
    "\n",
    "        # Calculate validation RMSE after iterating through all batches\n",
    "        val_rmse = np.sqrt(total_val_sq_error_sum / total_val_samples) if total_val_samples > 0 else 0\n",
    "        print(f\"Val RMSE (last step): {val_rmse:.4f}\")\n",
    "\n",
    "        if writer is not None:\n",
    "            writer.add_scalar(\"Loss/validation_RMSE_last_step\", val_rmse, epoch)\n",
    "            writer.flush()\n",
    "\n",
    "        # --- Early Stopping & Model Saving ---\n",
    "        if val_rmse < best_val_loss:\n",
    "            print(f\"Validation RMSE improved ({best_val_loss:.4f} --> {val_rmse:.4f}). Saving model...\")\n",
    "            best_val_loss = val_rmse\n",
    "            torch.save(model.state_dict(), best_model_path)\n",
    "            epochs_no_improve = 0\n",
    "        else:\n",
    "            epochs_no_improve += 1\n",
    "            print(f\"Validation RMSE did not improve for {epochs_no_improve} epoch(s). Best: {best_val_loss:.4f}\")\n",
    "\n",
    "        if epochs_no_improve >= patience:\n",
    "            print(f\"\\n--- Early stopping triggered after {epoch} epochs ---\")\n",
    "            break\n",
    "\n",
    "        # --- Visualization ---\n",
    "        if epoch % 10 == 0 and y_test is not None and len(val_predictions_list) > 0:\n",
    "             # Consolidate predictions from batches\n",
    "             all_val_preds = np.concatenate(val_predictions_list, axis=0)\n",
    "             # Call your visualization function\n",
    "             visualize(all_val_preds, y_test, 100, val_rmse, epoch, writer)\n",
    "\n",
    "    # --- End of Training ---\n",
    "    if writer is not None:\n",
    "        writer.flush()\n",
    "        # writer.close() # Close writer if finished\n",
    "\n",
    "    print(f\"\\nTraining finished after epoch {epoch}. Best Validation RMSE: {best_val_loss:.4f}\")\n",
    "    # Load the best model weights back before returning (optional)\n",
    "    # model.load_state_dict(torch.load(best_model_path, map_location=device))\n",
    "    return avg_train_loss, best_val_loss, epoch # Return last train loss, best val loss, final epoch"
   ]
  },
  {
   "cell_type": "code",
   "execution_count": 5,
   "id": "3b45916d",
   "metadata": {},
   "outputs": [],
   "source": [
    "# *** Define a padding index for labels ***\n",
    "# This value MUST be ignored by your loss function.\n",
    "# For nn.CrossEntropyLoss, use its 'ignore_index' parameter (default -100 is common).\n",
    "# Choose a value that doesn't conflict with valid label indices/values.\n",
    "LABEL_PADDING_IDX = -1000000\n",
    "\n",
    "def pad_collate_fn_time_step_level(batch):\n",
    "    sequences = [item[0] for item in batch]\n",
    "    # Labels are also sequences now\n",
    "    labels = [item[1] for item in batch] # e.g., list of tensors of shape [Li] or [Li, C]\n",
    "    lengths = torch.tensor([len(seq) for seq in sequences], dtype=torch.long) # Lengths based on input sequences\n",
    "\n",
    "    # Pad features (input sequences)\n",
    "    padded_sequences = pad_sequence(sequences, batch_first=True, padding_value=0.0)\n",
    "\n",
    "    # *** Pad labels (label sequences) ***\n",
    "    # Use the dedicated label padding index!\n",
    "    padded_labels = pad_sequence(labels, batch_first=True, padding_value=LABEL_PADDING_IDX)\n",
    "\n",
    "    return padded_sequences, lengths, padded_labels\n",
    "\n",
    "# Usage:\n",
    "# train_loader = DataLoader(..., collate_fn=pad_collate_fn_time_step_level)"
   ]
  },
  {
   "cell_type": "code",
   "execution_count": 6,
   "id": "4ec659cc",
   "metadata": {},
   "outputs": [],
   "source": [
    "def plot_rul_vs_time(unit_nr, model, dataloader):\n",
    "    \"\"\"\n",
    "    Plot the RUL over time for a given unit number.\n",
    "    \"\"\"\n",
    "    X, true_rul = dataloader.dataset[unit_nr - 1]\n",
    "    \n",
    "    model.eval()\n",
    "    predicted_rul = model(X).detach().numpy().squeeze(0)\n",
    "\n",
    "    fig = px.line(\n",
    "        x=np.arange(1, len(true_rul) + 1),\n",
    "        y=true_rul.reshape(-1),\n",
    "        title=f'RUL Over Time: Unit {unit_nr}',\n",
    "        labels={'x': 'Time', 'y': 'RUL'},\n",
    "        markers=False\n",
    "    )\n",
    "    fig.add_scatter(\n",
    "        x=np.arange(1, len(predicted_rul) + 1),\n",
    "        y=predicted_rul.reshape(-1),\n",
    "        mode='lines',\n",
    "        name='Predicted RUL'\n",
    "    )\n",
    "    fig.update_layout(\n",
    "        legend=dict(yanchor=\"bottom\",\n",
    "                    y=0.1,\n",
    "                    xanchor=\"left\",\n",
    "                    x=0.1)\n",
    "    )\n",
    "    fig.show()\n",
    "    "
   ]
  },
  {
   "cell_type": "code",
   "execution_count": 7,
   "id": "788f8c3a",
   "metadata": {},
   "outputs": [],
   "source": [
    "train_dataLoader = DataLoader(train_dataset, batch_size=BATCH_SIZE, shuffle=True, collate_fn=pad_collate_fn_time_step_level)\n",
    "test_dataLoader = DataLoader(test_dataset, batch_size=100, shuffle=False, collate_fn=pad_collate_fn_time_step_level) "
   ]
  },
  {
   "cell_type": "markdown",
   "id": "99d18634",
   "metadata": {},
   "source": [
    "<h2>LSTM Without Learnable Initial States</h2>"
   ]
  },
  {
   "cell_type": "code",
   "execution_count": null,
   "id": "eb12404c",
   "metadata": {},
   "outputs": [],
   "source": [
    "hparams = {\n",
    "    'LR': LR,\n",
    "    'BatchSize': BATCH_SIZE,\n",
    "    'HiddenSizes': [32, 64],\n",
    "    'LayerSizes': [1, 1],\n",
    "    'DropoutRate': 0.3,\n",
    "    'LossFn': 'MSELoss',\n",
    "    'Optimizer': 'RMSprop'\n",
    "}\n",
    "model = RUL_Model_LearnableStates(input_size=train_dataLoader.dataset[0][0].shape[1], \n",
    "                                  lstm_hidden_sizes=hparams['HiddenSizes'], \n",
    "                                  lstm_layer_sizes=hparams['LayerSizes'], \n",
    "                                  lstm_dropout_rate=hparams['DropoutRate'], \n",
    "                                  output_dropout_rate=hparams['DropoutRate'], state_init=True)\n",
    "model.to(device)\n",
    "loss_fn = torch.nn.MSELoss(reduction='none')  # mean-squared error for regression\n",
    "# optimizer = torch.optim.AdamW(model.parameters(), lr=LR)\n",
    "optimizer = torch.optim.RMSprop(model.parameters(), lr=LR)\n",
    "\n",
    "# Just to use the original visualisation module\n",
    "y_test = pd.DataFrame({\"RUL\": [test_dataset[i][1][-1].item() for i in range(100)]})\n"
   ]
  },
  {
   "cell_type": "code",
   "execution_count": 9,
   "id": "3bca55d1",
   "metadata": {},
   "outputs": [
    {
     "name": "stdout",
     "output_type": "stream",
     "text": [
      "Using device: mps\n",
      "Epoch   1/100 | Training... 100 | Train Loss (avg/element): 9707.8503 | Val RMSE (last step): 83.7468\n",
      "Validation RMSE improved (inf --> 83.7468). Saving model...\n",
      "Epoch   2/100 | Training... 100 | Train Loss (avg/element): 9281.2118 | Val RMSE (last step): 81.5148\n",
      "Validation RMSE improved (83.7468 --> 81.5148). Saving model...\n",
      "Epoch   3/100 | Training... 100 | Train Loss (avg/element): 8879.7499 | Val RMSE (last step): 79.6002\n",
      "Validation RMSE improved (81.5148 --> 79.6002). Saving model...\n",
      "Epoch   4/100 | Training... 100 | Train Loss (avg/element): 8533.4807 | Val RMSE (last step): 77.7341\n",
      "Validation RMSE improved (79.6002 --> 77.7341). Saving model...\n",
      "Epoch   5/100 | Training... 100 | Train Loss (avg/element): 8181.1430 | Val RMSE (last step): 75.8016\n",
      "Validation RMSE improved (77.7341 --> 75.8016). Saving model...\n",
      "Epoch   6/100 | Training... 100 | Train Loss (avg/element): 7829.4278 | Val RMSE (last step): 73.8593\n",
      "Validation RMSE improved (75.8016 --> 73.8593). Saving model...\n",
      "Epoch   7/100 | Training... 100 | Train Loss (avg/element): 7499.4679 | Val RMSE (last step): 71.9201\n",
      "Validation RMSE improved (73.8593 --> 71.9201). Saving model...\n",
      "Epoch   8/100 | Training... 100 | Train Loss (avg/element): 7184.5963 | Val RMSE (last step): 69.9863\n",
      "Validation RMSE improved (71.9201 --> 69.9863). Saving model...\n",
      "Epoch   9/100 | Training... 100 | Train Loss (avg/element): 6869.9229 | Val RMSE (last step): 68.0536\n",
      "Validation RMSE improved (69.9863 --> 68.0536). Saving model...\n",
      "Epoch  10/100 | Training... 100 | Train Loss (avg/element): 6532.6787 | Val RMSE (last step): 66.1132\n",
      "Validation RMSE improved (68.0536 --> 66.1132). Saving model...\n",
      "Epoch  11/100 | Training... 100 | Train Loss (avg/element): 6230.4105 | Val RMSE (last step): 64.1854\n",
      "Validation RMSE improved (66.1132 --> 64.1854). Saving model...\n",
      "Epoch  12/100 | Training... 100 | Train Loss (avg/element): 5944.7870 | Val RMSE (last step): 62.3016\n",
      "Validation RMSE improved (64.1854 --> 62.3016). Saving model...\n",
      "Epoch  13/100 | Training... 100 | Train Loss (avg/element): 5698.5733 | Val RMSE (last step): 60.4634\n",
      "Validation RMSE improved (62.3016 --> 60.4634). Saving model...\n",
      "Epoch  14/100 | Training... 100 | Train Loss (avg/element): 5465.3620 | Val RMSE (last step): 58.6757\n",
      "Validation RMSE improved (60.4634 --> 58.6757). Saving model...\n",
      "Epoch  15/100 | Training... 100 | Train Loss (avg/element): 5135.2593 | Val RMSE (last step): 56.9234\n",
      "Validation RMSE improved (58.6757 --> 56.9234). Saving model...\n",
      "Epoch  16/100 | Training... 100 | Train Loss (avg/element): 4920.1188 | Val RMSE (last step): 55.2337\n",
      "Validation RMSE improved (56.9234 --> 55.2337). Saving model...\n",
      "Epoch  17/100 | Training... 100 | Train Loss (avg/element): 4715.4355 | Val RMSE (last step): 53.6058\n",
      "Validation RMSE improved (55.2337 --> 53.6058). Saving model...\n",
      "Epoch  18/100 | Training... 100 | Train Loss (avg/element): 4535.5584 | Val RMSE (last step): 51.8630\n",
      "Validation RMSE improved (53.6058 --> 51.8630). Saving model...\n",
      "Epoch  19/100 | Training... 100 | Train Loss (avg/element): 4321.3578 | Val RMSE (last step): 49.6174\n",
      "Validation RMSE improved (51.8630 --> 49.6174). Saving model...\n",
      "Epoch  20/100 | Training... 100 | Train Loss (avg/element): 4070.9606 | Val RMSE (last step): 47.5830\n",
      "Validation RMSE improved (49.6174 --> 47.5830). Saving model...\n",
      "Epoch  21/100 | Training... 100 | Train Loss (avg/element): 3830.3240 | Val RMSE (last step): 45.7545\n",
      "Validation RMSE improved (47.5830 --> 45.7545). Saving model...\n",
      "Epoch  22/100 | Training... 100 | Train Loss (avg/element): 3679.4164 | Val RMSE (last step): 43.9093\n",
      "Validation RMSE improved (45.7545 --> 43.9093). Saving model...\n",
      "Epoch  23/100 | Training... 100 | Train Loss (avg/element): 3421.8847 | Val RMSE (last step): 42.1546\n",
      "Validation RMSE improved (43.9093 --> 42.1546). Saving model...\n",
      "Epoch  24/100 | Training... 100 | Train Loss (avg/element): 3250.0858 | Val RMSE (last step): 40.4945\n",
      "Validation RMSE improved (42.1546 --> 40.4945). Saving model...\n",
      "Epoch  25/100 | Training... 100 | Train Loss (avg/element): 3133.0452 | Val RMSE (last step): 38.9018\n",
      "Validation RMSE improved (40.4945 --> 38.9018). Saving model...\n",
      "Epoch  26/100 | Training... 100 | Train Loss (avg/element): 3037.2814 | Val RMSE (last step): 37.2030\n",
      "Validation RMSE improved (38.9018 --> 37.2030). Saving model...\n",
      "Epoch  27/100 | Training... 100 | Train Loss (avg/element): 2833.3038 | Val RMSE (last step): 35.7287\n",
      "Validation RMSE improved (37.2030 --> 35.7287). Saving model...\n",
      "Epoch  28/100 | Training... 100 | Train Loss (avg/element): 2767.9802 | Val RMSE (last step): 33.9888\n",
      "Validation RMSE improved (35.7287 --> 33.9888). Saving model...\n",
      "Epoch  29/100 | Training... 100 | Train Loss (avg/element): 2630.4298 | Val RMSE (last step): 32.8455\n",
      "Validation RMSE improved (33.9888 --> 32.8455). Saving model...\n",
      "Epoch  30/100 | Training... 100 | Train Loss (avg/element): 2600.8140 | Val RMSE (last step): 31.0189\n",
      "Validation RMSE improved (32.8455 --> 31.0189). Saving model...\n",
      "Epoch  31/100 | Training... 100 | Train Loss (avg/element): 2489.1559 | Val RMSE (last step): 29.8936\n",
      "Validation RMSE improved (31.0189 --> 29.8936). Saving model...\n",
      "Epoch  32/100 | Training... 100 | Train Loss (avg/element): 2396.4619 | Val RMSE (last step): 28.9212\n",
      "Validation RMSE improved (29.8936 --> 28.9212). Saving model...\n",
      "Epoch  33/100 | Training... 100 | Train Loss (avg/element): 2361.5953 | Val RMSE (last step): 27.4811\n",
      "Validation RMSE improved (28.9212 --> 27.4811). Saving model...\n",
      "Epoch  34/100 | Training... 100 | Train Loss (avg/element): 2283.0033 | Val RMSE (last step): 26.2380\n",
      "Validation RMSE improved (27.4811 --> 26.2380). Saving model...\n",
      "Epoch  35/100 | Training... 100 | Train Loss (avg/element): 2243.8089 | Val RMSE (last step): 25.3178\n",
      "Validation RMSE improved (26.2380 --> 25.3178). Saving model...\n",
      "Epoch  36/100 | Training... 100 | Train Loss (avg/element): 2183.6404 | Val RMSE (last step): 24.4689\n",
      "Validation RMSE improved (25.3178 --> 24.4689). Saving model...\n",
      "Epoch  37/100 | Training... 100 | Train Loss (avg/element): 2196.5362 | Val RMSE (last step): 23.8111\n",
      "Validation RMSE improved (24.4689 --> 23.8111). Saving model...\n",
      "Epoch  38/100 | Training... 100 | Train Loss (avg/element): 2165.1236 | Val RMSE (last step): 24.0960\n",
      "Validation RMSE did not improve for 1 epoch(s). Best: 23.8111\n",
      "Epoch  39/100 | Training... 100 | Train Loss (avg/element): 2160.3885 | Val RMSE (last step): 23.2914\n",
      "Validation RMSE improved (23.8111 --> 23.2914). Saving model...\n",
      "Epoch  40/100 | Training... 100 | Train Loss (avg/element): 2079.2032 | Val RMSE (last step): 22.0878\n",
      "Validation RMSE improved (23.2914 --> 22.0878). Saving model...\n",
      "Epoch  41/100 | Training... 100 | Train Loss (avg/element): 2067.0570 | Val RMSE (last step): 21.5247\n",
      "Validation RMSE improved (22.0878 --> 21.5247). Saving model...\n",
      "Epoch  42/100 | Training... 100 | Train Loss (avg/element): 2048.4355 | Val RMSE (last step): 21.4600\n",
      "Validation RMSE improved (21.5247 --> 21.4600). Saving model...\n",
      "Epoch  43/100 | Training... 100 | Train Loss (avg/element): 2052.8571 | Val RMSE (last step): 20.3600\n",
      "Validation RMSE improved (21.4600 --> 20.3600). Saving model...\n",
      "Epoch  44/100 | Training... 100 | Train Loss (avg/element): 1972.2497 | Val RMSE (last step): 21.1846\n",
      "Validation RMSE did not improve for 1 epoch(s). Best: 20.3600\n",
      "Epoch  45/100 | Training... 100 | Train Loss (avg/element): 1983.1208 | Val RMSE (last step): 20.3833\n",
      "Validation RMSE did not improve for 2 epoch(s). Best: 20.3600\n",
      "Epoch  46/100 | Training... 100 | Train Loss (avg/element): 1991.3708 | Val RMSE (last step): 20.1638\n",
      "Validation RMSE improved (20.3600 --> 20.1638). Saving model...\n",
      "Epoch  47/100 | Training... 100 | Train Loss (avg/element): 1991.2900 | Val RMSE (last step): 19.8814\n",
      "Validation RMSE improved (20.1638 --> 19.8814). Saving model...\n",
      "Epoch  48/100 | Training... 100 | Train Loss (avg/element): 1999.0432 | Val RMSE (last step): 19.6521\n",
      "Validation RMSE improved (19.8814 --> 19.6521). Saving model...\n",
      "Epoch  49/100 | Training... 100 | Train Loss (avg/element): 1956.3106 | Val RMSE (last step): 19.3260\n",
      "Validation RMSE improved (19.6521 --> 19.3260). Saving model...\n",
      "Epoch  50/100 | Training... 100 | Train Loss (avg/element): 1962.0316 | Val RMSE (last step): 19.0802\n",
      "Validation RMSE improved (19.3260 --> 19.0802). Saving model...\n",
      "Epoch  51/100 | Training... 100 | Train Loss (avg/element): 1935.0002 | Val RMSE (last step): 19.1450\n",
      "Validation RMSE did not improve for 1 epoch(s). Best: 19.0802\n",
      "Epoch  52/100 | Training... 100 | Train Loss (avg/element): 1974.5854 | Val RMSE (last step): 19.1339\n",
      "Validation RMSE did not improve for 2 epoch(s). Best: 19.0802\n",
      "Epoch  53/100 | Training... 100 | Train Loss (avg/element): 1952.7901 | Val RMSE (last step): 20.1942\n",
      "Validation RMSE did not improve for 3 epoch(s). Best: 19.0802\n",
      "Epoch  54/100 | Training... 100 | Train Loss (avg/element): 1952.0162 | Val RMSE (last step): 18.9906\n",
      "Validation RMSE improved (19.0802 --> 18.9906). Saving model...\n",
      "Epoch  55/100 | Training... 100 | Train Loss (avg/element): 1946.0958 | Val RMSE (last step): 18.8182\n",
      "Validation RMSE improved (18.9906 --> 18.8182). Saving model...\n",
      "Epoch  56/100 | Training... 100 | Train Loss (avg/element): 1922.6538 | Val RMSE (last step): 18.8852\n",
      "Validation RMSE did not improve for 1 epoch(s). Best: 18.8182\n",
      "Epoch  57/100 | Training... 100 | Train Loss (avg/element): 1925.1011 | Val RMSE (last step): 19.4553\n",
      "Validation RMSE did not improve for 2 epoch(s). Best: 18.8182\n",
      "Epoch  58/100 | Training... 100 | Train Loss (avg/element): 1911.6634 | Val RMSE (last step): 18.0664\n",
      "Validation RMSE improved (18.8182 --> 18.0664). Saving model...\n",
      "Epoch  59/100 | Training... 100 | Train Loss (avg/element): 1880.3142 | Val RMSE (last step): 18.0987\n",
      "Validation RMSE did not improve for 1 epoch(s). Best: 18.0664\n",
      "Epoch  60/100 | Training... 100 | Train Loss (avg/element): 1875.4145 | Val RMSE (last step): 18.3946\n",
      "Validation RMSE did not improve for 2 epoch(s). Best: 18.0664\n",
      "Epoch  61/100 | Training... 100 | Train Loss (avg/element): 1959.5359 | Val RMSE (last step): 17.8062\n",
      "Validation RMSE improved (18.0664 --> 17.8062). Saving model...\n",
      "Epoch  62/100 | Training... 100 | Train Loss (avg/element): 1887.0016 | Val RMSE (last step): 18.6662\n",
      "Validation RMSE did not improve for 1 epoch(s). Best: 17.8062\n",
      "Epoch  63/100 | Training... 100 | Train Loss (avg/element): 1848.8068 | Val RMSE (last step): 18.0743\n",
      "Validation RMSE did not improve for 2 epoch(s). Best: 17.8062\n",
      "Epoch  64/100 | Training... 100 | Train Loss (avg/element): 1848.3761 | Val RMSE (last step): 18.9143\n",
      "Validation RMSE did not improve for 3 epoch(s). Best: 17.8062\n",
      "Epoch  65/100 | Training... 100 | Train Loss (avg/element): 1897.8257 | Val RMSE (last step): 18.2539\n",
      "Validation RMSE did not improve for 4 epoch(s). Best: 17.8062\n",
      "Epoch  66/100 | Training... 100 | Train Loss (avg/element): 1861.2991 | Val RMSE (last step): 18.8678\n",
      "Validation RMSE did not improve for 5 epoch(s). Best: 17.8062\n",
      "Epoch  67/100 | Training... 100 | Train Loss (avg/element): 1905.8345 | Val RMSE (last step): 18.9411\n",
      "Validation RMSE did not improve for 6 epoch(s). Best: 17.8062\n",
      "Epoch  68/100 | Training... 100 | Train Loss (avg/element): 1934.0178 | Val RMSE (last step): 18.8749\n",
      "Validation RMSE did not improve for 7 epoch(s). Best: 17.8062\n",
      "Epoch  69/100 | Training... 100 | Train Loss (avg/element): 1925.9027 | Val RMSE (last step): 19.1983\n",
      "Validation RMSE did not improve for 8 epoch(s). Best: 17.8062\n",
      "Epoch  70/100 | Training... 100 | Train Loss (avg/element): 1913.3506 | Val RMSE (last step): 19.3793\n",
      "Validation RMSE did not improve for 9 epoch(s). Best: 17.8062\n",
      "Epoch  71/100 | Training... 100 | Train Loss (avg/element): 1863.2800 | Val RMSE (last step): 19.4155\n",
      "Validation RMSE did not improve for 10 epoch(s). Best: 17.8062\n",
      "\n",
      "--- Early stopping triggered after 71 epochs ---\n",
      "\n",
      "Training finished after epoch 71. Best Validation RMSE: 17.8062\n"
     ]
    }
   ],
   "source": [
    "\n",
    "writer = SummaryWriter(log_dir='runs/model_L-3264-N-88__learnStates_stateInit_lr0p001_bs20_dp0p3_RMSprop_MSELoss_mps')\n",
    "writer.add_graph(model, train_dataset[0][0].to(device))\n",
    "\n",
    "final_train_loss, best_val_loss, last_epoch = train_model(\n",
    "    model=model,\n",
    "    train_dataLoader=train_dataLoader, # Your training DataLoader\n",
    "    test_dataLoader=test_dataLoader,   # Your validation DataLoader\n",
    "    loss_fn=loss_fn,\n",
    "    optimizer=optimizer,\n",
    "    device=device,\n",
    "    writer=writer, # Pass your writer if using TensorBoard\n",
    "    num_epochs=100,\n",
    "    patience=10, # Example patience\n",
    "    best_model_path='best_model.pth', # Choose save path\n",
    "    y_test=y_test, # Optional: for visualization\n",
    ")\n",
    "\n",
    "# writer.add_hparams(hparam_dict=hparams, metric_dict={'Train Loss': train_loss,\n",
    "#                                                      'Validation Loss': val_loss,\n",
    "#                                                      'Num Epochs Run': epochs})"
   ]
  },
  {
   "cell_type": "code",
   "execution_count": 35,
   "id": "96f670d6",
   "metadata": {},
   "outputs": [
    {
     "data": {
      "application/vnd.plotly.v1+json": {
       "config": {
        "plotlyServerURL": "https://plot.ly"
       },
       "data": [
        {
         "hovertemplate": "True RUL=%{x}<br>Sequence Length=%{y}<br>RUL Error=%{marker.color}<extra></extra>",
         "legendgroup": "",
         "marker": {
          "color": [
           3.0936737060546875,
           17.130340576171875,
           2.8749542236328125,
           17.217201232910156,
           14.273735046386719,
           16.186424255371094,
           1.7938613891601562,
           17.76709747314453,
           3.746429443359375,
           24.53789520263672,
           4.470222473144531,
           54.117713928222656,
           38.798606872558594,
           4.823753356933594,
           31.88184356689453,
           22.70404815673828,
           1.1558990478515625,
           4.057918548583984,
           12.244758605957031,
           4.000871658325195,
           2.8893051147460938,
           3.7083206176757812,
           2.11737060546875,
           0.06499481201171875,
           14.938766479492188,
           10.089775085449219,
           24.437469482421875,
           13.085105895996094,
           4.2463531494140625,
           45.46471405029297,
           1.3040494918823242,
           0.5278282165527344,
           7.6015472412109375,
           1.2603330612182617,
           3.486729145050049,
           3.712881088256836,
           2.296173095703125,
           4.22186279296875,
           14.902976989746094,
           0.4033374786376953,
           2.693347930908203,
           1.8550586700439453,
           19.24188995361328,
           4.693565368652344,
           24.99388885498047,
           9.071296691894531,
           17.75714874267578,
           17.799591064453125,
           1.5205421447753906,
           3.4054412841796875,
           8.848899841308594,
           5.64691162109375,
           6.437507629394531,
           18.070205688476562,
           30.480491638183594,
           1.9429969787597656,
           22.775360107421875,
           4.784538269042969,
           1.04931640625,
           13.0399169921875,
           9.897459030151367,
           7.9666748046875,
           21.083629608154297,
           1.1691265106201172,
           12.993209838867188,
           0.10103893280029297,
           31.469345092773438,
           3.2520322799682617,
           8.157272338867188,
           18.70110321044922,
           12.427902221679688,
           1.6127891540527344,
           15.314033508300781,
           43.46570587158203,
           17.204437255859375,
           0.5653610229492188,
           9.490028381347656,
           8.120460510253906,
           19.950523376464844,
           2.8682861328125,
           0.2510032653808594,
           4.976594924926758,
           26.20954132080078,
           7.132453918457031,
           2.9190826416015625,
           9.139190673828125,
           1.1318130493164062,
           9.488883972167969,
           49.07331848144531,
           0.1387481689453125,
           17.45550537109375,
           1.3430461883544922,
           52.925357818603516,
           14.150886535644531,
           15.869247436523438,
           16.07525634765625,
           17.218551635742188,
           10.4219970703125,
           1.9186935424804688,
           0.06945037841796875
          ],
          "coloraxis": "coloraxis",
          "symbol": "circle"
         },
         "mode": "markers",
         "name": "",
         "orientation": "v",
         "showlegend": false,
         "type": "scatter",
         "x": [
          112,
          98,
          69,
          82,
          91,
          93,
          91,
          95,
          111,
          96,
          97,
          124,
          95,
          107,
          83,
          84,
          50,
          28,
          87,
          16,
          57,
          111,
          113,
          20,
          130,
          119,
          66,
          97,
          90,
          115,
          8,
          48,
          106,
          7,
          11,
          19,
          21,
          50,
          130,
          28,
          18,
          10,
          59,
          109,
          114,
          47,
          130,
          92,
          21,
          79,
          114,
          29,
          26,
          97,
          130,
          15,
          103,
          37,
          114,
          100,
          21,
          54,
          72,
          28,
          128,
          14,
          77,
          8,
          121,
          94,
          118,
          50,
          130,
          126,
          113,
          10,
          34,
          107,
          63,
          90,
          8,
          9,
          130,
          58,
          118,
          89,
          116,
          115,
          130,
          28,
          38,
          20,
          85,
          55,
          128,
          130,
          82,
          59,
          117,
          20
         ],
         "xaxis": "x",
         "y": [
          31,
          49,
          126,
          106,
          98,
          105,
          160,
          166,
          55,
          192,
          83,
          217,
          195,
          46,
          76,
          113,
          165,
          133,
          135,
          184,
          148,
          39,
          130,
          186,
          48,
          76,
          140,
          158,
          171,
          143,
          196,
          145,
          50,
          203,
          198,
          126,
          121,
          125,
          37,
          133,
          123,
          156,
          172,
          54,
          152,
          146,
          73,
          78,
          303,
          74,
          144,
          189,
          164,
          121,
          113,
          136,
          160,
          176,
          94,
          147,
          159,
          232,
          155,
          168,
          71,
          147,
          71,
          187,
          54,
          152,
          68,
          131,
          112,
          137,
          88,
          205,
          162,
          72,
          101,
          133,
          213,
          162,
          73,
          172,
          34,
          110,
          56,
          68,
          177,
          146,
          234,
          150,
          244,
          133,
          89,
          97,
          134,
          121,
          97,
          198
         ],
         "yaxis": "y"
        }
       ],
       "layout": {
        "coloraxis": {
         "colorbar": {
          "title": {
           "text": "RUL Error"
          }
         },
         "colorscale": [
          [
           0,
           "#440154"
          ],
          [
           0.1111111111111111,
           "#482878"
          ],
          [
           0.2222222222222222,
           "#3e4989"
          ],
          [
           0.3333333333333333,
           "#31688e"
          ],
          [
           0.4444444444444444,
           "#26828e"
          ],
          [
           0.5555555555555556,
           "#1f9e89"
          ],
          [
           0.6666666666666666,
           "#35b779"
          ],
          [
           0.7777777777777778,
           "#6ece58"
          ],
          [
           0.8888888888888888,
           "#b5de2b"
          ],
          [
           1,
           "#fde725"
          ]
         ]
        },
        "legend": {
         "tracegroupgap": 0
        },
        "template": {
         "data": {
          "bar": [
           {
            "error_x": {
             "color": "#f2f5fa"
            },
            "error_y": {
             "color": "#f2f5fa"
            },
            "marker": {
             "line": {
              "color": "rgb(17,17,17)",
              "width": 0.5
             },
             "pattern": {
              "fillmode": "overlay",
              "size": 10,
              "solidity": 0.2
             }
            },
            "type": "bar"
           }
          ],
          "barpolar": [
           {
            "marker": {
             "line": {
              "color": "rgb(17,17,17)",
              "width": 0.5
             },
             "pattern": {
              "fillmode": "overlay",
              "size": 10,
              "solidity": 0.2
             }
            },
            "type": "barpolar"
           }
          ],
          "carpet": [
           {
            "aaxis": {
             "endlinecolor": "#A2B1C6",
             "gridcolor": "#506784",
             "linecolor": "#506784",
             "minorgridcolor": "#506784",
             "startlinecolor": "#A2B1C6"
            },
            "baxis": {
             "endlinecolor": "#A2B1C6",
             "gridcolor": "#506784",
             "linecolor": "#506784",
             "minorgridcolor": "#506784",
             "startlinecolor": "#A2B1C6"
            },
            "type": "carpet"
           }
          ],
          "choropleth": [
           {
            "colorbar": {
             "outlinewidth": 0,
             "ticks": ""
            },
            "type": "choropleth"
           }
          ],
          "contour": [
           {
            "colorbar": {
             "outlinewidth": 0,
             "ticks": ""
            },
            "colorscale": [
             [
              0,
              "#0d0887"
             ],
             [
              0.1111111111111111,
              "#46039f"
             ],
             [
              0.2222222222222222,
              "#7201a8"
             ],
             [
              0.3333333333333333,
              "#9c179e"
             ],
             [
              0.4444444444444444,
              "#bd3786"
             ],
             [
              0.5555555555555556,
              "#d8576b"
             ],
             [
              0.6666666666666666,
              "#ed7953"
             ],
             [
              0.7777777777777778,
              "#fb9f3a"
             ],
             [
              0.8888888888888888,
              "#fdca26"
             ],
             [
              1,
              "#f0f921"
             ]
            ],
            "type": "contour"
           }
          ],
          "contourcarpet": [
           {
            "colorbar": {
             "outlinewidth": 0,
             "ticks": ""
            },
            "type": "contourcarpet"
           }
          ],
          "heatmap": [
           {
            "colorbar": {
             "outlinewidth": 0,
             "ticks": ""
            },
            "colorscale": [
             [
              0,
              "#0d0887"
             ],
             [
              0.1111111111111111,
              "#46039f"
             ],
             [
              0.2222222222222222,
              "#7201a8"
             ],
             [
              0.3333333333333333,
              "#9c179e"
             ],
             [
              0.4444444444444444,
              "#bd3786"
             ],
             [
              0.5555555555555556,
              "#d8576b"
             ],
             [
              0.6666666666666666,
              "#ed7953"
             ],
             [
              0.7777777777777778,
              "#fb9f3a"
             ],
             [
              0.8888888888888888,
              "#fdca26"
             ],
             [
              1,
              "#f0f921"
             ]
            ],
            "type": "heatmap"
           }
          ],
          "heatmapgl": [
           {
            "colorbar": {
             "outlinewidth": 0,
             "ticks": ""
            },
            "colorscale": [
             [
              0,
              "#0d0887"
             ],
             [
              0.1111111111111111,
              "#46039f"
             ],
             [
              0.2222222222222222,
              "#7201a8"
             ],
             [
              0.3333333333333333,
              "#9c179e"
             ],
             [
              0.4444444444444444,
              "#bd3786"
             ],
             [
              0.5555555555555556,
              "#d8576b"
             ],
             [
              0.6666666666666666,
              "#ed7953"
             ],
             [
              0.7777777777777778,
              "#fb9f3a"
             ],
             [
              0.8888888888888888,
              "#fdca26"
             ],
             [
              1,
              "#f0f921"
             ]
            ],
            "type": "heatmapgl"
           }
          ],
          "histogram": [
           {
            "marker": {
             "pattern": {
              "fillmode": "overlay",
              "size": 10,
              "solidity": 0.2
             }
            },
            "type": "histogram"
           }
          ],
          "histogram2d": [
           {
            "colorbar": {
             "outlinewidth": 0,
             "ticks": ""
            },
            "colorscale": [
             [
              0,
              "#0d0887"
             ],
             [
              0.1111111111111111,
              "#46039f"
             ],
             [
              0.2222222222222222,
              "#7201a8"
             ],
             [
              0.3333333333333333,
              "#9c179e"
             ],
             [
              0.4444444444444444,
              "#bd3786"
             ],
             [
              0.5555555555555556,
              "#d8576b"
             ],
             [
              0.6666666666666666,
              "#ed7953"
             ],
             [
              0.7777777777777778,
              "#fb9f3a"
             ],
             [
              0.8888888888888888,
              "#fdca26"
             ],
             [
              1,
              "#f0f921"
             ]
            ],
            "type": "histogram2d"
           }
          ],
          "histogram2dcontour": [
           {
            "colorbar": {
             "outlinewidth": 0,
             "ticks": ""
            },
            "colorscale": [
             [
              0,
              "#0d0887"
             ],
             [
              0.1111111111111111,
              "#46039f"
             ],
             [
              0.2222222222222222,
              "#7201a8"
             ],
             [
              0.3333333333333333,
              "#9c179e"
             ],
             [
              0.4444444444444444,
              "#bd3786"
             ],
             [
              0.5555555555555556,
              "#d8576b"
             ],
             [
              0.6666666666666666,
              "#ed7953"
             ],
             [
              0.7777777777777778,
              "#fb9f3a"
             ],
             [
              0.8888888888888888,
              "#fdca26"
             ],
             [
              1,
              "#f0f921"
             ]
            ],
            "type": "histogram2dcontour"
           }
          ],
          "mesh3d": [
           {
            "colorbar": {
             "outlinewidth": 0,
             "ticks": ""
            },
            "type": "mesh3d"
           }
          ],
          "parcoords": [
           {
            "line": {
             "colorbar": {
              "outlinewidth": 0,
              "ticks": ""
             }
            },
            "type": "parcoords"
           }
          ],
          "pie": [
           {
            "automargin": true,
            "type": "pie"
           }
          ],
          "scatter": [
           {
            "marker": {
             "line": {
              "color": "#283442"
             }
            },
            "type": "scatter"
           }
          ],
          "scatter3d": [
           {
            "line": {
             "colorbar": {
              "outlinewidth": 0,
              "ticks": ""
             }
            },
            "marker": {
             "colorbar": {
              "outlinewidth": 0,
              "ticks": ""
             }
            },
            "type": "scatter3d"
           }
          ],
          "scattercarpet": [
           {
            "marker": {
             "colorbar": {
              "outlinewidth": 0,
              "ticks": ""
             }
            },
            "type": "scattercarpet"
           }
          ],
          "scattergeo": [
           {
            "marker": {
             "colorbar": {
              "outlinewidth": 0,
              "ticks": ""
             }
            },
            "type": "scattergeo"
           }
          ],
          "scattergl": [
           {
            "marker": {
             "line": {
              "color": "#283442"
             }
            },
            "type": "scattergl"
           }
          ],
          "scattermapbox": [
           {
            "marker": {
             "colorbar": {
              "outlinewidth": 0,
              "ticks": ""
             }
            },
            "type": "scattermapbox"
           }
          ],
          "scatterpolar": [
           {
            "marker": {
             "colorbar": {
              "outlinewidth": 0,
              "ticks": ""
             }
            },
            "type": "scatterpolar"
           }
          ],
          "scatterpolargl": [
           {
            "marker": {
             "colorbar": {
              "outlinewidth": 0,
              "ticks": ""
             }
            },
            "type": "scatterpolargl"
           }
          ],
          "scatterternary": [
           {
            "marker": {
             "colorbar": {
              "outlinewidth": 0,
              "ticks": ""
             }
            },
            "type": "scatterternary"
           }
          ],
          "surface": [
           {
            "colorbar": {
             "outlinewidth": 0,
             "ticks": ""
            },
            "colorscale": [
             [
              0,
              "#0d0887"
             ],
             [
              0.1111111111111111,
              "#46039f"
             ],
             [
              0.2222222222222222,
              "#7201a8"
             ],
             [
              0.3333333333333333,
              "#9c179e"
             ],
             [
              0.4444444444444444,
              "#bd3786"
             ],
             [
              0.5555555555555556,
              "#d8576b"
             ],
             [
              0.6666666666666666,
              "#ed7953"
             ],
             [
              0.7777777777777778,
              "#fb9f3a"
             ],
             [
              0.8888888888888888,
              "#fdca26"
             ],
             [
              1,
              "#f0f921"
             ]
            ],
            "type": "surface"
           }
          ],
          "table": [
           {
            "cells": {
             "fill": {
              "color": "#506784"
             },
             "line": {
              "color": "rgb(17,17,17)"
             }
            },
            "header": {
             "fill": {
              "color": "#2a3f5f"
             },
             "line": {
              "color": "rgb(17,17,17)"
             }
            },
            "type": "table"
           }
          ]
         },
         "layout": {
          "annotationdefaults": {
           "arrowcolor": "#f2f5fa",
           "arrowhead": 0,
           "arrowwidth": 1
          },
          "autotypenumbers": "strict",
          "coloraxis": {
           "colorbar": {
            "outlinewidth": 0,
            "ticks": ""
           }
          },
          "colorscale": {
           "diverging": [
            [
             0,
             "#8e0152"
            ],
            [
             0.1,
             "#c51b7d"
            ],
            [
             0.2,
             "#de77ae"
            ],
            [
             0.3,
             "#f1b6da"
            ],
            [
             0.4,
             "#fde0ef"
            ],
            [
             0.5,
             "#f7f7f7"
            ],
            [
             0.6,
             "#e6f5d0"
            ],
            [
             0.7,
             "#b8e186"
            ],
            [
             0.8,
             "#7fbc41"
            ],
            [
             0.9,
             "#4d9221"
            ],
            [
             1,
             "#276419"
            ]
           ],
           "sequential": [
            [
             0,
             "#0d0887"
            ],
            [
             0.1111111111111111,
             "#46039f"
            ],
            [
             0.2222222222222222,
             "#7201a8"
            ],
            [
             0.3333333333333333,
             "#9c179e"
            ],
            [
             0.4444444444444444,
             "#bd3786"
            ],
            [
             0.5555555555555556,
             "#d8576b"
            ],
            [
             0.6666666666666666,
             "#ed7953"
            ],
            [
             0.7777777777777778,
             "#fb9f3a"
            ],
            [
             0.8888888888888888,
             "#fdca26"
            ],
            [
             1,
             "#f0f921"
            ]
           ],
           "sequentialminus": [
            [
             0,
             "#0d0887"
            ],
            [
             0.1111111111111111,
             "#46039f"
            ],
            [
             0.2222222222222222,
             "#7201a8"
            ],
            [
             0.3333333333333333,
             "#9c179e"
            ],
            [
             0.4444444444444444,
             "#bd3786"
            ],
            [
             0.5555555555555556,
             "#d8576b"
            ],
            [
             0.6666666666666666,
             "#ed7953"
            ],
            [
             0.7777777777777778,
             "#fb9f3a"
            ],
            [
             0.8888888888888888,
             "#fdca26"
            ],
            [
             1,
             "#f0f921"
            ]
           ]
          },
          "colorway": [
           "#636efa",
           "#EF553B",
           "#00cc96",
           "#ab63fa",
           "#FFA15A",
           "#19d3f3",
           "#FF6692",
           "#B6E880",
           "#FF97FF",
           "#FECB52"
          ],
          "font": {
           "color": "#f2f5fa"
          },
          "geo": {
           "bgcolor": "rgb(17,17,17)",
           "lakecolor": "rgb(17,17,17)",
           "landcolor": "rgb(17,17,17)",
           "showlakes": true,
           "showland": true,
           "subunitcolor": "#506784"
          },
          "hoverlabel": {
           "align": "left"
          },
          "hovermode": "closest",
          "mapbox": {
           "style": "dark"
          },
          "paper_bgcolor": "rgb(17,17,17)",
          "plot_bgcolor": "rgb(17,17,17)",
          "polar": {
           "angularaxis": {
            "gridcolor": "#506784",
            "linecolor": "#506784",
            "ticks": ""
           },
           "bgcolor": "rgb(17,17,17)",
           "radialaxis": {
            "gridcolor": "#506784",
            "linecolor": "#506784",
            "ticks": ""
           }
          },
          "scene": {
           "xaxis": {
            "backgroundcolor": "rgb(17,17,17)",
            "gridcolor": "#506784",
            "gridwidth": 2,
            "linecolor": "#506784",
            "showbackground": true,
            "ticks": "",
            "zerolinecolor": "#C8D4E3"
           },
           "yaxis": {
            "backgroundcolor": "rgb(17,17,17)",
            "gridcolor": "#506784",
            "gridwidth": 2,
            "linecolor": "#506784",
            "showbackground": true,
            "ticks": "",
            "zerolinecolor": "#C8D4E3"
           },
           "zaxis": {
            "backgroundcolor": "rgb(17,17,17)",
            "gridcolor": "#506784",
            "gridwidth": 2,
            "linecolor": "#506784",
            "showbackground": true,
            "ticks": "",
            "zerolinecolor": "#C8D4E3"
           }
          },
          "shapedefaults": {
           "line": {
            "color": "#f2f5fa"
           }
          },
          "sliderdefaults": {
           "bgcolor": "#C8D4E3",
           "bordercolor": "rgb(17,17,17)",
           "borderwidth": 1,
           "tickwidth": 0
          },
          "ternary": {
           "aaxis": {
            "gridcolor": "#506784",
            "linecolor": "#506784",
            "ticks": ""
           },
           "baxis": {
            "gridcolor": "#506784",
            "linecolor": "#506784",
            "ticks": ""
           },
           "bgcolor": "rgb(17,17,17)",
           "caxis": {
            "gridcolor": "#506784",
            "linecolor": "#506784",
            "ticks": ""
           }
          },
          "title": {
           "x": 0.05
          },
          "updatemenudefaults": {
           "bgcolor": "#506784",
           "borderwidth": 0
          },
          "xaxis": {
           "automargin": true,
           "gridcolor": "#283442",
           "linecolor": "#506784",
           "ticks": "",
           "title": {
            "standoff": 15
           },
           "zerolinecolor": "#283442",
           "zerolinewidth": 2
          },
          "yaxis": {
           "automargin": true,
           "gridcolor": "#283442",
           "linecolor": "#506784",
           "ticks": "",
           "title": {
            "standoff": 15
           },
           "zerolinecolor": "#283442",
           "zerolinewidth": 2
          }
         }
        },
        "title": {
         "text": "True RUL vs Sequence Length"
        },
        "xaxis": {
         "anchor": "y",
         "domain": [
          0,
          1
         ],
         "title": {
          "text": "True RUL"
         }
        },
        "yaxis": {
         "anchor": "x",
         "domain": [
          0,
          1
         ],
         "title": {
          "text": "Sequence Length"
         }
        }
       }
      }
     },
     "metadata": {},
     "output_type": "display_data"
    },
    {
     "data": {
      "application/vnd.plotly.v1+json": {
       "config": {
        "plotlyServerURL": "https://plot.ly"
       },
       "data": [
        {
         "hovertemplate": "True RUL=%{x}<br>RUL Error=%{y}<br>Sequence Length=%{marker.color}<extra></extra>",
         "legendgroup": "",
         "marker": {
          "color": [
           31,
           49,
           126,
           106,
           98,
           105,
           160,
           166,
           55,
           192,
           83,
           217,
           195,
           46,
           76,
           113,
           165,
           133,
           135,
           184,
           148,
           39,
           130,
           186,
           48,
           76,
           140,
           158,
           171,
           143,
           196,
           145,
           50,
           203,
           198,
           126,
           121,
           125,
           37,
           133,
           123,
           156,
           172,
           54,
           152,
           146,
           73,
           78,
           303,
           74,
           144,
           189,
           164,
           121,
           113,
           136,
           160,
           176,
           94,
           147,
           159,
           232,
           155,
           168,
           71,
           147,
           71,
           187,
           54,
           152,
           68,
           131,
           112,
           137,
           88,
           205,
           162,
           72,
           101,
           133,
           213,
           162,
           73,
           172,
           34,
           110,
           56,
           68,
           177,
           146,
           234,
           150,
           244,
           133,
           89,
           97,
           134,
           121,
           97,
           198
          ],
          "coloraxis": "coloraxis",
          "symbol": "circle"
         },
         "mode": "markers",
         "name": "",
         "orientation": "v",
         "showlegend": false,
         "type": "scatter",
         "x": [
          112,
          98,
          69,
          82,
          91,
          93,
          91,
          95,
          111,
          96,
          97,
          124,
          95,
          107,
          83,
          84,
          50,
          28,
          87,
          16,
          57,
          111,
          113,
          20,
          130,
          119,
          66,
          97,
          90,
          115,
          8,
          48,
          106,
          7,
          11,
          19,
          21,
          50,
          130,
          28,
          18,
          10,
          59,
          109,
          114,
          47,
          130,
          92,
          21,
          79,
          114,
          29,
          26,
          97,
          130,
          15,
          103,
          37,
          114,
          100,
          21,
          54,
          72,
          28,
          128,
          14,
          77,
          8,
          121,
          94,
          118,
          50,
          130,
          126,
          113,
          10,
          34,
          107,
          63,
          90,
          8,
          9,
          130,
          58,
          118,
          89,
          116,
          115,
          130,
          28,
          38,
          20,
          85,
          55,
          128,
          130,
          82,
          59,
          117,
          20
         ],
         "xaxis": "x",
         "y": [
          3.0936737060546875,
          17.130340576171875,
          2.8749542236328125,
          17.217201232910156,
          14.273735046386719,
          16.186424255371094,
          1.7938613891601562,
          17.76709747314453,
          3.746429443359375,
          24.53789520263672,
          4.470222473144531,
          54.117713928222656,
          38.798606872558594,
          4.823753356933594,
          31.88184356689453,
          22.70404815673828,
          1.1558990478515625,
          4.057918548583984,
          12.244758605957031,
          4.000871658325195,
          2.8893051147460938,
          3.7083206176757812,
          2.11737060546875,
          0.06499481201171875,
          14.938766479492188,
          10.089775085449219,
          24.437469482421875,
          13.085105895996094,
          4.2463531494140625,
          45.46471405029297,
          1.3040494918823242,
          0.5278282165527344,
          7.6015472412109375,
          1.2603330612182617,
          3.486729145050049,
          3.712881088256836,
          2.296173095703125,
          4.22186279296875,
          14.902976989746094,
          0.4033374786376953,
          2.693347930908203,
          1.8550586700439453,
          19.24188995361328,
          4.693565368652344,
          24.99388885498047,
          9.071296691894531,
          17.75714874267578,
          17.799591064453125,
          1.5205421447753906,
          3.4054412841796875,
          8.848899841308594,
          5.64691162109375,
          6.437507629394531,
          18.070205688476562,
          30.480491638183594,
          1.9429969787597656,
          22.775360107421875,
          4.784538269042969,
          1.04931640625,
          13.0399169921875,
          9.897459030151367,
          7.9666748046875,
          21.083629608154297,
          1.1691265106201172,
          12.993209838867188,
          0.10103893280029297,
          31.469345092773438,
          3.2520322799682617,
          8.157272338867188,
          18.70110321044922,
          12.427902221679688,
          1.6127891540527344,
          15.314033508300781,
          43.46570587158203,
          17.204437255859375,
          0.5653610229492188,
          9.490028381347656,
          8.120460510253906,
          19.950523376464844,
          2.8682861328125,
          0.2510032653808594,
          4.976594924926758,
          26.20954132080078,
          7.132453918457031,
          2.9190826416015625,
          9.139190673828125,
          1.1318130493164062,
          9.488883972167969,
          49.07331848144531,
          0.1387481689453125,
          17.45550537109375,
          1.3430461883544922,
          52.925357818603516,
          14.150886535644531,
          15.869247436523438,
          16.07525634765625,
          17.218551635742188,
          10.4219970703125,
          1.9186935424804688,
          0.06945037841796875
         ],
         "yaxis": "y"
        }
       ],
       "layout": {
        "coloraxis": {
         "colorbar": {
          "title": {
           "text": "Sequence Length"
          }
         },
         "colorscale": [
          [
           0,
           "#440154"
          ],
          [
           0.1111111111111111,
           "#482878"
          ],
          [
           0.2222222222222222,
           "#3e4989"
          ],
          [
           0.3333333333333333,
           "#31688e"
          ],
          [
           0.4444444444444444,
           "#26828e"
          ],
          [
           0.5555555555555556,
           "#1f9e89"
          ],
          [
           0.6666666666666666,
           "#35b779"
          ],
          [
           0.7777777777777778,
           "#6ece58"
          ],
          [
           0.8888888888888888,
           "#b5de2b"
          ],
          [
           1,
           "#fde725"
          ]
         ]
        },
        "legend": {
         "tracegroupgap": 0
        },
        "template": {
         "data": {
          "bar": [
           {
            "error_x": {
             "color": "#f2f5fa"
            },
            "error_y": {
             "color": "#f2f5fa"
            },
            "marker": {
             "line": {
              "color": "rgb(17,17,17)",
              "width": 0.5
             },
             "pattern": {
              "fillmode": "overlay",
              "size": 10,
              "solidity": 0.2
             }
            },
            "type": "bar"
           }
          ],
          "barpolar": [
           {
            "marker": {
             "line": {
              "color": "rgb(17,17,17)",
              "width": 0.5
             },
             "pattern": {
              "fillmode": "overlay",
              "size": 10,
              "solidity": 0.2
             }
            },
            "type": "barpolar"
           }
          ],
          "carpet": [
           {
            "aaxis": {
             "endlinecolor": "#A2B1C6",
             "gridcolor": "#506784",
             "linecolor": "#506784",
             "minorgridcolor": "#506784",
             "startlinecolor": "#A2B1C6"
            },
            "baxis": {
             "endlinecolor": "#A2B1C6",
             "gridcolor": "#506784",
             "linecolor": "#506784",
             "minorgridcolor": "#506784",
             "startlinecolor": "#A2B1C6"
            },
            "type": "carpet"
           }
          ],
          "choropleth": [
           {
            "colorbar": {
             "outlinewidth": 0,
             "ticks": ""
            },
            "type": "choropleth"
           }
          ],
          "contour": [
           {
            "colorbar": {
             "outlinewidth": 0,
             "ticks": ""
            },
            "colorscale": [
             [
              0,
              "#0d0887"
             ],
             [
              0.1111111111111111,
              "#46039f"
             ],
             [
              0.2222222222222222,
              "#7201a8"
             ],
             [
              0.3333333333333333,
              "#9c179e"
             ],
             [
              0.4444444444444444,
              "#bd3786"
             ],
             [
              0.5555555555555556,
              "#d8576b"
             ],
             [
              0.6666666666666666,
              "#ed7953"
             ],
             [
              0.7777777777777778,
              "#fb9f3a"
             ],
             [
              0.8888888888888888,
              "#fdca26"
             ],
             [
              1,
              "#f0f921"
             ]
            ],
            "type": "contour"
           }
          ],
          "contourcarpet": [
           {
            "colorbar": {
             "outlinewidth": 0,
             "ticks": ""
            },
            "type": "contourcarpet"
           }
          ],
          "heatmap": [
           {
            "colorbar": {
             "outlinewidth": 0,
             "ticks": ""
            },
            "colorscale": [
             [
              0,
              "#0d0887"
             ],
             [
              0.1111111111111111,
              "#46039f"
             ],
             [
              0.2222222222222222,
              "#7201a8"
             ],
             [
              0.3333333333333333,
              "#9c179e"
             ],
             [
              0.4444444444444444,
              "#bd3786"
             ],
             [
              0.5555555555555556,
              "#d8576b"
             ],
             [
              0.6666666666666666,
              "#ed7953"
             ],
             [
              0.7777777777777778,
              "#fb9f3a"
             ],
             [
              0.8888888888888888,
              "#fdca26"
             ],
             [
              1,
              "#f0f921"
             ]
            ],
            "type": "heatmap"
           }
          ],
          "heatmapgl": [
           {
            "colorbar": {
             "outlinewidth": 0,
             "ticks": ""
            },
            "colorscale": [
             [
              0,
              "#0d0887"
             ],
             [
              0.1111111111111111,
              "#46039f"
             ],
             [
              0.2222222222222222,
              "#7201a8"
             ],
             [
              0.3333333333333333,
              "#9c179e"
             ],
             [
              0.4444444444444444,
              "#bd3786"
             ],
             [
              0.5555555555555556,
              "#d8576b"
             ],
             [
              0.6666666666666666,
              "#ed7953"
             ],
             [
              0.7777777777777778,
              "#fb9f3a"
             ],
             [
              0.8888888888888888,
              "#fdca26"
             ],
             [
              1,
              "#f0f921"
             ]
            ],
            "type": "heatmapgl"
           }
          ],
          "histogram": [
           {
            "marker": {
             "pattern": {
              "fillmode": "overlay",
              "size": 10,
              "solidity": 0.2
             }
            },
            "type": "histogram"
           }
          ],
          "histogram2d": [
           {
            "colorbar": {
             "outlinewidth": 0,
             "ticks": ""
            },
            "colorscale": [
             [
              0,
              "#0d0887"
             ],
             [
              0.1111111111111111,
              "#46039f"
             ],
             [
              0.2222222222222222,
              "#7201a8"
             ],
             [
              0.3333333333333333,
              "#9c179e"
             ],
             [
              0.4444444444444444,
              "#bd3786"
             ],
             [
              0.5555555555555556,
              "#d8576b"
             ],
             [
              0.6666666666666666,
              "#ed7953"
             ],
             [
              0.7777777777777778,
              "#fb9f3a"
             ],
             [
              0.8888888888888888,
              "#fdca26"
             ],
             [
              1,
              "#f0f921"
             ]
            ],
            "type": "histogram2d"
           }
          ],
          "histogram2dcontour": [
           {
            "colorbar": {
             "outlinewidth": 0,
             "ticks": ""
            },
            "colorscale": [
             [
              0,
              "#0d0887"
             ],
             [
              0.1111111111111111,
              "#46039f"
             ],
             [
              0.2222222222222222,
              "#7201a8"
             ],
             [
              0.3333333333333333,
              "#9c179e"
             ],
             [
              0.4444444444444444,
              "#bd3786"
             ],
             [
              0.5555555555555556,
              "#d8576b"
             ],
             [
              0.6666666666666666,
              "#ed7953"
             ],
             [
              0.7777777777777778,
              "#fb9f3a"
             ],
             [
              0.8888888888888888,
              "#fdca26"
             ],
             [
              1,
              "#f0f921"
             ]
            ],
            "type": "histogram2dcontour"
           }
          ],
          "mesh3d": [
           {
            "colorbar": {
             "outlinewidth": 0,
             "ticks": ""
            },
            "type": "mesh3d"
           }
          ],
          "parcoords": [
           {
            "line": {
             "colorbar": {
              "outlinewidth": 0,
              "ticks": ""
             }
            },
            "type": "parcoords"
           }
          ],
          "pie": [
           {
            "automargin": true,
            "type": "pie"
           }
          ],
          "scatter": [
           {
            "marker": {
             "line": {
              "color": "#283442"
             }
            },
            "type": "scatter"
           }
          ],
          "scatter3d": [
           {
            "line": {
             "colorbar": {
              "outlinewidth": 0,
              "ticks": ""
             }
            },
            "marker": {
             "colorbar": {
              "outlinewidth": 0,
              "ticks": ""
             }
            },
            "type": "scatter3d"
           }
          ],
          "scattercarpet": [
           {
            "marker": {
             "colorbar": {
              "outlinewidth": 0,
              "ticks": ""
             }
            },
            "type": "scattercarpet"
           }
          ],
          "scattergeo": [
           {
            "marker": {
             "colorbar": {
              "outlinewidth": 0,
              "ticks": ""
             }
            },
            "type": "scattergeo"
           }
          ],
          "scattergl": [
           {
            "marker": {
             "line": {
              "color": "#283442"
             }
            },
            "type": "scattergl"
           }
          ],
          "scattermapbox": [
           {
            "marker": {
             "colorbar": {
              "outlinewidth": 0,
              "ticks": ""
             }
            },
            "type": "scattermapbox"
           }
          ],
          "scatterpolar": [
           {
            "marker": {
             "colorbar": {
              "outlinewidth": 0,
              "ticks": ""
             }
            },
            "type": "scatterpolar"
           }
          ],
          "scatterpolargl": [
           {
            "marker": {
             "colorbar": {
              "outlinewidth": 0,
              "ticks": ""
             }
            },
            "type": "scatterpolargl"
           }
          ],
          "scatterternary": [
           {
            "marker": {
             "colorbar": {
              "outlinewidth": 0,
              "ticks": ""
             }
            },
            "type": "scatterternary"
           }
          ],
          "surface": [
           {
            "colorbar": {
             "outlinewidth": 0,
             "ticks": ""
            },
            "colorscale": [
             [
              0,
              "#0d0887"
             ],
             [
              0.1111111111111111,
              "#46039f"
             ],
             [
              0.2222222222222222,
              "#7201a8"
             ],
             [
              0.3333333333333333,
              "#9c179e"
             ],
             [
              0.4444444444444444,
              "#bd3786"
             ],
             [
              0.5555555555555556,
              "#d8576b"
             ],
             [
              0.6666666666666666,
              "#ed7953"
             ],
             [
              0.7777777777777778,
              "#fb9f3a"
             ],
             [
              0.8888888888888888,
              "#fdca26"
             ],
             [
              1,
              "#f0f921"
             ]
            ],
            "type": "surface"
           }
          ],
          "table": [
           {
            "cells": {
             "fill": {
              "color": "#506784"
             },
             "line": {
              "color": "rgb(17,17,17)"
             }
            },
            "header": {
             "fill": {
              "color": "#2a3f5f"
             },
             "line": {
              "color": "rgb(17,17,17)"
             }
            },
            "type": "table"
           }
          ]
         },
         "layout": {
          "annotationdefaults": {
           "arrowcolor": "#f2f5fa",
           "arrowhead": 0,
           "arrowwidth": 1
          },
          "autotypenumbers": "strict",
          "coloraxis": {
           "colorbar": {
            "outlinewidth": 0,
            "ticks": ""
           }
          },
          "colorscale": {
           "diverging": [
            [
             0,
             "#8e0152"
            ],
            [
             0.1,
             "#c51b7d"
            ],
            [
             0.2,
             "#de77ae"
            ],
            [
             0.3,
             "#f1b6da"
            ],
            [
             0.4,
             "#fde0ef"
            ],
            [
             0.5,
             "#f7f7f7"
            ],
            [
             0.6,
             "#e6f5d0"
            ],
            [
             0.7,
             "#b8e186"
            ],
            [
             0.8,
             "#7fbc41"
            ],
            [
             0.9,
             "#4d9221"
            ],
            [
             1,
             "#276419"
            ]
           ],
           "sequential": [
            [
             0,
             "#0d0887"
            ],
            [
             0.1111111111111111,
             "#46039f"
            ],
            [
             0.2222222222222222,
             "#7201a8"
            ],
            [
             0.3333333333333333,
             "#9c179e"
            ],
            [
             0.4444444444444444,
             "#bd3786"
            ],
            [
             0.5555555555555556,
             "#d8576b"
            ],
            [
             0.6666666666666666,
             "#ed7953"
            ],
            [
             0.7777777777777778,
             "#fb9f3a"
            ],
            [
             0.8888888888888888,
             "#fdca26"
            ],
            [
             1,
             "#f0f921"
            ]
           ],
           "sequentialminus": [
            [
             0,
             "#0d0887"
            ],
            [
             0.1111111111111111,
             "#46039f"
            ],
            [
             0.2222222222222222,
             "#7201a8"
            ],
            [
             0.3333333333333333,
             "#9c179e"
            ],
            [
             0.4444444444444444,
             "#bd3786"
            ],
            [
             0.5555555555555556,
             "#d8576b"
            ],
            [
             0.6666666666666666,
             "#ed7953"
            ],
            [
             0.7777777777777778,
             "#fb9f3a"
            ],
            [
             0.8888888888888888,
             "#fdca26"
            ],
            [
             1,
             "#f0f921"
            ]
           ]
          },
          "colorway": [
           "#636efa",
           "#EF553B",
           "#00cc96",
           "#ab63fa",
           "#FFA15A",
           "#19d3f3",
           "#FF6692",
           "#B6E880",
           "#FF97FF",
           "#FECB52"
          ],
          "font": {
           "color": "#f2f5fa"
          },
          "geo": {
           "bgcolor": "rgb(17,17,17)",
           "lakecolor": "rgb(17,17,17)",
           "landcolor": "rgb(17,17,17)",
           "showlakes": true,
           "showland": true,
           "subunitcolor": "#506784"
          },
          "hoverlabel": {
           "align": "left"
          },
          "hovermode": "closest",
          "mapbox": {
           "style": "dark"
          },
          "paper_bgcolor": "rgb(17,17,17)",
          "plot_bgcolor": "rgb(17,17,17)",
          "polar": {
           "angularaxis": {
            "gridcolor": "#506784",
            "linecolor": "#506784",
            "ticks": ""
           },
           "bgcolor": "rgb(17,17,17)",
           "radialaxis": {
            "gridcolor": "#506784",
            "linecolor": "#506784",
            "ticks": ""
           }
          },
          "scene": {
           "xaxis": {
            "backgroundcolor": "rgb(17,17,17)",
            "gridcolor": "#506784",
            "gridwidth": 2,
            "linecolor": "#506784",
            "showbackground": true,
            "ticks": "",
            "zerolinecolor": "#C8D4E3"
           },
           "yaxis": {
            "backgroundcolor": "rgb(17,17,17)",
            "gridcolor": "#506784",
            "gridwidth": 2,
            "linecolor": "#506784",
            "showbackground": true,
            "ticks": "",
            "zerolinecolor": "#C8D4E3"
           },
           "zaxis": {
            "backgroundcolor": "rgb(17,17,17)",
            "gridcolor": "#506784",
            "gridwidth": 2,
            "linecolor": "#506784",
            "showbackground": true,
            "ticks": "",
            "zerolinecolor": "#C8D4E3"
           }
          },
          "shapedefaults": {
           "line": {
            "color": "#f2f5fa"
           }
          },
          "sliderdefaults": {
           "bgcolor": "#C8D4E3",
           "bordercolor": "rgb(17,17,17)",
           "borderwidth": 1,
           "tickwidth": 0
          },
          "ternary": {
           "aaxis": {
            "gridcolor": "#506784",
            "linecolor": "#506784",
            "ticks": ""
           },
           "baxis": {
            "gridcolor": "#506784",
            "linecolor": "#506784",
            "ticks": ""
           },
           "bgcolor": "rgb(17,17,17)",
           "caxis": {
            "gridcolor": "#506784",
            "linecolor": "#506784",
            "ticks": ""
           }
          },
          "title": {
           "x": 0.05
          },
          "updatemenudefaults": {
           "bgcolor": "#506784",
           "borderwidth": 0
          },
          "xaxis": {
           "automargin": true,
           "gridcolor": "#283442",
           "linecolor": "#506784",
           "ticks": "",
           "title": {
            "standoff": 15
           },
           "zerolinecolor": "#283442",
           "zerolinewidth": 2
          },
          "yaxis": {
           "automargin": true,
           "gridcolor": "#283442",
           "linecolor": "#506784",
           "ticks": "",
           "title": {
            "standoff": 15
           },
           "zerolinecolor": "#283442",
           "zerolinewidth": 2
          }
         }
        },
        "title": {
         "text": "True RUL vs RUL Error"
        },
        "xaxis": {
         "anchor": "y",
         "domain": [
          0,
          1
         ],
         "title": {
          "text": "True RUL"
         }
        },
        "yaxis": {
         "anchor": "x",
         "domain": [
          0,
          1
         ],
         "title": {
          "text": "RUL Error"
         }
        }
       }
      }
     },
     "metadata": {},
     "output_type": "display_data"
    },
    {
     "data": {
      "application/vnd.plotly.v1+json": {
       "config": {
        "plotlyServerURL": "https://plot.ly"
       },
       "data": [
        {
         "hovertemplate": "Sequence Length=%{x}<br>RUL Error=%{y}<br>True RUL=%{marker.color}<extra></extra>",
         "legendgroup": "",
         "marker": {
          "color": [
           112,
           98,
           69,
           82,
           91,
           93,
           91,
           95,
           111,
           96,
           97,
           124,
           95,
           107,
           83,
           84,
           50,
           28,
           87,
           16,
           57,
           111,
           113,
           20,
           130,
           119,
           66,
           97,
           90,
           115,
           8,
           48,
           106,
           7,
           11,
           19,
           21,
           50,
           130,
           28,
           18,
           10,
           59,
           109,
           114,
           47,
           130,
           92,
           21,
           79,
           114,
           29,
           26,
           97,
           130,
           15,
           103,
           37,
           114,
           100,
           21,
           54,
           72,
           28,
           128,
           14,
           77,
           8,
           121,
           94,
           118,
           50,
           130,
           126,
           113,
           10,
           34,
           107,
           63,
           90,
           8,
           9,
           130,
           58,
           118,
           89,
           116,
           115,
           130,
           28,
           38,
           20,
           85,
           55,
           128,
           130,
           82,
           59,
           117,
           20
          ],
          "coloraxis": "coloraxis",
          "symbol": "circle"
         },
         "mode": "markers",
         "name": "",
         "orientation": "v",
         "showlegend": false,
         "type": "scatter",
         "x": [
          31,
          49,
          126,
          106,
          98,
          105,
          160,
          166,
          55,
          192,
          83,
          217,
          195,
          46,
          76,
          113,
          165,
          133,
          135,
          184,
          148,
          39,
          130,
          186,
          48,
          76,
          140,
          158,
          171,
          143,
          196,
          145,
          50,
          203,
          198,
          126,
          121,
          125,
          37,
          133,
          123,
          156,
          172,
          54,
          152,
          146,
          73,
          78,
          303,
          74,
          144,
          189,
          164,
          121,
          113,
          136,
          160,
          176,
          94,
          147,
          159,
          232,
          155,
          168,
          71,
          147,
          71,
          187,
          54,
          152,
          68,
          131,
          112,
          137,
          88,
          205,
          162,
          72,
          101,
          133,
          213,
          162,
          73,
          172,
          34,
          110,
          56,
          68,
          177,
          146,
          234,
          150,
          244,
          133,
          89,
          97,
          134,
          121,
          97,
          198
         ],
         "xaxis": "x",
         "y": [
          3.0936737060546875,
          17.130340576171875,
          2.8749542236328125,
          17.217201232910156,
          14.273735046386719,
          16.186424255371094,
          1.7938613891601562,
          17.76709747314453,
          3.746429443359375,
          24.53789520263672,
          4.470222473144531,
          54.117713928222656,
          38.798606872558594,
          4.823753356933594,
          31.88184356689453,
          22.70404815673828,
          1.1558990478515625,
          4.057918548583984,
          12.244758605957031,
          4.000871658325195,
          2.8893051147460938,
          3.7083206176757812,
          2.11737060546875,
          0.06499481201171875,
          14.938766479492188,
          10.089775085449219,
          24.437469482421875,
          13.085105895996094,
          4.2463531494140625,
          45.46471405029297,
          1.3040494918823242,
          0.5278282165527344,
          7.6015472412109375,
          1.2603330612182617,
          3.486729145050049,
          3.712881088256836,
          2.296173095703125,
          4.22186279296875,
          14.902976989746094,
          0.4033374786376953,
          2.693347930908203,
          1.8550586700439453,
          19.24188995361328,
          4.693565368652344,
          24.99388885498047,
          9.071296691894531,
          17.75714874267578,
          17.799591064453125,
          1.5205421447753906,
          3.4054412841796875,
          8.848899841308594,
          5.64691162109375,
          6.437507629394531,
          18.070205688476562,
          30.480491638183594,
          1.9429969787597656,
          22.775360107421875,
          4.784538269042969,
          1.04931640625,
          13.0399169921875,
          9.897459030151367,
          7.9666748046875,
          21.083629608154297,
          1.1691265106201172,
          12.993209838867188,
          0.10103893280029297,
          31.469345092773438,
          3.2520322799682617,
          8.157272338867188,
          18.70110321044922,
          12.427902221679688,
          1.6127891540527344,
          15.314033508300781,
          43.46570587158203,
          17.204437255859375,
          0.5653610229492188,
          9.490028381347656,
          8.120460510253906,
          19.950523376464844,
          2.8682861328125,
          0.2510032653808594,
          4.976594924926758,
          26.20954132080078,
          7.132453918457031,
          2.9190826416015625,
          9.139190673828125,
          1.1318130493164062,
          9.488883972167969,
          49.07331848144531,
          0.1387481689453125,
          17.45550537109375,
          1.3430461883544922,
          52.925357818603516,
          14.150886535644531,
          15.869247436523438,
          16.07525634765625,
          17.218551635742188,
          10.4219970703125,
          1.9186935424804688,
          0.06945037841796875
         ],
         "yaxis": "y"
        }
       ],
       "layout": {
        "coloraxis": {
         "colorbar": {
          "title": {
           "text": "True RUL"
          }
         },
         "colorscale": [
          [
           0,
           "#440154"
          ],
          [
           0.1111111111111111,
           "#482878"
          ],
          [
           0.2222222222222222,
           "#3e4989"
          ],
          [
           0.3333333333333333,
           "#31688e"
          ],
          [
           0.4444444444444444,
           "#26828e"
          ],
          [
           0.5555555555555556,
           "#1f9e89"
          ],
          [
           0.6666666666666666,
           "#35b779"
          ],
          [
           0.7777777777777778,
           "#6ece58"
          ],
          [
           0.8888888888888888,
           "#b5de2b"
          ],
          [
           1,
           "#fde725"
          ]
         ]
        },
        "legend": {
         "tracegroupgap": 0
        },
        "template": {
         "data": {
          "bar": [
           {
            "error_x": {
             "color": "#f2f5fa"
            },
            "error_y": {
             "color": "#f2f5fa"
            },
            "marker": {
             "line": {
              "color": "rgb(17,17,17)",
              "width": 0.5
             },
             "pattern": {
              "fillmode": "overlay",
              "size": 10,
              "solidity": 0.2
             }
            },
            "type": "bar"
           }
          ],
          "barpolar": [
           {
            "marker": {
             "line": {
              "color": "rgb(17,17,17)",
              "width": 0.5
             },
             "pattern": {
              "fillmode": "overlay",
              "size": 10,
              "solidity": 0.2
             }
            },
            "type": "barpolar"
           }
          ],
          "carpet": [
           {
            "aaxis": {
             "endlinecolor": "#A2B1C6",
             "gridcolor": "#506784",
             "linecolor": "#506784",
             "minorgridcolor": "#506784",
             "startlinecolor": "#A2B1C6"
            },
            "baxis": {
             "endlinecolor": "#A2B1C6",
             "gridcolor": "#506784",
             "linecolor": "#506784",
             "minorgridcolor": "#506784",
             "startlinecolor": "#A2B1C6"
            },
            "type": "carpet"
           }
          ],
          "choropleth": [
           {
            "colorbar": {
             "outlinewidth": 0,
             "ticks": ""
            },
            "type": "choropleth"
           }
          ],
          "contour": [
           {
            "colorbar": {
             "outlinewidth": 0,
             "ticks": ""
            },
            "colorscale": [
             [
              0,
              "#0d0887"
             ],
             [
              0.1111111111111111,
              "#46039f"
             ],
             [
              0.2222222222222222,
              "#7201a8"
             ],
             [
              0.3333333333333333,
              "#9c179e"
             ],
             [
              0.4444444444444444,
              "#bd3786"
             ],
             [
              0.5555555555555556,
              "#d8576b"
             ],
             [
              0.6666666666666666,
              "#ed7953"
             ],
             [
              0.7777777777777778,
              "#fb9f3a"
             ],
             [
              0.8888888888888888,
              "#fdca26"
             ],
             [
              1,
              "#f0f921"
             ]
            ],
            "type": "contour"
           }
          ],
          "contourcarpet": [
           {
            "colorbar": {
             "outlinewidth": 0,
             "ticks": ""
            },
            "type": "contourcarpet"
           }
          ],
          "heatmap": [
           {
            "colorbar": {
             "outlinewidth": 0,
             "ticks": ""
            },
            "colorscale": [
             [
              0,
              "#0d0887"
             ],
             [
              0.1111111111111111,
              "#46039f"
             ],
             [
              0.2222222222222222,
              "#7201a8"
             ],
             [
              0.3333333333333333,
              "#9c179e"
             ],
             [
              0.4444444444444444,
              "#bd3786"
             ],
             [
              0.5555555555555556,
              "#d8576b"
             ],
             [
              0.6666666666666666,
              "#ed7953"
             ],
             [
              0.7777777777777778,
              "#fb9f3a"
             ],
             [
              0.8888888888888888,
              "#fdca26"
             ],
             [
              1,
              "#f0f921"
             ]
            ],
            "type": "heatmap"
           }
          ],
          "heatmapgl": [
           {
            "colorbar": {
             "outlinewidth": 0,
             "ticks": ""
            },
            "colorscale": [
             [
              0,
              "#0d0887"
             ],
             [
              0.1111111111111111,
              "#46039f"
             ],
             [
              0.2222222222222222,
              "#7201a8"
             ],
             [
              0.3333333333333333,
              "#9c179e"
             ],
             [
              0.4444444444444444,
              "#bd3786"
             ],
             [
              0.5555555555555556,
              "#d8576b"
             ],
             [
              0.6666666666666666,
              "#ed7953"
             ],
             [
              0.7777777777777778,
              "#fb9f3a"
             ],
             [
              0.8888888888888888,
              "#fdca26"
             ],
             [
              1,
              "#f0f921"
             ]
            ],
            "type": "heatmapgl"
           }
          ],
          "histogram": [
           {
            "marker": {
             "pattern": {
              "fillmode": "overlay",
              "size": 10,
              "solidity": 0.2
             }
            },
            "type": "histogram"
           }
          ],
          "histogram2d": [
           {
            "colorbar": {
             "outlinewidth": 0,
             "ticks": ""
            },
            "colorscale": [
             [
              0,
              "#0d0887"
             ],
             [
              0.1111111111111111,
              "#46039f"
             ],
             [
              0.2222222222222222,
              "#7201a8"
             ],
             [
              0.3333333333333333,
              "#9c179e"
             ],
             [
              0.4444444444444444,
              "#bd3786"
             ],
             [
              0.5555555555555556,
              "#d8576b"
             ],
             [
              0.6666666666666666,
              "#ed7953"
             ],
             [
              0.7777777777777778,
              "#fb9f3a"
             ],
             [
              0.8888888888888888,
              "#fdca26"
             ],
             [
              1,
              "#f0f921"
             ]
            ],
            "type": "histogram2d"
           }
          ],
          "histogram2dcontour": [
           {
            "colorbar": {
             "outlinewidth": 0,
             "ticks": ""
            },
            "colorscale": [
             [
              0,
              "#0d0887"
             ],
             [
              0.1111111111111111,
              "#46039f"
             ],
             [
              0.2222222222222222,
              "#7201a8"
             ],
             [
              0.3333333333333333,
              "#9c179e"
             ],
             [
              0.4444444444444444,
              "#bd3786"
             ],
             [
              0.5555555555555556,
              "#d8576b"
             ],
             [
              0.6666666666666666,
              "#ed7953"
             ],
             [
              0.7777777777777778,
              "#fb9f3a"
             ],
             [
              0.8888888888888888,
              "#fdca26"
             ],
             [
              1,
              "#f0f921"
             ]
            ],
            "type": "histogram2dcontour"
           }
          ],
          "mesh3d": [
           {
            "colorbar": {
             "outlinewidth": 0,
             "ticks": ""
            },
            "type": "mesh3d"
           }
          ],
          "parcoords": [
           {
            "line": {
             "colorbar": {
              "outlinewidth": 0,
              "ticks": ""
             }
            },
            "type": "parcoords"
           }
          ],
          "pie": [
           {
            "automargin": true,
            "type": "pie"
           }
          ],
          "scatter": [
           {
            "marker": {
             "line": {
              "color": "#283442"
             }
            },
            "type": "scatter"
           }
          ],
          "scatter3d": [
           {
            "line": {
             "colorbar": {
              "outlinewidth": 0,
              "ticks": ""
             }
            },
            "marker": {
             "colorbar": {
              "outlinewidth": 0,
              "ticks": ""
             }
            },
            "type": "scatter3d"
           }
          ],
          "scattercarpet": [
           {
            "marker": {
             "colorbar": {
              "outlinewidth": 0,
              "ticks": ""
             }
            },
            "type": "scattercarpet"
           }
          ],
          "scattergeo": [
           {
            "marker": {
             "colorbar": {
              "outlinewidth": 0,
              "ticks": ""
             }
            },
            "type": "scattergeo"
           }
          ],
          "scattergl": [
           {
            "marker": {
             "line": {
              "color": "#283442"
             }
            },
            "type": "scattergl"
           }
          ],
          "scattermapbox": [
           {
            "marker": {
             "colorbar": {
              "outlinewidth": 0,
              "ticks": ""
             }
            },
            "type": "scattermapbox"
           }
          ],
          "scatterpolar": [
           {
            "marker": {
             "colorbar": {
              "outlinewidth": 0,
              "ticks": ""
             }
            },
            "type": "scatterpolar"
           }
          ],
          "scatterpolargl": [
           {
            "marker": {
             "colorbar": {
              "outlinewidth": 0,
              "ticks": ""
             }
            },
            "type": "scatterpolargl"
           }
          ],
          "scatterternary": [
           {
            "marker": {
             "colorbar": {
              "outlinewidth": 0,
              "ticks": ""
             }
            },
            "type": "scatterternary"
           }
          ],
          "surface": [
           {
            "colorbar": {
             "outlinewidth": 0,
             "ticks": ""
            },
            "colorscale": [
             [
              0,
              "#0d0887"
             ],
             [
              0.1111111111111111,
              "#46039f"
             ],
             [
              0.2222222222222222,
              "#7201a8"
             ],
             [
              0.3333333333333333,
              "#9c179e"
             ],
             [
              0.4444444444444444,
              "#bd3786"
             ],
             [
              0.5555555555555556,
              "#d8576b"
             ],
             [
              0.6666666666666666,
              "#ed7953"
             ],
             [
              0.7777777777777778,
              "#fb9f3a"
             ],
             [
              0.8888888888888888,
              "#fdca26"
             ],
             [
              1,
              "#f0f921"
             ]
            ],
            "type": "surface"
           }
          ],
          "table": [
           {
            "cells": {
             "fill": {
              "color": "#506784"
             },
             "line": {
              "color": "rgb(17,17,17)"
             }
            },
            "header": {
             "fill": {
              "color": "#2a3f5f"
             },
             "line": {
              "color": "rgb(17,17,17)"
             }
            },
            "type": "table"
           }
          ]
         },
         "layout": {
          "annotationdefaults": {
           "arrowcolor": "#f2f5fa",
           "arrowhead": 0,
           "arrowwidth": 1
          },
          "autotypenumbers": "strict",
          "coloraxis": {
           "colorbar": {
            "outlinewidth": 0,
            "ticks": ""
           }
          },
          "colorscale": {
           "diverging": [
            [
             0,
             "#8e0152"
            ],
            [
             0.1,
             "#c51b7d"
            ],
            [
             0.2,
             "#de77ae"
            ],
            [
             0.3,
             "#f1b6da"
            ],
            [
             0.4,
             "#fde0ef"
            ],
            [
             0.5,
             "#f7f7f7"
            ],
            [
             0.6,
             "#e6f5d0"
            ],
            [
             0.7,
             "#b8e186"
            ],
            [
             0.8,
             "#7fbc41"
            ],
            [
             0.9,
             "#4d9221"
            ],
            [
             1,
             "#276419"
            ]
           ],
           "sequential": [
            [
             0,
             "#0d0887"
            ],
            [
             0.1111111111111111,
             "#46039f"
            ],
            [
             0.2222222222222222,
             "#7201a8"
            ],
            [
             0.3333333333333333,
             "#9c179e"
            ],
            [
             0.4444444444444444,
             "#bd3786"
            ],
            [
             0.5555555555555556,
             "#d8576b"
            ],
            [
             0.6666666666666666,
             "#ed7953"
            ],
            [
             0.7777777777777778,
             "#fb9f3a"
            ],
            [
             0.8888888888888888,
             "#fdca26"
            ],
            [
             1,
             "#f0f921"
            ]
           ],
           "sequentialminus": [
            [
             0,
             "#0d0887"
            ],
            [
             0.1111111111111111,
             "#46039f"
            ],
            [
             0.2222222222222222,
             "#7201a8"
            ],
            [
             0.3333333333333333,
             "#9c179e"
            ],
            [
             0.4444444444444444,
             "#bd3786"
            ],
            [
             0.5555555555555556,
             "#d8576b"
            ],
            [
             0.6666666666666666,
             "#ed7953"
            ],
            [
             0.7777777777777778,
             "#fb9f3a"
            ],
            [
             0.8888888888888888,
             "#fdca26"
            ],
            [
             1,
             "#f0f921"
            ]
           ]
          },
          "colorway": [
           "#636efa",
           "#EF553B",
           "#00cc96",
           "#ab63fa",
           "#FFA15A",
           "#19d3f3",
           "#FF6692",
           "#B6E880",
           "#FF97FF",
           "#FECB52"
          ],
          "font": {
           "color": "#f2f5fa"
          },
          "geo": {
           "bgcolor": "rgb(17,17,17)",
           "lakecolor": "rgb(17,17,17)",
           "landcolor": "rgb(17,17,17)",
           "showlakes": true,
           "showland": true,
           "subunitcolor": "#506784"
          },
          "hoverlabel": {
           "align": "left"
          },
          "hovermode": "closest",
          "mapbox": {
           "style": "dark"
          },
          "paper_bgcolor": "rgb(17,17,17)",
          "plot_bgcolor": "rgb(17,17,17)",
          "polar": {
           "angularaxis": {
            "gridcolor": "#506784",
            "linecolor": "#506784",
            "ticks": ""
           },
           "bgcolor": "rgb(17,17,17)",
           "radialaxis": {
            "gridcolor": "#506784",
            "linecolor": "#506784",
            "ticks": ""
           }
          },
          "scene": {
           "xaxis": {
            "backgroundcolor": "rgb(17,17,17)",
            "gridcolor": "#506784",
            "gridwidth": 2,
            "linecolor": "#506784",
            "showbackground": true,
            "ticks": "",
            "zerolinecolor": "#C8D4E3"
           },
           "yaxis": {
            "backgroundcolor": "rgb(17,17,17)",
            "gridcolor": "#506784",
            "gridwidth": 2,
            "linecolor": "#506784",
            "showbackground": true,
            "ticks": "",
            "zerolinecolor": "#C8D4E3"
           },
           "zaxis": {
            "backgroundcolor": "rgb(17,17,17)",
            "gridcolor": "#506784",
            "gridwidth": 2,
            "linecolor": "#506784",
            "showbackground": true,
            "ticks": "",
            "zerolinecolor": "#C8D4E3"
           }
          },
          "shapedefaults": {
           "line": {
            "color": "#f2f5fa"
           }
          },
          "sliderdefaults": {
           "bgcolor": "#C8D4E3",
           "bordercolor": "rgb(17,17,17)",
           "borderwidth": 1,
           "tickwidth": 0
          },
          "ternary": {
           "aaxis": {
            "gridcolor": "#506784",
            "linecolor": "#506784",
            "ticks": ""
           },
           "baxis": {
            "gridcolor": "#506784",
            "linecolor": "#506784",
            "ticks": ""
           },
           "bgcolor": "rgb(17,17,17)",
           "caxis": {
            "gridcolor": "#506784",
            "linecolor": "#506784",
            "ticks": ""
           }
          },
          "title": {
           "x": 0.05
          },
          "updatemenudefaults": {
           "bgcolor": "#506784",
           "borderwidth": 0
          },
          "xaxis": {
           "automargin": true,
           "gridcolor": "#283442",
           "linecolor": "#506784",
           "ticks": "",
           "title": {
            "standoff": 15
           },
           "zerolinecolor": "#283442",
           "zerolinewidth": 2
          },
          "yaxis": {
           "automargin": true,
           "gridcolor": "#283442",
           "linecolor": "#506784",
           "ticks": "",
           "title": {
            "standoff": 15
           },
           "zerolinecolor": "#283442",
           "zerolinewidth": 2
          }
         }
        },
        "title": {
         "text": "Sequence Length vs RUL Error"
        },
        "xaxis": {
         "anchor": "y",
         "domain": [
          0,
          1
         ],
         "title": {
          "text": "Sequence Length"
         }
        },
        "yaxis": {
         "anchor": "x",
         "domain": [
          0,
          1
         ],
         "title": {
          "text": "RUL Error"
         }
        }
       }
      }
     },
     "metadata": {},
     "output_type": "display_data"
    }
   ],
   "source": [
    "rul_seqlen_err = list() # np.zeros((100, 3))\n",
    "model.eval()\n",
    "with torch.no_grad():\n",
    "    for i, (x, y) in enumerate(test_dataLoader):\n",
    "        y_pred = model(x)[:, -1, :].item()\n",
    "        true_rul = y[:, -1, :].item()\n",
    "        rul_err = true_rul - y_pred\n",
    "        rul_seqlen_err.append([true_rul, x.shape[1], rul_err])\n",
    "\n",
    "rul_seqlen_err = np.array(rul_seqlen_err).T\n",
    "rul_seqlen_err[2] = np.abs(rul_seqlen_err[2])\n",
    "\n",
    "px.scatter(\n",
    "    x=rul_seqlen_err[0],\n",
    "    y=rul_seqlen_err[1],\n",
    "    color=rul_seqlen_err[2],\n",
    "    title='True RUL vs Sequence Length',\n",
    "    labels={'x': 'True RUL', 'y': 'Sequence Length', 'color': 'RUL Error'},\n",
    "    color_continuous_scale=px.colors.sequential.Viridis\n",
    ").show()\n",
    "px.scatter(\n",
    "    x=rul_seqlen_err[0],\n",
    "    y=rul_seqlen_err[2],\n",
    "    color=rul_seqlen_err[1],\n",
    "    title='True RUL vs RUL Error',\n",
    "    labels={'x': 'True RUL', 'y': 'RUL Error', 'color': 'Sequence Length'},\n",
    "    color_continuous_scale=px.colors.sequential.Viridis\n",
    ").show()\n",
    "px.scatter(\n",
    "    x=rul_seqlen_err[1],\n",
    "    y=rul_seqlen_err[2],\n",
    "    color=rul_seqlen_err[0],\n",
    "    title='Sequence Length vs RUL Error',\n",
    "    labels={'x': 'Sequence Length', 'y': 'RUL Error', 'color': 'True RUL'},\n",
    "    color_continuous_scale=px.colors.sequential.Viridis\n",
    ").show()\n",
    "\n",
    "# px.line(x=np.arange(1, len(true_rul) + 1), y=((true_rul - predicted_rul)).reshape(-1), title='RUL Error Over Time', labels={'x': 'Time', 'y': 'RUL Error'}, markers=False).show()"
   ]
  }
 ],
 "metadata": {
  "kernelspec": {
   "display_name": "lstm_rul_env",
   "language": "python",
   "name": "python3"
  },
  "language_info": {
   "codemirror_mode": {
    "name": "ipython",
    "version": 3
   },
   "file_extension": ".py",
   "mimetype": "text/x-python",
   "name": "python",
   "nbconvert_exporter": "python",
   "pygments_lexer": "ipython3",
   "version": "3.11.11"
  }
 },
 "nbformat": 4,
 "nbformat_minor": 5
}
