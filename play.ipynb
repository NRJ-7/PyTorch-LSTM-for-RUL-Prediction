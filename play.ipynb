{
 "cells": [
  {
   "cell_type": "markdown",
   "id": "f111b982",
   "metadata": {},
   "source": [
    "<h2>Imports and Function Definitions</h2>"
   ]
  },
  {
   "cell_type": "code",
   "execution_count": 1,
   "id": "dbab5b4b",
   "metadata": {},
   "outputs": [],
   "source": [
    "from loading_data import *\n",
    "from model import *\n",
    "from model_2 import *\n",
    "from visualize import *\n",
    "import numpy as np\n",
    "from main import *\n",
    "import torch\n",
    "import plotly.express as px\n",
    "import plotly.io as pio\n",
    "# pio.templates.default = \"none\"\n",
    "pio.templates.default = \"plotly_dark\"\n",
    "\n",
    "N_HIDDEN = 96  # NUMBER OF HIDDEN STATES\n",
    "N_LAYER = 4  # NUMBER OF LSTM LAYERS\n",
    "N_EPOCH = 150  # NUM OF EPOCHS\n",
    "RUL_UPPER_BOUND = 135  # UPPER BOUND OF RUL\n",
    "LR = 0.01  # LEARNING RATE"
   ]
  },
  {
   "cell_type": "code",
   "execution_count": 2,
   "id": "9030be01",
   "metadata": {},
   "outputs": [],
   "source": [
    "def get_rmse(arr1, arr2):\n",
    "    \"\"\"\n",
    "    Calculate the RMSE between two arrays.\n",
    "    \"\"\"\n",
    "    arr1 = np.array(arr1)\n",
    "    arr2 = np.array(arr2)\n",
    "    rmse = np.sqrt(np.mean((arr1 - arr2) ** 2))\n",
    "    return rmse"
   ]
  },
  {
   "cell_type": "code",
   "execution_count": 3,
   "id": "749ac9c4",
   "metadata": {},
   "outputs": [],
   "source": [
    "def get_X_y(unit_nr, group, test=False):\n",
    "    \"\"\"\n",
    "    Get the X and y data for a specific unit number and group.\n",
    "    \"\"\"\n",
    "    if test:\n",
    "        X = group.get_group(unit_nr).iloc[:, 2:]\n",
    "        X_tensors = Variable(torch.Tensor(X.to_numpy()))\n",
    "        X_tensors = torch.reshape(X_tensors, (X_tensors.shape[0], 1, X_tensors.shape[1]))\n",
    "        y_tensors = None\n",
    "    else:\n",
    "        X, y = group.get_group(unit_nr).iloc[:, 2:-1], group.get_group(unit_nr).iloc[:, -1:]\n",
    "        X_tensors = Variable(torch.Tensor(X.to_numpy()))\n",
    "        y_tensors = Variable(torch.Tensor(y.to_numpy()))\n",
    "        X_tensors = torch.reshape(X_tensors, (X_tensors.shape[0], 1, X_tensors.shape[1]))\n",
    "    \n",
    "    return X_tensors, y_tensors"
   ]
  },
  {
   "cell_type": "code",
   "execution_count": 4,
   "id": "9f093c69",
   "metadata": {},
   "outputs": [],
   "source": [
    "def plot_rul_vs_time(unit_nr, model, group_test, test=False, y_test_array=None, clip=False):\n",
    "    \"\"\"\n",
    "    Plot the RUL over time for a given unit number.\n",
    "    \"\"\"\n",
    "    if test:\n",
    "        assert y_test_array is not None, \"y_test_array must be provided for test data\"\n",
    "\n",
    "    X_tensors, y_tensors = get_X_y(unit_nr, group_test, test)\n",
    "    \n",
    "    model.eval()\n",
    "    predicted_rul = model(X_tensors).detach().numpy()\n",
    "    \n",
    "    if test:\n",
    "        strt, end = y_test_array[unit_nr - 1] + X_tensors.shape[0] - 1, y_test_array[unit_nr - 1] - 1\n",
    "        true_rul = np.arange(strt, end, -1).reshape(predicted_rul.shape)\n",
    "        if clip:\n",
    "            true_rul.clip(max=RUL_UPPER_BOUND, out=true_rul)\n",
    "    else:\n",
    "        true_rul = y_tensors.detach().numpy()\n",
    "\n",
    "    fig = px.line(\n",
    "        x=np.arange(1, len(true_rul) + 1),\n",
    "        y=true_rul.reshape(-1),\n",
    "        title=f'RUL Over Time: Unit {unit_nr}',\n",
    "        labels={'x': 'Time', 'y': 'RUL'},\n",
    "        markers=False\n",
    "    )\n",
    "    fig.add_scatter(\n",
    "        x=np.arange(1, len(predicted_rul) + 1),\n",
    "        y=predicted_rul.reshape(-1),\n",
    "        mode='lines',\n",
    "        name='Predicted RUL'\n",
    "    )\n",
    "    fig.update_layout(\n",
    "        legend=dict(yanchor=\"bottom\",\n",
    "                    y=0.1,\n",
    "                    xanchor=\"left\",\n",
    "                    x=0.1)\n",
    "    )\n",
    "    fig.show()\n",
    "    "
   ]
  },
  {
   "cell_type": "code",
   "execution_count": 5,
   "id": "da2411ac",
   "metadata": {},
   "outputs": [],
   "source": [
    "def normalize_data(df, type='minmax', test=False, stats = None):\n",
    "    \"\"\"\n",
    "    Normalize the input data.\n",
    "    \"\"\" \n",
    "    title = df.iloc[:, 0:2]\n",
    "    data = df.iloc[:, 2:]\n",
    "    \n",
    "    if not test:\n",
    "        if type == 'minmax':\n",
    "            train_min, train_max = data.min(), data.max()\n",
    "            data_norm = (data - train_min) / (train_max - train_min)\n",
    "            stats = (train_min, train_max)\n",
    "        elif type == 'zscore':\n",
    "            train_mean, train_std = data.mean(), data.std()\n",
    "            data_norm = (data - train_mean) / train_std\n",
    "            stats = (train_mean, train_std)\n",
    "        else:\n",
    "            raise ValueError(\"Normalization type must be 'minmax' or 'zscore'\")\n",
    "        return pd.concat([title, data_norm], axis=1), stats\n",
    "    else:\n",
    "        assert stats is not None, \"stats must be provided for test data\"\n",
    "        if type == 'minmax':\n",
    "            train_min, train_max = stats\n",
    "            data_norm = (data - train_min) / (train_max - train_min)\n",
    "        elif type == 'zscore':\n",
    "            train_mean, train_std = stats\n",
    "            data_norm = (data - train_mean) / train_std\n",
    "        else:\n",
    "            raise ValueError(\"Normalization type must be 'minmax' or 'zscore'\")\n",
    "        return pd.concat([title, data_norm], axis=1)\n",
    "    \n",
    "        \n",
    "    "
   ]
  },
  {
   "cell_type": "code",
   "execution_count": 6,
   "id": "50ddb362",
   "metadata": {},
   "outputs": [],
   "source": [
    "def load_FD001(rul_ub=None, norm_type='minmax'):\n",
    "    \"\"\"\n",
    "    Load and preprocess the FD001 dataset.\n",
    "    :param rul_ub: upper limit for target RULs\n",
    "    :return: grouped data per sample\n",
    "    \"\"\"\n",
    "    # load data FD001.py\n",
    "    # define filepath to read data\n",
    "    dir_path = './CMAPSSData/'\n",
    "\n",
    "    # define column names for easy indexing\n",
    "    index_names = ['unit_nr', 'time_cycles']\n",
    "    setting_names = ['setting_1', 'setting_2', 'setting_3']\n",
    "    sensor_names = ['s_{}'.format(i) for i in range(1, 22)]\n",
    "    col_names = index_names + setting_names + sensor_names\n",
    "\n",
    "    # read data\n",
    "    train_data = pd.read_csv((dir_path + 'train_FD001.txt'), sep='\\s+', header=None, names=col_names)\n",
    "    test_data = pd.read_csv((dir_path + 'test_FD001.txt'), sep='\\s+', header=None, names=col_names)\n",
    "    y_test = pd.read_csv((dir_path + 'RUL_FD001.txt'), sep='\\s+', header=None, names=['RUL'])\n",
    "\n",
    "    # drop non-informative features, derived from EDA\n",
    "    drop_sensors = ['s_1', 's_5', 's_10', 's_16', 's_18', 's_19']\n",
    "    drop_labels = setting_names + drop_sensors\n",
    "    train_data.drop(labels=drop_labels, axis=1, inplace=True)\n",
    "    test_data.drop(labels=drop_labels, axis=1, inplace=True)\n",
    "    \n",
    "    # normalize data\n",
    "    train_norm, train_stats = normalize_data(train_data, type=norm_type)\n",
    "    test_norm = normalize_data(test_data, type=norm_type, test=True, stats=train_stats)\n",
    "    \n",
    "    # add RUL to training data\n",
    "    # as in piece-wise linear function, there is an upper limit for target RUL,\n",
    "    # however, experimental results shows this goes even better without it:\n",
    "    train_norm = add_rul_1(train_norm)\n",
    "    if rul_ub is not None:\n",
    "        train_norm['RUL'].clip(upper=rul_ub, inplace=True)\n",
    "        \n",
    "    group_test = test_norm.groupby(by=\"unit_nr\")\n",
    "    group = train_norm.groupby(by=\"unit_nr\")\n",
    "\n",
    "    return group, group_test, y_test"
   ]
  },
  {
   "cell_type": "markdown",
   "id": "6e05d62d",
   "metadata": {},
   "source": [
    "<h2>Load Data and Train Base Model</h2>"
   ]
  },
  {
   "cell_type": "code",
   "execution_count": 10,
   "id": "58593221",
   "metadata": {},
   "outputs": [
    {
     "name": "stdout",
     "output_type": "stream",
     "text": [
      "Model loaded from ./results/model_base_H96L4_rmse23p66.pth\n"
     ]
    },
    {
     "name": "stderr",
     "output_type": "stream",
     "text": [
      "/Users/neerajsohani/Documents/python/PyTorch-LSTM-for-RUL-Prediction/main.py:95: FutureWarning: You are using `torch.load` with `weights_only=False` (the current default value), which uses the default pickle module implicitly. It is possible to construct malicious pickle data which will execute arbitrary code during unpickling (See https://github.com/pytorch/pytorch/blob/main/SECURITY.md#untrusted-models for more details). In a future release, the default value for `weights_only` will be flipped to `True`. This limits the functions that could be executed during unpickling. Arbitrary objects will no longer be allowed to be loaded via this mode unless they are explicitly allowlisted by the user via `torch.serialization.add_safe_globals`. We recommend you start setting `weights_only=True` for any use case where you don't have full control of the loaded file. Please open an issue on GitHub for any issues related to this experimental feature.\n",
      "  model.load_state_dict(torch.load(path))\n"
     ]
    }
   ],
   "source": [
    "# model, criterion, optimizer, group_train, group_test, y_test, result, rmse = run()\n",
    "# fetch basic information from data sets\n",
    "group_train, group_test, y_test = load_FD001()\n",
    "y_test_array = y_test.to_numpy()  # convert to numpy array\n",
    "num_train, num_test = len(group_train.size()), len(group_test.size())\n",
    "input_size = group_train.get_group(1).shape[1] - 3  # number of features\n",
    "\n",
    "# LSTM model initialization\n",
    "model = LSTM1(input_size, N_HIDDEN, N_LAYER)  # our lstm class\n",
    "\n",
    "load_model(model, './results/model_base_H96L4_rmse23p66.pth')  # load the pre-trained model\n",
    "model.eval()  # set the model to evaluation mode\n",
    "criterion = torch.nn.MSELoss()  # mean-squared error for regression\n",
    "optimizer = torch.optim.Adam(model.parameters(), lr=LR)"
   ]
  },
  {
   "cell_type": "code",
   "execution_count": null,
   "id": "1ecd3395",
   "metadata": {},
   "outputs": [],
   "source": [
    "result, rmse = train(model, num_train, num_test, group_train, group_test, criterion, optimizer, y_test_array)\n",
    "# result, rmse = testing_function(model, num_test, group_test, y_test)\n",
    "visualize(result, y_test, num_test, rmse)"
   ]
  },
  {
   "cell_type": "code",
   "execution_count": 51,
   "id": "13469627",
   "metadata": {},
   "outputs": [],
   "source": [
    "outputs_one_at_a_time = []\n",
    "for i in range(-192, -1):\n",
    "    X = group_train.get_group(1).iloc[i:i+1, 2:-1]\n",
    "    X_train_tensors = Variable(torch.Tensor(X.to_numpy()))\n",
    "    X_train_tensors = torch.reshape(X_train_tensors, (X_train_tensors.shape[0], 1, X_train_tensors.shape[1]))\n",
    "    outputs_one_at_a_time.append(model(X_train_tensors).detach().numpy())  # forward pass\n",
    "X = group_train.get_group(1).iloc[-1:, 2:-1]\n",
    "X_train_tensors = Variable(torch.Tensor(X.to_numpy()))\n",
    "X_train_tensors = torch.reshape(X_train_tensors, (X_train_tensors.shape[0], 1, X_train_tensors.shape[1]))\n",
    "outputs_one_at_a_time.append(model(X_train_tensors).detach().numpy())  # forward pass\n",
    "\n",
    "outputs_one_at_a_time = np.array(outputs_one_at_a_time)\n",
    "outputs_one_at_a_time = outputs_one_at_a_time.reshape((192,1))"
   ]
  },
  {
   "cell_type": "code",
   "execution_count": null,
   "id": "fbd32a93",
   "metadata": {},
   "outputs": [],
   "source": [
    "outputs_all = outputs.detach().numpy()"
   ]
  },
  {
   "cell_type": "code",
   "execution_count": 52,
   "id": "4cf69b8a",
   "metadata": {},
   "outputs": [],
   "source": [
    "diff = outputs_one_at_a_time - outputs_all"
   ]
  },
  {
   "cell_type": "code",
   "execution_count": 154,
   "id": "9e17a91c",
   "metadata": {},
   "outputs": [
    {
     "data": {
      "text/plain": [
       "LSTM1(\n",
       "  (lstm): LSTM(15, 96, num_layers=4, batch_first=True, dropout=0.1)\n",
       "  (fc_1): Linear(in_features=96, out_features=16, bias=True)\n",
       "  (fc_2): Linear(in_features=16, out_features=8, bias=True)\n",
       "  (fc): Linear(in_features=8, out_features=1, bias=True)\n",
       "  (dropout): Dropout(p=0.1, inplace=False)\n",
       "  (relu): ReLU()\n",
       ")"
      ]
     },
     "execution_count": 154,
     "metadata": {},
     "output_type": "execute_result"
    }
   ],
   "source": [
    "# save_model(model, './results/model_base_H96L4_rmse22p36.pth')  # save the model\n",
    "model.eval()  # set the model to evaluation mode\n",
    "# y_test_array = y_test.to_numpy()  # convert to numpy array"
   ]
  },
  {
   "cell_type": "markdown",
   "id": "945a0a73",
   "metadata": {},
   "source": [
    "<h2>Get RUL v/s Time plots for Test and Train Datasets</h2>"
   ]
  },
  {
   "cell_type": "code",
   "execution_count": null,
   "id": "758086b3",
   "metadata": {},
   "outputs": [
    {
     "data": {
      "application/vnd.plotly.v1+json": {
       "config": {
        "plotlyServerURL": "https://plot.ly"
       },
       "data": [
        {
         "hovertemplate": "Time=%{x}<br>RUL=%{y}<extra></extra>",
         "legendgroup": "",
         "line": {
          "color": "#636efa",
          "dash": "solid"
         },
         "marker": {
          "symbol": "circle"
         },
         "mode": "lines",
         "name": "",
         "orientation": "v",
         "showlegend": false,
         "type": "scatter",
         "x": [
          1,
          2,
          3,
          4,
          5,
          6,
          7,
          8,
          9,
          10,
          11,
          12,
          13,
          14,
          15,
          16,
          17,
          18,
          19,
          20,
          21,
          22,
          23,
          24,
          25,
          26,
          27,
          28,
          29,
          30,
          31,
          32,
          33,
          34,
          35,
          36,
          37,
          38,
          39,
          40,
          41,
          42,
          43,
          44,
          45,
          46,
          47,
          48,
          49,
          50,
          51,
          52,
          53,
          54,
          55,
          56,
          57,
          58,
          59,
          60,
          61,
          62,
          63,
          64,
          65,
          66,
          67,
          68,
          69,
          70,
          71,
          72,
          73,
          74,
          75,
          76,
          77,
          78,
          79,
          80,
          81,
          82,
          83,
          84,
          85,
          86,
          87,
          88,
          89,
          90,
          91,
          92,
          93,
          94,
          95,
          96,
          97,
          98,
          99,
          100,
          101,
          102,
          103,
          104,
          105,
          106,
          107,
          108,
          109,
          110,
          111,
          112,
          113,
          114,
          115,
          116,
          117,
          118,
          119,
          120,
          121,
          122,
          123,
          124,
          125,
          126,
          127,
          128,
          129,
          130,
          131,
          132,
          133,
          134,
          135,
          136,
          137,
          138,
          139,
          140,
          141,
          142,
          143,
          144,
          145,
          146,
          147,
          148,
          149,
          150,
          151,
          152,
          153,
          154,
          155,
          156,
          157,
          158,
          159,
          160,
          161,
          162,
          163,
          164,
          165,
          166,
          167,
          168,
          169,
          170,
          171,
          172,
          173,
          174,
          175,
          176,
          177,
          178,
          179,
          180,
          181,
          182,
          183,
          184,
          185,
          186,
          187,
          188,
          189,
          190,
          191,
          192
         ],
         "xaxis": "x",
         "y": [
          191,
          190,
          189,
          188,
          187,
          186,
          185,
          184,
          183,
          182,
          181,
          180,
          179,
          178,
          177,
          176,
          175,
          174,
          173,
          172,
          171,
          170,
          169,
          168,
          167,
          166,
          165,
          164,
          163,
          162,
          161,
          160,
          159,
          158,
          157,
          156,
          155,
          154,
          153,
          152,
          151,
          150,
          149,
          148,
          147,
          146,
          145,
          144,
          143,
          142,
          141,
          140,
          139,
          138,
          137,
          136,
          135,
          134,
          133,
          132,
          131,
          130,
          129,
          128,
          127,
          126,
          125,
          124,
          123,
          122,
          121,
          120,
          119,
          118,
          117,
          116,
          115,
          114,
          113,
          112,
          111,
          110,
          109,
          108,
          107,
          106,
          105,
          104,
          103,
          102,
          101,
          100,
          99,
          98,
          97,
          96,
          95,
          94,
          93,
          92,
          91,
          90,
          89,
          88,
          87,
          86,
          85,
          84,
          83,
          82,
          81,
          80,
          79,
          78,
          77,
          76,
          75,
          74,
          73,
          72,
          71,
          70,
          69,
          68,
          67,
          66,
          65,
          64,
          63,
          62,
          61,
          60,
          59,
          58,
          57,
          56,
          55,
          54,
          53,
          52,
          51,
          50,
          49,
          48,
          47,
          46,
          45,
          44,
          43,
          42,
          41,
          40,
          39,
          38,
          37,
          36,
          35,
          34,
          33,
          32,
          31,
          30,
          29,
          28,
          27,
          26,
          25,
          24,
          23,
          22,
          21,
          20,
          19,
          18,
          17,
          16,
          15,
          14,
          13,
          12,
          11,
          10,
          9,
          8,
          7,
          6,
          5,
          4,
          3,
          2,
          1,
          0
         ],
         "yaxis": "y"
        },
        {
         "mode": "lines",
         "name": "Predicted RUL",
         "type": "scatter",
         "x": [
          1,
          2,
          3,
          4,
          5,
          6,
          7,
          8,
          9,
          10,
          11,
          12,
          13,
          14,
          15,
          16,
          17,
          18,
          19,
          20,
          21,
          22,
          23,
          24,
          25,
          26,
          27,
          28,
          29,
          30,
          31,
          32,
          33,
          34,
          35,
          36,
          37,
          38,
          39,
          40,
          41,
          42,
          43,
          44,
          45,
          46,
          47,
          48,
          49,
          50,
          51,
          52,
          53,
          54,
          55,
          56,
          57,
          58,
          59,
          60,
          61,
          62,
          63,
          64,
          65,
          66,
          67,
          68,
          69,
          70,
          71,
          72,
          73,
          74,
          75,
          76,
          77,
          78,
          79,
          80,
          81,
          82,
          83,
          84,
          85,
          86,
          87,
          88,
          89,
          90,
          91,
          92,
          93,
          94,
          95,
          96,
          97,
          98,
          99,
          100,
          101,
          102,
          103,
          104,
          105,
          106,
          107,
          108,
          109,
          110,
          111,
          112,
          113,
          114,
          115,
          116,
          117,
          118,
          119,
          120,
          121,
          122,
          123,
          124,
          125,
          126,
          127,
          128,
          129,
          130,
          131,
          132,
          133,
          134,
          135,
          136,
          137,
          138,
          139,
          140,
          141,
          142,
          143,
          144,
          145,
          146,
          147,
          148,
          149,
          150,
          151,
          152,
          153,
          154,
          155,
          156,
          157,
          158,
          159,
          160,
          161,
          162,
          163,
          164,
          165,
          166,
          167,
          168,
          169,
          170,
          171,
          172,
          173,
          174,
          175,
          176,
          177,
          178,
          179,
          180,
          181,
          182,
          183,
          184,
          185,
          186,
          187,
          188,
          189,
          190,
          191,
          192
         ],
         "y": [
          147.54310607910156,
          140.50025939941406,
          145.8175811767578,
          151.79928588867188,
          147.09274291992188,
          153.31777954101562,
          144.37185668945312,
          147.58436584472656,
          146.94842529296875,
          152.99461364746094,
          158.61773681640625,
          156.3872833251953,
          136.71661376953125,
          146.33380126953125,
          146.47006225585938,
          146.40745544433594,
          144.7121124267578,
          143.45489501953125,
          140.6025848388672,
          154.50254821777344,
          151.6830596923828,
          138.0907440185547,
          150.69061279296875,
          141.8983612060547,
          140.09339904785156,
          147.53887939453125,
          140.52227783203125,
          147.32476806640625,
          149.7870330810547,
          149.0301971435547,
          143.9858856201172,
          151.89222717285156,
          137.54586791992188,
          136.44161987304688,
          149.88221740722656,
          150.7432861328125,
          159.1647186279297,
          155.26144409179688,
          147.3394317626953,
          147.26412963867188,
          153.89845275878906,
          143.99160766601562,
          135.82305908203125,
          153.53550720214844,
          139.40817260742188,
          141.96575927734375,
          157.34385681152344,
          144.11422729492188,
          155.36056518554688,
          136.0253143310547,
          146.81515502929688,
          148.79122924804688,
          147.72987365722656,
          132.26023864746094,
          147.52352905273438,
          140.28741455078125,
          140.37416076660156,
          144.74591064453125,
          142.65133666992188,
          145.34536743164062,
          145.74050903320312,
          147.68597412109375,
          130.8596954345703,
          144.9866485595703,
          134.51283264160156,
          142.73580932617188,
          136.03048706054688,
          141.6208953857422,
          141.33335876464844,
          143.6907958984375,
          144.5699462890625,
          140.41021728515625,
          142.9444580078125,
          139.10748291015625,
          149.1444091796875,
          142.99078369140625,
          138.52670288085938,
          140.1572265625,
          137.80751037597656,
          132.8867645263672,
          137.60494995117188,
          141.08204650878906,
          136.5297088623047,
          128.6786651611328,
          137.87997436523438,
          141.3132781982422,
          136.94583129882812,
          144.2895965576172,
          137.41441345214844,
          139.0362548828125,
          143.96493530273438,
          137.8268280029297,
          121.81366729736328,
          139.7174835205078,
          138.00677490234375,
          141.0225372314453,
          129.32504272460938,
          132.70245361328125,
          123.83069610595703,
          131.93724060058594,
          131.04541015625,
          134.0603790283203,
          134.385009765625,
          137.93284606933594,
          137.66754150390625,
          139.17742919921875,
          133.3336181640625,
          129.01480102539062,
          131.10260009765625,
          134.04649353027344,
          122.03710174560547,
          136.96055603027344,
          123.62467956542969,
          131.76708984375,
          126.11534118652344,
          145.45791625976562,
          119.08596801757812,
          128.20135498046875,
          125.37186431884766,
          118.1325454711914,
          124.09916687011719,
          113.33448791503906,
          124.37883758544922,
          119.30965423583984,
          117.71903228759766,
          116.94345092773438,
          126.65480041503906,
          115.26173400878906,
          118.1619873046875,
          125.19149017333984,
          118.11317443847656,
          109.75672149658203,
          122.07536315917969,
          118.33234405517578,
          126.94364166259766,
          124.75511169433594,
          113.92642974853516,
          126.44662475585938,
          109.16851806640625,
          123.012451171875,
          120.553466796875,
          91.27330780029297,
          117.41674041748047,
          113.74644470214844,
          103.2586898803711,
          110.66277313232422,
          105.16573333740234,
          113.5555419921875,
          102.95989227294922,
          99.71521759033203,
          91.4698715209961,
          85.28565979003906,
          92.56046295166016,
          89.0398178100586,
          107.59685516357422,
          113.5583267211914,
          88.91978454589844,
          105.65701293945312,
          81.8288345336914,
          79.58380889892578,
          88.58882904052734,
          75.26901245117188,
          63.01886749267578,
          70.42632293701172,
          84.5024642944336,
          64.41456604003906,
          95.68923950195312,
          92.25206756591797,
          82.42060852050781,
          70.72142028808594,
          72.79225158691406,
          72.49951171875,
          61.99542236328125,
          56.318275451660156,
          58.7637939453125,
          67.7667007446289,
          60.861900329589844,
          61.14561080932617,
          68.41742706298828,
          69.01984405517578,
          46.558815002441406,
          44.20619201660156,
          53.65390396118164,
          16.656076431274414,
          40.14497756958008,
          35.12461471557617,
          21.168926239013672,
          43.470672607421875,
          21.03093719482422,
          17.644922256469727,
          25.871044158935547,
          25.35736656188965
         ]
        }
       ],
       "layout": {
        "legend": {
         "tracegroupgap": 0,
         "x": 0.1,
         "xanchor": "left",
         "y": 0.1,
         "yanchor": "bottom"
        },
        "template": {
         "data": {
          "bar": [
           {
            "error_x": {
             "color": "#f2f5fa"
            },
            "error_y": {
             "color": "#f2f5fa"
            },
            "marker": {
             "line": {
              "color": "rgb(17,17,17)",
              "width": 0.5
             },
             "pattern": {
              "fillmode": "overlay",
              "size": 10,
              "solidity": 0.2
             }
            },
            "type": "bar"
           }
          ],
          "barpolar": [
           {
            "marker": {
             "line": {
              "color": "rgb(17,17,17)",
              "width": 0.5
             },
             "pattern": {
              "fillmode": "overlay",
              "size": 10,
              "solidity": 0.2
             }
            },
            "type": "barpolar"
           }
          ],
          "carpet": [
           {
            "aaxis": {
             "endlinecolor": "#A2B1C6",
             "gridcolor": "#506784",
             "linecolor": "#506784",
             "minorgridcolor": "#506784",
             "startlinecolor": "#A2B1C6"
            },
            "baxis": {
             "endlinecolor": "#A2B1C6",
             "gridcolor": "#506784",
             "linecolor": "#506784",
             "minorgridcolor": "#506784",
             "startlinecolor": "#A2B1C6"
            },
            "type": "carpet"
           }
          ],
          "choropleth": [
           {
            "colorbar": {
             "outlinewidth": 0,
             "ticks": ""
            },
            "type": "choropleth"
           }
          ],
          "contour": [
           {
            "colorbar": {
             "outlinewidth": 0,
             "ticks": ""
            },
            "colorscale": [
             [
              0,
              "#0d0887"
             ],
             [
              0.1111111111111111,
              "#46039f"
             ],
             [
              0.2222222222222222,
              "#7201a8"
             ],
             [
              0.3333333333333333,
              "#9c179e"
             ],
             [
              0.4444444444444444,
              "#bd3786"
             ],
             [
              0.5555555555555556,
              "#d8576b"
             ],
             [
              0.6666666666666666,
              "#ed7953"
             ],
             [
              0.7777777777777778,
              "#fb9f3a"
             ],
             [
              0.8888888888888888,
              "#fdca26"
             ],
             [
              1,
              "#f0f921"
             ]
            ],
            "type": "contour"
           }
          ],
          "contourcarpet": [
           {
            "colorbar": {
             "outlinewidth": 0,
             "ticks": ""
            },
            "type": "contourcarpet"
           }
          ],
          "heatmap": [
           {
            "colorbar": {
             "outlinewidth": 0,
             "ticks": ""
            },
            "colorscale": [
             [
              0,
              "#0d0887"
             ],
             [
              0.1111111111111111,
              "#46039f"
             ],
             [
              0.2222222222222222,
              "#7201a8"
             ],
             [
              0.3333333333333333,
              "#9c179e"
             ],
             [
              0.4444444444444444,
              "#bd3786"
             ],
             [
              0.5555555555555556,
              "#d8576b"
             ],
             [
              0.6666666666666666,
              "#ed7953"
             ],
             [
              0.7777777777777778,
              "#fb9f3a"
             ],
             [
              0.8888888888888888,
              "#fdca26"
             ],
             [
              1,
              "#f0f921"
             ]
            ],
            "type": "heatmap"
           }
          ],
          "heatmapgl": [
           {
            "colorbar": {
             "outlinewidth": 0,
             "ticks": ""
            },
            "colorscale": [
             [
              0,
              "#0d0887"
             ],
             [
              0.1111111111111111,
              "#46039f"
             ],
             [
              0.2222222222222222,
              "#7201a8"
             ],
             [
              0.3333333333333333,
              "#9c179e"
             ],
             [
              0.4444444444444444,
              "#bd3786"
             ],
             [
              0.5555555555555556,
              "#d8576b"
             ],
             [
              0.6666666666666666,
              "#ed7953"
             ],
             [
              0.7777777777777778,
              "#fb9f3a"
             ],
             [
              0.8888888888888888,
              "#fdca26"
             ],
             [
              1,
              "#f0f921"
             ]
            ],
            "type": "heatmapgl"
           }
          ],
          "histogram": [
           {
            "marker": {
             "pattern": {
              "fillmode": "overlay",
              "size": 10,
              "solidity": 0.2
             }
            },
            "type": "histogram"
           }
          ],
          "histogram2d": [
           {
            "colorbar": {
             "outlinewidth": 0,
             "ticks": ""
            },
            "colorscale": [
             [
              0,
              "#0d0887"
             ],
             [
              0.1111111111111111,
              "#46039f"
             ],
             [
              0.2222222222222222,
              "#7201a8"
             ],
             [
              0.3333333333333333,
              "#9c179e"
             ],
             [
              0.4444444444444444,
              "#bd3786"
             ],
             [
              0.5555555555555556,
              "#d8576b"
             ],
             [
              0.6666666666666666,
              "#ed7953"
             ],
             [
              0.7777777777777778,
              "#fb9f3a"
             ],
             [
              0.8888888888888888,
              "#fdca26"
             ],
             [
              1,
              "#f0f921"
             ]
            ],
            "type": "histogram2d"
           }
          ],
          "histogram2dcontour": [
           {
            "colorbar": {
             "outlinewidth": 0,
             "ticks": ""
            },
            "colorscale": [
             [
              0,
              "#0d0887"
             ],
             [
              0.1111111111111111,
              "#46039f"
             ],
             [
              0.2222222222222222,
              "#7201a8"
             ],
             [
              0.3333333333333333,
              "#9c179e"
             ],
             [
              0.4444444444444444,
              "#bd3786"
             ],
             [
              0.5555555555555556,
              "#d8576b"
             ],
             [
              0.6666666666666666,
              "#ed7953"
             ],
             [
              0.7777777777777778,
              "#fb9f3a"
             ],
             [
              0.8888888888888888,
              "#fdca26"
             ],
             [
              1,
              "#f0f921"
             ]
            ],
            "type": "histogram2dcontour"
           }
          ],
          "mesh3d": [
           {
            "colorbar": {
             "outlinewidth": 0,
             "ticks": ""
            },
            "type": "mesh3d"
           }
          ],
          "parcoords": [
           {
            "line": {
             "colorbar": {
              "outlinewidth": 0,
              "ticks": ""
             }
            },
            "type": "parcoords"
           }
          ],
          "pie": [
           {
            "automargin": true,
            "type": "pie"
           }
          ],
          "scatter": [
           {
            "marker": {
             "line": {
              "color": "#283442"
             }
            },
            "type": "scatter"
           }
          ],
          "scatter3d": [
           {
            "line": {
             "colorbar": {
              "outlinewidth": 0,
              "ticks": ""
             }
            },
            "marker": {
             "colorbar": {
              "outlinewidth": 0,
              "ticks": ""
             }
            },
            "type": "scatter3d"
           }
          ],
          "scattercarpet": [
           {
            "marker": {
             "colorbar": {
              "outlinewidth": 0,
              "ticks": ""
             }
            },
            "type": "scattercarpet"
           }
          ],
          "scattergeo": [
           {
            "marker": {
             "colorbar": {
              "outlinewidth": 0,
              "ticks": ""
             }
            },
            "type": "scattergeo"
           }
          ],
          "scattergl": [
           {
            "marker": {
             "line": {
              "color": "#283442"
             }
            },
            "type": "scattergl"
           }
          ],
          "scattermapbox": [
           {
            "marker": {
             "colorbar": {
              "outlinewidth": 0,
              "ticks": ""
             }
            },
            "type": "scattermapbox"
           }
          ],
          "scatterpolar": [
           {
            "marker": {
             "colorbar": {
              "outlinewidth": 0,
              "ticks": ""
             }
            },
            "type": "scatterpolar"
           }
          ],
          "scatterpolargl": [
           {
            "marker": {
             "colorbar": {
              "outlinewidth": 0,
              "ticks": ""
             }
            },
            "type": "scatterpolargl"
           }
          ],
          "scatterternary": [
           {
            "marker": {
             "colorbar": {
              "outlinewidth": 0,
              "ticks": ""
             }
            },
            "type": "scatterternary"
           }
          ],
          "surface": [
           {
            "colorbar": {
             "outlinewidth": 0,
             "ticks": ""
            },
            "colorscale": [
             [
              0,
              "#0d0887"
             ],
             [
              0.1111111111111111,
              "#46039f"
             ],
             [
              0.2222222222222222,
              "#7201a8"
             ],
             [
              0.3333333333333333,
              "#9c179e"
             ],
             [
              0.4444444444444444,
              "#bd3786"
             ],
             [
              0.5555555555555556,
              "#d8576b"
             ],
             [
              0.6666666666666666,
              "#ed7953"
             ],
             [
              0.7777777777777778,
              "#fb9f3a"
             ],
             [
              0.8888888888888888,
              "#fdca26"
             ],
             [
              1,
              "#f0f921"
             ]
            ],
            "type": "surface"
           }
          ],
          "table": [
           {
            "cells": {
             "fill": {
              "color": "#506784"
             },
             "line": {
              "color": "rgb(17,17,17)"
             }
            },
            "header": {
             "fill": {
              "color": "#2a3f5f"
             },
             "line": {
              "color": "rgb(17,17,17)"
             }
            },
            "type": "table"
           }
          ]
         },
         "layout": {
          "annotationdefaults": {
           "arrowcolor": "#f2f5fa",
           "arrowhead": 0,
           "arrowwidth": 1
          },
          "autotypenumbers": "strict",
          "coloraxis": {
           "colorbar": {
            "outlinewidth": 0,
            "ticks": ""
           }
          },
          "colorscale": {
           "diverging": [
            [
             0,
             "#8e0152"
            ],
            [
             0.1,
             "#c51b7d"
            ],
            [
             0.2,
             "#de77ae"
            ],
            [
             0.3,
             "#f1b6da"
            ],
            [
             0.4,
             "#fde0ef"
            ],
            [
             0.5,
             "#f7f7f7"
            ],
            [
             0.6,
             "#e6f5d0"
            ],
            [
             0.7,
             "#b8e186"
            ],
            [
             0.8,
             "#7fbc41"
            ],
            [
             0.9,
             "#4d9221"
            ],
            [
             1,
             "#276419"
            ]
           ],
           "sequential": [
            [
             0,
             "#0d0887"
            ],
            [
             0.1111111111111111,
             "#46039f"
            ],
            [
             0.2222222222222222,
             "#7201a8"
            ],
            [
             0.3333333333333333,
             "#9c179e"
            ],
            [
             0.4444444444444444,
             "#bd3786"
            ],
            [
             0.5555555555555556,
             "#d8576b"
            ],
            [
             0.6666666666666666,
             "#ed7953"
            ],
            [
             0.7777777777777778,
             "#fb9f3a"
            ],
            [
             0.8888888888888888,
             "#fdca26"
            ],
            [
             1,
             "#f0f921"
            ]
           ],
           "sequentialminus": [
            [
             0,
             "#0d0887"
            ],
            [
             0.1111111111111111,
             "#46039f"
            ],
            [
             0.2222222222222222,
             "#7201a8"
            ],
            [
             0.3333333333333333,
             "#9c179e"
            ],
            [
             0.4444444444444444,
             "#bd3786"
            ],
            [
             0.5555555555555556,
             "#d8576b"
            ],
            [
             0.6666666666666666,
             "#ed7953"
            ],
            [
             0.7777777777777778,
             "#fb9f3a"
            ],
            [
             0.8888888888888888,
             "#fdca26"
            ],
            [
             1,
             "#f0f921"
            ]
           ]
          },
          "colorway": [
           "#636efa",
           "#EF553B",
           "#00cc96",
           "#ab63fa",
           "#FFA15A",
           "#19d3f3",
           "#FF6692",
           "#B6E880",
           "#FF97FF",
           "#FECB52"
          ],
          "font": {
           "color": "#f2f5fa"
          },
          "geo": {
           "bgcolor": "rgb(17,17,17)",
           "lakecolor": "rgb(17,17,17)",
           "landcolor": "rgb(17,17,17)",
           "showlakes": true,
           "showland": true,
           "subunitcolor": "#506784"
          },
          "hoverlabel": {
           "align": "left"
          },
          "hovermode": "closest",
          "mapbox": {
           "style": "dark"
          },
          "paper_bgcolor": "rgb(17,17,17)",
          "plot_bgcolor": "rgb(17,17,17)",
          "polar": {
           "angularaxis": {
            "gridcolor": "#506784",
            "linecolor": "#506784",
            "ticks": ""
           },
           "bgcolor": "rgb(17,17,17)",
           "radialaxis": {
            "gridcolor": "#506784",
            "linecolor": "#506784",
            "ticks": ""
           }
          },
          "scene": {
           "xaxis": {
            "backgroundcolor": "rgb(17,17,17)",
            "gridcolor": "#506784",
            "gridwidth": 2,
            "linecolor": "#506784",
            "showbackground": true,
            "ticks": "",
            "zerolinecolor": "#C8D4E3"
           },
           "yaxis": {
            "backgroundcolor": "rgb(17,17,17)",
            "gridcolor": "#506784",
            "gridwidth": 2,
            "linecolor": "#506784",
            "showbackground": true,
            "ticks": "",
            "zerolinecolor": "#C8D4E3"
           },
           "zaxis": {
            "backgroundcolor": "rgb(17,17,17)",
            "gridcolor": "#506784",
            "gridwidth": 2,
            "linecolor": "#506784",
            "showbackground": true,
            "ticks": "",
            "zerolinecolor": "#C8D4E3"
           }
          },
          "shapedefaults": {
           "line": {
            "color": "#f2f5fa"
           }
          },
          "sliderdefaults": {
           "bgcolor": "#C8D4E3",
           "bordercolor": "rgb(17,17,17)",
           "borderwidth": 1,
           "tickwidth": 0
          },
          "ternary": {
           "aaxis": {
            "gridcolor": "#506784",
            "linecolor": "#506784",
            "ticks": ""
           },
           "baxis": {
            "gridcolor": "#506784",
            "linecolor": "#506784",
            "ticks": ""
           },
           "bgcolor": "rgb(17,17,17)",
           "caxis": {
            "gridcolor": "#506784",
            "linecolor": "#506784",
            "ticks": ""
           }
          },
          "title": {
           "x": 0.05
          },
          "updatemenudefaults": {
           "bgcolor": "#506784",
           "borderwidth": 0
          },
          "xaxis": {
           "automargin": true,
           "gridcolor": "#283442",
           "linecolor": "#506784",
           "ticks": "",
           "title": {
            "standoff": 15
           },
           "zerolinecolor": "#283442",
           "zerolinewidth": 2
          },
          "yaxis": {
           "automargin": true,
           "gridcolor": "#283442",
           "linecolor": "#506784",
           "ticks": "",
           "title": {
            "standoff": 15
           },
           "zerolinecolor": "#283442",
           "zerolinewidth": 2
          }
         }
        },
        "title": {
         "text": "RUL Over Time: Unit 1"
        },
        "xaxis": {
         "anchor": "y",
         "domain": [
          0,
          1
         ],
         "title": {
          "text": "Time"
         }
        },
        "yaxis": {
         "anchor": "x",
         "domain": [
          0,
          1
         ],
         "title": {
          "text": "RUL"
         }
        }
       }
      }
     },
     "metadata": {},
     "output_type": "display_data"
    }
   ],
   "source": [
    "plot_rul_vs_time(unit_nr=49, model=model, group_test=group_test, test=True, y_test_array=y_test_array)"
   ]
  },
  {
   "cell_type": "markdown",
   "id": "b748a055",
   "metadata": {},
   "source": [
    "<h2>Dependence of Error on RUL and Sequence Length</h2>"
   ]
  },
  {
   "cell_type": "markdown",
   "id": "f6e67b03",
   "metadata": {},
   "source": [
    "<h3>Test Data</h3>"
   ]
  },
  {
   "cell_type": "code",
   "execution_count": null,
   "id": "9ed3720e",
   "metadata": {},
   "outputs": [],
   "source": [
    "rul_seqlen_err = list()#np.zeros((100, 3))\n",
    "for unit_nr in range(1, num_test + 1):\n",
    "    X_test = group_test.get_group(unit_nr).iloc[:, 2:]\n",
    "    X_test_tensors = Variable(torch.Tensor(X_test.to_numpy()))\n",
    "    X_test_tensors = torch.reshape(X_test_tensors, (X_test_tensors.shape[0], 1, X_test_tensors.shape[1]))\n",
    "\n",
    "    predicted_rul = model(X_test_tensors).detach().numpy()[-1].item()\n",
    "    true_rul = y_test_array[unit_nr - 1][0].item()\n",
    "    rul_err = true_rul - predicted_rul\n",
    "    rul_seqlen_err.append([true_rul, X_test.shape[0], rul_err])\n",
    "\n",
    "rul_seqlen_err = np.array(rul_seqlen_err).T\n",
    "rul_seqlen_err[2] = np.abs(rul_seqlen_err[2])\n",
    "\n",
    "# px.line(x=np.arange(1, len(true_rul) + 1), y=((true_rul - predicted_rul)).reshape(-1), title='RUL Error Over Time', labels={'x': 'Time', 'y': 'RUL Error'}, markers=False).show()"
   ]
  },
  {
   "cell_type": "code",
   "execution_count": null,
   "id": "2976632e",
   "metadata": {},
   "outputs": [
    {
     "data": {
      "application/vnd.plotly.v1+json": {
       "config": {
        "plotlyServerURL": "https://plot.ly"
       },
       "data": [
        {
         "hovertemplate": "True RUL=%{x}<br>RUL Error=%{y}<br>Sequence Length=%{marker.color}<extra></extra>",
         "legendgroup": "",
         "marker": {
          "color": [
           31,
           49,
           126,
           106,
           98,
           105,
           160,
           166,
           55,
           192,
           83,
           217,
           195,
           46,
           76,
           113,
           165,
           133,
           135,
           184,
           148,
           39,
           130,
           186,
           48,
           76,
           140,
           158,
           171,
           143,
           196,
           145,
           50,
           203,
           198,
           126,
           121,
           125,
           37,
           133,
           123,
           156,
           172,
           54,
           152,
           146,
           73,
           78,
           303,
           74,
           144,
           189,
           164,
           121,
           113,
           136,
           160,
           176,
           94,
           147,
           159,
           232,
           155,
           168,
           71,
           147,
           71,
           187,
           54,
           152,
           68,
           131,
           112,
           137,
           88,
           205,
           162,
           72,
           101,
           133,
           213,
           162,
           73,
           172,
           34,
           110,
           56,
           68,
           177,
           146,
           234,
           150,
           244,
           133,
           89,
           97,
           134,
           121,
           97,
           198
          ],
          "coloraxis": "coloraxis",
          "symbol": "circle"
         },
         "mode": "markers",
         "name": "",
         "orientation": "v",
         "showlegend": false,
         "type": "scatter",
         "x": [
          112,
          98,
          69,
          82,
          91,
          93,
          91,
          95,
          111,
          96,
          97,
          124,
          95,
          107,
          83,
          84,
          50,
          28,
          87,
          16,
          57,
          111,
          113,
          20,
          145,
          119,
          66,
          97,
          90,
          115,
          8,
          48,
          106,
          7,
          11,
          19,
          21,
          50,
          142,
          28,
          18,
          10,
          59,
          109,
          114,
          47,
          135,
          92,
          21,
          79,
          114,
          29,
          26,
          97,
          137,
          15,
          103,
          37,
          114,
          100,
          21,
          54,
          72,
          28,
          128,
          14,
          77,
          8,
          121,
          94,
          118,
          50,
          131,
          126,
          113,
          10,
          34,
          107,
          63,
          90,
          8,
          9,
          137,
          58,
          118,
          89,
          116,
          115,
          136,
          28,
          38,
          20,
          85,
          55,
          128,
          137,
          82,
          59,
          117,
          20
         ],
         "xaxis": "x",
         "y": [
          17.568328857421875,
          2.3567276000976562,
          6.957847595214844,
          1.6216506958007812,
          6.1175384521484375,
          16.32903289794922,
          14.186233520507812,
          18.185104370117188,
          22.471923828125,
          6.660491943359375,
          12.589714050292969,
          27.26177215576172,
          14.882186889648438,
          8.842666625976562,
          49.884979248046875,
          33.06200408935547,
          18.432823181152344,
          32.6905403137207,
          28.302780151367188,
          8.605656623840332,
          49.10783386230469,
          7.827392578125,
          11.586280822753906,
          19.60361099243164,
          21.26367950439453,
          10.785675048828125,
          35.69593048095703,
          1.635711669921875,
          21.350051879882812,
          31.76788330078125,
          0.605656623840332,
          53.57257843017578,
          19.358123779296875,
          0.39434337615966797,
          3.605656623840332,
          4.856689453125,
          53.593894958496094,
          14.876945495605469,
          11.256591796875,
          14.311141967773438,
          59.598167419433594,
          3.4948863983154297,
          4.418022155761719,
          5.8602752685546875,
          46.479461669921875,
          3.801685333251953,
          26.61620330810547,
          7.747245788574219,
          13.253581047058105,
          38.98310852050781,
          8.171806335449219,
          18.4698486328125,
          7.339008331298828,
          46.11238098144531,
          14.6571044921875,
          0.8755893707275391,
          19.605758666992188,
          19.950214385986328,
          14.501541137695312,
          6.141990661621094,
          16.332916259765625,
          19.667625427246094,
          6.755699157714844,
          31.33422088623047,
          0.25201416015625,
          6.605656623840332,
          28.96453857421875,
          0.605656623840332,
          16.991241455078125,
          0.7846450805664062,
          0.6902236938476562,
          45.86901092529297,
          8.668853759765625,
          42.94627380371094,
          11.657379150390625,
          2.605656623840332,
          13.822818756103516,
          40.06016540527344,
          36.89740753173828,
          7.136688232421875,
          0.605656623840332,
          1.605656623840332,
          31.959426879882812,
          1.5672073364257812,
          19.218955993652344,
          9.79852294921875,
          12.103179931640625,
          11.057815551757812,
          36.87986755371094,
          14.346057891845703,
          4.502685546875,
          3.543050765991211,
          39.556907653808594,
          0.20397186279296875,
          6.806556701660156,
          0.26055908203125,
          12.569595336914062,
          25.047523498535156,
          16.65045166015625,
          9.435762405395508
         ],
         "yaxis": "y"
        }
       ],
       "layout": {
        "coloraxis": {
         "colorbar": {
          "title": {
           "text": "Sequence Length"
          }
         },
         "colorscale": [
          [
           0,
           "#440154"
          ],
          [
           0.1111111111111111,
           "#482878"
          ],
          [
           0.2222222222222222,
           "#3e4989"
          ],
          [
           0.3333333333333333,
           "#31688e"
          ],
          [
           0.4444444444444444,
           "#26828e"
          ],
          [
           0.5555555555555556,
           "#1f9e89"
          ],
          [
           0.6666666666666666,
           "#35b779"
          ],
          [
           0.7777777777777778,
           "#6ece58"
          ],
          [
           0.8888888888888888,
           "#b5de2b"
          ],
          [
           1,
           "#fde725"
          ]
         ]
        },
        "legend": {
         "tracegroupgap": 0
        },
        "template": {
         "data": {
          "bar": [
           {
            "error_x": {
             "color": "#f2f5fa"
            },
            "error_y": {
             "color": "#f2f5fa"
            },
            "marker": {
             "line": {
              "color": "rgb(17,17,17)",
              "width": 0.5
             },
             "pattern": {
              "fillmode": "overlay",
              "size": 10,
              "solidity": 0.2
             }
            },
            "type": "bar"
           }
          ],
          "barpolar": [
           {
            "marker": {
             "line": {
              "color": "rgb(17,17,17)",
              "width": 0.5
             },
             "pattern": {
              "fillmode": "overlay",
              "size": 10,
              "solidity": 0.2
             }
            },
            "type": "barpolar"
           }
          ],
          "carpet": [
           {
            "aaxis": {
             "endlinecolor": "#A2B1C6",
             "gridcolor": "#506784",
             "linecolor": "#506784",
             "minorgridcolor": "#506784",
             "startlinecolor": "#A2B1C6"
            },
            "baxis": {
             "endlinecolor": "#A2B1C6",
             "gridcolor": "#506784",
             "linecolor": "#506784",
             "minorgridcolor": "#506784",
             "startlinecolor": "#A2B1C6"
            },
            "type": "carpet"
           }
          ],
          "choropleth": [
           {
            "colorbar": {
             "outlinewidth": 0,
             "ticks": ""
            },
            "type": "choropleth"
           }
          ],
          "contour": [
           {
            "colorbar": {
             "outlinewidth": 0,
             "ticks": ""
            },
            "colorscale": [
             [
              0,
              "#0d0887"
             ],
             [
              0.1111111111111111,
              "#46039f"
             ],
             [
              0.2222222222222222,
              "#7201a8"
             ],
             [
              0.3333333333333333,
              "#9c179e"
             ],
             [
              0.4444444444444444,
              "#bd3786"
             ],
             [
              0.5555555555555556,
              "#d8576b"
             ],
             [
              0.6666666666666666,
              "#ed7953"
             ],
             [
              0.7777777777777778,
              "#fb9f3a"
             ],
             [
              0.8888888888888888,
              "#fdca26"
             ],
             [
              1,
              "#f0f921"
             ]
            ],
            "type": "contour"
           }
          ],
          "contourcarpet": [
           {
            "colorbar": {
             "outlinewidth": 0,
             "ticks": ""
            },
            "type": "contourcarpet"
           }
          ],
          "heatmap": [
           {
            "colorbar": {
             "outlinewidth": 0,
             "ticks": ""
            },
            "colorscale": [
             [
              0,
              "#0d0887"
             ],
             [
              0.1111111111111111,
              "#46039f"
             ],
             [
              0.2222222222222222,
              "#7201a8"
             ],
             [
              0.3333333333333333,
              "#9c179e"
             ],
             [
              0.4444444444444444,
              "#bd3786"
             ],
             [
              0.5555555555555556,
              "#d8576b"
             ],
             [
              0.6666666666666666,
              "#ed7953"
             ],
             [
              0.7777777777777778,
              "#fb9f3a"
             ],
             [
              0.8888888888888888,
              "#fdca26"
             ],
             [
              1,
              "#f0f921"
             ]
            ],
            "type": "heatmap"
           }
          ],
          "heatmapgl": [
           {
            "colorbar": {
             "outlinewidth": 0,
             "ticks": ""
            },
            "colorscale": [
             [
              0,
              "#0d0887"
             ],
             [
              0.1111111111111111,
              "#46039f"
             ],
             [
              0.2222222222222222,
              "#7201a8"
             ],
             [
              0.3333333333333333,
              "#9c179e"
             ],
             [
              0.4444444444444444,
              "#bd3786"
             ],
             [
              0.5555555555555556,
              "#d8576b"
             ],
             [
              0.6666666666666666,
              "#ed7953"
             ],
             [
              0.7777777777777778,
              "#fb9f3a"
             ],
             [
              0.8888888888888888,
              "#fdca26"
             ],
             [
              1,
              "#f0f921"
             ]
            ],
            "type": "heatmapgl"
           }
          ],
          "histogram": [
           {
            "marker": {
             "pattern": {
              "fillmode": "overlay",
              "size": 10,
              "solidity": 0.2
             }
            },
            "type": "histogram"
           }
          ],
          "histogram2d": [
           {
            "colorbar": {
             "outlinewidth": 0,
             "ticks": ""
            },
            "colorscale": [
             [
              0,
              "#0d0887"
             ],
             [
              0.1111111111111111,
              "#46039f"
             ],
             [
              0.2222222222222222,
              "#7201a8"
             ],
             [
              0.3333333333333333,
              "#9c179e"
             ],
             [
              0.4444444444444444,
              "#bd3786"
             ],
             [
              0.5555555555555556,
              "#d8576b"
             ],
             [
              0.6666666666666666,
              "#ed7953"
             ],
             [
              0.7777777777777778,
              "#fb9f3a"
             ],
             [
              0.8888888888888888,
              "#fdca26"
             ],
             [
              1,
              "#f0f921"
             ]
            ],
            "type": "histogram2d"
           }
          ],
          "histogram2dcontour": [
           {
            "colorbar": {
             "outlinewidth": 0,
             "ticks": ""
            },
            "colorscale": [
             [
              0,
              "#0d0887"
             ],
             [
              0.1111111111111111,
              "#46039f"
             ],
             [
              0.2222222222222222,
              "#7201a8"
             ],
             [
              0.3333333333333333,
              "#9c179e"
             ],
             [
              0.4444444444444444,
              "#bd3786"
             ],
             [
              0.5555555555555556,
              "#d8576b"
             ],
             [
              0.6666666666666666,
              "#ed7953"
             ],
             [
              0.7777777777777778,
              "#fb9f3a"
             ],
             [
              0.8888888888888888,
              "#fdca26"
             ],
             [
              1,
              "#f0f921"
             ]
            ],
            "type": "histogram2dcontour"
           }
          ],
          "mesh3d": [
           {
            "colorbar": {
             "outlinewidth": 0,
             "ticks": ""
            },
            "type": "mesh3d"
           }
          ],
          "parcoords": [
           {
            "line": {
             "colorbar": {
              "outlinewidth": 0,
              "ticks": ""
             }
            },
            "type": "parcoords"
           }
          ],
          "pie": [
           {
            "automargin": true,
            "type": "pie"
           }
          ],
          "scatter": [
           {
            "marker": {
             "line": {
              "color": "#283442"
             }
            },
            "type": "scatter"
           }
          ],
          "scatter3d": [
           {
            "line": {
             "colorbar": {
              "outlinewidth": 0,
              "ticks": ""
             }
            },
            "marker": {
             "colorbar": {
              "outlinewidth": 0,
              "ticks": ""
             }
            },
            "type": "scatter3d"
           }
          ],
          "scattercarpet": [
           {
            "marker": {
             "colorbar": {
              "outlinewidth": 0,
              "ticks": ""
             }
            },
            "type": "scattercarpet"
           }
          ],
          "scattergeo": [
           {
            "marker": {
             "colorbar": {
              "outlinewidth": 0,
              "ticks": ""
             }
            },
            "type": "scattergeo"
           }
          ],
          "scattergl": [
           {
            "marker": {
             "line": {
              "color": "#283442"
             }
            },
            "type": "scattergl"
           }
          ],
          "scattermapbox": [
           {
            "marker": {
             "colorbar": {
              "outlinewidth": 0,
              "ticks": ""
             }
            },
            "type": "scattermapbox"
           }
          ],
          "scatterpolar": [
           {
            "marker": {
             "colorbar": {
              "outlinewidth": 0,
              "ticks": ""
             }
            },
            "type": "scatterpolar"
           }
          ],
          "scatterpolargl": [
           {
            "marker": {
             "colorbar": {
              "outlinewidth": 0,
              "ticks": ""
             }
            },
            "type": "scatterpolargl"
           }
          ],
          "scatterternary": [
           {
            "marker": {
             "colorbar": {
              "outlinewidth": 0,
              "ticks": ""
             }
            },
            "type": "scatterternary"
           }
          ],
          "surface": [
           {
            "colorbar": {
             "outlinewidth": 0,
             "ticks": ""
            },
            "colorscale": [
             [
              0,
              "#0d0887"
             ],
             [
              0.1111111111111111,
              "#46039f"
             ],
             [
              0.2222222222222222,
              "#7201a8"
             ],
             [
              0.3333333333333333,
              "#9c179e"
             ],
             [
              0.4444444444444444,
              "#bd3786"
             ],
             [
              0.5555555555555556,
              "#d8576b"
             ],
             [
              0.6666666666666666,
              "#ed7953"
             ],
             [
              0.7777777777777778,
              "#fb9f3a"
             ],
             [
              0.8888888888888888,
              "#fdca26"
             ],
             [
              1,
              "#f0f921"
             ]
            ],
            "type": "surface"
           }
          ],
          "table": [
           {
            "cells": {
             "fill": {
              "color": "#506784"
             },
             "line": {
              "color": "rgb(17,17,17)"
             }
            },
            "header": {
             "fill": {
              "color": "#2a3f5f"
             },
             "line": {
              "color": "rgb(17,17,17)"
             }
            },
            "type": "table"
           }
          ]
         },
         "layout": {
          "annotationdefaults": {
           "arrowcolor": "#f2f5fa",
           "arrowhead": 0,
           "arrowwidth": 1
          },
          "autotypenumbers": "strict",
          "coloraxis": {
           "colorbar": {
            "outlinewidth": 0,
            "ticks": ""
           }
          },
          "colorscale": {
           "diverging": [
            [
             0,
             "#8e0152"
            ],
            [
             0.1,
             "#c51b7d"
            ],
            [
             0.2,
             "#de77ae"
            ],
            [
             0.3,
             "#f1b6da"
            ],
            [
             0.4,
             "#fde0ef"
            ],
            [
             0.5,
             "#f7f7f7"
            ],
            [
             0.6,
             "#e6f5d0"
            ],
            [
             0.7,
             "#b8e186"
            ],
            [
             0.8,
             "#7fbc41"
            ],
            [
             0.9,
             "#4d9221"
            ],
            [
             1,
             "#276419"
            ]
           ],
           "sequential": [
            [
             0,
             "#0d0887"
            ],
            [
             0.1111111111111111,
             "#46039f"
            ],
            [
             0.2222222222222222,
             "#7201a8"
            ],
            [
             0.3333333333333333,
             "#9c179e"
            ],
            [
             0.4444444444444444,
             "#bd3786"
            ],
            [
             0.5555555555555556,
             "#d8576b"
            ],
            [
             0.6666666666666666,
             "#ed7953"
            ],
            [
             0.7777777777777778,
             "#fb9f3a"
            ],
            [
             0.8888888888888888,
             "#fdca26"
            ],
            [
             1,
             "#f0f921"
            ]
           ],
           "sequentialminus": [
            [
             0,
             "#0d0887"
            ],
            [
             0.1111111111111111,
             "#46039f"
            ],
            [
             0.2222222222222222,
             "#7201a8"
            ],
            [
             0.3333333333333333,
             "#9c179e"
            ],
            [
             0.4444444444444444,
             "#bd3786"
            ],
            [
             0.5555555555555556,
             "#d8576b"
            ],
            [
             0.6666666666666666,
             "#ed7953"
            ],
            [
             0.7777777777777778,
             "#fb9f3a"
            ],
            [
             0.8888888888888888,
             "#fdca26"
            ],
            [
             1,
             "#f0f921"
            ]
           ]
          },
          "colorway": [
           "#636efa",
           "#EF553B",
           "#00cc96",
           "#ab63fa",
           "#FFA15A",
           "#19d3f3",
           "#FF6692",
           "#B6E880",
           "#FF97FF",
           "#FECB52"
          ],
          "font": {
           "color": "#f2f5fa"
          },
          "geo": {
           "bgcolor": "rgb(17,17,17)",
           "lakecolor": "rgb(17,17,17)",
           "landcolor": "rgb(17,17,17)",
           "showlakes": true,
           "showland": true,
           "subunitcolor": "#506784"
          },
          "hoverlabel": {
           "align": "left"
          },
          "hovermode": "closest",
          "mapbox": {
           "style": "dark"
          },
          "paper_bgcolor": "rgb(17,17,17)",
          "plot_bgcolor": "rgb(17,17,17)",
          "polar": {
           "angularaxis": {
            "gridcolor": "#506784",
            "linecolor": "#506784",
            "ticks": ""
           },
           "bgcolor": "rgb(17,17,17)",
           "radialaxis": {
            "gridcolor": "#506784",
            "linecolor": "#506784",
            "ticks": ""
           }
          },
          "scene": {
           "xaxis": {
            "backgroundcolor": "rgb(17,17,17)",
            "gridcolor": "#506784",
            "gridwidth": 2,
            "linecolor": "#506784",
            "showbackground": true,
            "ticks": "",
            "zerolinecolor": "#C8D4E3"
           },
           "yaxis": {
            "backgroundcolor": "rgb(17,17,17)",
            "gridcolor": "#506784",
            "gridwidth": 2,
            "linecolor": "#506784",
            "showbackground": true,
            "ticks": "",
            "zerolinecolor": "#C8D4E3"
           },
           "zaxis": {
            "backgroundcolor": "rgb(17,17,17)",
            "gridcolor": "#506784",
            "gridwidth": 2,
            "linecolor": "#506784",
            "showbackground": true,
            "ticks": "",
            "zerolinecolor": "#C8D4E3"
           }
          },
          "shapedefaults": {
           "line": {
            "color": "#f2f5fa"
           }
          },
          "sliderdefaults": {
           "bgcolor": "#C8D4E3",
           "bordercolor": "rgb(17,17,17)",
           "borderwidth": 1,
           "tickwidth": 0
          },
          "ternary": {
           "aaxis": {
            "gridcolor": "#506784",
            "linecolor": "#506784",
            "ticks": ""
           },
           "baxis": {
            "gridcolor": "#506784",
            "linecolor": "#506784",
            "ticks": ""
           },
           "bgcolor": "rgb(17,17,17)",
           "caxis": {
            "gridcolor": "#506784",
            "linecolor": "#506784",
            "ticks": ""
           }
          },
          "title": {
           "x": 0.05
          },
          "updatemenudefaults": {
           "bgcolor": "#506784",
           "borderwidth": 0
          },
          "xaxis": {
           "automargin": true,
           "gridcolor": "#283442",
           "linecolor": "#506784",
           "ticks": "",
           "title": {
            "standoff": 15
           },
           "zerolinecolor": "#283442",
           "zerolinewidth": 2
          },
          "yaxis": {
           "automargin": true,
           "gridcolor": "#283442",
           "linecolor": "#506784",
           "ticks": "",
           "title": {
            "standoff": 15
           },
           "zerolinecolor": "#283442",
           "zerolinewidth": 2
          }
         }
        },
        "title": {
         "text": "True RUL vs RUL Error"
        },
        "xaxis": {
         "anchor": "y",
         "domain": [
          0,
          1
         ],
         "title": {
          "text": "True RUL"
         }
        },
        "yaxis": {
         "anchor": "x",
         "domain": [
          0,
          1
         ],
         "title": {
          "text": "RUL Error"
         }
        }
       }
      }
     },
     "metadata": {},
     "output_type": "display_data"
    },
    {
     "data": {
      "application/vnd.plotly.v1+json": {
       "config": {
        "plotlyServerURL": "https://plot.ly"
       },
       "data": [
        {
         "hovertemplate": "Sequence Length=%{x}<br>RUL Error=%{y}<br>True RUL=%{marker.color}<extra></extra>",
         "legendgroup": "",
         "marker": {
          "color": [
           112,
           98,
           69,
           82,
           91,
           93,
           91,
           95,
           111,
           96,
           97,
           124,
           95,
           107,
           83,
           84,
           50,
           28,
           87,
           16,
           57,
           111,
           113,
           20,
           145,
           119,
           66,
           97,
           90,
           115,
           8,
           48,
           106,
           7,
           11,
           19,
           21,
           50,
           142,
           28,
           18,
           10,
           59,
           109,
           114,
           47,
           135,
           92,
           21,
           79,
           114,
           29,
           26,
           97,
           137,
           15,
           103,
           37,
           114,
           100,
           21,
           54,
           72,
           28,
           128,
           14,
           77,
           8,
           121,
           94,
           118,
           50,
           131,
           126,
           113,
           10,
           34,
           107,
           63,
           90,
           8,
           9,
           137,
           58,
           118,
           89,
           116,
           115,
           136,
           28,
           38,
           20,
           85,
           55,
           128,
           137,
           82,
           59,
           117,
           20
          ],
          "coloraxis": "coloraxis",
          "symbol": "circle"
         },
         "mode": "markers",
         "name": "",
         "orientation": "v",
         "showlegend": false,
         "type": "scatter",
         "x": [
          31,
          49,
          126,
          106,
          98,
          105,
          160,
          166,
          55,
          192,
          83,
          217,
          195,
          46,
          76,
          113,
          165,
          133,
          135,
          184,
          148,
          39,
          130,
          186,
          48,
          76,
          140,
          158,
          171,
          143,
          196,
          145,
          50,
          203,
          198,
          126,
          121,
          125,
          37,
          133,
          123,
          156,
          172,
          54,
          152,
          146,
          73,
          78,
          303,
          74,
          144,
          189,
          164,
          121,
          113,
          136,
          160,
          176,
          94,
          147,
          159,
          232,
          155,
          168,
          71,
          147,
          71,
          187,
          54,
          152,
          68,
          131,
          112,
          137,
          88,
          205,
          162,
          72,
          101,
          133,
          213,
          162,
          73,
          172,
          34,
          110,
          56,
          68,
          177,
          146,
          234,
          150,
          244,
          133,
          89,
          97,
          134,
          121,
          97,
          198
         ],
         "xaxis": "x",
         "y": [
          17.568328857421875,
          2.3567276000976562,
          6.957847595214844,
          1.6216506958007812,
          6.1175384521484375,
          16.32903289794922,
          14.186233520507812,
          18.185104370117188,
          22.471923828125,
          6.660491943359375,
          12.589714050292969,
          27.26177215576172,
          14.882186889648438,
          8.842666625976562,
          49.884979248046875,
          33.06200408935547,
          18.432823181152344,
          32.6905403137207,
          28.302780151367188,
          8.605656623840332,
          49.10783386230469,
          7.827392578125,
          11.586280822753906,
          19.60361099243164,
          21.26367950439453,
          10.785675048828125,
          35.69593048095703,
          1.635711669921875,
          21.350051879882812,
          31.76788330078125,
          0.605656623840332,
          53.57257843017578,
          19.358123779296875,
          0.39434337615966797,
          3.605656623840332,
          4.856689453125,
          53.593894958496094,
          14.876945495605469,
          11.256591796875,
          14.311141967773438,
          59.598167419433594,
          3.4948863983154297,
          4.418022155761719,
          5.8602752685546875,
          46.479461669921875,
          3.801685333251953,
          26.61620330810547,
          7.747245788574219,
          13.253581047058105,
          38.98310852050781,
          8.171806335449219,
          18.4698486328125,
          7.339008331298828,
          46.11238098144531,
          14.6571044921875,
          0.8755893707275391,
          19.605758666992188,
          19.950214385986328,
          14.501541137695312,
          6.141990661621094,
          16.332916259765625,
          19.667625427246094,
          6.755699157714844,
          31.33422088623047,
          0.25201416015625,
          6.605656623840332,
          28.96453857421875,
          0.605656623840332,
          16.991241455078125,
          0.7846450805664062,
          0.6902236938476562,
          45.86901092529297,
          8.668853759765625,
          42.94627380371094,
          11.657379150390625,
          2.605656623840332,
          13.822818756103516,
          40.06016540527344,
          36.89740753173828,
          7.136688232421875,
          0.605656623840332,
          1.605656623840332,
          31.959426879882812,
          1.5672073364257812,
          19.218955993652344,
          9.79852294921875,
          12.103179931640625,
          11.057815551757812,
          36.87986755371094,
          14.346057891845703,
          4.502685546875,
          3.543050765991211,
          39.556907653808594,
          0.20397186279296875,
          6.806556701660156,
          0.26055908203125,
          12.569595336914062,
          25.047523498535156,
          16.65045166015625,
          9.435762405395508
         ],
         "yaxis": "y"
        }
       ],
       "layout": {
        "coloraxis": {
         "colorbar": {
          "title": {
           "text": "True RUL"
          }
         },
         "colorscale": [
          [
           0,
           "#440154"
          ],
          [
           0.1111111111111111,
           "#482878"
          ],
          [
           0.2222222222222222,
           "#3e4989"
          ],
          [
           0.3333333333333333,
           "#31688e"
          ],
          [
           0.4444444444444444,
           "#26828e"
          ],
          [
           0.5555555555555556,
           "#1f9e89"
          ],
          [
           0.6666666666666666,
           "#35b779"
          ],
          [
           0.7777777777777778,
           "#6ece58"
          ],
          [
           0.8888888888888888,
           "#b5de2b"
          ],
          [
           1,
           "#fde725"
          ]
         ]
        },
        "legend": {
         "tracegroupgap": 0
        },
        "template": {
         "data": {
          "bar": [
           {
            "error_x": {
             "color": "#f2f5fa"
            },
            "error_y": {
             "color": "#f2f5fa"
            },
            "marker": {
             "line": {
              "color": "rgb(17,17,17)",
              "width": 0.5
             },
             "pattern": {
              "fillmode": "overlay",
              "size": 10,
              "solidity": 0.2
             }
            },
            "type": "bar"
           }
          ],
          "barpolar": [
           {
            "marker": {
             "line": {
              "color": "rgb(17,17,17)",
              "width": 0.5
             },
             "pattern": {
              "fillmode": "overlay",
              "size": 10,
              "solidity": 0.2
             }
            },
            "type": "barpolar"
           }
          ],
          "carpet": [
           {
            "aaxis": {
             "endlinecolor": "#A2B1C6",
             "gridcolor": "#506784",
             "linecolor": "#506784",
             "minorgridcolor": "#506784",
             "startlinecolor": "#A2B1C6"
            },
            "baxis": {
             "endlinecolor": "#A2B1C6",
             "gridcolor": "#506784",
             "linecolor": "#506784",
             "minorgridcolor": "#506784",
             "startlinecolor": "#A2B1C6"
            },
            "type": "carpet"
           }
          ],
          "choropleth": [
           {
            "colorbar": {
             "outlinewidth": 0,
             "ticks": ""
            },
            "type": "choropleth"
           }
          ],
          "contour": [
           {
            "colorbar": {
             "outlinewidth": 0,
             "ticks": ""
            },
            "colorscale": [
             [
              0,
              "#0d0887"
             ],
             [
              0.1111111111111111,
              "#46039f"
             ],
             [
              0.2222222222222222,
              "#7201a8"
             ],
             [
              0.3333333333333333,
              "#9c179e"
             ],
             [
              0.4444444444444444,
              "#bd3786"
             ],
             [
              0.5555555555555556,
              "#d8576b"
             ],
             [
              0.6666666666666666,
              "#ed7953"
             ],
             [
              0.7777777777777778,
              "#fb9f3a"
             ],
             [
              0.8888888888888888,
              "#fdca26"
             ],
             [
              1,
              "#f0f921"
             ]
            ],
            "type": "contour"
           }
          ],
          "contourcarpet": [
           {
            "colorbar": {
             "outlinewidth": 0,
             "ticks": ""
            },
            "type": "contourcarpet"
           }
          ],
          "heatmap": [
           {
            "colorbar": {
             "outlinewidth": 0,
             "ticks": ""
            },
            "colorscale": [
             [
              0,
              "#0d0887"
             ],
             [
              0.1111111111111111,
              "#46039f"
             ],
             [
              0.2222222222222222,
              "#7201a8"
             ],
             [
              0.3333333333333333,
              "#9c179e"
             ],
             [
              0.4444444444444444,
              "#bd3786"
             ],
             [
              0.5555555555555556,
              "#d8576b"
             ],
             [
              0.6666666666666666,
              "#ed7953"
             ],
             [
              0.7777777777777778,
              "#fb9f3a"
             ],
             [
              0.8888888888888888,
              "#fdca26"
             ],
             [
              1,
              "#f0f921"
             ]
            ],
            "type": "heatmap"
           }
          ],
          "heatmapgl": [
           {
            "colorbar": {
             "outlinewidth": 0,
             "ticks": ""
            },
            "colorscale": [
             [
              0,
              "#0d0887"
             ],
             [
              0.1111111111111111,
              "#46039f"
             ],
             [
              0.2222222222222222,
              "#7201a8"
             ],
             [
              0.3333333333333333,
              "#9c179e"
             ],
             [
              0.4444444444444444,
              "#bd3786"
             ],
             [
              0.5555555555555556,
              "#d8576b"
             ],
             [
              0.6666666666666666,
              "#ed7953"
             ],
             [
              0.7777777777777778,
              "#fb9f3a"
             ],
             [
              0.8888888888888888,
              "#fdca26"
             ],
             [
              1,
              "#f0f921"
             ]
            ],
            "type": "heatmapgl"
           }
          ],
          "histogram": [
           {
            "marker": {
             "pattern": {
              "fillmode": "overlay",
              "size": 10,
              "solidity": 0.2
             }
            },
            "type": "histogram"
           }
          ],
          "histogram2d": [
           {
            "colorbar": {
             "outlinewidth": 0,
             "ticks": ""
            },
            "colorscale": [
             [
              0,
              "#0d0887"
             ],
             [
              0.1111111111111111,
              "#46039f"
             ],
             [
              0.2222222222222222,
              "#7201a8"
             ],
             [
              0.3333333333333333,
              "#9c179e"
             ],
             [
              0.4444444444444444,
              "#bd3786"
             ],
             [
              0.5555555555555556,
              "#d8576b"
             ],
             [
              0.6666666666666666,
              "#ed7953"
             ],
             [
              0.7777777777777778,
              "#fb9f3a"
             ],
             [
              0.8888888888888888,
              "#fdca26"
             ],
             [
              1,
              "#f0f921"
             ]
            ],
            "type": "histogram2d"
           }
          ],
          "histogram2dcontour": [
           {
            "colorbar": {
             "outlinewidth": 0,
             "ticks": ""
            },
            "colorscale": [
             [
              0,
              "#0d0887"
             ],
             [
              0.1111111111111111,
              "#46039f"
             ],
             [
              0.2222222222222222,
              "#7201a8"
             ],
             [
              0.3333333333333333,
              "#9c179e"
             ],
             [
              0.4444444444444444,
              "#bd3786"
             ],
             [
              0.5555555555555556,
              "#d8576b"
             ],
             [
              0.6666666666666666,
              "#ed7953"
             ],
             [
              0.7777777777777778,
              "#fb9f3a"
             ],
             [
              0.8888888888888888,
              "#fdca26"
             ],
             [
              1,
              "#f0f921"
             ]
            ],
            "type": "histogram2dcontour"
           }
          ],
          "mesh3d": [
           {
            "colorbar": {
             "outlinewidth": 0,
             "ticks": ""
            },
            "type": "mesh3d"
           }
          ],
          "parcoords": [
           {
            "line": {
             "colorbar": {
              "outlinewidth": 0,
              "ticks": ""
             }
            },
            "type": "parcoords"
           }
          ],
          "pie": [
           {
            "automargin": true,
            "type": "pie"
           }
          ],
          "scatter": [
           {
            "marker": {
             "line": {
              "color": "#283442"
             }
            },
            "type": "scatter"
           }
          ],
          "scatter3d": [
           {
            "line": {
             "colorbar": {
              "outlinewidth": 0,
              "ticks": ""
             }
            },
            "marker": {
             "colorbar": {
              "outlinewidth": 0,
              "ticks": ""
             }
            },
            "type": "scatter3d"
           }
          ],
          "scattercarpet": [
           {
            "marker": {
             "colorbar": {
              "outlinewidth": 0,
              "ticks": ""
             }
            },
            "type": "scattercarpet"
           }
          ],
          "scattergeo": [
           {
            "marker": {
             "colorbar": {
              "outlinewidth": 0,
              "ticks": ""
             }
            },
            "type": "scattergeo"
           }
          ],
          "scattergl": [
           {
            "marker": {
             "line": {
              "color": "#283442"
             }
            },
            "type": "scattergl"
           }
          ],
          "scattermapbox": [
           {
            "marker": {
             "colorbar": {
              "outlinewidth": 0,
              "ticks": ""
             }
            },
            "type": "scattermapbox"
           }
          ],
          "scatterpolar": [
           {
            "marker": {
             "colorbar": {
              "outlinewidth": 0,
              "ticks": ""
             }
            },
            "type": "scatterpolar"
           }
          ],
          "scatterpolargl": [
           {
            "marker": {
             "colorbar": {
              "outlinewidth": 0,
              "ticks": ""
             }
            },
            "type": "scatterpolargl"
           }
          ],
          "scatterternary": [
           {
            "marker": {
             "colorbar": {
              "outlinewidth": 0,
              "ticks": ""
             }
            },
            "type": "scatterternary"
           }
          ],
          "surface": [
           {
            "colorbar": {
             "outlinewidth": 0,
             "ticks": ""
            },
            "colorscale": [
             [
              0,
              "#0d0887"
             ],
             [
              0.1111111111111111,
              "#46039f"
             ],
             [
              0.2222222222222222,
              "#7201a8"
             ],
             [
              0.3333333333333333,
              "#9c179e"
             ],
             [
              0.4444444444444444,
              "#bd3786"
             ],
             [
              0.5555555555555556,
              "#d8576b"
             ],
             [
              0.6666666666666666,
              "#ed7953"
             ],
             [
              0.7777777777777778,
              "#fb9f3a"
             ],
             [
              0.8888888888888888,
              "#fdca26"
             ],
             [
              1,
              "#f0f921"
             ]
            ],
            "type": "surface"
           }
          ],
          "table": [
           {
            "cells": {
             "fill": {
              "color": "#506784"
             },
             "line": {
              "color": "rgb(17,17,17)"
             }
            },
            "header": {
             "fill": {
              "color": "#2a3f5f"
             },
             "line": {
              "color": "rgb(17,17,17)"
             }
            },
            "type": "table"
           }
          ]
         },
         "layout": {
          "annotationdefaults": {
           "arrowcolor": "#f2f5fa",
           "arrowhead": 0,
           "arrowwidth": 1
          },
          "autotypenumbers": "strict",
          "coloraxis": {
           "colorbar": {
            "outlinewidth": 0,
            "ticks": ""
           }
          },
          "colorscale": {
           "diverging": [
            [
             0,
             "#8e0152"
            ],
            [
             0.1,
             "#c51b7d"
            ],
            [
             0.2,
             "#de77ae"
            ],
            [
             0.3,
             "#f1b6da"
            ],
            [
             0.4,
             "#fde0ef"
            ],
            [
             0.5,
             "#f7f7f7"
            ],
            [
             0.6,
             "#e6f5d0"
            ],
            [
             0.7,
             "#b8e186"
            ],
            [
             0.8,
             "#7fbc41"
            ],
            [
             0.9,
             "#4d9221"
            ],
            [
             1,
             "#276419"
            ]
           ],
           "sequential": [
            [
             0,
             "#0d0887"
            ],
            [
             0.1111111111111111,
             "#46039f"
            ],
            [
             0.2222222222222222,
             "#7201a8"
            ],
            [
             0.3333333333333333,
             "#9c179e"
            ],
            [
             0.4444444444444444,
             "#bd3786"
            ],
            [
             0.5555555555555556,
             "#d8576b"
            ],
            [
             0.6666666666666666,
             "#ed7953"
            ],
            [
             0.7777777777777778,
             "#fb9f3a"
            ],
            [
             0.8888888888888888,
             "#fdca26"
            ],
            [
             1,
             "#f0f921"
            ]
           ],
           "sequentialminus": [
            [
             0,
             "#0d0887"
            ],
            [
             0.1111111111111111,
             "#46039f"
            ],
            [
             0.2222222222222222,
             "#7201a8"
            ],
            [
             0.3333333333333333,
             "#9c179e"
            ],
            [
             0.4444444444444444,
             "#bd3786"
            ],
            [
             0.5555555555555556,
             "#d8576b"
            ],
            [
             0.6666666666666666,
             "#ed7953"
            ],
            [
             0.7777777777777778,
             "#fb9f3a"
            ],
            [
             0.8888888888888888,
             "#fdca26"
            ],
            [
             1,
             "#f0f921"
            ]
           ]
          },
          "colorway": [
           "#636efa",
           "#EF553B",
           "#00cc96",
           "#ab63fa",
           "#FFA15A",
           "#19d3f3",
           "#FF6692",
           "#B6E880",
           "#FF97FF",
           "#FECB52"
          ],
          "font": {
           "color": "#f2f5fa"
          },
          "geo": {
           "bgcolor": "rgb(17,17,17)",
           "lakecolor": "rgb(17,17,17)",
           "landcolor": "rgb(17,17,17)",
           "showlakes": true,
           "showland": true,
           "subunitcolor": "#506784"
          },
          "hoverlabel": {
           "align": "left"
          },
          "hovermode": "closest",
          "mapbox": {
           "style": "dark"
          },
          "paper_bgcolor": "rgb(17,17,17)",
          "plot_bgcolor": "rgb(17,17,17)",
          "polar": {
           "angularaxis": {
            "gridcolor": "#506784",
            "linecolor": "#506784",
            "ticks": ""
           },
           "bgcolor": "rgb(17,17,17)",
           "radialaxis": {
            "gridcolor": "#506784",
            "linecolor": "#506784",
            "ticks": ""
           }
          },
          "scene": {
           "xaxis": {
            "backgroundcolor": "rgb(17,17,17)",
            "gridcolor": "#506784",
            "gridwidth": 2,
            "linecolor": "#506784",
            "showbackground": true,
            "ticks": "",
            "zerolinecolor": "#C8D4E3"
           },
           "yaxis": {
            "backgroundcolor": "rgb(17,17,17)",
            "gridcolor": "#506784",
            "gridwidth": 2,
            "linecolor": "#506784",
            "showbackground": true,
            "ticks": "",
            "zerolinecolor": "#C8D4E3"
           },
           "zaxis": {
            "backgroundcolor": "rgb(17,17,17)",
            "gridcolor": "#506784",
            "gridwidth": 2,
            "linecolor": "#506784",
            "showbackground": true,
            "ticks": "",
            "zerolinecolor": "#C8D4E3"
           }
          },
          "shapedefaults": {
           "line": {
            "color": "#f2f5fa"
           }
          },
          "sliderdefaults": {
           "bgcolor": "#C8D4E3",
           "bordercolor": "rgb(17,17,17)",
           "borderwidth": 1,
           "tickwidth": 0
          },
          "ternary": {
           "aaxis": {
            "gridcolor": "#506784",
            "linecolor": "#506784",
            "ticks": ""
           },
           "baxis": {
            "gridcolor": "#506784",
            "linecolor": "#506784",
            "ticks": ""
           },
           "bgcolor": "rgb(17,17,17)",
           "caxis": {
            "gridcolor": "#506784",
            "linecolor": "#506784",
            "ticks": ""
           }
          },
          "title": {
           "x": 0.05
          },
          "updatemenudefaults": {
           "bgcolor": "#506784",
           "borderwidth": 0
          },
          "xaxis": {
           "automargin": true,
           "gridcolor": "#283442",
           "linecolor": "#506784",
           "ticks": "",
           "title": {
            "standoff": 15
           },
           "zerolinecolor": "#283442",
           "zerolinewidth": 2
          },
          "yaxis": {
           "automargin": true,
           "gridcolor": "#283442",
           "linecolor": "#506784",
           "ticks": "",
           "title": {
            "standoff": 15
           },
           "zerolinecolor": "#283442",
           "zerolinewidth": 2
          }
         }
        },
        "title": {
         "text": "Sequence Length vs RUL Error"
        },
        "xaxis": {
         "anchor": "y",
         "domain": [
          0,
          1
         ],
         "title": {
          "text": "Sequence Length"
         }
        },
        "yaxis": {
         "anchor": "x",
         "domain": [
          0,
          1
         ],
         "title": {
          "text": "RUL Error"
         }
        }
       }
      }
     },
     "metadata": {},
     "output_type": "display_data"
    }
   ],
   "source": [
    "px.scatter(\n",
    "    x=rul_seqlen_err[0],\n",
    "    y=rul_seqlen_err[1],\n",
    "    color=rul_seqlen_err[2],\n",
    "    title='True RUL vs Sequence Length',\n",
    "    labels={'x': 'True RUL', 'y': 'Sequence Length', 'color': 'RUL Error'},\n",
    "    color_continuous_scale=px.colors.sequential.Viridis\n",
    ").show()\n",
    "px.scatter(\n",
    "    x=rul_seqlen_err[0],\n",
    "    y=rul_seqlen_err[2],\n",
    "    color=rul_seqlen_err[1],\n",
    "    title='True RUL vs RUL Error',\n",
    "    labels={'x': 'True RUL', 'y': 'RUL Error', 'color': 'Sequence Length'},\n",
    "    color_continuous_scale=px.colors.sequential.Viridis\n",
    ").show()\n",
    "px.scatter(\n",
    "    x=rul_seqlen_err[1],\n",
    "    y=rul_seqlen_err[2],\n",
    "    color=rul_seqlen_err[0],\n",
    "    title='Sequence Length vs RUL Error',\n",
    "    labels={'x': 'Sequence Length', 'y': 'RUL Error', 'color': 'True RUL'},\n",
    "    color_continuous_scale=px.colors.sequential.Viridis\n",
    ").show()\n"
   ]
  },
  {
   "cell_type": "code",
   "execution_count": null,
   "id": "7b5ee735",
   "metadata": {},
   "outputs": [],
   "source": [
    "fig = px.scatter_3d(\n",
    "    x=rul_seqlen_err[0],\n",
    "    y=rul_seqlen_err[1],\n",
    "    z=rul_seqlen_err[2],\n",
    "    title='3D Scatter Plot of True RUL, Sequence Length, and RUL Error',\n",
    "    labels={'x': 'True RUL', 'y': 'Sequence Length', 'z': 'RUL Error'},\n",
    "    color=rul_seqlen_err[2],\n",
    "    color_continuous_scale=px.colors.sequential.Viridis\n",
    ")\n",
    "fig.update_layout(\n",
    "    autosize=False,\n",
    "    width=700,\n",
    "    height=800\n",
    ")\n",
    "fig.show()"
   ]
  },
  {
   "cell_type": "markdown",
   "id": "953ad09b",
   "metadata": {},
   "source": [
    "<h3>Train Data</h3>"
   ]
  },
  {
   "cell_type": "code",
   "execution_count": 162,
   "id": "90754479",
   "metadata": {},
   "outputs": [],
   "source": [
    "### get the rul_seqlen_err for training data\n",
    "rul_seqlen_err = list()#np.zeros((100, 3))\n",
    "for unit_nr in range(1, num_train + 1):\n",
    "    X_train = group_train.get_group(unit_nr).iloc[:, 2:-1]\n",
    "    X_train_tensors = Variable(torch.Tensor(X_train.to_numpy()))\n",
    "    X_train_tensors = torch.reshape(X_train_tensors, (X_train_tensors.shape[0], 1, X_train_tensors.shape[1]))\n",
    "\n",
    "    predicted_rul = model(X_train_tensors).detach().numpy()[-1].item()\n",
    "    true_rul = 0\n",
    "    rul_err = true_rul - predicted_rul\n",
    "    rul_seqlen_err.append([true_rul, X_train.shape[0], rul_err, unit_nr, predicted_rul])\n",
    "\n",
    "rul_seqlen_err = np.array(rul_seqlen_err).T\n",
    "rul_seqlen_err[2] = np.abs(rul_seqlen_err[2])"
   ]
  },
  {
   "cell_type": "code",
   "execution_count": 163,
   "id": "8dd917ef",
   "metadata": {},
   "outputs": [
    {
     "data": {
      "application/vnd.plotly.v1+json": {
       "config": {
        "plotlyServerURL": "https://plot.ly"
       },
       "data": [
        {
         "hovertemplate": "True RUL=%{x}<br>Sequence Length=%{y}<br>RUL Error=%{marker.color}<extra></extra>",
         "legendgroup": "",
         "marker": {
          "color": [
           25.35736656188965,
           8.526482582092285,
           7.394343376159668,
           7.394343376159668,
           7.394343376159668,
           8.929693222045898,
           11.669757843017578,
           10.297883987426758,
           7.394343376159668,
           15.012523651123047,
           7.394343376159668,
           25.401498794555664,
           7.394343376159668,
           7.659584045410156,
           13.708118438720703,
           10.495737075805664,
           8.547075271606445,
           7.394343376159668,
           7.394343376159668,
           17.381654739379883,
           7.394343376159668,
           8.856792449951172,
           7.615303993225098,
           13.094722747802734,
           7.394343376159668,
           7.394343376159668,
           9.66632080078125,
           10.904556274414062,
           10.101181030273438,
           9.2979736328125,
           17.396156311035156,
           7.394343376159668,
           8.423694610595703,
           7.394343376159668,
           11.204658508300781,
           10.839788436889648,
           11.470357894897461,
           7.394343376159668,
           13.131414413452148,
           7.394343376159668,
           7.394343376159668,
           26.215213775634766,
           19.45738983154297,
           8.640968322753906,
           7.394343376159668,
           7.767226696014404,
           12.459299087524414,
           7.394343376159668,
           8.120216369628906,
           11.179777145385742,
           7.394343376159668,
           7.394343376159668,
           7.394343376159668,
           7.394343376159668,
           7.394343376159668,
           7.394343376159668,
           9.016075134277344,
           11.174680709838867,
           14.647451400756836,
           7.394343376159668,
           13.819156646728516,
           13.924201965332031,
           8.388092041015625,
           8.126161575317383,
           19.387853622436523,
           10.762937545776367,
           21.109764099121094,
           8.325838088989258,
           13.598440170288086,
           11.572351455688477,
           7.394343376159668,
           23.524877548217773,
           25.537599563598633,
           10.25178337097168,
           32.93370819091797,
           12.543336868286133,
           9.383132934570312,
           8.940185546875,
           8.355813026428223,
           8.032886505126953,
           14.037239074707031,
           7.394343376159668,
           11.263002395629883,
           13.351545333862305,
           18.253231048583984,
           15.139261245727539,
           30.327312469482422,
           7.394343376159668,
           7.394343376159668,
           10.268932342529297,
           10.933819770812988,
           7.5294976234436035,
           12.563888549804688,
           7.394343376159668,
           8.065729141235352,
           8.077967643737793,
           7.394343376159668,
           12.68966293334961,
           25.312379837036133,
           9.178688049316406
          ],
          "coloraxis": "coloraxis",
          "symbol": "circle"
         },
         "mode": "markers",
         "name": "",
         "orientation": "v",
         "showlegend": false,
         "type": "scatter",
         "x": [
          0,
          0,
          0,
          0,
          0,
          0,
          0,
          0,
          0,
          0,
          0,
          0,
          0,
          0,
          0,
          0,
          0,
          0,
          0,
          0,
          0,
          0,
          0,
          0,
          0,
          0,
          0,
          0,
          0,
          0,
          0,
          0,
          0,
          0,
          0,
          0,
          0,
          0,
          0,
          0,
          0,
          0,
          0,
          0,
          0,
          0,
          0,
          0,
          0,
          0,
          0,
          0,
          0,
          0,
          0,
          0,
          0,
          0,
          0,
          0,
          0,
          0,
          0,
          0,
          0,
          0,
          0,
          0,
          0,
          0,
          0,
          0,
          0,
          0,
          0,
          0,
          0,
          0,
          0,
          0,
          0,
          0,
          0,
          0,
          0,
          0,
          0,
          0,
          0,
          0,
          0,
          0,
          0,
          0,
          0,
          0,
          0,
          0,
          0,
          0
         ],
         "xaxis": "x",
         "y": [
          192,
          287,
          179,
          189,
          269,
          188,
          259,
          150,
          201,
          222,
          240,
          170,
          163,
          180,
          207,
          209,
          276,
          195,
          158,
          234,
          195,
          202,
          168,
          147,
          230,
          199,
          156,
          165,
          163,
          194,
          234,
          191,
          200,
          195,
          181,
          158,
          170,
          194,
          128,
          188,
          216,
          196,
          207,
          192,
          158,
          256,
          214,
          231,
          215,
          198,
          213,
          213,
          195,
          257,
          193,
          275,
          137,
          147,
          231,
          172,
          185,
          180,
          174,
          283,
          153,
          202,
          313,
          199,
          362,
          137,
          208,
          213,
          213,
          166,
          229,
          210,
          154,
          231,
          199,
          185,
          240,
          214,
          293,
          267,
          188,
          278,
          178,
          213,
          217,
          154,
          135,
          341,
          155,
          258,
          283,
          336,
          202,
          156,
          185,
          200
         ],
         "yaxis": "y"
        }
       ],
       "layout": {
        "coloraxis": {
         "colorbar": {
          "title": {
           "text": "RUL Error"
          }
         },
         "colorscale": [
          [
           0,
           "#440154"
          ],
          [
           0.1111111111111111,
           "#482878"
          ],
          [
           0.2222222222222222,
           "#3e4989"
          ],
          [
           0.3333333333333333,
           "#31688e"
          ],
          [
           0.4444444444444444,
           "#26828e"
          ],
          [
           0.5555555555555556,
           "#1f9e89"
          ],
          [
           0.6666666666666666,
           "#35b779"
          ],
          [
           0.7777777777777778,
           "#6ece58"
          ],
          [
           0.8888888888888888,
           "#b5de2b"
          ],
          [
           1,
           "#fde725"
          ]
         ]
        },
        "legend": {
         "tracegroupgap": 0
        },
        "template": {
         "data": {
          "bar": [
           {
            "error_x": {
             "color": "#f2f5fa"
            },
            "error_y": {
             "color": "#f2f5fa"
            },
            "marker": {
             "line": {
              "color": "rgb(17,17,17)",
              "width": 0.5
             },
             "pattern": {
              "fillmode": "overlay",
              "size": 10,
              "solidity": 0.2
             }
            },
            "type": "bar"
           }
          ],
          "barpolar": [
           {
            "marker": {
             "line": {
              "color": "rgb(17,17,17)",
              "width": 0.5
             },
             "pattern": {
              "fillmode": "overlay",
              "size": 10,
              "solidity": 0.2
             }
            },
            "type": "barpolar"
           }
          ],
          "carpet": [
           {
            "aaxis": {
             "endlinecolor": "#A2B1C6",
             "gridcolor": "#506784",
             "linecolor": "#506784",
             "minorgridcolor": "#506784",
             "startlinecolor": "#A2B1C6"
            },
            "baxis": {
             "endlinecolor": "#A2B1C6",
             "gridcolor": "#506784",
             "linecolor": "#506784",
             "minorgridcolor": "#506784",
             "startlinecolor": "#A2B1C6"
            },
            "type": "carpet"
           }
          ],
          "choropleth": [
           {
            "colorbar": {
             "outlinewidth": 0,
             "ticks": ""
            },
            "type": "choropleth"
           }
          ],
          "contour": [
           {
            "colorbar": {
             "outlinewidth": 0,
             "ticks": ""
            },
            "colorscale": [
             [
              0,
              "#0d0887"
             ],
             [
              0.1111111111111111,
              "#46039f"
             ],
             [
              0.2222222222222222,
              "#7201a8"
             ],
             [
              0.3333333333333333,
              "#9c179e"
             ],
             [
              0.4444444444444444,
              "#bd3786"
             ],
             [
              0.5555555555555556,
              "#d8576b"
             ],
             [
              0.6666666666666666,
              "#ed7953"
             ],
             [
              0.7777777777777778,
              "#fb9f3a"
             ],
             [
              0.8888888888888888,
              "#fdca26"
             ],
             [
              1,
              "#f0f921"
             ]
            ],
            "type": "contour"
           }
          ],
          "contourcarpet": [
           {
            "colorbar": {
             "outlinewidth": 0,
             "ticks": ""
            },
            "type": "contourcarpet"
           }
          ],
          "heatmap": [
           {
            "colorbar": {
             "outlinewidth": 0,
             "ticks": ""
            },
            "colorscale": [
             [
              0,
              "#0d0887"
             ],
             [
              0.1111111111111111,
              "#46039f"
             ],
             [
              0.2222222222222222,
              "#7201a8"
             ],
             [
              0.3333333333333333,
              "#9c179e"
             ],
             [
              0.4444444444444444,
              "#bd3786"
             ],
             [
              0.5555555555555556,
              "#d8576b"
             ],
             [
              0.6666666666666666,
              "#ed7953"
             ],
             [
              0.7777777777777778,
              "#fb9f3a"
             ],
             [
              0.8888888888888888,
              "#fdca26"
             ],
             [
              1,
              "#f0f921"
             ]
            ],
            "type": "heatmap"
           }
          ],
          "heatmapgl": [
           {
            "colorbar": {
             "outlinewidth": 0,
             "ticks": ""
            },
            "colorscale": [
             [
              0,
              "#0d0887"
             ],
             [
              0.1111111111111111,
              "#46039f"
             ],
             [
              0.2222222222222222,
              "#7201a8"
             ],
             [
              0.3333333333333333,
              "#9c179e"
             ],
             [
              0.4444444444444444,
              "#bd3786"
             ],
             [
              0.5555555555555556,
              "#d8576b"
             ],
             [
              0.6666666666666666,
              "#ed7953"
             ],
             [
              0.7777777777777778,
              "#fb9f3a"
             ],
             [
              0.8888888888888888,
              "#fdca26"
             ],
             [
              1,
              "#f0f921"
             ]
            ],
            "type": "heatmapgl"
           }
          ],
          "histogram": [
           {
            "marker": {
             "pattern": {
              "fillmode": "overlay",
              "size": 10,
              "solidity": 0.2
             }
            },
            "type": "histogram"
           }
          ],
          "histogram2d": [
           {
            "colorbar": {
             "outlinewidth": 0,
             "ticks": ""
            },
            "colorscale": [
             [
              0,
              "#0d0887"
             ],
             [
              0.1111111111111111,
              "#46039f"
             ],
             [
              0.2222222222222222,
              "#7201a8"
             ],
             [
              0.3333333333333333,
              "#9c179e"
             ],
             [
              0.4444444444444444,
              "#bd3786"
             ],
             [
              0.5555555555555556,
              "#d8576b"
             ],
             [
              0.6666666666666666,
              "#ed7953"
             ],
             [
              0.7777777777777778,
              "#fb9f3a"
             ],
             [
              0.8888888888888888,
              "#fdca26"
             ],
             [
              1,
              "#f0f921"
             ]
            ],
            "type": "histogram2d"
           }
          ],
          "histogram2dcontour": [
           {
            "colorbar": {
             "outlinewidth": 0,
             "ticks": ""
            },
            "colorscale": [
             [
              0,
              "#0d0887"
             ],
             [
              0.1111111111111111,
              "#46039f"
             ],
             [
              0.2222222222222222,
              "#7201a8"
             ],
             [
              0.3333333333333333,
              "#9c179e"
             ],
             [
              0.4444444444444444,
              "#bd3786"
             ],
             [
              0.5555555555555556,
              "#d8576b"
             ],
             [
              0.6666666666666666,
              "#ed7953"
             ],
             [
              0.7777777777777778,
              "#fb9f3a"
             ],
             [
              0.8888888888888888,
              "#fdca26"
             ],
             [
              1,
              "#f0f921"
             ]
            ],
            "type": "histogram2dcontour"
           }
          ],
          "mesh3d": [
           {
            "colorbar": {
             "outlinewidth": 0,
             "ticks": ""
            },
            "type": "mesh3d"
           }
          ],
          "parcoords": [
           {
            "line": {
             "colorbar": {
              "outlinewidth": 0,
              "ticks": ""
             }
            },
            "type": "parcoords"
           }
          ],
          "pie": [
           {
            "automargin": true,
            "type": "pie"
           }
          ],
          "scatter": [
           {
            "marker": {
             "line": {
              "color": "#283442"
             }
            },
            "type": "scatter"
           }
          ],
          "scatter3d": [
           {
            "line": {
             "colorbar": {
              "outlinewidth": 0,
              "ticks": ""
             }
            },
            "marker": {
             "colorbar": {
              "outlinewidth": 0,
              "ticks": ""
             }
            },
            "type": "scatter3d"
           }
          ],
          "scattercarpet": [
           {
            "marker": {
             "colorbar": {
              "outlinewidth": 0,
              "ticks": ""
             }
            },
            "type": "scattercarpet"
           }
          ],
          "scattergeo": [
           {
            "marker": {
             "colorbar": {
              "outlinewidth": 0,
              "ticks": ""
             }
            },
            "type": "scattergeo"
           }
          ],
          "scattergl": [
           {
            "marker": {
             "line": {
              "color": "#283442"
             }
            },
            "type": "scattergl"
           }
          ],
          "scattermapbox": [
           {
            "marker": {
             "colorbar": {
              "outlinewidth": 0,
              "ticks": ""
             }
            },
            "type": "scattermapbox"
           }
          ],
          "scatterpolar": [
           {
            "marker": {
             "colorbar": {
              "outlinewidth": 0,
              "ticks": ""
             }
            },
            "type": "scatterpolar"
           }
          ],
          "scatterpolargl": [
           {
            "marker": {
             "colorbar": {
              "outlinewidth": 0,
              "ticks": ""
             }
            },
            "type": "scatterpolargl"
           }
          ],
          "scatterternary": [
           {
            "marker": {
             "colorbar": {
              "outlinewidth": 0,
              "ticks": ""
             }
            },
            "type": "scatterternary"
           }
          ],
          "surface": [
           {
            "colorbar": {
             "outlinewidth": 0,
             "ticks": ""
            },
            "colorscale": [
             [
              0,
              "#0d0887"
             ],
             [
              0.1111111111111111,
              "#46039f"
             ],
             [
              0.2222222222222222,
              "#7201a8"
             ],
             [
              0.3333333333333333,
              "#9c179e"
             ],
             [
              0.4444444444444444,
              "#bd3786"
             ],
             [
              0.5555555555555556,
              "#d8576b"
             ],
             [
              0.6666666666666666,
              "#ed7953"
             ],
             [
              0.7777777777777778,
              "#fb9f3a"
             ],
             [
              0.8888888888888888,
              "#fdca26"
             ],
             [
              1,
              "#f0f921"
             ]
            ],
            "type": "surface"
           }
          ],
          "table": [
           {
            "cells": {
             "fill": {
              "color": "#506784"
             },
             "line": {
              "color": "rgb(17,17,17)"
             }
            },
            "header": {
             "fill": {
              "color": "#2a3f5f"
             },
             "line": {
              "color": "rgb(17,17,17)"
             }
            },
            "type": "table"
           }
          ]
         },
         "layout": {
          "annotationdefaults": {
           "arrowcolor": "#f2f5fa",
           "arrowhead": 0,
           "arrowwidth": 1
          },
          "autotypenumbers": "strict",
          "coloraxis": {
           "colorbar": {
            "outlinewidth": 0,
            "ticks": ""
           }
          },
          "colorscale": {
           "diverging": [
            [
             0,
             "#8e0152"
            ],
            [
             0.1,
             "#c51b7d"
            ],
            [
             0.2,
             "#de77ae"
            ],
            [
             0.3,
             "#f1b6da"
            ],
            [
             0.4,
             "#fde0ef"
            ],
            [
             0.5,
             "#f7f7f7"
            ],
            [
             0.6,
             "#e6f5d0"
            ],
            [
             0.7,
             "#b8e186"
            ],
            [
             0.8,
             "#7fbc41"
            ],
            [
             0.9,
             "#4d9221"
            ],
            [
             1,
             "#276419"
            ]
           ],
           "sequential": [
            [
             0,
             "#0d0887"
            ],
            [
             0.1111111111111111,
             "#46039f"
            ],
            [
             0.2222222222222222,
             "#7201a8"
            ],
            [
             0.3333333333333333,
             "#9c179e"
            ],
            [
             0.4444444444444444,
             "#bd3786"
            ],
            [
             0.5555555555555556,
             "#d8576b"
            ],
            [
             0.6666666666666666,
             "#ed7953"
            ],
            [
             0.7777777777777778,
             "#fb9f3a"
            ],
            [
             0.8888888888888888,
             "#fdca26"
            ],
            [
             1,
             "#f0f921"
            ]
           ],
           "sequentialminus": [
            [
             0,
             "#0d0887"
            ],
            [
             0.1111111111111111,
             "#46039f"
            ],
            [
             0.2222222222222222,
             "#7201a8"
            ],
            [
             0.3333333333333333,
             "#9c179e"
            ],
            [
             0.4444444444444444,
             "#bd3786"
            ],
            [
             0.5555555555555556,
             "#d8576b"
            ],
            [
             0.6666666666666666,
             "#ed7953"
            ],
            [
             0.7777777777777778,
             "#fb9f3a"
            ],
            [
             0.8888888888888888,
             "#fdca26"
            ],
            [
             1,
             "#f0f921"
            ]
           ]
          },
          "colorway": [
           "#636efa",
           "#EF553B",
           "#00cc96",
           "#ab63fa",
           "#FFA15A",
           "#19d3f3",
           "#FF6692",
           "#B6E880",
           "#FF97FF",
           "#FECB52"
          ],
          "font": {
           "color": "#f2f5fa"
          },
          "geo": {
           "bgcolor": "rgb(17,17,17)",
           "lakecolor": "rgb(17,17,17)",
           "landcolor": "rgb(17,17,17)",
           "showlakes": true,
           "showland": true,
           "subunitcolor": "#506784"
          },
          "hoverlabel": {
           "align": "left"
          },
          "hovermode": "closest",
          "mapbox": {
           "style": "dark"
          },
          "paper_bgcolor": "rgb(17,17,17)",
          "plot_bgcolor": "rgb(17,17,17)",
          "polar": {
           "angularaxis": {
            "gridcolor": "#506784",
            "linecolor": "#506784",
            "ticks": ""
           },
           "bgcolor": "rgb(17,17,17)",
           "radialaxis": {
            "gridcolor": "#506784",
            "linecolor": "#506784",
            "ticks": ""
           }
          },
          "scene": {
           "xaxis": {
            "backgroundcolor": "rgb(17,17,17)",
            "gridcolor": "#506784",
            "gridwidth": 2,
            "linecolor": "#506784",
            "showbackground": true,
            "ticks": "",
            "zerolinecolor": "#C8D4E3"
           },
           "yaxis": {
            "backgroundcolor": "rgb(17,17,17)",
            "gridcolor": "#506784",
            "gridwidth": 2,
            "linecolor": "#506784",
            "showbackground": true,
            "ticks": "",
            "zerolinecolor": "#C8D4E3"
           },
           "zaxis": {
            "backgroundcolor": "rgb(17,17,17)",
            "gridcolor": "#506784",
            "gridwidth": 2,
            "linecolor": "#506784",
            "showbackground": true,
            "ticks": "",
            "zerolinecolor": "#C8D4E3"
           }
          },
          "shapedefaults": {
           "line": {
            "color": "#f2f5fa"
           }
          },
          "sliderdefaults": {
           "bgcolor": "#C8D4E3",
           "bordercolor": "rgb(17,17,17)",
           "borderwidth": 1,
           "tickwidth": 0
          },
          "ternary": {
           "aaxis": {
            "gridcolor": "#506784",
            "linecolor": "#506784",
            "ticks": ""
           },
           "baxis": {
            "gridcolor": "#506784",
            "linecolor": "#506784",
            "ticks": ""
           },
           "bgcolor": "rgb(17,17,17)",
           "caxis": {
            "gridcolor": "#506784",
            "linecolor": "#506784",
            "ticks": ""
           }
          },
          "title": {
           "x": 0.05
          },
          "updatemenudefaults": {
           "bgcolor": "#506784",
           "borderwidth": 0
          },
          "xaxis": {
           "automargin": true,
           "gridcolor": "#283442",
           "linecolor": "#506784",
           "ticks": "",
           "title": {
            "standoff": 15
           },
           "zerolinecolor": "#283442",
           "zerolinewidth": 2
          },
          "yaxis": {
           "automargin": true,
           "gridcolor": "#283442",
           "linecolor": "#506784",
           "ticks": "",
           "title": {
            "standoff": 15
           },
           "zerolinecolor": "#283442",
           "zerolinewidth": 2
          }
         }
        },
        "title": {
         "text": "True RUL vs Sequence Length"
        },
        "xaxis": {
         "anchor": "y",
         "domain": [
          0,
          1
         ],
         "title": {
          "text": "True RUL"
         }
        },
        "yaxis": {
         "anchor": "x",
         "domain": [
          0,
          1
         ],
         "title": {
          "text": "Sequence Length"
         }
        }
       }
      }
     },
     "metadata": {},
     "output_type": "display_data"
    },
    {
     "data": {
      "application/vnd.plotly.v1+json": {
       "config": {
        "plotlyServerURL": "https://plot.ly"
       },
       "data": [
        {
         "hovertemplate": "True RUL=%{x}<br>RUL Error=%{y}<br>Sequence Length=%{marker.color}<extra></extra>",
         "legendgroup": "",
         "marker": {
          "color": [
           192,
           287,
           179,
           189,
           269,
           188,
           259,
           150,
           201,
           222,
           240,
           170,
           163,
           180,
           207,
           209,
           276,
           195,
           158,
           234,
           195,
           202,
           168,
           147,
           230,
           199,
           156,
           165,
           163,
           194,
           234,
           191,
           200,
           195,
           181,
           158,
           170,
           194,
           128,
           188,
           216,
           196,
           207,
           192,
           158,
           256,
           214,
           231,
           215,
           198,
           213,
           213,
           195,
           257,
           193,
           275,
           137,
           147,
           231,
           172,
           185,
           180,
           174,
           283,
           153,
           202,
           313,
           199,
           362,
           137,
           208,
           213,
           213,
           166,
           229,
           210,
           154,
           231,
           199,
           185,
           240,
           214,
           293,
           267,
           188,
           278,
           178,
           213,
           217,
           154,
           135,
           341,
           155,
           258,
           283,
           336,
           202,
           156,
           185,
           200
          ],
          "coloraxis": "coloraxis",
          "symbol": "circle"
         },
         "mode": "markers",
         "name": "",
         "orientation": "v",
         "showlegend": false,
         "type": "scatter",
         "x": [
          0,
          0,
          0,
          0,
          0,
          0,
          0,
          0,
          0,
          0,
          0,
          0,
          0,
          0,
          0,
          0,
          0,
          0,
          0,
          0,
          0,
          0,
          0,
          0,
          0,
          0,
          0,
          0,
          0,
          0,
          0,
          0,
          0,
          0,
          0,
          0,
          0,
          0,
          0,
          0,
          0,
          0,
          0,
          0,
          0,
          0,
          0,
          0,
          0,
          0,
          0,
          0,
          0,
          0,
          0,
          0,
          0,
          0,
          0,
          0,
          0,
          0,
          0,
          0,
          0,
          0,
          0,
          0,
          0,
          0,
          0,
          0,
          0,
          0,
          0,
          0,
          0,
          0,
          0,
          0,
          0,
          0,
          0,
          0,
          0,
          0,
          0,
          0,
          0,
          0,
          0,
          0,
          0,
          0,
          0,
          0,
          0,
          0,
          0,
          0
         ],
         "xaxis": "x",
         "y": [
          25.35736656188965,
          8.526482582092285,
          7.394343376159668,
          7.394343376159668,
          7.394343376159668,
          8.929693222045898,
          11.669757843017578,
          10.297883987426758,
          7.394343376159668,
          15.012523651123047,
          7.394343376159668,
          25.401498794555664,
          7.394343376159668,
          7.659584045410156,
          13.708118438720703,
          10.495737075805664,
          8.547075271606445,
          7.394343376159668,
          7.394343376159668,
          17.381654739379883,
          7.394343376159668,
          8.856792449951172,
          7.615303993225098,
          13.094722747802734,
          7.394343376159668,
          7.394343376159668,
          9.66632080078125,
          10.904556274414062,
          10.101181030273438,
          9.2979736328125,
          17.396156311035156,
          7.394343376159668,
          8.423694610595703,
          7.394343376159668,
          11.204658508300781,
          10.839788436889648,
          11.470357894897461,
          7.394343376159668,
          13.131414413452148,
          7.394343376159668,
          7.394343376159668,
          26.215213775634766,
          19.45738983154297,
          8.640968322753906,
          7.394343376159668,
          7.767226696014404,
          12.459299087524414,
          7.394343376159668,
          8.120216369628906,
          11.179777145385742,
          7.394343376159668,
          7.394343376159668,
          7.394343376159668,
          7.394343376159668,
          7.394343376159668,
          7.394343376159668,
          9.016075134277344,
          11.174680709838867,
          14.647451400756836,
          7.394343376159668,
          13.819156646728516,
          13.924201965332031,
          8.388092041015625,
          8.126161575317383,
          19.387853622436523,
          10.762937545776367,
          21.109764099121094,
          8.325838088989258,
          13.598440170288086,
          11.572351455688477,
          7.394343376159668,
          23.524877548217773,
          25.537599563598633,
          10.25178337097168,
          32.93370819091797,
          12.543336868286133,
          9.383132934570312,
          8.940185546875,
          8.355813026428223,
          8.032886505126953,
          14.037239074707031,
          7.394343376159668,
          11.263002395629883,
          13.351545333862305,
          18.253231048583984,
          15.139261245727539,
          30.327312469482422,
          7.394343376159668,
          7.394343376159668,
          10.268932342529297,
          10.933819770812988,
          7.5294976234436035,
          12.563888549804688,
          7.394343376159668,
          8.065729141235352,
          8.077967643737793,
          7.394343376159668,
          12.68966293334961,
          25.312379837036133,
          9.178688049316406
         ],
         "yaxis": "y"
        }
       ],
       "layout": {
        "coloraxis": {
         "colorbar": {
          "title": {
           "text": "Sequence Length"
          }
         },
         "colorscale": [
          [
           0,
           "#440154"
          ],
          [
           0.1111111111111111,
           "#482878"
          ],
          [
           0.2222222222222222,
           "#3e4989"
          ],
          [
           0.3333333333333333,
           "#31688e"
          ],
          [
           0.4444444444444444,
           "#26828e"
          ],
          [
           0.5555555555555556,
           "#1f9e89"
          ],
          [
           0.6666666666666666,
           "#35b779"
          ],
          [
           0.7777777777777778,
           "#6ece58"
          ],
          [
           0.8888888888888888,
           "#b5de2b"
          ],
          [
           1,
           "#fde725"
          ]
         ]
        },
        "legend": {
         "tracegroupgap": 0
        },
        "template": {
         "data": {
          "bar": [
           {
            "error_x": {
             "color": "#f2f5fa"
            },
            "error_y": {
             "color": "#f2f5fa"
            },
            "marker": {
             "line": {
              "color": "rgb(17,17,17)",
              "width": 0.5
             },
             "pattern": {
              "fillmode": "overlay",
              "size": 10,
              "solidity": 0.2
             }
            },
            "type": "bar"
           }
          ],
          "barpolar": [
           {
            "marker": {
             "line": {
              "color": "rgb(17,17,17)",
              "width": 0.5
             },
             "pattern": {
              "fillmode": "overlay",
              "size": 10,
              "solidity": 0.2
             }
            },
            "type": "barpolar"
           }
          ],
          "carpet": [
           {
            "aaxis": {
             "endlinecolor": "#A2B1C6",
             "gridcolor": "#506784",
             "linecolor": "#506784",
             "minorgridcolor": "#506784",
             "startlinecolor": "#A2B1C6"
            },
            "baxis": {
             "endlinecolor": "#A2B1C6",
             "gridcolor": "#506784",
             "linecolor": "#506784",
             "minorgridcolor": "#506784",
             "startlinecolor": "#A2B1C6"
            },
            "type": "carpet"
           }
          ],
          "choropleth": [
           {
            "colorbar": {
             "outlinewidth": 0,
             "ticks": ""
            },
            "type": "choropleth"
           }
          ],
          "contour": [
           {
            "colorbar": {
             "outlinewidth": 0,
             "ticks": ""
            },
            "colorscale": [
             [
              0,
              "#0d0887"
             ],
             [
              0.1111111111111111,
              "#46039f"
             ],
             [
              0.2222222222222222,
              "#7201a8"
             ],
             [
              0.3333333333333333,
              "#9c179e"
             ],
             [
              0.4444444444444444,
              "#bd3786"
             ],
             [
              0.5555555555555556,
              "#d8576b"
             ],
             [
              0.6666666666666666,
              "#ed7953"
             ],
             [
              0.7777777777777778,
              "#fb9f3a"
             ],
             [
              0.8888888888888888,
              "#fdca26"
             ],
             [
              1,
              "#f0f921"
             ]
            ],
            "type": "contour"
           }
          ],
          "contourcarpet": [
           {
            "colorbar": {
             "outlinewidth": 0,
             "ticks": ""
            },
            "type": "contourcarpet"
           }
          ],
          "heatmap": [
           {
            "colorbar": {
             "outlinewidth": 0,
             "ticks": ""
            },
            "colorscale": [
             [
              0,
              "#0d0887"
             ],
             [
              0.1111111111111111,
              "#46039f"
             ],
             [
              0.2222222222222222,
              "#7201a8"
             ],
             [
              0.3333333333333333,
              "#9c179e"
             ],
             [
              0.4444444444444444,
              "#bd3786"
             ],
             [
              0.5555555555555556,
              "#d8576b"
             ],
             [
              0.6666666666666666,
              "#ed7953"
             ],
             [
              0.7777777777777778,
              "#fb9f3a"
             ],
             [
              0.8888888888888888,
              "#fdca26"
             ],
             [
              1,
              "#f0f921"
             ]
            ],
            "type": "heatmap"
           }
          ],
          "heatmapgl": [
           {
            "colorbar": {
             "outlinewidth": 0,
             "ticks": ""
            },
            "colorscale": [
             [
              0,
              "#0d0887"
             ],
             [
              0.1111111111111111,
              "#46039f"
             ],
             [
              0.2222222222222222,
              "#7201a8"
             ],
             [
              0.3333333333333333,
              "#9c179e"
             ],
             [
              0.4444444444444444,
              "#bd3786"
             ],
             [
              0.5555555555555556,
              "#d8576b"
             ],
             [
              0.6666666666666666,
              "#ed7953"
             ],
             [
              0.7777777777777778,
              "#fb9f3a"
             ],
             [
              0.8888888888888888,
              "#fdca26"
             ],
             [
              1,
              "#f0f921"
             ]
            ],
            "type": "heatmapgl"
           }
          ],
          "histogram": [
           {
            "marker": {
             "pattern": {
              "fillmode": "overlay",
              "size": 10,
              "solidity": 0.2
             }
            },
            "type": "histogram"
           }
          ],
          "histogram2d": [
           {
            "colorbar": {
             "outlinewidth": 0,
             "ticks": ""
            },
            "colorscale": [
             [
              0,
              "#0d0887"
             ],
             [
              0.1111111111111111,
              "#46039f"
             ],
             [
              0.2222222222222222,
              "#7201a8"
             ],
             [
              0.3333333333333333,
              "#9c179e"
             ],
             [
              0.4444444444444444,
              "#bd3786"
             ],
             [
              0.5555555555555556,
              "#d8576b"
             ],
             [
              0.6666666666666666,
              "#ed7953"
             ],
             [
              0.7777777777777778,
              "#fb9f3a"
             ],
             [
              0.8888888888888888,
              "#fdca26"
             ],
             [
              1,
              "#f0f921"
             ]
            ],
            "type": "histogram2d"
           }
          ],
          "histogram2dcontour": [
           {
            "colorbar": {
             "outlinewidth": 0,
             "ticks": ""
            },
            "colorscale": [
             [
              0,
              "#0d0887"
             ],
             [
              0.1111111111111111,
              "#46039f"
             ],
             [
              0.2222222222222222,
              "#7201a8"
             ],
             [
              0.3333333333333333,
              "#9c179e"
             ],
             [
              0.4444444444444444,
              "#bd3786"
             ],
             [
              0.5555555555555556,
              "#d8576b"
             ],
             [
              0.6666666666666666,
              "#ed7953"
             ],
             [
              0.7777777777777778,
              "#fb9f3a"
             ],
             [
              0.8888888888888888,
              "#fdca26"
             ],
             [
              1,
              "#f0f921"
             ]
            ],
            "type": "histogram2dcontour"
           }
          ],
          "mesh3d": [
           {
            "colorbar": {
             "outlinewidth": 0,
             "ticks": ""
            },
            "type": "mesh3d"
           }
          ],
          "parcoords": [
           {
            "line": {
             "colorbar": {
              "outlinewidth": 0,
              "ticks": ""
             }
            },
            "type": "parcoords"
           }
          ],
          "pie": [
           {
            "automargin": true,
            "type": "pie"
           }
          ],
          "scatter": [
           {
            "marker": {
             "line": {
              "color": "#283442"
             }
            },
            "type": "scatter"
           }
          ],
          "scatter3d": [
           {
            "line": {
             "colorbar": {
              "outlinewidth": 0,
              "ticks": ""
             }
            },
            "marker": {
             "colorbar": {
              "outlinewidth": 0,
              "ticks": ""
             }
            },
            "type": "scatter3d"
           }
          ],
          "scattercarpet": [
           {
            "marker": {
             "colorbar": {
              "outlinewidth": 0,
              "ticks": ""
             }
            },
            "type": "scattercarpet"
           }
          ],
          "scattergeo": [
           {
            "marker": {
             "colorbar": {
              "outlinewidth": 0,
              "ticks": ""
             }
            },
            "type": "scattergeo"
           }
          ],
          "scattergl": [
           {
            "marker": {
             "line": {
              "color": "#283442"
             }
            },
            "type": "scattergl"
           }
          ],
          "scattermapbox": [
           {
            "marker": {
             "colorbar": {
              "outlinewidth": 0,
              "ticks": ""
             }
            },
            "type": "scattermapbox"
           }
          ],
          "scatterpolar": [
           {
            "marker": {
             "colorbar": {
              "outlinewidth": 0,
              "ticks": ""
             }
            },
            "type": "scatterpolar"
           }
          ],
          "scatterpolargl": [
           {
            "marker": {
             "colorbar": {
              "outlinewidth": 0,
              "ticks": ""
             }
            },
            "type": "scatterpolargl"
           }
          ],
          "scatterternary": [
           {
            "marker": {
             "colorbar": {
              "outlinewidth": 0,
              "ticks": ""
             }
            },
            "type": "scatterternary"
           }
          ],
          "surface": [
           {
            "colorbar": {
             "outlinewidth": 0,
             "ticks": ""
            },
            "colorscale": [
             [
              0,
              "#0d0887"
             ],
             [
              0.1111111111111111,
              "#46039f"
             ],
             [
              0.2222222222222222,
              "#7201a8"
             ],
             [
              0.3333333333333333,
              "#9c179e"
             ],
             [
              0.4444444444444444,
              "#bd3786"
             ],
             [
              0.5555555555555556,
              "#d8576b"
             ],
             [
              0.6666666666666666,
              "#ed7953"
             ],
             [
              0.7777777777777778,
              "#fb9f3a"
             ],
             [
              0.8888888888888888,
              "#fdca26"
             ],
             [
              1,
              "#f0f921"
             ]
            ],
            "type": "surface"
           }
          ],
          "table": [
           {
            "cells": {
             "fill": {
              "color": "#506784"
             },
             "line": {
              "color": "rgb(17,17,17)"
             }
            },
            "header": {
             "fill": {
              "color": "#2a3f5f"
             },
             "line": {
              "color": "rgb(17,17,17)"
             }
            },
            "type": "table"
           }
          ]
         },
         "layout": {
          "annotationdefaults": {
           "arrowcolor": "#f2f5fa",
           "arrowhead": 0,
           "arrowwidth": 1
          },
          "autotypenumbers": "strict",
          "coloraxis": {
           "colorbar": {
            "outlinewidth": 0,
            "ticks": ""
           }
          },
          "colorscale": {
           "diverging": [
            [
             0,
             "#8e0152"
            ],
            [
             0.1,
             "#c51b7d"
            ],
            [
             0.2,
             "#de77ae"
            ],
            [
             0.3,
             "#f1b6da"
            ],
            [
             0.4,
             "#fde0ef"
            ],
            [
             0.5,
             "#f7f7f7"
            ],
            [
             0.6,
             "#e6f5d0"
            ],
            [
             0.7,
             "#b8e186"
            ],
            [
             0.8,
             "#7fbc41"
            ],
            [
             0.9,
             "#4d9221"
            ],
            [
             1,
             "#276419"
            ]
           ],
           "sequential": [
            [
             0,
             "#0d0887"
            ],
            [
             0.1111111111111111,
             "#46039f"
            ],
            [
             0.2222222222222222,
             "#7201a8"
            ],
            [
             0.3333333333333333,
             "#9c179e"
            ],
            [
             0.4444444444444444,
             "#bd3786"
            ],
            [
             0.5555555555555556,
             "#d8576b"
            ],
            [
             0.6666666666666666,
             "#ed7953"
            ],
            [
             0.7777777777777778,
             "#fb9f3a"
            ],
            [
             0.8888888888888888,
             "#fdca26"
            ],
            [
             1,
             "#f0f921"
            ]
           ],
           "sequentialminus": [
            [
             0,
             "#0d0887"
            ],
            [
             0.1111111111111111,
             "#46039f"
            ],
            [
             0.2222222222222222,
             "#7201a8"
            ],
            [
             0.3333333333333333,
             "#9c179e"
            ],
            [
             0.4444444444444444,
             "#bd3786"
            ],
            [
             0.5555555555555556,
             "#d8576b"
            ],
            [
             0.6666666666666666,
             "#ed7953"
            ],
            [
             0.7777777777777778,
             "#fb9f3a"
            ],
            [
             0.8888888888888888,
             "#fdca26"
            ],
            [
             1,
             "#f0f921"
            ]
           ]
          },
          "colorway": [
           "#636efa",
           "#EF553B",
           "#00cc96",
           "#ab63fa",
           "#FFA15A",
           "#19d3f3",
           "#FF6692",
           "#B6E880",
           "#FF97FF",
           "#FECB52"
          ],
          "font": {
           "color": "#f2f5fa"
          },
          "geo": {
           "bgcolor": "rgb(17,17,17)",
           "lakecolor": "rgb(17,17,17)",
           "landcolor": "rgb(17,17,17)",
           "showlakes": true,
           "showland": true,
           "subunitcolor": "#506784"
          },
          "hoverlabel": {
           "align": "left"
          },
          "hovermode": "closest",
          "mapbox": {
           "style": "dark"
          },
          "paper_bgcolor": "rgb(17,17,17)",
          "plot_bgcolor": "rgb(17,17,17)",
          "polar": {
           "angularaxis": {
            "gridcolor": "#506784",
            "linecolor": "#506784",
            "ticks": ""
           },
           "bgcolor": "rgb(17,17,17)",
           "radialaxis": {
            "gridcolor": "#506784",
            "linecolor": "#506784",
            "ticks": ""
           }
          },
          "scene": {
           "xaxis": {
            "backgroundcolor": "rgb(17,17,17)",
            "gridcolor": "#506784",
            "gridwidth": 2,
            "linecolor": "#506784",
            "showbackground": true,
            "ticks": "",
            "zerolinecolor": "#C8D4E3"
           },
           "yaxis": {
            "backgroundcolor": "rgb(17,17,17)",
            "gridcolor": "#506784",
            "gridwidth": 2,
            "linecolor": "#506784",
            "showbackground": true,
            "ticks": "",
            "zerolinecolor": "#C8D4E3"
           },
           "zaxis": {
            "backgroundcolor": "rgb(17,17,17)",
            "gridcolor": "#506784",
            "gridwidth": 2,
            "linecolor": "#506784",
            "showbackground": true,
            "ticks": "",
            "zerolinecolor": "#C8D4E3"
           }
          },
          "shapedefaults": {
           "line": {
            "color": "#f2f5fa"
           }
          },
          "sliderdefaults": {
           "bgcolor": "#C8D4E3",
           "bordercolor": "rgb(17,17,17)",
           "borderwidth": 1,
           "tickwidth": 0
          },
          "ternary": {
           "aaxis": {
            "gridcolor": "#506784",
            "linecolor": "#506784",
            "ticks": ""
           },
           "baxis": {
            "gridcolor": "#506784",
            "linecolor": "#506784",
            "ticks": ""
           },
           "bgcolor": "rgb(17,17,17)",
           "caxis": {
            "gridcolor": "#506784",
            "linecolor": "#506784",
            "ticks": ""
           }
          },
          "title": {
           "x": 0.05
          },
          "updatemenudefaults": {
           "bgcolor": "#506784",
           "borderwidth": 0
          },
          "xaxis": {
           "automargin": true,
           "gridcolor": "#283442",
           "linecolor": "#506784",
           "ticks": "",
           "title": {
            "standoff": 15
           },
           "zerolinecolor": "#283442",
           "zerolinewidth": 2
          },
          "yaxis": {
           "automargin": true,
           "gridcolor": "#283442",
           "linecolor": "#506784",
           "ticks": "",
           "title": {
            "standoff": 15
           },
           "zerolinecolor": "#283442",
           "zerolinewidth": 2
          }
         }
        },
        "title": {
         "text": "True RUL vs RUL Error"
        },
        "xaxis": {
         "anchor": "y",
         "domain": [
          0,
          1
         ],
         "title": {
          "text": "True RUL"
         }
        },
        "yaxis": {
         "anchor": "x",
         "domain": [
          0,
          1
         ],
         "title": {
          "text": "RUL Error"
         }
        }
       }
      }
     },
     "metadata": {},
     "output_type": "display_data"
    },
    {
     "data": {
      "application/vnd.plotly.v1+json": {
       "config": {
        "plotlyServerURL": "https://plot.ly"
       },
       "data": [
        {
         "hovertemplate": "Sequence Length=%{x}<br>RUL Error=%{y}<br>True RUL=%{marker.color}<extra></extra>",
         "legendgroup": "",
         "marker": {
          "color": [
           0,
           0,
           0,
           0,
           0,
           0,
           0,
           0,
           0,
           0,
           0,
           0,
           0,
           0,
           0,
           0,
           0,
           0,
           0,
           0,
           0,
           0,
           0,
           0,
           0,
           0,
           0,
           0,
           0,
           0,
           0,
           0,
           0,
           0,
           0,
           0,
           0,
           0,
           0,
           0,
           0,
           0,
           0,
           0,
           0,
           0,
           0,
           0,
           0,
           0,
           0,
           0,
           0,
           0,
           0,
           0,
           0,
           0,
           0,
           0,
           0,
           0,
           0,
           0,
           0,
           0,
           0,
           0,
           0,
           0,
           0,
           0,
           0,
           0,
           0,
           0,
           0,
           0,
           0,
           0,
           0,
           0,
           0,
           0,
           0,
           0,
           0,
           0,
           0,
           0,
           0,
           0,
           0,
           0,
           0,
           0,
           0,
           0,
           0,
           0
          ],
          "coloraxis": "coloraxis",
          "symbol": "circle"
         },
         "mode": "markers",
         "name": "",
         "orientation": "v",
         "showlegend": false,
         "type": "scatter",
         "x": [
          192,
          287,
          179,
          189,
          269,
          188,
          259,
          150,
          201,
          222,
          240,
          170,
          163,
          180,
          207,
          209,
          276,
          195,
          158,
          234,
          195,
          202,
          168,
          147,
          230,
          199,
          156,
          165,
          163,
          194,
          234,
          191,
          200,
          195,
          181,
          158,
          170,
          194,
          128,
          188,
          216,
          196,
          207,
          192,
          158,
          256,
          214,
          231,
          215,
          198,
          213,
          213,
          195,
          257,
          193,
          275,
          137,
          147,
          231,
          172,
          185,
          180,
          174,
          283,
          153,
          202,
          313,
          199,
          362,
          137,
          208,
          213,
          213,
          166,
          229,
          210,
          154,
          231,
          199,
          185,
          240,
          214,
          293,
          267,
          188,
          278,
          178,
          213,
          217,
          154,
          135,
          341,
          155,
          258,
          283,
          336,
          202,
          156,
          185,
          200
         ],
         "xaxis": "x",
         "y": [
          25.35736656188965,
          8.526482582092285,
          7.394343376159668,
          7.394343376159668,
          7.394343376159668,
          8.929693222045898,
          11.669757843017578,
          10.297883987426758,
          7.394343376159668,
          15.012523651123047,
          7.394343376159668,
          25.401498794555664,
          7.394343376159668,
          7.659584045410156,
          13.708118438720703,
          10.495737075805664,
          8.547075271606445,
          7.394343376159668,
          7.394343376159668,
          17.381654739379883,
          7.394343376159668,
          8.856792449951172,
          7.615303993225098,
          13.094722747802734,
          7.394343376159668,
          7.394343376159668,
          9.66632080078125,
          10.904556274414062,
          10.101181030273438,
          9.2979736328125,
          17.396156311035156,
          7.394343376159668,
          8.423694610595703,
          7.394343376159668,
          11.204658508300781,
          10.839788436889648,
          11.470357894897461,
          7.394343376159668,
          13.131414413452148,
          7.394343376159668,
          7.394343376159668,
          26.215213775634766,
          19.45738983154297,
          8.640968322753906,
          7.394343376159668,
          7.767226696014404,
          12.459299087524414,
          7.394343376159668,
          8.120216369628906,
          11.179777145385742,
          7.394343376159668,
          7.394343376159668,
          7.394343376159668,
          7.394343376159668,
          7.394343376159668,
          7.394343376159668,
          9.016075134277344,
          11.174680709838867,
          14.647451400756836,
          7.394343376159668,
          13.819156646728516,
          13.924201965332031,
          8.388092041015625,
          8.126161575317383,
          19.387853622436523,
          10.762937545776367,
          21.109764099121094,
          8.325838088989258,
          13.598440170288086,
          11.572351455688477,
          7.394343376159668,
          23.524877548217773,
          25.537599563598633,
          10.25178337097168,
          32.93370819091797,
          12.543336868286133,
          9.383132934570312,
          8.940185546875,
          8.355813026428223,
          8.032886505126953,
          14.037239074707031,
          7.394343376159668,
          11.263002395629883,
          13.351545333862305,
          18.253231048583984,
          15.139261245727539,
          30.327312469482422,
          7.394343376159668,
          7.394343376159668,
          10.268932342529297,
          10.933819770812988,
          7.5294976234436035,
          12.563888549804688,
          7.394343376159668,
          8.065729141235352,
          8.077967643737793,
          7.394343376159668,
          12.68966293334961,
          25.312379837036133,
          9.178688049316406
         ],
         "yaxis": "y"
        }
       ],
       "layout": {
        "coloraxis": {
         "colorbar": {
          "title": {
           "text": "True RUL"
          }
         },
         "colorscale": [
          [
           0,
           "#440154"
          ],
          [
           0.1111111111111111,
           "#482878"
          ],
          [
           0.2222222222222222,
           "#3e4989"
          ],
          [
           0.3333333333333333,
           "#31688e"
          ],
          [
           0.4444444444444444,
           "#26828e"
          ],
          [
           0.5555555555555556,
           "#1f9e89"
          ],
          [
           0.6666666666666666,
           "#35b779"
          ],
          [
           0.7777777777777778,
           "#6ece58"
          ],
          [
           0.8888888888888888,
           "#b5de2b"
          ],
          [
           1,
           "#fde725"
          ]
         ]
        },
        "legend": {
         "tracegroupgap": 0
        },
        "template": {
         "data": {
          "bar": [
           {
            "error_x": {
             "color": "#f2f5fa"
            },
            "error_y": {
             "color": "#f2f5fa"
            },
            "marker": {
             "line": {
              "color": "rgb(17,17,17)",
              "width": 0.5
             },
             "pattern": {
              "fillmode": "overlay",
              "size": 10,
              "solidity": 0.2
             }
            },
            "type": "bar"
           }
          ],
          "barpolar": [
           {
            "marker": {
             "line": {
              "color": "rgb(17,17,17)",
              "width": 0.5
             },
             "pattern": {
              "fillmode": "overlay",
              "size": 10,
              "solidity": 0.2
             }
            },
            "type": "barpolar"
           }
          ],
          "carpet": [
           {
            "aaxis": {
             "endlinecolor": "#A2B1C6",
             "gridcolor": "#506784",
             "linecolor": "#506784",
             "minorgridcolor": "#506784",
             "startlinecolor": "#A2B1C6"
            },
            "baxis": {
             "endlinecolor": "#A2B1C6",
             "gridcolor": "#506784",
             "linecolor": "#506784",
             "minorgridcolor": "#506784",
             "startlinecolor": "#A2B1C6"
            },
            "type": "carpet"
           }
          ],
          "choropleth": [
           {
            "colorbar": {
             "outlinewidth": 0,
             "ticks": ""
            },
            "type": "choropleth"
           }
          ],
          "contour": [
           {
            "colorbar": {
             "outlinewidth": 0,
             "ticks": ""
            },
            "colorscale": [
             [
              0,
              "#0d0887"
             ],
             [
              0.1111111111111111,
              "#46039f"
             ],
             [
              0.2222222222222222,
              "#7201a8"
             ],
             [
              0.3333333333333333,
              "#9c179e"
             ],
             [
              0.4444444444444444,
              "#bd3786"
             ],
             [
              0.5555555555555556,
              "#d8576b"
             ],
             [
              0.6666666666666666,
              "#ed7953"
             ],
             [
              0.7777777777777778,
              "#fb9f3a"
             ],
             [
              0.8888888888888888,
              "#fdca26"
             ],
             [
              1,
              "#f0f921"
             ]
            ],
            "type": "contour"
           }
          ],
          "contourcarpet": [
           {
            "colorbar": {
             "outlinewidth": 0,
             "ticks": ""
            },
            "type": "contourcarpet"
           }
          ],
          "heatmap": [
           {
            "colorbar": {
             "outlinewidth": 0,
             "ticks": ""
            },
            "colorscale": [
             [
              0,
              "#0d0887"
             ],
             [
              0.1111111111111111,
              "#46039f"
             ],
             [
              0.2222222222222222,
              "#7201a8"
             ],
             [
              0.3333333333333333,
              "#9c179e"
             ],
             [
              0.4444444444444444,
              "#bd3786"
             ],
             [
              0.5555555555555556,
              "#d8576b"
             ],
             [
              0.6666666666666666,
              "#ed7953"
             ],
             [
              0.7777777777777778,
              "#fb9f3a"
             ],
             [
              0.8888888888888888,
              "#fdca26"
             ],
             [
              1,
              "#f0f921"
             ]
            ],
            "type": "heatmap"
           }
          ],
          "heatmapgl": [
           {
            "colorbar": {
             "outlinewidth": 0,
             "ticks": ""
            },
            "colorscale": [
             [
              0,
              "#0d0887"
             ],
             [
              0.1111111111111111,
              "#46039f"
             ],
             [
              0.2222222222222222,
              "#7201a8"
             ],
             [
              0.3333333333333333,
              "#9c179e"
             ],
             [
              0.4444444444444444,
              "#bd3786"
             ],
             [
              0.5555555555555556,
              "#d8576b"
             ],
             [
              0.6666666666666666,
              "#ed7953"
             ],
             [
              0.7777777777777778,
              "#fb9f3a"
             ],
             [
              0.8888888888888888,
              "#fdca26"
             ],
             [
              1,
              "#f0f921"
             ]
            ],
            "type": "heatmapgl"
           }
          ],
          "histogram": [
           {
            "marker": {
             "pattern": {
              "fillmode": "overlay",
              "size": 10,
              "solidity": 0.2
             }
            },
            "type": "histogram"
           }
          ],
          "histogram2d": [
           {
            "colorbar": {
             "outlinewidth": 0,
             "ticks": ""
            },
            "colorscale": [
             [
              0,
              "#0d0887"
             ],
             [
              0.1111111111111111,
              "#46039f"
             ],
             [
              0.2222222222222222,
              "#7201a8"
             ],
             [
              0.3333333333333333,
              "#9c179e"
             ],
             [
              0.4444444444444444,
              "#bd3786"
             ],
             [
              0.5555555555555556,
              "#d8576b"
             ],
             [
              0.6666666666666666,
              "#ed7953"
             ],
             [
              0.7777777777777778,
              "#fb9f3a"
             ],
             [
              0.8888888888888888,
              "#fdca26"
             ],
             [
              1,
              "#f0f921"
             ]
            ],
            "type": "histogram2d"
           }
          ],
          "histogram2dcontour": [
           {
            "colorbar": {
             "outlinewidth": 0,
             "ticks": ""
            },
            "colorscale": [
             [
              0,
              "#0d0887"
             ],
             [
              0.1111111111111111,
              "#46039f"
             ],
             [
              0.2222222222222222,
              "#7201a8"
             ],
             [
              0.3333333333333333,
              "#9c179e"
             ],
             [
              0.4444444444444444,
              "#bd3786"
             ],
             [
              0.5555555555555556,
              "#d8576b"
             ],
             [
              0.6666666666666666,
              "#ed7953"
             ],
             [
              0.7777777777777778,
              "#fb9f3a"
             ],
             [
              0.8888888888888888,
              "#fdca26"
             ],
             [
              1,
              "#f0f921"
             ]
            ],
            "type": "histogram2dcontour"
           }
          ],
          "mesh3d": [
           {
            "colorbar": {
             "outlinewidth": 0,
             "ticks": ""
            },
            "type": "mesh3d"
           }
          ],
          "parcoords": [
           {
            "line": {
             "colorbar": {
              "outlinewidth": 0,
              "ticks": ""
             }
            },
            "type": "parcoords"
           }
          ],
          "pie": [
           {
            "automargin": true,
            "type": "pie"
           }
          ],
          "scatter": [
           {
            "marker": {
             "line": {
              "color": "#283442"
             }
            },
            "type": "scatter"
           }
          ],
          "scatter3d": [
           {
            "line": {
             "colorbar": {
              "outlinewidth": 0,
              "ticks": ""
             }
            },
            "marker": {
             "colorbar": {
              "outlinewidth": 0,
              "ticks": ""
             }
            },
            "type": "scatter3d"
           }
          ],
          "scattercarpet": [
           {
            "marker": {
             "colorbar": {
              "outlinewidth": 0,
              "ticks": ""
             }
            },
            "type": "scattercarpet"
           }
          ],
          "scattergeo": [
           {
            "marker": {
             "colorbar": {
              "outlinewidth": 0,
              "ticks": ""
             }
            },
            "type": "scattergeo"
           }
          ],
          "scattergl": [
           {
            "marker": {
             "line": {
              "color": "#283442"
             }
            },
            "type": "scattergl"
           }
          ],
          "scattermapbox": [
           {
            "marker": {
             "colorbar": {
              "outlinewidth": 0,
              "ticks": ""
             }
            },
            "type": "scattermapbox"
           }
          ],
          "scatterpolar": [
           {
            "marker": {
             "colorbar": {
              "outlinewidth": 0,
              "ticks": ""
             }
            },
            "type": "scatterpolar"
           }
          ],
          "scatterpolargl": [
           {
            "marker": {
             "colorbar": {
              "outlinewidth": 0,
              "ticks": ""
             }
            },
            "type": "scatterpolargl"
           }
          ],
          "scatterternary": [
           {
            "marker": {
             "colorbar": {
              "outlinewidth": 0,
              "ticks": ""
             }
            },
            "type": "scatterternary"
           }
          ],
          "surface": [
           {
            "colorbar": {
             "outlinewidth": 0,
             "ticks": ""
            },
            "colorscale": [
             [
              0,
              "#0d0887"
             ],
             [
              0.1111111111111111,
              "#46039f"
             ],
             [
              0.2222222222222222,
              "#7201a8"
             ],
             [
              0.3333333333333333,
              "#9c179e"
             ],
             [
              0.4444444444444444,
              "#bd3786"
             ],
             [
              0.5555555555555556,
              "#d8576b"
             ],
             [
              0.6666666666666666,
              "#ed7953"
             ],
             [
              0.7777777777777778,
              "#fb9f3a"
             ],
             [
              0.8888888888888888,
              "#fdca26"
             ],
             [
              1,
              "#f0f921"
             ]
            ],
            "type": "surface"
           }
          ],
          "table": [
           {
            "cells": {
             "fill": {
              "color": "#506784"
             },
             "line": {
              "color": "rgb(17,17,17)"
             }
            },
            "header": {
             "fill": {
              "color": "#2a3f5f"
             },
             "line": {
              "color": "rgb(17,17,17)"
             }
            },
            "type": "table"
           }
          ]
         },
         "layout": {
          "annotationdefaults": {
           "arrowcolor": "#f2f5fa",
           "arrowhead": 0,
           "arrowwidth": 1
          },
          "autotypenumbers": "strict",
          "coloraxis": {
           "colorbar": {
            "outlinewidth": 0,
            "ticks": ""
           }
          },
          "colorscale": {
           "diverging": [
            [
             0,
             "#8e0152"
            ],
            [
             0.1,
             "#c51b7d"
            ],
            [
             0.2,
             "#de77ae"
            ],
            [
             0.3,
             "#f1b6da"
            ],
            [
             0.4,
             "#fde0ef"
            ],
            [
             0.5,
             "#f7f7f7"
            ],
            [
             0.6,
             "#e6f5d0"
            ],
            [
             0.7,
             "#b8e186"
            ],
            [
             0.8,
             "#7fbc41"
            ],
            [
             0.9,
             "#4d9221"
            ],
            [
             1,
             "#276419"
            ]
           ],
           "sequential": [
            [
             0,
             "#0d0887"
            ],
            [
             0.1111111111111111,
             "#46039f"
            ],
            [
             0.2222222222222222,
             "#7201a8"
            ],
            [
             0.3333333333333333,
             "#9c179e"
            ],
            [
             0.4444444444444444,
             "#bd3786"
            ],
            [
             0.5555555555555556,
             "#d8576b"
            ],
            [
             0.6666666666666666,
             "#ed7953"
            ],
            [
             0.7777777777777778,
             "#fb9f3a"
            ],
            [
             0.8888888888888888,
             "#fdca26"
            ],
            [
             1,
             "#f0f921"
            ]
           ],
           "sequentialminus": [
            [
             0,
             "#0d0887"
            ],
            [
             0.1111111111111111,
             "#46039f"
            ],
            [
             0.2222222222222222,
             "#7201a8"
            ],
            [
             0.3333333333333333,
             "#9c179e"
            ],
            [
             0.4444444444444444,
             "#bd3786"
            ],
            [
             0.5555555555555556,
             "#d8576b"
            ],
            [
             0.6666666666666666,
             "#ed7953"
            ],
            [
             0.7777777777777778,
             "#fb9f3a"
            ],
            [
             0.8888888888888888,
             "#fdca26"
            ],
            [
             1,
             "#f0f921"
            ]
           ]
          },
          "colorway": [
           "#636efa",
           "#EF553B",
           "#00cc96",
           "#ab63fa",
           "#FFA15A",
           "#19d3f3",
           "#FF6692",
           "#B6E880",
           "#FF97FF",
           "#FECB52"
          ],
          "font": {
           "color": "#f2f5fa"
          },
          "geo": {
           "bgcolor": "rgb(17,17,17)",
           "lakecolor": "rgb(17,17,17)",
           "landcolor": "rgb(17,17,17)",
           "showlakes": true,
           "showland": true,
           "subunitcolor": "#506784"
          },
          "hoverlabel": {
           "align": "left"
          },
          "hovermode": "closest",
          "mapbox": {
           "style": "dark"
          },
          "paper_bgcolor": "rgb(17,17,17)",
          "plot_bgcolor": "rgb(17,17,17)",
          "polar": {
           "angularaxis": {
            "gridcolor": "#506784",
            "linecolor": "#506784",
            "ticks": ""
           },
           "bgcolor": "rgb(17,17,17)",
           "radialaxis": {
            "gridcolor": "#506784",
            "linecolor": "#506784",
            "ticks": ""
           }
          },
          "scene": {
           "xaxis": {
            "backgroundcolor": "rgb(17,17,17)",
            "gridcolor": "#506784",
            "gridwidth": 2,
            "linecolor": "#506784",
            "showbackground": true,
            "ticks": "",
            "zerolinecolor": "#C8D4E3"
           },
           "yaxis": {
            "backgroundcolor": "rgb(17,17,17)",
            "gridcolor": "#506784",
            "gridwidth": 2,
            "linecolor": "#506784",
            "showbackground": true,
            "ticks": "",
            "zerolinecolor": "#C8D4E3"
           },
           "zaxis": {
            "backgroundcolor": "rgb(17,17,17)",
            "gridcolor": "#506784",
            "gridwidth": 2,
            "linecolor": "#506784",
            "showbackground": true,
            "ticks": "",
            "zerolinecolor": "#C8D4E3"
           }
          },
          "shapedefaults": {
           "line": {
            "color": "#f2f5fa"
           }
          },
          "sliderdefaults": {
           "bgcolor": "#C8D4E3",
           "bordercolor": "rgb(17,17,17)",
           "borderwidth": 1,
           "tickwidth": 0
          },
          "ternary": {
           "aaxis": {
            "gridcolor": "#506784",
            "linecolor": "#506784",
            "ticks": ""
           },
           "baxis": {
            "gridcolor": "#506784",
            "linecolor": "#506784",
            "ticks": ""
           },
           "bgcolor": "rgb(17,17,17)",
           "caxis": {
            "gridcolor": "#506784",
            "linecolor": "#506784",
            "ticks": ""
           }
          },
          "title": {
           "x": 0.05
          },
          "updatemenudefaults": {
           "bgcolor": "#506784",
           "borderwidth": 0
          },
          "xaxis": {
           "automargin": true,
           "gridcolor": "#283442",
           "linecolor": "#506784",
           "ticks": "",
           "title": {
            "standoff": 15
           },
           "zerolinecolor": "#283442",
           "zerolinewidth": 2
          },
          "yaxis": {
           "automargin": true,
           "gridcolor": "#283442",
           "linecolor": "#506784",
           "ticks": "",
           "title": {
            "standoff": 15
           },
           "zerolinecolor": "#283442",
           "zerolinewidth": 2
          }
         }
        },
        "title": {
         "text": "Sequence Length vs RUL Error"
        },
        "xaxis": {
         "anchor": "y",
         "domain": [
          0,
          1
         ],
         "title": {
          "text": "Sequence Length"
         }
        },
        "yaxis": {
         "anchor": "x",
         "domain": [
          0,
          1
         ],
         "title": {
          "text": "RUL Error"
         }
        }
       }
      }
     },
     "metadata": {},
     "output_type": "display_data"
    }
   ],
   "source": [
    "px.scatter(\n",
    "    x=rul_seqlen_err[0],\n",
    "    y=rul_seqlen_err[1],\n",
    "    color=rul_seqlen_err[2],\n",
    "    title='True RUL vs Sequence Length',\n",
    "    labels={'x': 'True RUL', 'y': 'Sequence Length', 'color': 'RUL Error'},\n",
    "    color_continuous_scale=px.colors.sequential.Viridis\n",
    ").show()\n",
    "px.scatter(\n",
    "    x=rul_seqlen_err[0],\n",
    "    y=rul_seqlen_err[2],\n",
    "    color=rul_seqlen_err[1],\n",
    "    title='True RUL vs RUL Error',\n",
    "    labels={'x': 'True RUL', 'y': 'RUL Error', 'color': 'Sequence Length'},\n",
    "    color_continuous_scale=px.colors.sequential.Viridis\n",
    ").show()\n",
    "px.scatter(\n",
    "    x=rul_seqlen_err[1],\n",
    "    y=rul_seqlen_err[2],\n",
    "    color=rul_seqlen_err[0],\n",
    "    title='Sequence Length vs RUL Error',\n",
    "    labels={'x': 'Sequence Length', 'y': 'RUL Error', 'color': 'True RUL'},\n",
    "    color_continuous_scale=px.colors.sequential.Viridis\n",
    ").show()"
   ]
  },
  {
   "cell_type": "code",
   "execution_count": 164,
   "id": "d1718f74",
   "metadata": {},
   "outputs": [
    {
     "data": {
      "application/vnd.plotly.v1+json": {
       "config": {
        "plotlyServerURL": "https://plot.ly"
       },
       "data": [
        {
         "hovertemplate": "True RUL=%{x}<br>Sequence Length=%{y}<br>RUL Error=%{z}<br>Unit_nr=%{marker.color}<extra></extra>",
         "legendgroup": "",
         "marker": {
          "color": [
           1,
           2,
           3,
           4,
           5,
           6,
           7,
           8,
           9,
           10,
           11,
           12,
           13,
           14,
           15,
           16,
           17,
           18,
           19,
           20,
           21,
           22,
           23,
           24,
           25,
           26,
           27,
           28,
           29,
           30,
           31,
           32,
           33,
           34,
           35,
           36,
           37,
           38,
           39,
           40,
           41,
           42,
           43,
           44,
           45,
           46,
           47,
           48,
           49,
           50,
           51,
           52,
           53,
           54,
           55,
           56,
           57,
           58,
           59,
           60,
           61,
           62,
           63,
           64,
           65,
           66,
           67,
           68,
           69,
           70,
           71,
           72,
           73,
           74,
           75,
           76,
           77,
           78,
           79,
           80,
           81,
           82,
           83,
           84,
           85,
           86,
           87,
           88,
           89,
           90,
           91,
           92,
           93,
           94,
           95,
           96,
           97,
           98,
           99,
           100
          ],
          "coloraxis": "coloraxis",
          "symbol": "circle"
         },
         "mode": "markers",
         "name": "",
         "scene": "scene",
         "showlegend": false,
         "type": "scatter3d",
         "x": [
          0,
          0,
          0,
          0,
          0,
          0,
          0,
          0,
          0,
          0,
          0,
          0,
          0,
          0,
          0,
          0,
          0,
          0,
          0,
          0,
          0,
          0,
          0,
          0,
          0,
          0,
          0,
          0,
          0,
          0,
          0,
          0,
          0,
          0,
          0,
          0,
          0,
          0,
          0,
          0,
          0,
          0,
          0,
          0,
          0,
          0,
          0,
          0,
          0,
          0,
          0,
          0,
          0,
          0,
          0,
          0,
          0,
          0,
          0,
          0,
          0,
          0,
          0,
          0,
          0,
          0,
          0,
          0,
          0,
          0,
          0,
          0,
          0,
          0,
          0,
          0,
          0,
          0,
          0,
          0,
          0,
          0,
          0,
          0,
          0,
          0,
          0,
          0,
          0,
          0,
          0,
          0,
          0,
          0,
          0,
          0,
          0,
          0,
          0,
          0
         ],
         "y": [
          192,
          287,
          179,
          189,
          269,
          188,
          259,
          150,
          201,
          222,
          240,
          170,
          163,
          180,
          207,
          209,
          276,
          195,
          158,
          234,
          195,
          202,
          168,
          147,
          230,
          199,
          156,
          165,
          163,
          194,
          234,
          191,
          200,
          195,
          181,
          158,
          170,
          194,
          128,
          188,
          216,
          196,
          207,
          192,
          158,
          256,
          214,
          231,
          215,
          198,
          213,
          213,
          195,
          257,
          193,
          275,
          137,
          147,
          231,
          172,
          185,
          180,
          174,
          283,
          153,
          202,
          313,
          199,
          362,
          137,
          208,
          213,
          213,
          166,
          229,
          210,
          154,
          231,
          199,
          185,
          240,
          214,
          293,
          267,
          188,
          278,
          178,
          213,
          217,
          154,
          135,
          341,
          155,
          258,
          283,
          336,
          202,
          156,
          185,
          200
         ],
         "z": [
          25.35736656188965,
          8.526482582092285,
          7.394343376159668,
          7.394343376159668,
          7.394343376159668,
          8.929693222045898,
          11.669757843017578,
          10.297883987426758,
          7.394343376159668,
          15.012523651123047,
          7.394343376159668,
          25.401498794555664,
          7.394343376159668,
          7.659584045410156,
          13.708118438720703,
          10.495737075805664,
          8.547075271606445,
          7.394343376159668,
          7.394343376159668,
          17.381654739379883,
          7.394343376159668,
          8.856792449951172,
          7.615303993225098,
          13.094722747802734,
          7.394343376159668,
          7.394343376159668,
          9.66632080078125,
          10.904556274414062,
          10.101181030273438,
          9.2979736328125,
          17.396156311035156,
          7.394343376159668,
          8.423694610595703,
          7.394343376159668,
          11.204658508300781,
          10.839788436889648,
          11.470357894897461,
          7.394343376159668,
          13.131414413452148,
          7.394343376159668,
          7.394343376159668,
          26.215213775634766,
          19.45738983154297,
          8.640968322753906,
          7.394343376159668,
          7.767226696014404,
          12.459299087524414,
          7.394343376159668,
          8.120216369628906,
          11.179777145385742,
          7.394343376159668,
          7.394343376159668,
          7.394343376159668,
          7.394343376159668,
          7.394343376159668,
          7.394343376159668,
          9.016075134277344,
          11.174680709838867,
          14.647451400756836,
          7.394343376159668,
          13.819156646728516,
          13.924201965332031,
          8.388092041015625,
          8.126161575317383,
          19.387853622436523,
          10.762937545776367,
          21.109764099121094,
          8.325838088989258,
          13.598440170288086,
          11.572351455688477,
          7.394343376159668,
          23.524877548217773,
          25.537599563598633,
          10.25178337097168,
          32.93370819091797,
          12.543336868286133,
          9.383132934570312,
          8.940185546875,
          8.355813026428223,
          8.032886505126953,
          14.037239074707031,
          7.394343376159668,
          11.263002395629883,
          13.351545333862305,
          18.253231048583984,
          15.139261245727539,
          30.327312469482422,
          7.394343376159668,
          7.394343376159668,
          10.268932342529297,
          10.933819770812988,
          7.5294976234436035,
          12.563888549804688,
          7.394343376159668,
          8.065729141235352,
          8.077967643737793,
          7.394343376159668,
          12.68966293334961,
          25.312379837036133,
          9.178688049316406
         ]
        }
       ],
       "layout": {
        "autosize": false,
        "coloraxis": {
         "colorbar": {
          "title": {
           "text": "Unit_nr"
          }
         },
         "colorscale": [
          [
           0,
           "#440154"
          ],
          [
           0.1111111111111111,
           "#482878"
          ],
          [
           0.2222222222222222,
           "#3e4989"
          ],
          [
           0.3333333333333333,
           "#31688e"
          ],
          [
           0.4444444444444444,
           "#26828e"
          ],
          [
           0.5555555555555556,
           "#1f9e89"
          ],
          [
           0.6666666666666666,
           "#35b779"
          ],
          [
           0.7777777777777778,
           "#6ece58"
          ],
          [
           0.8888888888888888,
           "#b5de2b"
          ],
          [
           1,
           "#fde725"
          ]
         ]
        },
        "height": 700,
        "legend": {
         "tracegroupgap": 0
        },
        "scene": {
         "domain": {
          "x": [
           0,
           1
          ],
          "y": [
           0,
           1
          ]
         },
         "xaxis": {
          "title": {
           "text": "True RUL"
          }
         },
         "yaxis": {
          "title": {
           "text": "Sequence Length"
          }
         },
         "zaxis": {
          "title": {
           "text": "RUL Error"
          }
         }
        },
        "template": {
         "data": {
          "bar": [
           {
            "error_x": {
             "color": "#f2f5fa"
            },
            "error_y": {
             "color": "#f2f5fa"
            },
            "marker": {
             "line": {
              "color": "rgb(17,17,17)",
              "width": 0.5
             },
             "pattern": {
              "fillmode": "overlay",
              "size": 10,
              "solidity": 0.2
             }
            },
            "type": "bar"
           }
          ],
          "barpolar": [
           {
            "marker": {
             "line": {
              "color": "rgb(17,17,17)",
              "width": 0.5
             },
             "pattern": {
              "fillmode": "overlay",
              "size": 10,
              "solidity": 0.2
             }
            },
            "type": "barpolar"
           }
          ],
          "carpet": [
           {
            "aaxis": {
             "endlinecolor": "#A2B1C6",
             "gridcolor": "#506784",
             "linecolor": "#506784",
             "minorgridcolor": "#506784",
             "startlinecolor": "#A2B1C6"
            },
            "baxis": {
             "endlinecolor": "#A2B1C6",
             "gridcolor": "#506784",
             "linecolor": "#506784",
             "minorgridcolor": "#506784",
             "startlinecolor": "#A2B1C6"
            },
            "type": "carpet"
           }
          ],
          "choropleth": [
           {
            "colorbar": {
             "outlinewidth": 0,
             "ticks": ""
            },
            "type": "choropleth"
           }
          ],
          "contour": [
           {
            "colorbar": {
             "outlinewidth": 0,
             "ticks": ""
            },
            "colorscale": [
             [
              0,
              "#0d0887"
             ],
             [
              0.1111111111111111,
              "#46039f"
             ],
             [
              0.2222222222222222,
              "#7201a8"
             ],
             [
              0.3333333333333333,
              "#9c179e"
             ],
             [
              0.4444444444444444,
              "#bd3786"
             ],
             [
              0.5555555555555556,
              "#d8576b"
             ],
             [
              0.6666666666666666,
              "#ed7953"
             ],
             [
              0.7777777777777778,
              "#fb9f3a"
             ],
             [
              0.8888888888888888,
              "#fdca26"
             ],
             [
              1,
              "#f0f921"
             ]
            ],
            "type": "contour"
           }
          ],
          "contourcarpet": [
           {
            "colorbar": {
             "outlinewidth": 0,
             "ticks": ""
            },
            "type": "contourcarpet"
           }
          ],
          "heatmap": [
           {
            "colorbar": {
             "outlinewidth": 0,
             "ticks": ""
            },
            "colorscale": [
             [
              0,
              "#0d0887"
             ],
             [
              0.1111111111111111,
              "#46039f"
             ],
             [
              0.2222222222222222,
              "#7201a8"
             ],
             [
              0.3333333333333333,
              "#9c179e"
             ],
             [
              0.4444444444444444,
              "#bd3786"
             ],
             [
              0.5555555555555556,
              "#d8576b"
             ],
             [
              0.6666666666666666,
              "#ed7953"
             ],
             [
              0.7777777777777778,
              "#fb9f3a"
             ],
             [
              0.8888888888888888,
              "#fdca26"
             ],
             [
              1,
              "#f0f921"
             ]
            ],
            "type": "heatmap"
           }
          ],
          "heatmapgl": [
           {
            "colorbar": {
             "outlinewidth": 0,
             "ticks": ""
            },
            "colorscale": [
             [
              0,
              "#0d0887"
             ],
             [
              0.1111111111111111,
              "#46039f"
             ],
             [
              0.2222222222222222,
              "#7201a8"
             ],
             [
              0.3333333333333333,
              "#9c179e"
             ],
             [
              0.4444444444444444,
              "#bd3786"
             ],
             [
              0.5555555555555556,
              "#d8576b"
             ],
             [
              0.6666666666666666,
              "#ed7953"
             ],
             [
              0.7777777777777778,
              "#fb9f3a"
             ],
             [
              0.8888888888888888,
              "#fdca26"
             ],
             [
              1,
              "#f0f921"
             ]
            ],
            "type": "heatmapgl"
           }
          ],
          "histogram": [
           {
            "marker": {
             "pattern": {
              "fillmode": "overlay",
              "size": 10,
              "solidity": 0.2
             }
            },
            "type": "histogram"
           }
          ],
          "histogram2d": [
           {
            "colorbar": {
             "outlinewidth": 0,
             "ticks": ""
            },
            "colorscale": [
             [
              0,
              "#0d0887"
             ],
             [
              0.1111111111111111,
              "#46039f"
             ],
             [
              0.2222222222222222,
              "#7201a8"
             ],
             [
              0.3333333333333333,
              "#9c179e"
             ],
             [
              0.4444444444444444,
              "#bd3786"
             ],
             [
              0.5555555555555556,
              "#d8576b"
             ],
             [
              0.6666666666666666,
              "#ed7953"
             ],
             [
              0.7777777777777778,
              "#fb9f3a"
             ],
             [
              0.8888888888888888,
              "#fdca26"
             ],
             [
              1,
              "#f0f921"
             ]
            ],
            "type": "histogram2d"
           }
          ],
          "histogram2dcontour": [
           {
            "colorbar": {
             "outlinewidth": 0,
             "ticks": ""
            },
            "colorscale": [
             [
              0,
              "#0d0887"
             ],
             [
              0.1111111111111111,
              "#46039f"
             ],
             [
              0.2222222222222222,
              "#7201a8"
             ],
             [
              0.3333333333333333,
              "#9c179e"
             ],
             [
              0.4444444444444444,
              "#bd3786"
             ],
             [
              0.5555555555555556,
              "#d8576b"
             ],
             [
              0.6666666666666666,
              "#ed7953"
             ],
             [
              0.7777777777777778,
              "#fb9f3a"
             ],
             [
              0.8888888888888888,
              "#fdca26"
             ],
             [
              1,
              "#f0f921"
             ]
            ],
            "type": "histogram2dcontour"
           }
          ],
          "mesh3d": [
           {
            "colorbar": {
             "outlinewidth": 0,
             "ticks": ""
            },
            "type": "mesh3d"
           }
          ],
          "parcoords": [
           {
            "line": {
             "colorbar": {
              "outlinewidth": 0,
              "ticks": ""
             }
            },
            "type": "parcoords"
           }
          ],
          "pie": [
           {
            "automargin": true,
            "type": "pie"
           }
          ],
          "scatter": [
           {
            "marker": {
             "line": {
              "color": "#283442"
             }
            },
            "type": "scatter"
           }
          ],
          "scatter3d": [
           {
            "line": {
             "colorbar": {
              "outlinewidth": 0,
              "ticks": ""
             }
            },
            "marker": {
             "colorbar": {
              "outlinewidth": 0,
              "ticks": ""
             }
            },
            "type": "scatter3d"
           }
          ],
          "scattercarpet": [
           {
            "marker": {
             "colorbar": {
              "outlinewidth": 0,
              "ticks": ""
             }
            },
            "type": "scattercarpet"
           }
          ],
          "scattergeo": [
           {
            "marker": {
             "colorbar": {
              "outlinewidth": 0,
              "ticks": ""
             }
            },
            "type": "scattergeo"
           }
          ],
          "scattergl": [
           {
            "marker": {
             "line": {
              "color": "#283442"
             }
            },
            "type": "scattergl"
           }
          ],
          "scattermapbox": [
           {
            "marker": {
             "colorbar": {
              "outlinewidth": 0,
              "ticks": ""
             }
            },
            "type": "scattermapbox"
           }
          ],
          "scatterpolar": [
           {
            "marker": {
             "colorbar": {
              "outlinewidth": 0,
              "ticks": ""
             }
            },
            "type": "scatterpolar"
           }
          ],
          "scatterpolargl": [
           {
            "marker": {
             "colorbar": {
              "outlinewidth": 0,
              "ticks": ""
             }
            },
            "type": "scatterpolargl"
           }
          ],
          "scatterternary": [
           {
            "marker": {
             "colorbar": {
              "outlinewidth": 0,
              "ticks": ""
             }
            },
            "type": "scatterternary"
           }
          ],
          "surface": [
           {
            "colorbar": {
             "outlinewidth": 0,
             "ticks": ""
            },
            "colorscale": [
             [
              0,
              "#0d0887"
             ],
             [
              0.1111111111111111,
              "#46039f"
             ],
             [
              0.2222222222222222,
              "#7201a8"
             ],
             [
              0.3333333333333333,
              "#9c179e"
             ],
             [
              0.4444444444444444,
              "#bd3786"
             ],
             [
              0.5555555555555556,
              "#d8576b"
             ],
             [
              0.6666666666666666,
              "#ed7953"
             ],
             [
              0.7777777777777778,
              "#fb9f3a"
             ],
             [
              0.8888888888888888,
              "#fdca26"
             ],
             [
              1,
              "#f0f921"
             ]
            ],
            "type": "surface"
           }
          ],
          "table": [
           {
            "cells": {
             "fill": {
              "color": "#506784"
             },
             "line": {
              "color": "rgb(17,17,17)"
             }
            },
            "header": {
             "fill": {
              "color": "#2a3f5f"
             },
             "line": {
              "color": "rgb(17,17,17)"
             }
            },
            "type": "table"
           }
          ]
         },
         "layout": {
          "annotationdefaults": {
           "arrowcolor": "#f2f5fa",
           "arrowhead": 0,
           "arrowwidth": 1
          },
          "autotypenumbers": "strict",
          "coloraxis": {
           "colorbar": {
            "outlinewidth": 0,
            "ticks": ""
           }
          },
          "colorscale": {
           "diverging": [
            [
             0,
             "#8e0152"
            ],
            [
             0.1,
             "#c51b7d"
            ],
            [
             0.2,
             "#de77ae"
            ],
            [
             0.3,
             "#f1b6da"
            ],
            [
             0.4,
             "#fde0ef"
            ],
            [
             0.5,
             "#f7f7f7"
            ],
            [
             0.6,
             "#e6f5d0"
            ],
            [
             0.7,
             "#b8e186"
            ],
            [
             0.8,
             "#7fbc41"
            ],
            [
             0.9,
             "#4d9221"
            ],
            [
             1,
             "#276419"
            ]
           ],
           "sequential": [
            [
             0,
             "#0d0887"
            ],
            [
             0.1111111111111111,
             "#46039f"
            ],
            [
             0.2222222222222222,
             "#7201a8"
            ],
            [
             0.3333333333333333,
             "#9c179e"
            ],
            [
             0.4444444444444444,
             "#bd3786"
            ],
            [
             0.5555555555555556,
             "#d8576b"
            ],
            [
             0.6666666666666666,
             "#ed7953"
            ],
            [
             0.7777777777777778,
             "#fb9f3a"
            ],
            [
             0.8888888888888888,
             "#fdca26"
            ],
            [
             1,
             "#f0f921"
            ]
           ],
           "sequentialminus": [
            [
             0,
             "#0d0887"
            ],
            [
             0.1111111111111111,
             "#46039f"
            ],
            [
             0.2222222222222222,
             "#7201a8"
            ],
            [
             0.3333333333333333,
             "#9c179e"
            ],
            [
             0.4444444444444444,
             "#bd3786"
            ],
            [
             0.5555555555555556,
             "#d8576b"
            ],
            [
             0.6666666666666666,
             "#ed7953"
            ],
            [
             0.7777777777777778,
             "#fb9f3a"
            ],
            [
             0.8888888888888888,
             "#fdca26"
            ],
            [
             1,
             "#f0f921"
            ]
           ]
          },
          "colorway": [
           "#636efa",
           "#EF553B",
           "#00cc96",
           "#ab63fa",
           "#FFA15A",
           "#19d3f3",
           "#FF6692",
           "#B6E880",
           "#FF97FF",
           "#FECB52"
          ],
          "font": {
           "color": "#f2f5fa"
          },
          "geo": {
           "bgcolor": "rgb(17,17,17)",
           "lakecolor": "rgb(17,17,17)",
           "landcolor": "rgb(17,17,17)",
           "showlakes": true,
           "showland": true,
           "subunitcolor": "#506784"
          },
          "hoverlabel": {
           "align": "left"
          },
          "hovermode": "closest",
          "mapbox": {
           "style": "dark"
          },
          "paper_bgcolor": "rgb(17,17,17)",
          "plot_bgcolor": "rgb(17,17,17)",
          "polar": {
           "angularaxis": {
            "gridcolor": "#506784",
            "linecolor": "#506784",
            "ticks": ""
           },
           "bgcolor": "rgb(17,17,17)",
           "radialaxis": {
            "gridcolor": "#506784",
            "linecolor": "#506784",
            "ticks": ""
           }
          },
          "scene": {
           "xaxis": {
            "backgroundcolor": "rgb(17,17,17)",
            "gridcolor": "#506784",
            "gridwidth": 2,
            "linecolor": "#506784",
            "showbackground": true,
            "ticks": "",
            "zerolinecolor": "#C8D4E3"
           },
           "yaxis": {
            "backgroundcolor": "rgb(17,17,17)",
            "gridcolor": "#506784",
            "gridwidth": 2,
            "linecolor": "#506784",
            "showbackground": true,
            "ticks": "",
            "zerolinecolor": "#C8D4E3"
           },
           "zaxis": {
            "backgroundcolor": "rgb(17,17,17)",
            "gridcolor": "#506784",
            "gridwidth": 2,
            "linecolor": "#506784",
            "showbackground": true,
            "ticks": "",
            "zerolinecolor": "#C8D4E3"
           }
          },
          "shapedefaults": {
           "line": {
            "color": "#f2f5fa"
           }
          },
          "sliderdefaults": {
           "bgcolor": "#C8D4E3",
           "bordercolor": "rgb(17,17,17)",
           "borderwidth": 1,
           "tickwidth": 0
          },
          "ternary": {
           "aaxis": {
            "gridcolor": "#506784",
            "linecolor": "#506784",
            "ticks": ""
           },
           "baxis": {
            "gridcolor": "#506784",
            "linecolor": "#506784",
            "ticks": ""
           },
           "bgcolor": "rgb(17,17,17)",
           "caxis": {
            "gridcolor": "#506784",
            "linecolor": "#506784",
            "ticks": ""
           }
          },
          "title": {
           "x": 0.05
          },
          "updatemenudefaults": {
           "bgcolor": "#506784",
           "borderwidth": 0
          },
          "xaxis": {
           "automargin": true,
           "gridcolor": "#283442",
           "linecolor": "#506784",
           "ticks": "",
           "title": {
            "standoff": 15
           },
           "zerolinecolor": "#283442",
           "zerolinewidth": 2
          },
          "yaxis": {
           "automargin": true,
           "gridcolor": "#283442",
           "linecolor": "#506784",
           "ticks": "",
           "title": {
            "standoff": 15
           },
           "zerolinecolor": "#283442",
           "zerolinewidth": 2
          }
         }
        },
        "title": {
         "text": "3D Scatter Plot of True RUL, Sequence Length, and RUL Error"
        },
        "width": 700
       }
      }
     },
     "metadata": {},
     "output_type": "display_data"
    }
   ],
   "source": [
    "fig = px.scatter_3d(\n",
    "    x=rul_seqlen_err[0],\n",
    "    y=rul_seqlen_err[1],\n",
    "    z=rul_seqlen_err[2],\n",
    "    title='3D Scatter Plot of True RUL, Sequence Length, and RUL Error',\n",
    "    labels={'x': 'True RUL', 'y': 'Sequence Length', 'z': 'RUL Error', 'color': 'Unit_nr'},\n",
    "    color=rul_seqlen_err[3],\n",
    "    color_continuous_scale=px.colors.sequential.Viridis\n",
    ")\n",
    "fig.update_layout(\n",
    "    autosize=False,\n",
    "    width=700,\n",
    "    height=700\n",
    ")\n",
    "fig.show()"
   ]
  },
  {
   "cell_type": "markdown",
   "id": "cbe67118",
   "metadata": {},
   "source": [
    "<h2>Normalising Test Data w.r.t. stats of Train data</h2>"
   ]
  },
  {
   "cell_type": "code",
   "execution_count": 168,
   "id": "bb77a8b8",
   "metadata": {},
   "outputs": [],
   "source": [
    "# load data FD001.py\n",
    "# define filepath to read data\n",
    "dir_path = './CMAPSSData/'\n",
    "\n",
    "# define column names for easy indexing\n",
    "index_names = ['unit_nr', 'time_cycles']\n",
    "setting_names = ['setting_1', 'setting_2', 'setting_3']\n",
    "sensor_names = ['s_{}'.format(i) for i in range(1, 22)]\n",
    "col_names = index_names + setting_names + sensor_names\n",
    "\n",
    "train_data = pd.read_csv((dir_path + 'train_FD001.txt'), sep='\\s+', header=None, names=col_names)\n",
    "test_data = pd.read_csv((dir_path + 'test_FD001.txt'), sep='\\s+', header=None, names=col_names)\n",
    "    \n",
    "# drop non-informative features, derived from EDA\n",
    "drop_sensors = ['s_1', 's_5', 's_10', 's_16', 's_18', 's_19']\n",
    "drop_labels = setting_names + drop_sensors\n",
    "\n",
    "train_data.drop(labels=drop_labels, axis=1, inplace=True)\n",
    "data = train_data.iloc[:, 2:]\n",
    "train_max, train_min = data.max(), data.min()\n",
    "\n",
    "test_data.drop(labels=drop_labels, axis=1, inplace=True)\n",
    "title = test_data.iloc[:, 0:2]\n",
    "data = test_data.iloc[:, 2:]\n",
    "data_norm = (data - train_min) / (train_max - train_min)\n",
    "test_norm = pd.concat([title, data_norm], axis=1)\n",
    "group_test_new = test_norm.groupby(by=\"unit_nr\")"
   ]
  },
  {
   "cell_type": "code",
   "execution_count": 198,
   "id": "5135dd41",
   "metadata": {},
   "outputs": [
    {
     "name": "stderr",
     "output_type": "stream",
     "text": [
      "/var/folders/fq/rhmrwqtn21nbjh5rjcghp6400000gn/T/ipykernel_14562/2422412391.py:13: DeprecationWarning:\n",
      "\n",
      "Conversion of an array with ndim > 0 to a scalar is deprecated, and will error in future. Ensure you extract a single element from your array before performing this operation. (Deprecated NumPy 1.25.)\n",
      "\n"
     ]
    },
    {
     "data": {
      "application/vnd.plotly.v1+json": {
       "config": {
        "plotlyServerURL": "https://plot.ly"
       },
       "data": [
        {
         "hovertemplate": "Time=%{x}<br>RUL=%{y}<extra></extra>",
         "legendgroup": "",
         "line": {
          "color": "#636efa",
          "dash": "solid"
         },
         "marker": {
          "symbol": "circle"
         },
         "mode": "lines",
         "name": "",
         "orientation": "v",
         "showlegend": false,
         "type": "scatter",
         "x": [
          1,
          2,
          3,
          4,
          5,
          6,
          7,
          8,
          9,
          10,
          11,
          12,
          13,
          14,
          15,
          16,
          17,
          18,
          19,
          20,
          21,
          22,
          23,
          24,
          25,
          26,
          27,
          28,
          29,
          30,
          31,
          32,
          33,
          34,
          35,
          36,
          37,
          38,
          39,
          40,
          41,
          42,
          43,
          44,
          45,
          46,
          47,
          48,
          49,
          50,
          51,
          52,
          53,
          54,
          55,
          56,
          57,
          58,
          59,
          60,
          61,
          62,
          63,
          64,
          65,
          66,
          67,
          68,
          69,
          70,
          71,
          72,
          73,
          74,
          75,
          76,
          77,
          78,
          79,
          80,
          81,
          82,
          83,
          84,
          85,
          86,
          87,
          88,
          89,
          90,
          91,
          92,
          93,
          94,
          95,
          96,
          97,
          98,
          99,
          100,
          101,
          102,
          103,
          104,
          105,
          106,
          107,
          108,
          109,
          110,
          111,
          112,
          113,
          114,
          115,
          116,
          117,
          118,
          119,
          120,
          121,
          122,
          123,
          124,
          125,
          126,
          127,
          128,
          129,
          130,
          131,
          132,
          133,
          134,
          135,
          136,
          137,
          138,
          139,
          140,
          141,
          142,
          143,
          144,
          145,
          146,
          147,
          148,
          149,
          150,
          151,
          152,
          153,
          154,
          155,
          156,
          157,
          158,
          159,
          160,
          161,
          162,
          163,
          164,
          165,
          166
         ],
         "xaxis": "x",
         "y": [
          260,
          259,
          258,
          257,
          256,
          255,
          254,
          253,
          252,
          251,
          250,
          249,
          248,
          247,
          246,
          245,
          244,
          243,
          242,
          241,
          240,
          239,
          238,
          237,
          236,
          235,
          234,
          233,
          232,
          231,
          230,
          229,
          228,
          227,
          226,
          225,
          224,
          223,
          222,
          221,
          220,
          219,
          218,
          217,
          216,
          215,
          214,
          213,
          212,
          211,
          210,
          209,
          208,
          207,
          206,
          205,
          204,
          203,
          202,
          201,
          200,
          199,
          198,
          197,
          196,
          195,
          194,
          193,
          192,
          191,
          190,
          189,
          188,
          187,
          186,
          185,
          184,
          183,
          182,
          181,
          180,
          179,
          178,
          177,
          176,
          175,
          174,
          173,
          172,
          171,
          170,
          169,
          168,
          167,
          166,
          165,
          164,
          163,
          162,
          161,
          160,
          159,
          158,
          157,
          156,
          155,
          154,
          153,
          152,
          151,
          150,
          149,
          148,
          147,
          146,
          145,
          144,
          143,
          142,
          141,
          140,
          139,
          138,
          137,
          136,
          135,
          134,
          133,
          132,
          131,
          130,
          129,
          128,
          127,
          126,
          125,
          124,
          123,
          122,
          121,
          120,
          119,
          118,
          117,
          116,
          115,
          114,
          113,
          112,
          111,
          110,
          109,
          108,
          107,
          106,
          105,
          104,
          103,
          102,
          101,
          100,
          99,
          98,
          97,
          96,
          95
         ],
         "yaxis": "y"
        },
        {
         "mode": "lines",
         "name": "Predicted RUL",
         "type": "scatter",
         "x": [
          1,
          2,
          3,
          4,
          5,
          6,
          7,
          8,
          9,
          10,
          11,
          12,
          13,
          14,
          15,
          16,
          17,
          18,
          19,
          20,
          21,
          22,
          23,
          24,
          25,
          26,
          27,
          28,
          29,
          30,
          31,
          32,
          33,
          34,
          35,
          36,
          37,
          38,
          39,
          40,
          41,
          42,
          43,
          44,
          45,
          46,
          47,
          48,
          49,
          50,
          51,
          52,
          53,
          54,
          55,
          56,
          57,
          58,
          59,
          60,
          61,
          62,
          63,
          64,
          65,
          66,
          67,
          68,
          69,
          70,
          71,
          72,
          73,
          74,
          75,
          76,
          77,
          78,
          79,
          80,
          81,
          82,
          83,
          84,
          85,
          86,
          87,
          88,
          89,
          90,
          91,
          92,
          93,
          94,
          95,
          96,
          97,
          98,
          99,
          100,
          101,
          102,
          103,
          104,
          105,
          106,
          107,
          108,
          109,
          110,
          111,
          112,
          113,
          114,
          115,
          116,
          117,
          118,
          119,
          120,
          121,
          122,
          123,
          124,
          125,
          126,
          127,
          128,
          129,
          130,
          131,
          132,
          133,
          134,
          135,
          136,
          137,
          138,
          139,
          140,
          141,
          142,
          143,
          144,
          145,
          146,
          147,
          148,
          149,
          150,
          151,
          152,
          153,
          154,
          155,
          156,
          157,
          158,
          159,
          160,
          161,
          162,
          163,
          164,
          165,
          166
         ],
         "y": [
          118.47679901123047,
          108.11224365234375,
          118.62483978271484,
          129.69378662109375,
          127.69384002685547,
          115.59706115722656,
          119.70014953613281,
          107.6198959350586,
          123.78914642333984,
          115.28899383544922,
          125.41497802734375,
          95.3748550415039,
          128.56539916992188,
          121.72222900390625,
          120.89173126220703,
          123.33387756347656,
          114.69139099121094,
          106.3036117553711,
          122.80823516845703,
          124.1269302368164,
          117.26274108886719,
          106.62825775146484,
          111.2850570678711,
          119.73311614990234,
          116.43890380859375,
          114.35940551757812,
          117.96411895751953,
          114.75872039794922,
          126.52601623535156,
          119.70201110839844,
          92.33995819091797,
          106.44786834716797,
          119.64469909667969,
          121.0069351196289,
          120.58750915527344,
          106.57626342773438,
          118.02465057373047,
          108.09600067138672,
          124.39788818359375,
          111.40262603759766,
          113.48856353759766,
          125.36610412597656,
          107.46461486816406,
          113.79370880126953,
          114.5733871459961,
          124.93463134765625,
          117.44710540771484,
          115.63623046875,
          127.02348327636719,
          91.0887222290039,
          125.89913940429688,
          104.55496978759766,
          107.0677261352539,
          113.47894287109375,
          94.58441925048828,
          101.9095230102539,
          114.19486999511719,
          108.10493469238281,
          116.27254486083984,
          121.16658782958984,
          115.00007629394531,
          114.34432220458984,
          101.71588134765625,
          119.23118591308594,
          119.6634292602539,
          111.08023071289062,
          106.92346954345703,
          114.54993438720703,
          113.62841033935547,
          109.63465881347656,
          112.76689147949219,
          117.35631561279297,
          102.65633392333984,
          106.12236785888672,
          111.53719329833984,
          97.21067810058594,
          126.18028259277344,
          112.54341888427734,
          101.3725357055664,
          108.08108520507812,
          107.18743133544922,
          110.03533172607422,
          116.1346664428711,
          100.0056381225586,
          112.86428833007812,
          105.19217681884766,
          119.04299926757812,
          115.94525146484375,
          119.08594512939453,
          99.13032531738281,
          120.40694427490234,
          117.16468048095703,
          109.77609252929688,
          121.21839904785156,
          96.62103271484375,
          109.59246826171875,
          103.1527328491211,
          110.2331314086914,
          108.9633560180664,
          103.13025665283203,
          108.74797058105469,
          107.0301513671875,
          116.36579132080078,
          96.69530487060547,
          101.69548034667969,
          111.95547485351562,
          110.74018859863281,
          106.84859466552734,
          84.91803741455078,
          116.5881576538086,
          101.24024200439453,
          104.84934997558594,
          106.51150512695312,
          94.94631958007812,
          113.54509735107422,
          97.41868591308594,
          105.81922912597656,
          116.7005386352539,
          111.40900421142578,
          103.07203674316406,
          111.82572174072266,
          98.75077819824219,
          110.51073455810547,
          111.16519927978516,
          115.19220733642578,
          92.05174255371094,
          98.74576568603516,
          112.38837432861328,
          101.40043640136719,
          89.10673522949219,
          105.69931030273438,
          112.26611328125,
          107.18737030029297,
          103.64879608154297,
          111.86117553710938,
          101.03157806396484,
          99.76696014404297,
          112.93637084960938,
          97.30176544189453,
          96.34478759765625,
          79.99275970458984,
          100.1042709350586,
          104.50897216796875,
          84.99327850341797,
          83.28375244140625,
          116.5946044921875,
          111.88063049316406,
          114.39472961425781,
          102.03843688964844,
          107.89625549316406,
          77.15451049804688,
          91.40533447265625,
          86.88148498535156,
          101.72278594970703,
          105.57469177246094,
          110.89578247070312,
          74.50236511230469,
          88.9432601928711,
          105.60952758789062,
          88.3983383178711,
          94.29705810546875,
          98.17073059082031,
          90.19697570800781,
          98.84209442138672,
          73.91993713378906,
          76.81489562988281
         ]
        }
       ],
       "layout": {
        "legend": {
         "tracegroupgap": 0,
         "x": 0.1,
         "xanchor": "left",
         "y": 0.1,
         "yanchor": "bottom"
        },
        "template": {
         "data": {
          "bar": [
           {
            "error_x": {
             "color": "#f2f5fa"
            },
            "error_y": {
             "color": "#f2f5fa"
            },
            "marker": {
             "line": {
              "color": "rgb(17,17,17)",
              "width": 0.5
             },
             "pattern": {
              "fillmode": "overlay",
              "size": 10,
              "solidity": 0.2
             }
            },
            "type": "bar"
           }
          ],
          "barpolar": [
           {
            "marker": {
             "line": {
              "color": "rgb(17,17,17)",
              "width": 0.5
             },
             "pattern": {
              "fillmode": "overlay",
              "size": 10,
              "solidity": 0.2
             }
            },
            "type": "barpolar"
           }
          ],
          "carpet": [
           {
            "aaxis": {
             "endlinecolor": "#A2B1C6",
             "gridcolor": "#506784",
             "linecolor": "#506784",
             "minorgridcolor": "#506784",
             "startlinecolor": "#A2B1C6"
            },
            "baxis": {
             "endlinecolor": "#A2B1C6",
             "gridcolor": "#506784",
             "linecolor": "#506784",
             "minorgridcolor": "#506784",
             "startlinecolor": "#A2B1C6"
            },
            "type": "carpet"
           }
          ],
          "choropleth": [
           {
            "colorbar": {
             "outlinewidth": 0,
             "ticks": ""
            },
            "type": "choropleth"
           }
          ],
          "contour": [
           {
            "colorbar": {
             "outlinewidth": 0,
             "ticks": ""
            },
            "colorscale": [
             [
              0,
              "#0d0887"
             ],
             [
              0.1111111111111111,
              "#46039f"
             ],
             [
              0.2222222222222222,
              "#7201a8"
             ],
             [
              0.3333333333333333,
              "#9c179e"
             ],
             [
              0.4444444444444444,
              "#bd3786"
             ],
             [
              0.5555555555555556,
              "#d8576b"
             ],
             [
              0.6666666666666666,
              "#ed7953"
             ],
             [
              0.7777777777777778,
              "#fb9f3a"
             ],
             [
              0.8888888888888888,
              "#fdca26"
             ],
             [
              1,
              "#f0f921"
             ]
            ],
            "type": "contour"
           }
          ],
          "contourcarpet": [
           {
            "colorbar": {
             "outlinewidth": 0,
             "ticks": ""
            },
            "type": "contourcarpet"
           }
          ],
          "heatmap": [
           {
            "colorbar": {
             "outlinewidth": 0,
             "ticks": ""
            },
            "colorscale": [
             [
              0,
              "#0d0887"
             ],
             [
              0.1111111111111111,
              "#46039f"
             ],
             [
              0.2222222222222222,
              "#7201a8"
             ],
             [
              0.3333333333333333,
              "#9c179e"
             ],
             [
              0.4444444444444444,
              "#bd3786"
             ],
             [
              0.5555555555555556,
              "#d8576b"
             ],
             [
              0.6666666666666666,
              "#ed7953"
             ],
             [
              0.7777777777777778,
              "#fb9f3a"
             ],
             [
              0.8888888888888888,
              "#fdca26"
             ],
             [
              1,
              "#f0f921"
             ]
            ],
            "type": "heatmap"
           }
          ],
          "heatmapgl": [
           {
            "colorbar": {
             "outlinewidth": 0,
             "ticks": ""
            },
            "colorscale": [
             [
              0,
              "#0d0887"
             ],
             [
              0.1111111111111111,
              "#46039f"
             ],
             [
              0.2222222222222222,
              "#7201a8"
             ],
             [
              0.3333333333333333,
              "#9c179e"
             ],
             [
              0.4444444444444444,
              "#bd3786"
             ],
             [
              0.5555555555555556,
              "#d8576b"
             ],
             [
              0.6666666666666666,
              "#ed7953"
             ],
             [
              0.7777777777777778,
              "#fb9f3a"
             ],
             [
              0.8888888888888888,
              "#fdca26"
             ],
             [
              1,
              "#f0f921"
             ]
            ],
            "type": "heatmapgl"
           }
          ],
          "histogram": [
           {
            "marker": {
             "pattern": {
              "fillmode": "overlay",
              "size": 10,
              "solidity": 0.2
             }
            },
            "type": "histogram"
           }
          ],
          "histogram2d": [
           {
            "colorbar": {
             "outlinewidth": 0,
             "ticks": ""
            },
            "colorscale": [
             [
              0,
              "#0d0887"
             ],
             [
              0.1111111111111111,
              "#46039f"
             ],
             [
              0.2222222222222222,
              "#7201a8"
             ],
             [
              0.3333333333333333,
              "#9c179e"
             ],
             [
              0.4444444444444444,
              "#bd3786"
             ],
             [
              0.5555555555555556,
              "#d8576b"
             ],
             [
              0.6666666666666666,
              "#ed7953"
             ],
             [
              0.7777777777777778,
              "#fb9f3a"
             ],
             [
              0.8888888888888888,
              "#fdca26"
             ],
             [
              1,
              "#f0f921"
             ]
            ],
            "type": "histogram2d"
           }
          ],
          "histogram2dcontour": [
           {
            "colorbar": {
             "outlinewidth": 0,
             "ticks": ""
            },
            "colorscale": [
             [
              0,
              "#0d0887"
             ],
             [
              0.1111111111111111,
              "#46039f"
             ],
             [
              0.2222222222222222,
              "#7201a8"
             ],
             [
              0.3333333333333333,
              "#9c179e"
             ],
             [
              0.4444444444444444,
              "#bd3786"
             ],
             [
              0.5555555555555556,
              "#d8576b"
             ],
             [
              0.6666666666666666,
              "#ed7953"
             ],
             [
              0.7777777777777778,
              "#fb9f3a"
             ],
             [
              0.8888888888888888,
              "#fdca26"
             ],
             [
              1,
              "#f0f921"
             ]
            ],
            "type": "histogram2dcontour"
           }
          ],
          "mesh3d": [
           {
            "colorbar": {
             "outlinewidth": 0,
             "ticks": ""
            },
            "type": "mesh3d"
           }
          ],
          "parcoords": [
           {
            "line": {
             "colorbar": {
              "outlinewidth": 0,
              "ticks": ""
             }
            },
            "type": "parcoords"
           }
          ],
          "pie": [
           {
            "automargin": true,
            "type": "pie"
           }
          ],
          "scatter": [
           {
            "marker": {
             "line": {
              "color": "#283442"
             }
            },
            "type": "scatter"
           }
          ],
          "scatter3d": [
           {
            "line": {
             "colorbar": {
              "outlinewidth": 0,
              "ticks": ""
             }
            },
            "marker": {
             "colorbar": {
              "outlinewidth": 0,
              "ticks": ""
             }
            },
            "type": "scatter3d"
           }
          ],
          "scattercarpet": [
           {
            "marker": {
             "colorbar": {
              "outlinewidth": 0,
              "ticks": ""
             }
            },
            "type": "scattercarpet"
           }
          ],
          "scattergeo": [
           {
            "marker": {
             "colorbar": {
              "outlinewidth": 0,
              "ticks": ""
             }
            },
            "type": "scattergeo"
           }
          ],
          "scattergl": [
           {
            "marker": {
             "line": {
              "color": "#283442"
             }
            },
            "type": "scattergl"
           }
          ],
          "scattermapbox": [
           {
            "marker": {
             "colorbar": {
              "outlinewidth": 0,
              "ticks": ""
             }
            },
            "type": "scattermapbox"
           }
          ],
          "scatterpolar": [
           {
            "marker": {
             "colorbar": {
              "outlinewidth": 0,
              "ticks": ""
             }
            },
            "type": "scatterpolar"
           }
          ],
          "scatterpolargl": [
           {
            "marker": {
             "colorbar": {
              "outlinewidth": 0,
              "ticks": ""
             }
            },
            "type": "scatterpolargl"
           }
          ],
          "scatterternary": [
           {
            "marker": {
             "colorbar": {
              "outlinewidth": 0,
              "ticks": ""
             }
            },
            "type": "scatterternary"
           }
          ],
          "surface": [
           {
            "colorbar": {
             "outlinewidth": 0,
             "ticks": ""
            },
            "colorscale": [
             [
              0,
              "#0d0887"
             ],
             [
              0.1111111111111111,
              "#46039f"
             ],
             [
              0.2222222222222222,
              "#7201a8"
             ],
             [
              0.3333333333333333,
              "#9c179e"
             ],
             [
              0.4444444444444444,
              "#bd3786"
             ],
             [
              0.5555555555555556,
              "#d8576b"
             ],
             [
              0.6666666666666666,
              "#ed7953"
             ],
             [
              0.7777777777777778,
              "#fb9f3a"
             ],
             [
              0.8888888888888888,
              "#fdca26"
             ],
             [
              1,
              "#f0f921"
             ]
            ],
            "type": "surface"
           }
          ],
          "table": [
           {
            "cells": {
             "fill": {
              "color": "#506784"
             },
             "line": {
              "color": "rgb(17,17,17)"
             }
            },
            "header": {
             "fill": {
              "color": "#2a3f5f"
             },
             "line": {
              "color": "rgb(17,17,17)"
             }
            },
            "type": "table"
           }
          ]
         },
         "layout": {
          "annotationdefaults": {
           "arrowcolor": "#f2f5fa",
           "arrowhead": 0,
           "arrowwidth": 1
          },
          "autotypenumbers": "strict",
          "coloraxis": {
           "colorbar": {
            "outlinewidth": 0,
            "ticks": ""
           }
          },
          "colorscale": {
           "diverging": [
            [
             0,
             "#8e0152"
            ],
            [
             0.1,
             "#c51b7d"
            ],
            [
             0.2,
             "#de77ae"
            ],
            [
             0.3,
             "#f1b6da"
            ],
            [
             0.4,
             "#fde0ef"
            ],
            [
             0.5,
             "#f7f7f7"
            ],
            [
             0.6,
             "#e6f5d0"
            ],
            [
             0.7,
             "#b8e186"
            ],
            [
             0.8,
             "#7fbc41"
            ],
            [
             0.9,
             "#4d9221"
            ],
            [
             1,
             "#276419"
            ]
           ],
           "sequential": [
            [
             0,
             "#0d0887"
            ],
            [
             0.1111111111111111,
             "#46039f"
            ],
            [
             0.2222222222222222,
             "#7201a8"
            ],
            [
             0.3333333333333333,
             "#9c179e"
            ],
            [
             0.4444444444444444,
             "#bd3786"
            ],
            [
             0.5555555555555556,
             "#d8576b"
            ],
            [
             0.6666666666666666,
             "#ed7953"
            ],
            [
             0.7777777777777778,
             "#fb9f3a"
            ],
            [
             0.8888888888888888,
             "#fdca26"
            ],
            [
             1,
             "#f0f921"
            ]
           ],
           "sequentialminus": [
            [
             0,
             "#0d0887"
            ],
            [
             0.1111111111111111,
             "#46039f"
            ],
            [
             0.2222222222222222,
             "#7201a8"
            ],
            [
             0.3333333333333333,
             "#9c179e"
            ],
            [
             0.4444444444444444,
             "#bd3786"
            ],
            [
             0.5555555555555556,
             "#d8576b"
            ],
            [
             0.6666666666666666,
             "#ed7953"
            ],
            [
             0.7777777777777778,
             "#fb9f3a"
            ],
            [
             0.8888888888888888,
             "#fdca26"
            ],
            [
             1,
             "#f0f921"
            ]
           ]
          },
          "colorway": [
           "#636efa",
           "#EF553B",
           "#00cc96",
           "#ab63fa",
           "#FFA15A",
           "#19d3f3",
           "#FF6692",
           "#B6E880",
           "#FF97FF",
           "#FECB52"
          ],
          "font": {
           "color": "#f2f5fa"
          },
          "geo": {
           "bgcolor": "rgb(17,17,17)",
           "lakecolor": "rgb(17,17,17)",
           "landcolor": "rgb(17,17,17)",
           "showlakes": true,
           "showland": true,
           "subunitcolor": "#506784"
          },
          "hoverlabel": {
           "align": "left"
          },
          "hovermode": "closest",
          "mapbox": {
           "style": "dark"
          },
          "paper_bgcolor": "rgb(17,17,17)",
          "plot_bgcolor": "rgb(17,17,17)",
          "polar": {
           "angularaxis": {
            "gridcolor": "#506784",
            "linecolor": "#506784",
            "ticks": ""
           },
           "bgcolor": "rgb(17,17,17)",
           "radialaxis": {
            "gridcolor": "#506784",
            "linecolor": "#506784",
            "ticks": ""
           }
          },
          "scene": {
           "xaxis": {
            "backgroundcolor": "rgb(17,17,17)",
            "gridcolor": "#506784",
            "gridwidth": 2,
            "linecolor": "#506784",
            "showbackground": true,
            "ticks": "",
            "zerolinecolor": "#C8D4E3"
           },
           "yaxis": {
            "backgroundcolor": "rgb(17,17,17)",
            "gridcolor": "#506784",
            "gridwidth": 2,
            "linecolor": "#506784",
            "showbackground": true,
            "ticks": "",
            "zerolinecolor": "#C8D4E3"
           },
           "zaxis": {
            "backgroundcolor": "rgb(17,17,17)",
            "gridcolor": "#506784",
            "gridwidth": 2,
            "linecolor": "#506784",
            "showbackground": true,
            "ticks": "",
            "zerolinecolor": "#C8D4E3"
           }
          },
          "shapedefaults": {
           "line": {
            "color": "#f2f5fa"
           }
          },
          "sliderdefaults": {
           "bgcolor": "#C8D4E3",
           "bordercolor": "rgb(17,17,17)",
           "borderwidth": 1,
           "tickwidth": 0
          },
          "ternary": {
           "aaxis": {
            "gridcolor": "#506784",
            "linecolor": "#506784",
            "ticks": ""
           },
           "baxis": {
            "gridcolor": "#506784",
            "linecolor": "#506784",
            "ticks": ""
           },
           "bgcolor": "rgb(17,17,17)",
           "caxis": {
            "gridcolor": "#506784",
            "linecolor": "#506784",
            "ticks": ""
           }
          },
          "title": {
           "x": 0.05
          },
          "updatemenudefaults": {
           "bgcolor": "#506784",
           "borderwidth": 0
          },
          "xaxis": {
           "automargin": true,
           "gridcolor": "#283442",
           "linecolor": "#506784",
           "ticks": "",
           "title": {
            "standoff": 15
           },
           "zerolinecolor": "#283442",
           "zerolinewidth": 2
          },
          "yaxis": {
           "automargin": true,
           "gridcolor": "#283442",
           "linecolor": "#506784",
           "ticks": "",
           "title": {
            "standoff": 15
           },
           "zerolinecolor": "#283442",
           "zerolinewidth": 2
          }
         }
        },
        "title": {
         "text": "RUL Over Time: Unit 8"
        },
        "xaxis": {
         "anchor": "y",
         "domain": [
          0,
          1
         ],
         "title": {
          "text": "Time"
         }
        },
        "yaxis": {
         "anchor": "x",
         "domain": [
          0,
          1
         ],
         "title": {
          "text": "RUL"
         }
        }
       }
      }
     },
     "metadata": {},
     "output_type": "display_data"
    },
    {
     "name": "stderr",
     "output_type": "stream",
     "text": [
      "/var/folders/fq/rhmrwqtn21nbjh5rjcghp6400000gn/T/ipykernel_14562/2422412391.py:13: DeprecationWarning:\n",
      "\n",
      "Conversion of an array with ndim > 0 to a scalar is deprecated, and will error in future. Ensure you extract a single element from your array before performing this operation. (Deprecated NumPy 1.25.)\n",
      "\n"
     ]
    },
    {
     "data": {
      "application/vnd.plotly.v1+json": {
       "config": {
        "plotlyServerURL": "https://plot.ly"
       },
       "data": [
        {
         "hovertemplate": "Time=%{x}<br>RUL=%{y}<extra></extra>",
         "legendgroup": "",
         "line": {
          "color": "#636efa",
          "dash": "solid"
         },
         "marker": {
          "symbol": "circle"
         },
         "mode": "lines",
         "name": "",
         "orientation": "v",
         "showlegend": false,
         "type": "scatter",
         "x": [
          1,
          2,
          3,
          4,
          5,
          6,
          7,
          8,
          9,
          10,
          11,
          12,
          13,
          14,
          15,
          16,
          17,
          18,
          19,
          20,
          21,
          22,
          23,
          24,
          25,
          26,
          27,
          28,
          29,
          30,
          31,
          32,
          33,
          34,
          35,
          36,
          37,
          38,
          39,
          40,
          41,
          42,
          43,
          44,
          45,
          46,
          47,
          48,
          49,
          50,
          51,
          52,
          53,
          54,
          55,
          56,
          57,
          58,
          59,
          60,
          61,
          62,
          63,
          64,
          65,
          66,
          67,
          68,
          69,
          70,
          71,
          72,
          73,
          74,
          75,
          76,
          77,
          78,
          79,
          80,
          81,
          82,
          83,
          84,
          85,
          86,
          87,
          88,
          89,
          90,
          91,
          92,
          93,
          94,
          95,
          96,
          97,
          98,
          99,
          100,
          101,
          102,
          103,
          104,
          105,
          106,
          107,
          108,
          109,
          110,
          111,
          112,
          113,
          114,
          115,
          116,
          117,
          118,
          119,
          120,
          121,
          122,
          123,
          124,
          125,
          126,
          127,
          128,
          129,
          130,
          131,
          132,
          133,
          134,
          135,
          136,
          137,
          138,
          139,
          140,
          141,
          142,
          143,
          144,
          145,
          146,
          147,
          148,
          149,
          150,
          151,
          152,
          153,
          154,
          155,
          156,
          157,
          158,
          159,
          160,
          161,
          162,
          163,
          164,
          165,
          166
         ],
         "xaxis": "x",
         "y": [
          260,
          259,
          258,
          257,
          256,
          255,
          254,
          253,
          252,
          251,
          250,
          249,
          248,
          247,
          246,
          245,
          244,
          243,
          242,
          241,
          240,
          239,
          238,
          237,
          236,
          235,
          234,
          233,
          232,
          231,
          230,
          229,
          228,
          227,
          226,
          225,
          224,
          223,
          222,
          221,
          220,
          219,
          218,
          217,
          216,
          215,
          214,
          213,
          212,
          211,
          210,
          209,
          208,
          207,
          206,
          205,
          204,
          203,
          202,
          201,
          200,
          199,
          198,
          197,
          196,
          195,
          194,
          193,
          192,
          191,
          190,
          189,
          188,
          187,
          186,
          185,
          184,
          183,
          182,
          181,
          180,
          179,
          178,
          177,
          176,
          175,
          174,
          173,
          172,
          171,
          170,
          169,
          168,
          167,
          166,
          165,
          164,
          163,
          162,
          161,
          160,
          159,
          158,
          157,
          156,
          155,
          154,
          153,
          152,
          151,
          150,
          149,
          148,
          147,
          146,
          145,
          144,
          143,
          142,
          141,
          140,
          139,
          138,
          137,
          136,
          135,
          134,
          133,
          132,
          131,
          130,
          129,
          128,
          127,
          126,
          125,
          124,
          123,
          122,
          121,
          120,
          119,
          118,
          117,
          116,
          115,
          114,
          113,
          112,
          111,
          110,
          109,
          108,
          107,
          106,
          105,
          104,
          103,
          102,
          101,
          100,
          99,
          98,
          97,
          96,
          95
         ],
         "yaxis": "y"
        },
        {
         "mode": "lines",
         "name": "Predicted RUL",
         "type": "scatter",
         "x": [
          1,
          2,
          3,
          4,
          5,
          6,
          7,
          8,
          9,
          10,
          11,
          12,
          13,
          14,
          15,
          16,
          17,
          18,
          19,
          20,
          21,
          22,
          23,
          24,
          25,
          26,
          27,
          28,
          29,
          30,
          31,
          32,
          33,
          34,
          35,
          36,
          37,
          38,
          39,
          40,
          41,
          42,
          43,
          44,
          45,
          46,
          47,
          48,
          49,
          50,
          51,
          52,
          53,
          54,
          55,
          56,
          57,
          58,
          59,
          60,
          61,
          62,
          63,
          64,
          65,
          66,
          67,
          68,
          69,
          70,
          71,
          72,
          73,
          74,
          75,
          76,
          77,
          78,
          79,
          80,
          81,
          82,
          83,
          84,
          85,
          86,
          87,
          88,
          89,
          90,
          91,
          92,
          93,
          94,
          95,
          96,
          97,
          98,
          99,
          100,
          101,
          102,
          103,
          104,
          105,
          106,
          107,
          108,
          109,
          110,
          111,
          112,
          113,
          114,
          115,
          116,
          117,
          118,
          119,
          120,
          121,
          122,
          123,
          124,
          125,
          126,
          127,
          128,
          129,
          130,
          131,
          132,
          133,
          134,
          135,
          136,
          137,
          138,
          139,
          140,
          141,
          142,
          143,
          144,
          145,
          146,
          147,
          148,
          149,
          150,
          151,
          152,
          153,
          154,
          155,
          156,
          157,
          158,
          159,
          160,
          161,
          162,
          163,
          164,
          165,
          166
         ],
         "y": [
          135.73883056640625,
          127.76478576660156,
          135.39590454101562,
          143.8286895751953,
          143.68324279785156,
          134.43228149414062,
          135.49766540527344,
          127.9382553100586,
          141.1229248046875,
          133.93460083007812,
          141.3324432373047,
          121.8794937133789,
          142.97474670410156,
          138.18128967285156,
          137.517822265625,
          139.8349609375,
          132.6147003173828,
          126.9496078491211,
          139.2760009765625,
          139.79525756835938,
          134.6199951171875,
          130.88841247558594,
          129.3165740966797,
          136.2576141357422,
          133.03286743164062,
          133.0967559814453,
          136.73507690429688,
          133.84747314453125,
          141.15646362304688,
          135.96533203125,
          114.48159790039062,
          126.42250061035156,
          136.5829315185547,
          138.30404663085938,
          138.2872314453125,
          125.56130981445312,
          134.97962951660156,
          131.56411743164062,
          141.24807739257812,
          130.96693420410156,
          132.7211456298828,
          141.60916137695312,
          126.31497192382812,
          130.7148895263672,
          131.69241333007812,
          140.6124725341797,
          134.98910522460938,
          137.66342163085938,
          143.6411590576172,
          117.8616943359375,
          141.97994995117188,
          126.12805938720703,
          126.25837707519531,
          131.3644561767578,
          112.02142333984375,
          122.7049331665039,
          131.66326904296875,
          128.75051879882812,
          133.11038208007812,
          136.5328826904297,
          131.67088317871094,
          130.95938110351562,
          121.80852508544922,
          135.66505432128906,
          136.1304473876953,
          130.6839141845703,
          128.82888793945312,
          135.8081512451172,
          132.2852325439453,
          128.56385803222656,
          129.79441833496094,
          135.00172424316406,
          123.54391479492188,
          126.2752914428711,
          130.69021606445312,
          126.63491821289062,
          141.70155334472656,
          132.0230712890625,
          123.22267150878906,
          129.33676147460938,
          125.4792709350586,
          128.16937255859375,
          133.00643920898438,
          121.50077819824219,
          130.83082580566406,
          123.97526550292969,
          138.83534240722656,
          133.63839721679688,
          137.2938690185547,
          121.83475494384766,
          135.76963806152344,
          134.71495056152344,
          127.63054656982422,
          137.6630859375,
          119.71273803710938,
          129.81744384765625,
          123.94402313232422,
          130.6537322998047,
          127.59771728515625,
          122.34491729736328,
          126.83841705322266,
          126.90475463867188,
          134.34812927246094,
          118.10721588134766,
          124.55850982666016,
          132.3516082763672,
          128.67669677734375,
          124.66522216796875,
          112.69721984863281,
          132.22276306152344,
          121.59366607666016,
          125.89889526367188,
          124.42853546142578,
          114.62723541259766,
          131.71563720703125,
          118.49421691894531,
          124.5800552368164,
          135.90814208984375,
          128.97152709960938,
          124.12847137451172,
          131.94827270507812,
          120.19145202636719,
          128.6354522705078,
          130.73922729492188,
          132.53848266601562,
          114.8572006225586,
          122.53167724609375,
          129.4226531982422,
          121.7562255859375,
          113.11808013916016,
          126.6379165649414,
          130.59535217285156,
          125.32594299316406,
          122.46974182128906,
          129.2402801513672,
          123.47444915771484,
          118.63868713378906,
          129.4521484375,
          119.7183837890625,
          116.61466979980469,
          109.54734802246094,
          122.47152709960938,
          124.60649108886719,
          111.73861694335938,
          107.21392822265625,
          132.65505981445312,
          131.83331298828125,
          131.28038024902344,
          121.68965148925781,
          129.5830078125,
          107.35882568359375,
          113.25679779052734,
          110.77702331542969,
          120.90271759033203,
          126.28706359863281,
          126.89191436767578,
          101.24755096435547,
          114.00465393066406,
          123.12296295166016,
          113.2542724609375,
          117.38402557373047,
          118.01201629638672,
          113.81641387939453,
          120.02526092529297,
          102.37156677246094,
          100.97733306884766
         ]
        }
       ],
       "layout": {
        "legend": {
         "tracegroupgap": 0,
         "x": 0.1,
         "xanchor": "left",
         "y": 0.1,
         "yanchor": "bottom"
        },
        "template": {
         "data": {
          "bar": [
           {
            "error_x": {
             "color": "#f2f5fa"
            },
            "error_y": {
             "color": "#f2f5fa"
            },
            "marker": {
             "line": {
              "color": "rgb(17,17,17)",
              "width": 0.5
             },
             "pattern": {
              "fillmode": "overlay",
              "size": 10,
              "solidity": 0.2
             }
            },
            "type": "bar"
           }
          ],
          "barpolar": [
           {
            "marker": {
             "line": {
              "color": "rgb(17,17,17)",
              "width": 0.5
             },
             "pattern": {
              "fillmode": "overlay",
              "size": 10,
              "solidity": 0.2
             }
            },
            "type": "barpolar"
           }
          ],
          "carpet": [
           {
            "aaxis": {
             "endlinecolor": "#A2B1C6",
             "gridcolor": "#506784",
             "linecolor": "#506784",
             "minorgridcolor": "#506784",
             "startlinecolor": "#A2B1C6"
            },
            "baxis": {
             "endlinecolor": "#A2B1C6",
             "gridcolor": "#506784",
             "linecolor": "#506784",
             "minorgridcolor": "#506784",
             "startlinecolor": "#A2B1C6"
            },
            "type": "carpet"
           }
          ],
          "choropleth": [
           {
            "colorbar": {
             "outlinewidth": 0,
             "ticks": ""
            },
            "type": "choropleth"
           }
          ],
          "contour": [
           {
            "colorbar": {
             "outlinewidth": 0,
             "ticks": ""
            },
            "colorscale": [
             [
              0,
              "#0d0887"
             ],
             [
              0.1111111111111111,
              "#46039f"
             ],
             [
              0.2222222222222222,
              "#7201a8"
             ],
             [
              0.3333333333333333,
              "#9c179e"
             ],
             [
              0.4444444444444444,
              "#bd3786"
             ],
             [
              0.5555555555555556,
              "#d8576b"
             ],
             [
              0.6666666666666666,
              "#ed7953"
             ],
             [
              0.7777777777777778,
              "#fb9f3a"
             ],
             [
              0.8888888888888888,
              "#fdca26"
             ],
             [
              1,
              "#f0f921"
             ]
            ],
            "type": "contour"
           }
          ],
          "contourcarpet": [
           {
            "colorbar": {
             "outlinewidth": 0,
             "ticks": ""
            },
            "type": "contourcarpet"
           }
          ],
          "heatmap": [
           {
            "colorbar": {
             "outlinewidth": 0,
             "ticks": ""
            },
            "colorscale": [
             [
              0,
              "#0d0887"
             ],
             [
              0.1111111111111111,
              "#46039f"
             ],
             [
              0.2222222222222222,
              "#7201a8"
             ],
             [
              0.3333333333333333,
              "#9c179e"
             ],
             [
              0.4444444444444444,
              "#bd3786"
             ],
             [
              0.5555555555555556,
              "#d8576b"
             ],
             [
              0.6666666666666666,
              "#ed7953"
             ],
             [
              0.7777777777777778,
              "#fb9f3a"
             ],
             [
              0.8888888888888888,
              "#fdca26"
             ],
             [
              1,
              "#f0f921"
             ]
            ],
            "type": "heatmap"
           }
          ],
          "heatmapgl": [
           {
            "colorbar": {
             "outlinewidth": 0,
             "ticks": ""
            },
            "colorscale": [
             [
              0,
              "#0d0887"
             ],
             [
              0.1111111111111111,
              "#46039f"
             ],
             [
              0.2222222222222222,
              "#7201a8"
             ],
             [
              0.3333333333333333,
              "#9c179e"
             ],
             [
              0.4444444444444444,
              "#bd3786"
             ],
             [
              0.5555555555555556,
              "#d8576b"
             ],
             [
              0.6666666666666666,
              "#ed7953"
             ],
             [
              0.7777777777777778,
              "#fb9f3a"
             ],
             [
              0.8888888888888888,
              "#fdca26"
             ],
             [
              1,
              "#f0f921"
             ]
            ],
            "type": "heatmapgl"
           }
          ],
          "histogram": [
           {
            "marker": {
             "pattern": {
              "fillmode": "overlay",
              "size": 10,
              "solidity": 0.2
             }
            },
            "type": "histogram"
           }
          ],
          "histogram2d": [
           {
            "colorbar": {
             "outlinewidth": 0,
             "ticks": ""
            },
            "colorscale": [
             [
              0,
              "#0d0887"
             ],
             [
              0.1111111111111111,
              "#46039f"
             ],
             [
              0.2222222222222222,
              "#7201a8"
             ],
             [
              0.3333333333333333,
              "#9c179e"
             ],
             [
              0.4444444444444444,
              "#bd3786"
             ],
             [
              0.5555555555555556,
              "#d8576b"
             ],
             [
              0.6666666666666666,
              "#ed7953"
             ],
             [
              0.7777777777777778,
              "#fb9f3a"
             ],
             [
              0.8888888888888888,
              "#fdca26"
             ],
             [
              1,
              "#f0f921"
             ]
            ],
            "type": "histogram2d"
           }
          ],
          "histogram2dcontour": [
           {
            "colorbar": {
             "outlinewidth": 0,
             "ticks": ""
            },
            "colorscale": [
             [
              0,
              "#0d0887"
             ],
             [
              0.1111111111111111,
              "#46039f"
             ],
             [
              0.2222222222222222,
              "#7201a8"
             ],
             [
              0.3333333333333333,
              "#9c179e"
             ],
             [
              0.4444444444444444,
              "#bd3786"
             ],
             [
              0.5555555555555556,
              "#d8576b"
             ],
             [
              0.6666666666666666,
              "#ed7953"
             ],
             [
              0.7777777777777778,
              "#fb9f3a"
             ],
             [
              0.8888888888888888,
              "#fdca26"
             ],
             [
              1,
              "#f0f921"
             ]
            ],
            "type": "histogram2dcontour"
           }
          ],
          "mesh3d": [
           {
            "colorbar": {
             "outlinewidth": 0,
             "ticks": ""
            },
            "type": "mesh3d"
           }
          ],
          "parcoords": [
           {
            "line": {
             "colorbar": {
              "outlinewidth": 0,
              "ticks": ""
             }
            },
            "type": "parcoords"
           }
          ],
          "pie": [
           {
            "automargin": true,
            "type": "pie"
           }
          ],
          "scatter": [
           {
            "marker": {
             "line": {
              "color": "#283442"
             }
            },
            "type": "scatter"
           }
          ],
          "scatter3d": [
           {
            "line": {
             "colorbar": {
              "outlinewidth": 0,
              "ticks": ""
             }
            },
            "marker": {
             "colorbar": {
              "outlinewidth": 0,
              "ticks": ""
             }
            },
            "type": "scatter3d"
           }
          ],
          "scattercarpet": [
           {
            "marker": {
             "colorbar": {
              "outlinewidth": 0,
              "ticks": ""
             }
            },
            "type": "scattercarpet"
           }
          ],
          "scattergeo": [
           {
            "marker": {
             "colorbar": {
              "outlinewidth": 0,
              "ticks": ""
             }
            },
            "type": "scattergeo"
           }
          ],
          "scattergl": [
           {
            "marker": {
             "line": {
              "color": "#283442"
             }
            },
            "type": "scattergl"
           }
          ],
          "scattermapbox": [
           {
            "marker": {
             "colorbar": {
              "outlinewidth": 0,
              "ticks": ""
             }
            },
            "type": "scattermapbox"
           }
          ],
          "scatterpolar": [
           {
            "marker": {
             "colorbar": {
              "outlinewidth": 0,
              "ticks": ""
             }
            },
            "type": "scatterpolar"
           }
          ],
          "scatterpolargl": [
           {
            "marker": {
             "colorbar": {
              "outlinewidth": 0,
              "ticks": ""
             }
            },
            "type": "scatterpolargl"
           }
          ],
          "scatterternary": [
           {
            "marker": {
             "colorbar": {
              "outlinewidth": 0,
              "ticks": ""
             }
            },
            "type": "scatterternary"
           }
          ],
          "surface": [
           {
            "colorbar": {
             "outlinewidth": 0,
             "ticks": ""
            },
            "colorscale": [
             [
              0,
              "#0d0887"
             ],
             [
              0.1111111111111111,
              "#46039f"
             ],
             [
              0.2222222222222222,
              "#7201a8"
             ],
             [
              0.3333333333333333,
              "#9c179e"
             ],
             [
              0.4444444444444444,
              "#bd3786"
             ],
             [
              0.5555555555555556,
              "#d8576b"
             ],
             [
              0.6666666666666666,
              "#ed7953"
             ],
             [
              0.7777777777777778,
              "#fb9f3a"
             ],
             [
              0.8888888888888888,
              "#fdca26"
             ],
             [
              1,
              "#f0f921"
             ]
            ],
            "type": "surface"
           }
          ],
          "table": [
           {
            "cells": {
             "fill": {
              "color": "#506784"
             },
             "line": {
              "color": "rgb(17,17,17)"
             }
            },
            "header": {
             "fill": {
              "color": "#2a3f5f"
             },
             "line": {
              "color": "rgb(17,17,17)"
             }
            },
            "type": "table"
           }
          ]
         },
         "layout": {
          "annotationdefaults": {
           "arrowcolor": "#f2f5fa",
           "arrowhead": 0,
           "arrowwidth": 1
          },
          "autotypenumbers": "strict",
          "coloraxis": {
           "colorbar": {
            "outlinewidth": 0,
            "ticks": ""
           }
          },
          "colorscale": {
           "diverging": [
            [
             0,
             "#8e0152"
            ],
            [
             0.1,
             "#c51b7d"
            ],
            [
             0.2,
             "#de77ae"
            ],
            [
             0.3,
             "#f1b6da"
            ],
            [
             0.4,
             "#fde0ef"
            ],
            [
             0.5,
             "#f7f7f7"
            ],
            [
             0.6,
             "#e6f5d0"
            ],
            [
             0.7,
             "#b8e186"
            ],
            [
             0.8,
             "#7fbc41"
            ],
            [
             0.9,
             "#4d9221"
            ],
            [
             1,
             "#276419"
            ]
           ],
           "sequential": [
            [
             0,
             "#0d0887"
            ],
            [
             0.1111111111111111,
             "#46039f"
            ],
            [
             0.2222222222222222,
             "#7201a8"
            ],
            [
             0.3333333333333333,
             "#9c179e"
            ],
            [
             0.4444444444444444,
             "#bd3786"
            ],
            [
             0.5555555555555556,
             "#d8576b"
            ],
            [
             0.6666666666666666,
             "#ed7953"
            ],
            [
             0.7777777777777778,
             "#fb9f3a"
            ],
            [
             0.8888888888888888,
             "#fdca26"
            ],
            [
             1,
             "#f0f921"
            ]
           ],
           "sequentialminus": [
            [
             0,
             "#0d0887"
            ],
            [
             0.1111111111111111,
             "#46039f"
            ],
            [
             0.2222222222222222,
             "#7201a8"
            ],
            [
             0.3333333333333333,
             "#9c179e"
            ],
            [
             0.4444444444444444,
             "#bd3786"
            ],
            [
             0.5555555555555556,
             "#d8576b"
            ],
            [
             0.6666666666666666,
             "#ed7953"
            ],
            [
             0.7777777777777778,
             "#fb9f3a"
            ],
            [
             0.8888888888888888,
             "#fdca26"
            ],
            [
             1,
             "#f0f921"
            ]
           ]
          },
          "colorway": [
           "#636efa",
           "#EF553B",
           "#00cc96",
           "#ab63fa",
           "#FFA15A",
           "#19d3f3",
           "#FF6692",
           "#B6E880",
           "#FF97FF",
           "#FECB52"
          ],
          "font": {
           "color": "#f2f5fa"
          },
          "geo": {
           "bgcolor": "rgb(17,17,17)",
           "lakecolor": "rgb(17,17,17)",
           "landcolor": "rgb(17,17,17)",
           "showlakes": true,
           "showland": true,
           "subunitcolor": "#506784"
          },
          "hoverlabel": {
           "align": "left"
          },
          "hovermode": "closest",
          "mapbox": {
           "style": "dark"
          },
          "paper_bgcolor": "rgb(17,17,17)",
          "plot_bgcolor": "rgb(17,17,17)",
          "polar": {
           "angularaxis": {
            "gridcolor": "#506784",
            "linecolor": "#506784",
            "ticks": ""
           },
           "bgcolor": "rgb(17,17,17)",
           "radialaxis": {
            "gridcolor": "#506784",
            "linecolor": "#506784",
            "ticks": ""
           }
          },
          "scene": {
           "xaxis": {
            "backgroundcolor": "rgb(17,17,17)",
            "gridcolor": "#506784",
            "gridwidth": 2,
            "linecolor": "#506784",
            "showbackground": true,
            "ticks": "",
            "zerolinecolor": "#C8D4E3"
           },
           "yaxis": {
            "backgroundcolor": "rgb(17,17,17)",
            "gridcolor": "#506784",
            "gridwidth": 2,
            "linecolor": "#506784",
            "showbackground": true,
            "ticks": "",
            "zerolinecolor": "#C8D4E3"
           },
           "zaxis": {
            "backgroundcolor": "rgb(17,17,17)",
            "gridcolor": "#506784",
            "gridwidth": 2,
            "linecolor": "#506784",
            "showbackground": true,
            "ticks": "",
            "zerolinecolor": "#C8D4E3"
           }
          },
          "shapedefaults": {
           "line": {
            "color": "#f2f5fa"
           }
          },
          "sliderdefaults": {
           "bgcolor": "#C8D4E3",
           "bordercolor": "rgb(17,17,17)",
           "borderwidth": 1,
           "tickwidth": 0
          },
          "ternary": {
           "aaxis": {
            "gridcolor": "#506784",
            "linecolor": "#506784",
            "ticks": ""
           },
           "baxis": {
            "gridcolor": "#506784",
            "linecolor": "#506784",
            "ticks": ""
           },
           "bgcolor": "rgb(17,17,17)",
           "caxis": {
            "gridcolor": "#506784",
            "linecolor": "#506784",
            "ticks": ""
           }
          },
          "title": {
           "x": 0.05
          },
          "updatemenudefaults": {
           "bgcolor": "#506784",
           "borderwidth": 0
          },
          "xaxis": {
           "automargin": true,
           "gridcolor": "#283442",
           "linecolor": "#506784",
           "ticks": "",
           "title": {
            "standoff": 15
           },
           "zerolinecolor": "#283442",
           "zerolinewidth": 2
          },
          "yaxis": {
           "automargin": true,
           "gridcolor": "#283442",
           "linecolor": "#506784",
           "ticks": "",
           "title": {
            "standoff": 15
           },
           "zerolinecolor": "#283442",
           "zerolinewidth": 2
          }
         }
        },
        "title": {
         "text": "RUL Over Time: Unit 8"
        },
        "xaxis": {
         "anchor": "y",
         "domain": [
          0,
          1
         ],
         "title": {
          "text": "Time"
         }
        },
        "yaxis": {
         "anchor": "x",
         "domain": [
          0,
          1
         ],
         "title": {
          "text": "RUL"
         }
        }
       }
      }
     },
     "metadata": {},
     "output_type": "display_data"
    }
   ],
   "source": [
    "unit_nr = 8\n",
    "plot_rul_vs_time(unit_nr, model=model, group_test=group_test, test=True, y_test_array=y_test_array)\n",
    "plot_rul_vs_time(unit_nr, model=model, group_test=group_test_new, test=True, y_test_array=y_test_array)"
   ]
  },
  {
   "cell_type": "code",
   "execution_count": 200,
   "id": "ccd4147d",
   "metadata": {},
   "outputs": [],
   "source": [
    "result, rmse = testing_function(model, num_test, group_test, y_test_array)\n",
    "result_new, rmse_new = testing_function(model, num_test, group_test_new, y_test_array)"
   ]
  },
  {
   "cell_type": "markdown",
   "id": "53a6f980",
   "metadata": {},
   "source": [
    "<h3>Train new model using new test data as validation</h3>"
   ]
  },
  {
   "cell_type": "code",
   "execution_count": 215,
   "id": "2b154f56",
   "metadata": {},
   "outputs": [
    {
     "name": "stdout",
     "output_type": "stream",
     "text": [
      "Epoch: 1, loss: 13833.12310, rmse: 70.35573\n",
      "Epoch: 2, loss: 6870.81936, rmse: 47.59471\n",
      "Epoch: 3, loss: 4794.39912, rmse: 48.89797\n",
      "Epoch: 4, loss: 4790.04322, rmse: 48.83697\n",
      "Epoch: 5, loss: 4761.05243, rmse: 48.81495\n",
      "Epoch: 6, loss: 4731.01156, rmse: 48.80499\n",
      "Epoch: 7, loss: 4726.70564, rmse: 48.77643\n",
      "Epoch: 8, loss: 4691.50444, rmse: 48.73055\n",
      "Epoch: 9, loss: 4739.02826, rmse: 48.38647\n",
      "Epoch: 10, loss: 4688.63420, rmse: 48.52514\n",
      "Epoch: 11, loss: 4622.24165, rmse: 48.51561\n",
      "Epoch: 12, loss: 4650.15142, rmse: 48.43091\n",
      "Epoch: 13, loss: 4624.86166, rmse: 48.19934\n",
      "Epoch: 14, loss: 4636.43653, rmse: 48.20259\n",
      "Epoch: 15, loss: 4642.08971, rmse: 47.84828\n",
      "Epoch: 16, loss: 4587.11911, rmse: 47.86125\n",
      "Epoch: 17, loss: 4549.37569, rmse: 47.95895\n",
      "Epoch: 18, loss: 4544.37726, rmse: 47.69507\n",
      "Epoch: 19, loss: 4523.28587, rmse: 47.57037\n",
      "Epoch: 20, loss: 4507.03589, rmse: 47.39802\n",
      "Epoch: 21, loss: 4462.92035, rmse: 47.42532\n",
      "Epoch: 22, loss: 4483.58969, rmse: 47.41102\n",
      "Epoch: 23, loss: 4441.72552, rmse: 47.30604\n",
      "Epoch: 24, loss: 4415.38917, rmse: 47.08358\n",
      "Epoch: 25, loss: 4446.60749, rmse: 46.73798\n",
      "Epoch: 26, loss: 4386.09669, rmse: 46.75894\n",
      "Epoch: 27, loss: 4372.52264, rmse: 46.62116\n",
      "Epoch: 28, loss: 4299.11164, rmse: 46.47857\n",
      "Epoch: 29, loss: 4281.12552, rmse: 46.06839\n",
      "Epoch: 30, loss: 4259.99361, rmse: 45.87031\n",
      "Epoch: 31, loss: 4203.80114, rmse: 45.74742\n",
      "Epoch: 32, loss: 4202.52875, rmse: 45.38545\n",
      "Epoch: 33, loss: 4131.90221, rmse: 45.39262\n",
      "Epoch: 34, loss: 4101.34347, rmse: 45.03495\n",
      "Epoch: 35, loss: 4093.26416, rmse: 44.67912\n",
      "Epoch: 36, loss: 4003.89878, rmse: 44.27072\n",
      "Epoch: 37, loss: 4004.97910, rmse: 43.78271\n",
      "Epoch: 38, loss: 3908.85737, rmse: 43.90096\n",
      "Epoch: 39, loss: 3899.35448, rmse: 43.10055\n",
      "Epoch: 40, loss: 3825.15439, rmse: 42.90041\n",
      "Epoch: 41, loss: 3741.01644, rmse: 42.14083\n",
      "Epoch: 42, loss: 3683.53409, rmse: 41.60850\n",
      "Epoch: 43, loss: 3620.60069, rmse: 41.19103\n",
      "Epoch: 44, loss: 3550.10567, rmse: 40.24679\n",
      "Epoch: 45, loss: 3457.43050, rmse: 39.88500\n",
      "Epoch: 46, loss: 3422.68187, rmse: 39.01445\n",
      "Epoch: 47, loss: 3330.75380, rmse: 37.63537\n",
      "Epoch: 48, loss: 3207.48426, rmse: 35.86403\n",
      "Epoch: 49, loss: 3125.03875, rmse: 34.31129\n",
      "Epoch: 50, loss: 3064.75328, rmse: 33.56809\n",
      "Epoch: 51, loss: 3010.06703, rmse: 32.20651\n",
      "Epoch: 52, loss: 2951.64658, rmse: 32.81248\n",
      "Epoch: 53, loss: 2945.89194, rmse: 31.96351\n",
      "Epoch: 54, loss: 2891.83755, rmse: 32.06530\n",
      "Epoch: 55, loss: 2866.41511, rmse: 31.70372\n",
      "Epoch: 56, loss: 2902.83614, rmse: 31.32298\n",
      "Epoch: 57, loss: 2848.91113, rmse: 31.30848\n",
      "Epoch: 58, loss: 2870.08671, rmse: 31.27951\n",
      "Epoch: 59, loss: 2857.33616, rmse: 31.08224\n",
      "Epoch: 60, loss: 2843.98419, rmse: 30.42836\n",
      "Epoch: 61, loss: 2835.14475, rmse: 30.97042\n",
      "Epoch: 62, loss: 2834.42853, rmse: 31.20361\n",
      "Epoch: 63, loss: 2816.55214, rmse: 30.87744\n",
      "Epoch: 64, loss: 2826.53365, rmse: 31.07723\n",
      "Epoch: 65, loss: 2812.03880, rmse: 31.08697\n",
      "Epoch: 66, loss: 2827.80500, rmse: 31.17281\n",
      "Epoch: 67, loss: 2790.93526, rmse: 30.68258\n",
      "Epoch: 68, loss: 2775.09543, rmse: 31.19802\n",
      "Epoch: 69, loss: 2803.05471, rmse: 30.77513\n",
      "Epoch: 70, loss: 2792.08179, rmse: 31.26106\n",
      "Epoch: 71, loss: 2756.52394, rmse: 30.93908\n",
      "Epoch: 72, loss: 2789.82726, rmse: 30.69300\n",
      "Epoch: 73, loss: 2762.79486, rmse: 30.83681\n",
      "Epoch: 74, loss: 2770.05867, rmse: 30.98081\n",
      "Epoch: 75, loss: 2733.82628, rmse: 30.84671\n",
      "Epoch: 76, loss: 2763.98537, rmse: 30.93494\n",
      "Epoch: 77, loss: 2741.42283, rmse: 30.60800\n",
      "Epoch: 78, loss: 2755.50763, rmse: 30.44836\n",
      "Epoch: 79, loss: 2717.14353, rmse: 30.54394\n",
      "Epoch: 80, loss: 2740.19575, rmse: 30.57549\n",
      "Epoch: 81, loss: 2721.85796, rmse: 30.73985\n",
      "Epoch: 82, loss: 2749.41888, rmse: 30.71347\n",
      "Epoch: 83, loss: 2756.16172, rmse: 30.55397\n",
      "Epoch: 84, loss: 2725.33544, rmse: 30.66778\n",
      "Epoch: 85, loss: 2704.72476, rmse: 30.79491\n",
      "Epoch: 86, loss: 2712.52155, rmse: 30.88019\n",
      "Epoch: 87, loss: 2696.86430, rmse: 30.37545\n",
      "Epoch: 88, loss: 2713.56819, rmse: 30.93812\n",
      "Epoch: 89, loss: 2695.94992, rmse: 30.86139\n",
      "Epoch: 90, loss: 2724.44793, rmse: 30.76221\n",
      "Epoch: 91, loss: 2651.78443, rmse: 30.61894\n",
      "Epoch: 92, loss: 2719.40374, rmse: 30.87835\n",
      "Epoch: 93, loss: 2719.44510, rmse: 30.44684\n",
      "Epoch: 94, loss: 2656.53407, rmse: 30.75898\n",
      "Epoch: 95, loss: 2619.14184, rmse: 30.70468\n",
      "Epoch: 96, loss: 2677.29646, rmse: 30.69299\n",
      "Epoch: 97, loss: 2622.46304, rmse: 30.90490\n",
      "Epoch: 98, loss: 2690.09831, rmse: 30.05626\n",
      "Epoch: 99, loss: 2661.36148, rmse: 30.62054\n",
      "Epoch: 100, loss: 2662.83095, rmse: 30.60123\n",
      "Epoch: 101, loss: 2677.04620, rmse: 30.60152\n",
      "Epoch: 102, loss: 2670.84490, rmse: 30.64622\n",
      "Epoch: 103, loss: 2642.85105, rmse: 30.64505\n",
      "Epoch: 104, loss: 2660.71052, rmse: 30.67689\n",
      "Epoch: 105, loss: 2681.01272, rmse: 30.11091\n",
      "Epoch: 106, loss: 2656.68868, rmse: 30.57375\n",
      "Epoch: 107, loss: 2642.97102, rmse: 30.55963\n",
      "Epoch: 108, loss: 2637.76028, rmse: 30.88242\n",
      "Epoch: 109, loss: 2660.73748, rmse: 30.56429\n",
      "Epoch: 110, loss: 2651.19970, rmse: 30.40241\n",
      "Epoch: 111, loss: 2680.15598, rmse: 30.69953\n",
      "Epoch: 112, loss: 2622.51693, rmse: 30.55475\n",
      "Epoch: 113, loss: 2659.45848, rmse: 30.88237\n",
      "Epoch: 114, loss: 2662.46195, rmse: 30.73354\n",
      "Epoch: 115, loss: 2645.34031, rmse: 30.39555\n",
      "Epoch: 116, loss: 2624.93677, rmse: 30.63674\n",
      "Epoch: 117, loss: 2623.98355, rmse: 30.49685\n",
      "Epoch: 118, loss: 2619.63279, rmse: 30.24472\n",
      "Epoch: 119, loss: 2609.87402, rmse: 30.46229\n",
      "Epoch: 120, loss: 2608.05348, rmse: 30.32640\n",
      "Epoch: 121, loss: 2599.32973, rmse: 30.95183\n",
      "Epoch: 122, loss: 2576.58156, rmse: 30.83837\n",
      "Epoch: 123, loss: 2627.59053, rmse: 30.68081\n",
      "Epoch: 124, loss: 2631.78286, rmse: 30.69501\n",
      "Epoch: 125, loss: 2622.68415, rmse: 30.67533\n",
      "Epoch: 126, loss: 2612.45417, rmse: 30.63589\n",
      "Epoch: 127, loss: 2628.67846, rmse: 30.79700\n",
      "Epoch: 128, loss: 2624.07986, rmse: 30.39417\n",
      "Epoch: 129, loss: 2618.14890, rmse: 30.51422\n",
      "Epoch: 130, loss: 2586.43004, rmse: 30.66447\n",
      "Epoch: 131, loss: 2578.83050, rmse: 30.51144\n",
      "Epoch: 132, loss: 2581.59594, rmse: 30.47774\n",
      "Epoch: 133, loss: 2592.18042, rmse: 30.62375\n",
      "Epoch: 134, loss: 2592.38596, rmse: 30.84466\n",
      "Epoch: 135, loss: 2592.03164, rmse: 31.24815\n",
      "Epoch: 136, loss: 2591.37142, rmse: 30.85896\n",
      "Epoch: 137, loss: 2584.54715, rmse: 30.80585\n",
      "Epoch: 138, loss: 2568.55032, rmse: 30.16691\n",
      "Epoch: 139, loss: 2561.49502, rmse: 30.82497\n",
      "Epoch: 140, loss: 2562.41711, rmse: 30.58009\n",
      "Epoch: 141, loss: 2552.65672, rmse: 30.66733\n",
      "Epoch: 142, loss: 2583.96313, rmse: 30.57968\n",
      "Epoch: 143, loss: 2566.38810, rmse: 31.03020\n",
      "Epoch: 144, loss: 2560.93644, rmse: 30.35192\n",
      "Epoch: 145, loss: 2600.64986, rmse: 30.95375\n",
      "Epoch: 146, loss: 2582.33093, rmse: 30.67284\n",
      "Epoch: 147, loss: 2551.28586, rmse: 30.65174\n",
      "Epoch: 148, loss: 2560.00701, rmse: 30.68083\n",
      "Epoch: 149, loss: 2524.77520, rmse: 31.17407\n",
      "Epoch: 150, loss: 2574.97746, rmse: 30.30349\n"
     ]
    },
    {
     "data": {
      "image/png": "[encoded data removed]",
      "text/plain": [
       "<Figure size 1000x600 with 1 Axes>"
      ]
     },
     "metadata": {},
     "output_type": "display_data"
    }
   ],
   "source": [
    "# model, criterion, optimizer, group_train, group_test, y_test, result, rmse = run()\n",
    "\n",
    "# LSTM model initialization\n",
    "model_new = LSTM1(input_size, N_HIDDEN, N_LAYER)  # our lstm class\n",
    "\n",
    "# load_model(model, './results/model_base_H96L4.pth')  # load the pre-trained model\n",
    "# model.eval()  # set the model to evaluation mode\n",
    "criterion_new = torch.nn.MSELoss()  # mean-squared error for regression\n",
    "optimizer_new = torch.optim.Adam(model_new.parameters(), lr=LR)\n",
    "\n",
    "\n",
    "result_new, rmse_new = train(model_new, num_train, num_test, group_train, group_test_new, criterion_new, optimizer_new, y_test_array)\n",
    "# result, rmse = testing_function(model, num_test, group_test, y_test)\n",
    "visualize(result_new, y_test, num_test, rmse_new)"
   ]
  },
  {
   "cell_type": "code",
   "execution_count": 214,
   "id": "e7071111",
   "metadata": {},
   "outputs": [
    {
     "name": "stderr",
     "output_type": "stream",
     "text": [
      "/var/folders/fq/rhmrwqtn21nbjh5rjcghp6400000gn/T/ipykernel_14562/2422412391.py:13: DeprecationWarning:\n",
      "\n",
      "Conversion of an array with ndim > 0 to a scalar is deprecated, and will error in future. Ensure you extract a single element from your array before performing this operation. (Deprecated NumPy 1.25.)\n",
      "\n"
     ]
    },
    {
     "data": {
      "application/vnd.plotly.v1+json": {
       "config": {
        "plotlyServerURL": "https://plot.ly"
       },
       "data": [
        {
         "hovertemplate": "Time=%{x}<br>RUL=%{y}<extra></extra>",
         "legendgroup": "",
         "line": {
          "color": "#636efa",
          "dash": "solid"
         },
         "marker": {
          "symbol": "circle"
         },
         "mode": "lines",
         "name": "",
         "orientation": "v",
         "showlegend": false,
         "type": "scatter",
         "x": [
          1,
          2,
          3,
          4,
          5,
          6,
          7,
          8,
          9,
          10,
          11,
          12,
          13,
          14,
          15,
          16,
          17,
          18,
          19,
          20,
          21,
          22,
          23,
          24,
          25,
          26,
          27,
          28,
          29,
          30,
          31,
          32,
          33,
          34,
          35,
          36,
          37,
          38,
          39,
          40,
          41,
          42,
          43,
          44,
          45,
          46,
          47,
          48,
          49,
          50,
          51,
          52,
          53,
          54,
          55,
          56,
          57,
          58,
          59,
          60,
          61,
          62,
          63,
          64,
          65,
          66,
          67,
          68,
          69,
          70,
          71,
          72,
          73,
          74,
          75,
          76,
          77,
          78,
          79,
          80,
          81,
          82,
          83,
          84,
          85,
          86,
          87,
          88,
          89,
          90,
          91,
          92,
          93,
          94,
          95,
          96,
          97,
          98,
          99,
          100,
          101,
          102,
          103,
          104,
          105,
          106,
          107,
          108,
          109,
          110,
          111,
          112,
          113,
          114,
          115,
          116,
          117,
          118,
          119,
          120,
          121,
          122,
          123,
          124,
          125,
          126,
          127,
          128,
          129,
          130,
          131,
          132,
          133,
          134,
          135,
          136,
          137,
          138,
          139,
          140,
          141,
          142,
          143,
          144,
          145,
          146,
          147,
          148,
          149,
          150,
          151,
          152,
          153,
          154,
          155,
          156,
          157,
          158,
          159,
          160,
          161,
          162,
          163,
          164,
          165,
          166,
          167,
          168,
          169,
          170,
          171,
          172,
          173,
          174,
          175,
          176,
          177,
          178,
          179,
          180,
          181,
          182,
          183,
          184,
          185,
          186,
          187,
          188,
          189,
          190,
          191,
          192,
          193,
          194,
          195,
          196,
          197,
          198
         ],
         "xaxis": "x",
         "y": [
          217,
          216,
          215,
          214,
          213,
          212,
          211,
          210,
          209,
          208,
          207,
          206,
          205,
          204,
          203,
          202,
          201,
          200,
          199,
          198,
          197,
          196,
          195,
          194,
          193,
          192,
          191,
          190,
          189,
          188,
          187,
          186,
          185,
          184,
          183,
          182,
          181,
          180,
          179,
          178,
          177,
          176,
          175,
          174,
          173,
          172,
          171,
          170,
          169,
          168,
          167,
          166,
          165,
          164,
          163,
          162,
          161,
          160,
          159,
          158,
          157,
          156,
          155,
          154,
          153,
          152,
          151,
          150,
          149,
          148,
          147,
          146,
          145,
          144,
          143,
          142,
          141,
          140,
          139,
          138,
          137,
          136,
          135,
          134,
          133,
          132,
          131,
          130,
          129,
          128,
          127,
          126,
          125,
          124,
          123,
          122,
          121,
          120,
          119,
          118,
          117,
          116,
          115,
          114,
          113,
          112,
          111,
          110,
          109,
          108,
          107,
          106,
          105,
          104,
          103,
          102,
          101,
          100,
          99,
          98,
          97,
          96,
          95,
          94,
          93,
          92,
          91,
          90,
          89,
          88,
          87,
          86,
          85,
          84,
          83,
          82,
          81,
          80,
          79,
          78,
          77,
          76,
          75,
          74,
          73,
          72,
          71,
          70,
          69,
          68,
          67,
          66,
          65,
          64,
          63,
          62,
          61,
          60,
          59,
          58,
          57,
          56,
          55,
          54,
          53,
          52,
          51,
          50,
          49,
          48,
          47,
          46,
          45,
          44,
          43,
          42,
          41,
          40,
          39,
          38,
          37,
          36,
          35,
          34,
          33,
          32,
          31,
          30,
          29,
          28,
          27,
          26,
          25,
          24,
          23,
          22,
          21,
          20
         ],
         "yaxis": "y"
        },
        {
         "mode": "lines",
         "name": "Predicted RUL",
         "type": "scatter",
         "x": [
          1,
          2,
          3,
          4,
          5,
          6,
          7,
          8,
          9,
          10,
          11,
          12,
          13,
          14,
          15,
          16,
          17,
          18,
          19,
          20,
          21,
          22,
          23,
          24,
          25,
          26,
          27,
          28,
          29,
          30,
          31,
          32,
          33,
          34,
          35,
          36,
          37,
          38,
          39,
          40,
          41,
          42,
          43,
          44,
          45,
          46,
          47,
          48,
          49,
          50,
          51,
          52,
          53,
          54,
          55,
          56,
          57,
          58,
          59,
          60,
          61,
          62,
          63,
          64,
          65,
          66,
          67,
          68,
          69,
          70,
          71,
          72,
          73,
          74,
          75,
          76,
          77,
          78,
          79,
          80,
          81,
          82,
          83,
          84,
          85,
          86,
          87,
          88,
          89,
          90,
          91,
          92,
          93,
          94,
          95,
          96,
          97,
          98,
          99,
          100,
          101,
          102,
          103,
          104,
          105,
          106,
          107,
          108,
          109,
          110,
          111,
          112,
          113,
          114,
          115,
          116,
          117,
          118,
          119,
          120,
          121,
          122,
          123,
          124,
          125,
          126,
          127,
          128,
          129,
          130,
          131,
          132,
          133,
          134,
          135,
          136,
          137,
          138,
          139,
          140,
          141,
          142,
          143,
          144,
          145,
          146,
          147,
          148,
          149,
          150,
          151,
          152,
          153,
          154,
          155,
          156,
          157,
          158,
          159,
          160,
          161,
          162,
          163,
          164,
          165,
          166,
          167,
          168,
          169,
          170,
          171,
          172,
          173,
          174,
          175,
          176,
          177,
          178,
          179,
          180,
          181,
          182,
          183,
          184,
          185,
          186,
          187,
          188,
          189,
          190,
          191,
          192,
          193,
          194,
          195,
          196,
          197,
          198
         ],
         "y": [
          129.48358154296875,
          125.13764190673828,
          147.8680419921875,
          141.7952880859375,
          136.16065979003906,
          138.6236572265625,
          132.2289276123047,
          131.17405700683594,
          139.85232543945312,
          146.0419158935547,
          140.65899658203125,
          129.6539306640625,
          135.28443908691406,
          128.69212341308594,
          136.58680725097656,
          120.40918731689453,
          136.91156005859375,
          128.0225372314453,
          133.6660919189453,
          143.27870178222656,
          128.84878540039062,
          153.276123046875,
          126.96221923828125,
          148.02261352539062,
          144.36956787109375,
          141.92979431152344,
          137.76531982421875,
          135.9952850341797,
          135.36322021484375,
          145.32379150390625,
          141.9921417236328,
          124.29922485351562,
          140.70883178710938,
          143.51431274414062,
          135.5572967529297,
          118.79572296142578,
          132.8223419189453,
          136.71176147460938,
          145.08309936523438,
          158.47769165039062,
          125.4341049194336,
          151.03292846679688,
          134.0917205810547,
          127.62882232666016,
          134.44447326660156,
          127.58431243896484,
          114.2861328125,
          138.452880859375,
          138.73239135742188,
          127.40396881103516,
          142.5390625,
          138.44297790527344,
          120.0950698852539,
          146.0397491455078,
          145.1928253173828,
          134.34243774414062,
          130.5763702392578,
          121.12057495117188,
          133.63449096679688,
          119.1014633178711,
          118.46055603027344,
          136.30813598632812,
          135.99024963378906,
          135.61514282226562,
          133.7100067138672,
          142.88983154296875,
          136.19053649902344,
          121.86186218261719,
          132.46861267089844,
          137.51138305664062,
          131.92575073242188,
          127.38099670410156,
          142.23825073242188,
          121.1490478515625,
          129.01654052734375,
          121.04174041748047,
          118.04093170166016,
          126.33154296875,
          129.6153564453125,
          140.2197723388672,
          127.62895202636719,
          133.01092529296875,
          130.08639526367188,
          143.6493377685547,
          140.8148956298828,
          129.4473114013672,
          113.74803924560547,
          132.69558715820312,
          130.99456787109375,
          125.11736297607422,
          141.28195190429688,
          130.9537811279297,
          122.6250991821289,
          120.42723846435547,
          123.5987548828125,
          120.48365783691406,
          117.32762908935547,
          139.7639617919922,
          137.13900756835938,
          127.74313354492188,
          122.67517852783203,
          130.8611297607422,
          125.10034942626953,
          124.00077056884766,
          127.45389556884766,
          121.53938293457031,
          108.41497802734375,
          123.186767578125,
          115.59919738769531,
          114.61383056640625,
          140.5115203857422,
          120.7868423461914,
          108.1191635131836,
          129.80844116210938,
          123.16373443603516,
          114.00135803222656,
          136.88143920898438,
          126.63461303710938,
          121.36930847167969,
          123.73261260986328,
          143.07693481445312,
          135.1971893310547,
          124.2616958618164,
          127.94694519042969,
          103.37696075439453,
          100.88817596435547,
          106.49166870117188,
          124.4455795288086,
          100.3147201538086,
          112.05776977539062,
          104.65148162841797,
          110.77310180664062,
          119.52120208740234,
          120.4632568359375,
          108.20885467529297,
          115.89421844482422,
          114.54039001464844,
          112.6899642944336,
          104.12194061279297,
          113.95036315917969,
          115.99347686767578,
          118.91970825195312,
          120.34846496582031,
          116.82581329345703,
          108.08494567871094,
          106.58582305908203,
          120.4297866821289,
          116.08091735839844,
          104.26538848876953,
          105.22500610351562,
          84.09169006347656,
          91.11527252197266,
          124.46822357177734,
          96.10240936279297,
          72.92935180664062,
          103.57516479492188,
          112.09252166748047,
          105.50923156738281,
          93.35433197021484,
          107.9299545288086,
          73.7751693725586,
          86.00698852539062,
          97.07930755615234,
          92.63639831542969,
          79.14938354492188,
          85.06120300292969,
          83.25536346435547,
          96.01477813720703,
          90.42874908447266,
          83.15157318115234,
          80.1075210571289,
          87.75193786621094,
          95.98117065429688,
          84.38162231445312,
          95.496826171875,
          62.9384651184082,
          80.59300231933594,
          67.95449829101562,
          69.92096710205078,
          67.14732360839844,
          80.36740112304688,
          67.25242614746094,
          73.49198913574219,
          46.503807067871094,
          55.49312210083008,
          68.8587417602539,
          50.64277267456055,
          53.65524673461914,
          45.864776611328125,
          58.32889938354492,
          50.57451629638672,
          35.08481216430664,
          39.80663299560547,
          26.866884231567383,
          17.67281150817871,
          37.140708923339844,
          28.16558265686035,
          10.564237594604492
         ]
        }
       ],
       "layout": {
        "legend": {
         "tracegroupgap": 0,
         "x": 0.1,
         "xanchor": "left",
         "y": 0.1,
         "yanchor": "bottom"
        },
        "template": {
         "data": {
          "bar": [
           {
            "error_x": {
             "color": "#f2f5fa"
            },
            "error_y": {
             "color": "#f2f5fa"
            },
            "marker": {
             "line": {
              "color": "rgb(17,17,17)",
              "width": 0.5
             },
             "pattern": {
              "fillmode": "overlay",
              "size": 10,
              "solidity": 0.2
             }
            },
            "type": "bar"
           }
          ],
          "barpolar": [
           {
            "marker": {
             "line": {
              "color": "rgb(17,17,17)",
              "width": 0.5
             },
             "pattern": {
              "fillmode": "overlay",
              "size": 10,
              "solidity": 0.2
             }
            },
            "type": "barpolar"
           }
          ],
          "carpet": [
           {
            "aaxis": {
             "endlinecolor": "#A2B1C6",
             "gridcolor": "#506784",
             "linecolor": "#506784",
             "minorgridcolor": "#506784",
             "startlinecolor": "#A2B1C6"
            },
            "baxis": {
             "endlinecolor": "#A2B1C6",
             "gridcolor": "#506784",
             "linecolor": "#506784",
             "minorgridcolor": "#506784",
             "startlinecolor": "#A2B1C6"
            },
            "type": "carpet"
           }
          ],
          "choropleth": [
           {
            "colorbar": {
             "outlinewidth": 0,
             "ticks": ""
            },
            "type": "choropleth"
           }
          ],
          "contour": [
           {
            "colorbar": {
             "outlinewidth": 0,
             "ticks": ""
            },
            "colorscale": [
             [
              0,
              "#0d0887"
             ],
             [
              0.1111111111111111,
              "#46039f"
             ],
             [
              0.2222222222222222,
              "#7201a8"
             ],
             [
              0.3333333333333333,
              "#9c179e"
             ],
             [
              0.4444444444444444,
              "#bd3786"
             ],
             [
              0.5555555555555556,
              "#d8576b"
             ],
             [
              0.6666666666666666,
              "#ed7953"
             ],
             [
              0.7777777777777778,
              "#fb9f3a"
             ],
             [
              0.8888888888888888,
              "#fdca26"
             ],
             [
              1,
              "#f0f921"
             ]
            ],
            "type": "contour"
           }
          ],
          "contourcarpet": [
           {
            "colorbar": {
             "outlinewidth": 0,
             "ticks": ""
            },
            "type": "contourcarpet"
           }
          ],
          "heatmap": [
           {
            "colorbar": {
             "outlinewidth": 0,
             "ticks": ""
            },
            "colorscale": [
             [
              0,
              "#0d0887"
             ],
             [
              0.1111111111111111,
              "#46039f"
             ],
             [
              0.2222222222222222,
              "#7201a8"
             ],
             [
              0.3333333333333333,
              "#9c179e"
             ],
             [
              0.4444444444444444,
              "#bd3786"
             ],
             [
              0.5555555555555556,
              "#d8576b"
             ],
             [
              0.6666666666666666,
              "#ed7953"
             ],
             [
              0.7777777777777778,
              "#fb9f3a"
             ],
             [
              0.8888888888888888,
              "#fdca26"
             ],
             [
              1,
              "#f0f921"
             ]
            ],
            "type": "heatmap"
           }
          ],
          "heatmapgl": [
           {
            "colorbar": {
             "outlinewidth": 0,
             "ticks": ""
            },
            "colorscale": [
             [
              0,
              "#0d0887"
             ],
             [
              0.1111111111111111,
              "#46039f"
             ],
             [
              0.2222222222222222,
              "#7201a8"
             ],
             [
              0.3333333333333333,
              "#9c179e"
             ],
             [
              0.4444444444444444,
              "#bd3786"
             ],
             [
              0.5555555555555556,
              "#d8576b"
             ],
             [
              0.6666666666666666,
              "#ed7953"
             ],
             [
              0.7777777777777778,
              "#fb9f3a"
             ],
             [
              0.8888888888888888,
              "#fdca26"
             ],
             [
              1,
              "#f0f921"
             ]
            ],
            "type": "heatmapgl"
           }
          ],
          "histogram": [
           {
            "marker": {
             "pattern": {
              "fillmode": "overlay",
              "size": 10,
              "solidity": 0.2
             }
            },
            "type": "histogram"
           }
          ],
          "histogram2d": [
           {
            "colorbar": {
             "outlinewidth": 0,
             "ticks": ""
            },
            "colorscale": [
             [
              0,
              "#0d0887"
             ],
             [
              0.1111111111111111,
              "#46039f"
             ],
             [
              0.2222222222222222,
              "#7201a8"
             ],
             [
              0.3333333333333333,
              "#9c179e"
             ],
             [
              0.4444444444444444,
              "#bd3786"
             ],
             [
              0.5555555555555556,
              "#d8576b"
             ],
             [
              0.6666666666666666,
              "#ed7953"
             ],
             [
              0.7777777777777778,
              "#fb9f3a"
             ],
             [
              0.8888888888888888,
              "#fdca26"
             ],
             [
              1,
              "#f0f921"
             ]
            ],
            "type": "histogram2d"
           }
          ],
          "histogram2dcontour": [
           {
            "colorbar": {
             "outlinewidth": 0,
             "ticks": ""
            },
            "colorscale": [
             [
              0,
              "#0d0887"
             ],
             [
              0.1111111111111111,
              "#46039f"
             ],
             [
              0.2222222222222222,
              "#7201a8"
             ],
             [
              0.3333333333333333,
              "#9c179e"
             ],
             [
              0.4444444444444444,
              "#bd3786"
             ],
             [
              0.5555555555555556,
              "#d8576b"
             ],
             [
              0.6666666666666666,
              "#ed7953"
             ],
             [
              0.7777777777777778,
              "#fb9f3a"
             ],
             [
              0.8888888888888888,
              "#fdca26"
             ],
             [
              1,
              "#f0f921"
             ]
            ],
            "type": "histogram2dcontour"
           }
          ],
          "mesh3d": [
           {
            "colorbar": {
             "outlinewidth": 0,
             "ticks": ""
            },
            "type": "mesh3d"
           }
          ],
          "parcoords": [
           {
            "line": {
             "colorbar": {
              "outlinewidth": 0,
              "ticks": ""
             }
            },
            "type": "parcoords"
           }
          ],
          "pie": [
           {
            "automargin": true,
            "type": "pie"
           }
          ],
          "scatter": [
           {
            "marker": {
             "line": {
              "color": "#283442"
             }
            },
            "type": "scatter"
           }
          ],
          "scatter3d": [
           {
            "line": {
             "colorbar": {
              "outlinewidth": 0,
              "ticks": ""
             }
            },
            "marker": {
             "colorbar": {
              "outlinewidth": 0,
              "ticks": ""
             }
            },
            "type": "scatter3d"
           }
          ],
          "scattercarpet": [
           {
            "marker": {
             "colorbar": {
              "outlinewidth": 0,
              "ticks": ""
             }
            },
            "type": "scattercarpet"
           }
          ],
          "scattergeo": [
           {
            "marker": {
             "colorbar": {
              "outlinewidth": 0,
              "ticks": ""
             }
            },
            "type": "scattergeo"
           }
          ],
          "scattergl": [
           {
            "marker": {
             "line": {
              "color": "#283442"
             }
            },
            "type": "scattergl"
           }
          ],
          "scattermapbox": [
           {
            "marker": {
             "colorbar": {
              "outlinewidth": 0,
              "ticks": ""
             }
            },
            "type": "scattermapbox"
           }
          ],
          "scatterpolar": [
           {
            "marker": {
             "colorbar": {
              "outlinewidth": 0,
              "ticks": ""
             }
            },
            "type": "scatterpolar"
           }
          ],
          "scatterpolargl": [
           {
            "marker": {
             "colorbar": {
              "outlinewidth": 0,
              "ticks": ""
             }
            },
            "type": "scatterpolargl"
           }
          ],
          "scatterternary": [
           {
            "marker": {
             "colorbar": {
              "outlinewidth": 0,
              "ticks": ""
             }
            },
            "type": "scatterternary"
           }
          ],
          "surface": [
           {
            "colorbar": {
             "outlinewidth": 0,
             "ticks": ""
            },
            "colorscale": [
             [
              0,
              "#0d0887"
             ],
             [
              0.1111111111111111,
              "#46039f"
             ],
             [
              0.2222222222222222,
              "#7201a8"
             ],
             [
              0.3333333333333333,
              "#9c179e"
             ],
             [
              0.4444444444444444,
              "#bd3786"
             ],
             [
              0.5555555555555556,
              "#d8576b"
             ],
             [
              0.6666666666666666,
              "#ed7953"
             ],
             [
              0.7777777777777778,
              "#fb9f3a"
             ],
             [
              0.8888888888888888,
              "#fdca26"
             ],
             [
              1,
              "#f0f921"
             ]
            ],
            "type": "surface"
           }
          ],
          "table": [
           {
            "cells": {
             "fill": {
              "color": "#506784"
             },
             "line": {
              "color": "rgb(17,17,17)"
             }
            },
            "header": {
             "fill": {
              "color": "#2a3f5f"
             },
             "line": {
              "color": "rgb(17,17,17)"
             }
            },
            "type": "table"
           }
          ]
         },
         "layout": {
          "annotationdefaults": {
           "arrowcolor": "#f2f5fa",
           "arrowhead": 0,
           "arrowwidth": 1
          },
          "autotypenumbers": "strict",
          "coloraxis": {
           "colorbar": {
            "outlinewidth": 0,
            "ticks": ""
           }
          },
          "colorscale": {
           "diverging": [
            [
             0,
             "#8e0152"
            ],
            [
             0.1,
             "#c51b7d"
            ],
            [
             0.2,
             "#de77ae"
            ],
            [
             0.3,
             "#f1b6da"
            ],
            [
             0.4,
             "#fde0ef"
            ],
            [
             0.5,
             "#f7f7f7"
            ],
            [
             0.6,
             "#e6f5d0"
            ],
            [
             0.7,
             "#b8e186"
            ],
            [
             0.8,
             "#7fbc41"
            ],
            [
             0.9,
             "#4d9221"
            ],
            [
             1,
             "#276419"
            ]
           ],
           "sequential": [
            [
             0,
             "#0d0887"
            ],
            [
             0.1111111111111111,
             "#46039f"
            ],
            [
             0.2222222222222222,
             "#7201a8"
            ],
            [
             0.3333333333333333,
             "#9c179e"
            ],
            [
             0.4444444444444444,
             "#bd3786"
            ],
            [
             0.5555555555555556,
             "#d8576b"
            ],
            [
             0.6666666666666666,
             "#ed7953"
            ],
            [
             0.7777777777777778,
             "#fb9f3a"
            ],
            [
             0.8888888888888888,
             "#fdca26"
            ],
            [
             1,
             "#f0f921"
            ]
           ],
           "sequentialminus": [
            [
             0,
             "#0d0887"
            ],
            [
             0.1111111111111111,
             "#46039f"
            ],
            [
             0.2222222222222222,
             "#7201a8"
            ],
            [
             0.3333333333333333,
             "#9c179e"
            ],
            [
             0.4444444444444444,
             "#bd3786"
            ],
            [
             0.5555555555555556,
             "#d8576b"
            ],
            [
             0.6666666666666666,
             "#ed7953"
            ],
            [
             0.7777777777777778,
             "#fb9f3a"
            ],
            [
             0.8888888888888888,
             "#fdca26"
            ],
            [
             1,
             "#f0f921"
            ]
           ]
          },
          "colorway": [
           "#636efa",
           "#EF553B",
           "#00cc96",
           "#ab63fa",
           "#FFA15A",
           "#19d3f3",
           "#FF6692",
           "#B6E880",
           "#FF97FF",
           "#FECB52"
          ],
          "font": {
           "color": "#f2f5fa"
          },
          "geo": {
           "bgcolor": "rgb(17,17,17)",
           "lakecolor": "rgb(17,17,17)",
           "landcolor": "rgb(17,17,17)",
           "showlakes": true,
           "showland": true,
           "subunitcolor": "#506784"
          },
          "hoverlabel": {
           "align": "left"
          },
          "hovermode": "closest",
          "mapbox": {
           "style": "dark"
          },
          "paper_bgcolor": "rgb(17,17,17)",
          "plot_bgcolor": "rgb(17,17,17)",
          "polar": {
           "angularaxis": {
            "gridcolor": "#506784",
            "linecolor": "#506784",
            "ticks": ""
           },
           "bgcolor": "rgb(17,17,17)",
           "radialaxis": {
            "gridcolor": "#506784",
            "linecolor": "#506784",
            "ticks": ""
           }
          },
          "scene": {
           "xaxis": {
            "backgroundcolor": "rgb(17,17,17)",
            "gridcolor": "#506784",
            "gridwidth": 2,
            "linecolor": "#506784",
            "showbackground": true,
            "ticks": "",
            "zerolinecolor": "#C8D4E3"
           },
           "yaxis": {
            "backgroundcolor": "rgb(17,17,17)",
            "gridcolor": "#506784",
            "gridwidth": 2,
            "linecolor": "#506784",
            "showbackground": true,
            "ticks": "",
            "zerolinecolor": "#C8D4E3"
           },
           "zaxis": {
            "backgroundcolor": "rgb(17,17,17)",
            "gridcolor": "#506784",
            "gridwidth": 2,
            "linecolor": "#506784",
            "showbackground": true,
            "ticks": "",
            "zerolinecolor": "#C8D4E3"
           }
          },
          "shapedefaults": {
           "line": {
            "color": "#f2f5fa"
           }
          },
          "sliderdefaults": {
           "bgcolor": "#C8D4E3",
           "bordercolor": "rgb(17,17,17)",
           "borderwidth": 1,
           "tickwidth": 0
          },
          "ternary": {
           "aaxis": {
            "gridcolor": "#506784",
            "linecolor": "#506784",
            "ticks": ""
           },
           "baxis": {
            "gridcolor": "#506784",
            "linecolor": "#506784",
            "ticks": ""
           },
           "bgcolor": "rgb(17,17,17)",
           "caxis": {
            "gridcolor": "#506784",
            "linecolor": "#506784",
            "ticks": ""
           }
          },
          "title": {
           "x": 0.05
          },
          "updatemenudefaults": {
           "bgcolor": "#506784",
           "borderwidth": 0
          },
          "xaxis": {
           "automargin": true,
           "gridcolor": "#283442",
           "linecolor": "#506784",
           "ticks": "",
           "title": {
            "standoff": 15
           },
           "zerolinecolor": "#283442",
           "zerolinewidth": 2
          },
          "yaxis": {
           "automargin": true,
           "gridcolor": "#283442",
           "linecolor": "#506784",
           "ticks": "",
           "title": {
            "standoff": 15
           },
           "zerolinecolor": "#283442",
           "zerolinewidth": 2
          }
         }
        },
        "title": {
         "text": "RUL Over Time: Unit 100"
        },
        "xaxis": {
         "anchor": "y",
         "domain": [
          0,
          1
         ],
         "title": {
          "text": "Time"
         }
        },
        "yaxis": {
         "anchor": "x",
         "domain": [
          0,
          1
         ],
         "title": {
          "text": "RUL"
         }
        }
       }
      }
     },
     "metadata": {},
     "output_type": "display_data"
    },
    {
     "name": "stderr",
     "output_type": "stream",
     "text": [
      "/var/folders/fq/rhmrwqtn21nbjh5rjcghp6400000gn/T/ipykernel_14562/2422412391.py:13: DeprecationWarning:\n",
      "\n",
      "Conversion of an array with ndim > 0 to a scalar is deprecated, and will error in future. Ensure you extract a single element from your array before performing this operation. (Deprecated NumPy 1.25.)\n",
      "\n"
     ]
    },
    {
     "data": {
      "application/vnd.plotly.v1+json": {
       "config": {
        "plotlyServerURL": "https://plot.ly"
       },
       "data": [
        {
         "hovertemplate": "Time=%{x}<br>RUL=%{y}<extra></extra>",
         "legendgroup": "",
         "line": {
          "color": "#636efa",
          "dash": "solid"
         },
         "marker": {
          "symbol": "circle"
         },
         "mode": "lines",
         "name": "",
         "orientation": "v",
         "showlegend": false,
         "type": "scatter",
         "x": [
          1,
          2,
          3,
          4,
          5,
          6,
          7,
          8,
          9,
          10,
          11,
          12,
          13,
          14,
          15,
          16,
          17,
          18,
          19,
          20,
          21,
          22,
          23,
          24,
          25,
          26,
          27,
          28,
          29,
          30,
          31,
          32,
          33,
          34,
          35,
          36,
          37,
          38,
          39,
          40,
          41,
          42,
          43,
          44,
          45,
          46,
          47,
          48,
          49,
          50,
          51,
          52,
          53,
          54,
          55,
          56,
          57,
          58,
          59,
          60,
          61,
          62,
          63,
          64,
          65,
          66,
          67,
          68,
          69,
          70,
          71,
          72,
          73,
          74,
          75,
          76,
          77,
          78,
          79,
          80,
          81,
          82,
          83,
          84,
          85,
          86,
          87,
          88,
          89,
          90,
          91,
          92,
          93,
          94,
          95,
          96,
          97,
          98,
          99,
          100,
          101,
          102,
          103,
          104,
          105,
          106,
          107,
          108,
          109,
          110,
          111,
          112,
          113,
          114,
          115,
          116,
          117,
          118,
          119,
          120,
          121,
          122,
          123,
          124,
          125,
          126,
          127,
          128,
          129,
          130,
          131,
          132,
          133,
          134,
          135,
          136,
          137,
          138,
          139,
          140,
          141,
          142,
          143,
          144,
          145,
          146,
          147,
          148,
          149,
          150,
          151,
          152,
          153,
          154,
          155,
          156,
          157,
          158,
          159,
          160,
          161,
          162,
          163,
          164,
          165,
          166,
          167,
          168,
          169,
          170,
          171,
          172,
          173,
          174,
          175,
          176,
          177,
          178,
          179,
          180,
          181,
          182,
          183,
          184,
          185,
          186,
          187,
          188,
          189,
          190,
          191,
          192,
          193,
          194,
          195,
          196,
          197,
          198
         ],
         "xaxis": "x",
         "y": [
          217,
          216,
          215,
          214,
          213,
          212,
          211,
          210,
          209,
          208,
          207,
          206,
          205,
          204,
          203,
          202,
          201,
          200,
          199,
          198,
          197,
          196,
          195,
          194,
          193,
          192,
          191,
          190,
          189,
          188,
          187,
          186,
          185,
          184,
          183,
          182,
          181,
          180,
          179,
          178,
          177,
          176,
          175,
          174,
          173,
          172,
          171,
          170,
          169,
          168,
          167,
          166,
          165,
          164,
          163,
          162,
          161,
          160,
          159,
          158,
          157,
          156,
          155,
          154,
          153,
          152,
          151,
          150,
          149,
          148,
          147,
          146,
          145,
          144,
          143,
          142,
          141,
          140,
          139,
          138,
          137,
          136,
          135,
          134,
          133,
          132,
          131,
          130,
          129,
          128,
          127,
          126,
          125,
          124,
          123,
          122,
          121,
          120,
          119,
          118,
          117,
          116,
          115,
          114,
          113,
          112,
          111,
          110,
          109,
          108,
          107,
          106,
          105,
          104,
          103,
          102,
          101,
          100,
          99,
          98,
          97,
          96,
          95,
          94,
          93,
          92,
          91,
          90,
          89,
          88,
          87,
          86,
          85,
          84,
          83,
          82,
          81,
          80,
          79,
          78,
          77,
          76,
          75,
          74,
          73,
          72,
          71,
          70,
          69,
          68,
          67,
          66,
          65,
          64,
          63,
          62,
          61,
          60,
          59,
          58,
          57,
          56,
          55,
          54,
          53,
          52,
          51,
          50,
          49,
          48,
          47,
          46,
          45,
          44,
          43,
          42,
          41,
          40,
          39,
          38,
          37,
          36,
          35,
          34,
          33,
          32,
          31,
          30,
          29,
          28,
          27,
          26,
          25,
          24,
          23,
          22,
          21,
          20
         ],
         "yaxis": "y"
        },
        {
         "mode": "lines",
         "name": "Predicted RUL",
         "type": "scatter",
         "x": [
          1,
          2,
          3,
          4,
          5,
          6,
          7,
          8,
          9,
          10,
          11,
          12,
          13,
          14,
          15,
          16,
          17,
          18,
          19,
          20,
          21,
          22,
          23,
          24,
          25,
          26,
          27,
          28,
          29,
          30,
          31,
          32,
          33,
          34,
          35,
          36,
          37,
          38,
          39,
          40,
          41,
          42,
          43,
          44,
          45,
          46,
          47,
          48,
          49,
          50,
          51,
          52,
          53,
          54,
          55,
          56,
          57,
          58,
          59,
          60,
          61,
          62,
          63,
          64,
          65,
          66,
          67,
          68,
          69,
          70,
          71,
          72,
          73,
          74,
          75,
          76,
          77,
          78,
          79,
          80,
          81,
          82,
          83,
          84,
          85,
          86,
          87,
          88,
          89,
          90,
          91,
          92,
          93,
          94,
          95,
          96,
          97,
          98,
          99,
          100,
          101,
          102,
          103,
          104,
          105,
          106,
          107,
          108,
          109,
          110,
          111,
          112,
          113,
          114,
          115,
          116,
          117,
          118,
          119,
          120,
          121,
          122,
          123,
          124,
          125,
          126,
          127,
          128,
          129,
          130,
          131,
          132,
          133,
          134,
          135,
          136,
          137,
          138,
          139,
          140,
          141,
          142,
          143,
          144,
          145,
          146,
          147,
          148,
          149,
          150,
          151,
          152,
          153,
          154,
          155,
          156,
          157,
          158,
          159,
          160,
          161,
          162,
          163,
          164,
          165,
          166,
          167,
          168,
          169,
          170,
          171,
          172,
          173,
          174,
          175,
          176,
          177,
          178,
          179,
          180,
          181,
          182,
          183,
          184,
          185,
          186,
          187,
          188,
          189,
          190,
          191,
          192,
          193,
          194,
          195,
          196,
          197,
          198
         ],
         "y": [
          150.39743041992188,
          140.1824951171875,
          163.4230194091797,
          157.2884979248047,
          148.4704132080078,
          159.90919494628906,
          146.5608367919922,
          154.9623260498047,
          160.10057067871094,
          162.1293182373047,
          161.42010498046875,
          156.44874572753906,
          141.34173583984375,
          148.49073791503906,
          146.82627868652344,
          154.49891662597656,
          153.34629821777344,
          146.15505981445312,
          153.82232666015625,
          160.09864807128906,
          151.99575805664062,
          156.9223175048828,
          151.2265167236328,
          171.12115478515625,
          148.05218505859375,
          156.59669494628906,
          153.80743408203125,
          149.06532287597656,
          149.8436279296875,
          158.28286743164062,
          156.3732452392578,
          142.6157989501953,
          158.05218505859375,
          150.81773376464844,
          154.28114318847656,
          144.69163513183594,
          153.4529571533203,
          151.44876098632812,
          167.81399536132812,
          171.5093231201172,
          147.77560424804688,
          165.45851135253906,
          159.74000549316406,
          137.81619262695312,
          156.32188415527344,
          146.0787811279297,
          163.36607360839844,
          150.61761474609375,
          152.74656677246094,
          141.446533203125,
          168.3089141845703,
          161.01235961914062,
          134.98451232910156,
          165.85682678222656,
          151.42376708984375,
          160.85946655273438,
          145.7498016357422,
          143.27142333984375,
          148.55050659179688,
          143.88363647460938,
          158.77743530273438,
          152.66407775878906,
          148.05079650878906,
          153.76913452148438,
          155.90594482421875,
          161.6674346923828,
          161.31802368164062,
          140.97259521484375,
          151.09494018554688,
          148.93894958496094,
          143.3992462158203,
          138.15151977539062,
          154.80923461914062,
          150.15614318847656,
          150.09356689453125,
          137.70230102539062,
          137.55422973632812,
          149.45216369628906,
          138.88124084472656,
          152.7888946533203,
          146.53004455566406,
          161.24163818359375,
          167.96348571777344,
          158.2385711669922,
          153.93003845214844,
          147.53787231445312,
          142.36968994140625,
          157.38027954101562,
          140.83641052246094,
          147.05479431152344,
          160.06072998046875,
          151.5141143798828,
          130.8695526123047,
          138.34303283691406,
          127.14344024658203,
          136.02818298339844,
          140.11605834960938,
          153.5112762451172,
          152.6125946044922,
          150.00030517578125,
          152.36520385742188,
          142.88694763183594,
          142.94483947753906,
          148.22018432617188,
          152.18104553222656,
          141.21340942382812,
          140.60865783691406,
          146.77146911621094,
          137.5261993408203,
          138.10020446777344,
          155.8162841796875,
          132.70330810546875,
          133.8506317138672,
          142.6448974609375,
          138.04835510253906,
          133.46823120117188,
          159.3731689453125,
          154.61843872070312,
          138.12290954589844,
          138.22328186035156,
          161.96241760253906,
          145.8190460205078,
          147.10470581054688,
          143.46151733398438,
          112.46694946289062,
          131.17538452148438,
          152.8872528076172,
          135.79611206054688,
          118.26029968261719,
          132.1005859375,
          126.68494415283203,
          125.57818603515625,
          132.80726623535156,
          145.80528259277344,
          130.3577423095703,
          136.3169403076172,
          145.6095428466797,
          128.1604461669922,
          137.7556915283203,
          138.64285278320312,
          135.0061492919922,
          131.71669006347656,
          130.9235076904297,
          131.18154907226562,
          126.43132019042969,
          135.68153381347656,
          133.8452911376953,
          136.52732849121094,
          132.93629455566406,
          121.064453125,
          110.9146728515625,
          119.10204315185547,
          142.3054656982422,
          111.16077423095703,
          114.63370513916016,
          120.6701889038086,
          127.28813171386719,
          129.9265899658203,
          127.07817077636719,
          119.68311309814453,
          112.1977767944336,
          111.42037200927734,
          120.40093994140625,
          116.7729263305664,
          108.4408187866211,
          113.89065551757812,
          97.0837631225586,
          118.9697494506836,
          114.4571533203125,
          111.19052124023438,
          114.11992645263672,
          111.10752868652344,
          111.75630187988281,
          117.0295181274414,
          111.15276336669922,
          88.4462661743164,
          107.34249114990234,
          100.14752197265625,
          104.75680541992188,
          93.3248291015625,
          123.31610107421875,
          96.95133972167969,
          99.06985473632812,
          86.9087142944336,
          93.01768493652344,
          94.69914245605469,
          83.8532485961914,
          91.48468780517578,
          86.08391571044922,
          72.14308166503906,
          85.15476989746094,
          76.06773376464844,
          76.5625991821289,
          67.66234588623047,
          63.40758514404297,
          77.87648010253906,
          66.70536041259766,
          34.70771789550781
         ]
        }
       ],
       "layout": {
        "legend": {
         "tracegroupgap": 0,
         "x": 0.1,
         "xanchor": "left",
         "y": 0.1,
         "yanchor": "bottom"
        },
        "template": {
         "data": {
          "bar": [
           {
            "error_x": {
             "color": "#f2f5fa"
            },
            "error_y": {
             "color": "#f2f5fa"
            },
            "marker": {
             "line": {
              "color": "rgb(17,17,17)",
              "width": 0.5
             },
             "pattern": {
              "fillmode": "overlay",
              "size": 10,
              "solidity": 0.2
             }
            },
            "type": "bar"
           }
          ],
          "barpolar": [
           {
            "marker": {
             "line": {
              "color": "rgb(17,17,17)",
              "width": 0.5
             },
             "pattern": {
              "fillmode": "overlay",
              "size": 10,
              "solidity": 0.2
             }
            },
            "type": "barpolar"
           }
          ],
          "carpet": [
           {
            "aaxis": {
             "endlinecolor": "#A2B1C6",
             "gridcolor": "#506784",
             "linecolor": "#506784",
             "minorgridcolor": "#506784",
             "startlinecolor": "#A2B1C6"
            },
            "baxis": {
             "endlinecolor": "#A2B1C6",
             "gridcolor": "#506784",
             "linecolor": "#506784",
             "minorgridcolor": "#506784",
             "startlinecolor": "#A2B1C6"
            },
            "type": "carpet"
           }
          ],
          "choropleth": [
           {
            "colorbar": {
             "outlinewidth": 0,
             "ticks": ""
            },
            "type": "choropleth"
           }
          ],
          "contour": [
           {
            "colorbar": {
             "outlinewidth": 0,
             "ticks": ""
            },
            "colorscale": [
             [
              0,
              "#0d0887"
             ],
             [
              0.1111111111111111,
              "#46039f"
             ],
             [
              0.2222222222222222,
              "#7201a8"
             ],
             [
              0.3333333333333333,
              "#9c179e"
             ],
             [
              0.4444444444444444,
              "#bd3786"
             ],
             [
              0.5555555555555556,
              "#d8576b"
             ],
             [
              0.6666666666666666,
              "#ed7953"
             ],
             [
              0.7777777777777778,
              "#fb9f3a"
             ],
             [
              0.8888888888888888,
              "#fdca26"
             ],
             [
              1,
              "#f0f921"
             ]
            ],
            "type": "contour"
           }
          ],
          "contourcarpet": [
           {
            "colorbar": {
             "outlinewidth": 0,
             "ticks": ""
            },
            "type": "contourcarpet"
           }
          ],
          "heatmap": [
           {
            "colorbar": {
             "outlinewidth": 0,
             "ticks": ""
            },
            "colorscale": [
             [
              0,
              "#0d0887"
             ],
             [
              0.1111111111111111,
              "#46039f"
             ],
             [
              0.2222222222222222,
              "#7201a8"
             ],
             [
              0.3333333333333333,
              "#9c179e"
             ],
             [
              0.4444444444444444,
              "#bd3786"
             ],
             [
              0.5555555555555556,
              "#d8576b"
             ],
             [
              0.6666666666666666,
              "#ed7953"
             ],
             [
              0.7777777777777778,
              "#fb9f3a"
             ],
             [
              0.8888888888888888,
              "#fdca26"
             ],
             [
              1,
              "#f0f921"
             ]
            ],
            "type": "heatmap"
           }
          ],
          "heatmapgl": [
           {
            "colorbar": {
             "outlinewidth": 0,
             "ticks": ""
            },
            "colorscale": [
             [
              0,
              "#0d0887"
             ],
             [
              0.1111111111111111,
              "#46039f"
             ],
             [
              0.2222222222222222,
              "#7201a8"
             ],
             [
              0.3333333333333333,
              "#9c179e"
             ],
             [
              0.4444444444444444,
              "#bd3786"
             ],
             [
              0.5555555555555556,
              "#d8576b"
             ],
             [
              0.6666666666666666,
              "#ed7953"
             ],
             [
              0.7777777777777778,
              "#fb9f3a"
             ],
             [
              0.8888888888888888,
              "#fdca26"
             ],
             [
              1,
              "#f0f921"
             ]
            ],
            "type": "heatmapgl"
           }
          ],
          "histogram": [
           {
            "marker": {
             "pattern": {
              "fillmode": "overlay",
              "size": 10,
              "solidity": 0.2
             }
            },
            "type": "histogram"
           }
          ],
          "histogram2d": [
           {
            "colorbar": {
             "outlinewidth": 0,
             "ticks": ""
            },
            "colorscale": [
             [
              0,
              "#0d0887"
             ],
             [
              0.1111111111111111,
              "#46039f"
             ],
             [
              0.2222222222222222,
              "#7201a8"
             ],
             [
              0.3333333333333333,
              "#9c179e"
             ],
             [
              0.4444444444444444,
              "#bd3786"
             ],
             [
              0.5555555555555556,
              "#d8576b"
             ],
             [
              0.6666666666666666,
              "#ed7953"
             ],
             [
              0.7777777777777778,
              "#fb9f3a"
             ],
             [
              0.8888888888888888,
              "#fdca26"
             ],
             [
              1,
              "#f0f921"
             ]
            ],
            "type": "histogram2d"
           }
          ],
          "histogram2dcontour": [
           {
            "colorbar": {
             "outlinewidth": 0,
             "ticks": ""
            },
            "colorscale": [
             [
              0,
              "#0d0887"
             ],
             [
              0.1111111111111111,
              "#46039f"
             ],
             [
              0.2222222222222222,
              "#7201a8"
             ],
             [
              0.3333333333333333,
              "#9c179e"
             ],
             [
              0.4444444444444444,
              "#bd3786"
             ],
             [
              0.5555555555555556,
              "#d8576b"
             ],
             [
              0.6666666666666666,
              "#ed7953"
             ],
             [
              0.7777777777777778,
              "#fb9f3a"
             ],
             [
              0.8888888888888888,
              "#fdca26"
             ],
             [
              1,
              "#f0f921"
             ]
            ],
            "type": "histogram2dcontour"
           }
          ],
          "mesh3d": [
           {
            "colorbar": {
             "outlinewidth": 0,
             "ticks": ""
            },
            "type": "mesh3d"
           }
          ],
          "parcoords": [
           {
            "line": {
             "colorbar": {
              "outlinewidth": 0,
              "ticks": ""
             }
            },
            "type": "parcoords"
           }
          ],
          "pie": [
           {
            "automargin": true,
            "type": "pie"
           }
          ],
          "scatter": [
           {
            "marker": {
             "line": {
              "color": "#283442"
             }
            },
            "type": "scatter"
           }
          ],
          "scatter3d": [
           {
            "line": {
             "colorbar": {
              "outlinewidth": 0,
              "ticks": ""
             }
            },
            "marker": {
             "colorbar": {
              "outlinewidth": 0,
              "ticks": ""
             }
            },
            "type": "scatter3d"
           }
          ],
          "scattercarpet": [
           {
            "marker": {
             "colorbar": {
              "outlinewidth": 0,
              "ticks": ""
             }
            },
            "type": "scattercarpet"
           }
          ],
          "scattergeo": [
           {
            "marker": {
             "colorbar": {
              "outlinewidth": 0,
              "ticks": ""
             }
            },
            "type": "scattergeo"
           }
          ],
          "scattergl": [
           {
            "marker": {
             "line": {
              "color": "#283442"
             }
            },
            "type": "scattergl"
           }
          ],
          "scattermapbox": [
           {
            "marker": {
             "colorbar": {
              "outlinewidth": 0,
              "ticks": ""
             }
            },
            "type": "scattermapbox"
           }
          ],
          "scatterpolar": [
           {
            "marker": {
             "colorbar": {
              "outlinewidth": 0,
              "ticks": ""
             }
            },
            "type": "scatterpolar"
           }
          ],
          "scatterpolargl": [
           {
            "marker": {
             "colorbar": {
              "outlinewidth": 0,
              "ticks": ""
             }
            },
            "type": "scatterpolargl"
           }
          ],
          "scatterternary": [
           {
            "marker": {
             "colorbar": {
              "outlinewidth": 0,
              "ticks": ""
             }
            },
            "type": "scatterternary"
           }
          ],
          "surface": [
           {
            "colorbar": {
             "outlinewidth": 0,
             "ticks": ""
            },
            "colorscale": [
             [
              0,
              "#0d0887"
             ],
             [
              0.1111111111111111,
              "#46039f"
             ],
             [
              0.2222222222222222,
              "#7201a8"
             ],
             [
              0.3333333333333333,
              "#9c179e"
             ],
             [
              0.4444444444444444,
              "#bd3786"
             ],
             [
              0.5555555555555556,
              "#d8576b"
             ],
             [
              0.6666666666666666,
              "#ed7953"
             ],
             [
              0.7777777777777778,
              "#fb9f3a"
             ],
             [
              0.8888888888888888,
              "#fdca26"
             ],
             [
              1,
              "#f0f921"
             ]
            ],
            "type": "surface"
           }
          ],
          "table": [
           {
            "cells": {
             "fill": {
              "color": "#506784"
             },
             "line": {
              "color": "rgb(17,17,17)"
             }
            },
            "header": {
             "fill": {
              "color": "#2a3f5f"
             },
             "line": {
              "color": "rgb(17,17,17)"
             }
            },
            "type": "table"
           }
          ]
         },
         "layout": {
          "annotationdefaults": {
           "arrowcolor": "#f2f5fa",
           "arrowhead": 0,
           "arrowwidth": 1
          },
          "autotypenumbers": "strict",
          "coloraxis": {
           "colorbar": {
            "outlinewidth": 0,
            "ticks": ""
           }
          },
          "colorscale": {
           "diverging": [
            [
             0,
             "#8e0152"
            ],
            [
             0.1,
             "#c51b7d"
            ],
            [
             0.2,
             "#de77ae"
            ],
            [
             0.3,
             "#f1b6da"
            ],
            [
             0.4,
             "#fde0ef"
            ],
            [
             0.5,
             "#f7f7f7"
            ],
            [
             0.6,
             "#e6f5d0"
            ],
            [
             0.7,
             "#b8e186"
            ],
            [
             0.8,
             "#7fbc41"
            ],
            [
             0.9,
             "#4d9221"
            ],
            [
             1,
             "#276419"
            ]
           ],
           "sequential": [
            [
             0,
             "#0d0887"
            ],
            [
             0.1111111111111111,
             "#46039f"
            ],
            [
             0.2222222222222222,
             "#7201a8"
            ],
            [
             0.3333333333333333,
             "#9c179e"
            ],
            [
             0.4444444444444444,
             "#bd3786"
            ],
            [
             0.5555555555555556,
             "#d8576b"
            ],
            [
             0.6666666666666666,
             "#ed7953"
            ],
            [
             0.7777777777777778,
             "#fb9f3a"
            ],
            [
             0.8888888888888888,
             "#fdca26"
            ],
            [
             1,
             "#f0f921"
            ]
           ],
           "sequentialminus": [
            [
             0,
             "#0d0887"
            ],
            [
             0.1111111111111111,
             "#46039f"
            ],
            [
             0.2222222222222222,
             "#7201a8"
            ],
            [
             0.3333333333333333,
             "#9c179e"
            ],
            [
             0.4444444444444444,
             "#bd3786"
            ],
            [
             0.5555555555555556,
             "#d8576b"
            ],
            [
             0.6666666666666666,
             "#ed7953"
            ],
            [
             0.7777777777777778,
             "#fb9f3a"
            ],
            [
             0.8888888888888888,
             "#fdca26"
            ],
            [
             1,
             "#f0f921"
            ]
           ]
          },
          "colorway": [
           "#636efa",
           "#EF553B",
           "#00cc96",
           "#ab63fa",
           "#FFA15A",
           "#19d3f3",
           "#FF6692",
           "#B6E880",
           "#FF97FF",
           "#FECB52"
          ],
          "font": {
           "color": "#f2f5fa"
          },
          "geo": {
           "bgcolor": "rgb(17,17,17)",
           "lakecolor": "rgb(17,17,17)",
           "landcolor": "rgb(17,17,17)",
           "showlakes": true,
           "showland": true,
           "subunitcolor": "#506784"
          },
          "hoverlabel": {
           "align": "left"
          },
          "hovermode": "closest",
          "mapbox": {
           "style": "dark"
          },
          "paper_bgcolor": "rgb(17,17,17)",
          "plot_bgcolor": "rgb(17,17,17)",
          "polar": {
           "angularaxis": {
            "gridcolor": "#506784",
            "linecolor": "#506784",
            "ticks": ""
           },
           "bgcolor": "rgb(17,17,17)",
           "radialaxis": {
            "gridcolor": "#506784",
            "linecolor": "#506784",
            "ticks": ""
           }
          },
          "scene": {
           "xaxis": {
            "backgroundcolor": "rgb(17,17,17)",
            "gridcolor": "#506784",
            "gridwidth": 2,
            "linecolor": "#506784",
            "showbackground": true,
            "ticks": "",
            "zerolinecolor": "#C8D4E3"
           },
           "yaxis": {
            "backgroundcolor": "rgb(17,17,17)",
            "gridcolor": "#506784",
            "gridwidth": 2,
            "linecolor": "#506784",
            "showbackground": true,
            "ticks": "",
            "zerolinecolor": "#C8D4E3"
           },
           "zaxis": {
            "backgroundcolor": "rgb(17,17,17)",
            "gridcolor": "#506784",
            "gridwidth": 2,
            "linecolor": "#506784",
            "showbackground": true,
            "ticks": "",
            "zerolinecolor": "#C8D4E3"
           }
          },
          "shapedefaults": {
           "line": {
            "color": "#f2f5fa"
           }
          },
          "sliderdefaults": {
           "bgcolor": "#C8D4E3",
           "bordercolor": "rgb(17,17,17)",
           "borderwidth": 1,
           "tickwidth": 0
          },
          "ternary": {
           "aaxis": {
            "gridcolor": "#506784",
            "linecolor": "#506784",
            "ticks": ""
           },
           "baxis": {
            "gridcolor": "#506784",
            "linecolor": "#506784",
            "ticks": ""
           },
           "bgcolor": "rgb(17,17,17)",
           "caxis": {
            "gridcolor": "#506784",
            "linecolor": "#506784",
            "ticks": ""
           }
          },
          "title": {
           "x": 0.05
          },
          "updatemenudefaults": {
           "bgcolor": "#506784",
           "borderwidth": 0
          },
          "xaxis": {
           "automargin": true,
           "gridcolor": "#283442",
           "linecolor": "#506784",
           "ticks": "",
           "title": {
            "standoff": 15
           },
           "zerolinecolor": "#283442",
           "zerolinewidth": 2
          },
          "yaxis": {
           "automargin": true,
           "gridcolor": "#283442",
           "linecolor": "#506784",
           "ticks": "",
           "title": {
            "standoff": 15
           },
           "zerolinecolor": "#283442",
           "zerolinewidth": 2
          }
         }
        },
        "title": {
         "text": "RUL Over Time: Unit 100"
        },
        "xaxis": {
         "anchor": "y",
         "domain": [
          0,
          1
         ],
         "title": {
          "text": "Time"
         }
        },
        "yaxis": {
         "anchor": "x",
         "domain": [
          0,
          1
         ],
         "title": {
          "text": "RUL"
         }
        }
       }
      }
     },
     "metadata": {},
     "output_type": "display_data"
    }
   ],
   "source": [
    "unit_nr = 100\n",
    "plot_rul_vs_time(unit_nr, model=model, group_test=group_test, test=True, y_test_array=y_test_array)\n",
    "plot_rul_vs_time(unit_nr, model=model_new, group_test=group_test_new, test=True, y_test_array=y_test_array)"
   ]
  },
  {
   "cell_type": "markdown",
   "id": "15ecd6e7",
   "metadata": {},
   "source": [
    "<h2>Try Z-Normalization and Clipping</h2>"
   ]
  },
  {
   "cell_type": "code",
   "execution_count": 7,
   "id": "f9718aed",
   "metadata": {},
   "outputs": [
    {
     "name": "stderr",
     "output_type": "stream",
     "text": [
      "/var/folders/fq/rhmrwqtn21nbjh5rjcghp6400000gn/T/ipykernel_55154/1893676988.py:37: FutureWarning: A value is trying to be set on a copy of a DataFrame or Series through chained assignment using an inplace method.\n",
      "The behavior will change in pandas 3.0. This inplace method will never work because the intermediate object on which we are setting values always behaves as a copy.\n",
      "\n",
      "For example, when doing 'df[col].method(value, inplace=True)', try using 'df.method({col: value}, inplace=True)' or df[col] = df[col].method(value) instead, to perform the operation inplace on the original object.\n",
      "\n",
      "\n",
      "  train_norm['RUL'].clip(upper=rul_ub, inplace=True)\n"
     ]
    },
    {
     "name": "stdout",
     "output_type": "stream",
     "text": [
      "batch_first=False\n"
     ]
    }
   ],
   "source": [
    "# model, criterion, optimizer, group_train, group_test, y_test, result, rmse = run()\n",
    "# fetch basic information from data sets\n",
    "group_train_z, group_test_z, y_test_z = load_FD001(norm_type='zscore', rul_ub=RUL_UPPER_BOUND)\n",
    "y_test_z_array = y_test_z.to_numpy()  # convert to numpy array\n",
    "num_train_z, num_test_z = len(group_train_z.size()), len(group_test_z.size())\n",
    "input_size_z = group_train_z.get_group(1).shape[1] - 3  # number of features\n",
    "\n",
    "# LSTM model initialization\n",
    "model_z = LSTM1(input_size_z, N_HIDDEN, N_LAYER)  # our lstm class\n",
    "\n",
    "# load_model(model, './results/model_base_H96L4.pth')  # load the pre-trained model\n",
    "# model.eval()  # set the model to evaluation mode\n",
    "criterion_z = torch.nn.MSELoss()  # mean-squared error for regression\n",
    "optimizer_z = torch.optim.Adam(model_z.parameters(), lr=LR)"
   ]
  },
  {
   "cell_type": "code",
   "execution_count": null,
   "id": "88909efb",
   "metadata": {},
   "outputs": [],
   "source": [
    "result_z, rmse_z = train(model_z, num_train_z, num_test_z, group_train_z, group_test_z, criterion_z, optimizer_z, y_test_z_array)\n",
    "# result, rmse = testing_function(model, num_test, group_test, y_test)\n",
    "visualize(result_z, y_test_z, num_test_z, rmse_z)"
   ]
  },
  {
   "cell_type": "code",
   "execution_count": 18,
   "id": "beec6d79",
   "metadata": {},
   "outputs": [
    {
     "name": "stdout",
     "output_type": "stream",
     "text": [
      "Model saved to ./results/model_base_H96L4_z-norm_rmse19p78.pth\n"
     ]
    }
   ],
   "source": [
    "# plot_rul_vs_time(unit_nr=34, model=model_z, group_test=group_test_z, clip=True, test=True, y_test_array=y_test_z_array)\n",
    "save_model(model=model_z, path='./results/model_base_H96L4_z-norm_rmse19p78.pth')  # save the model"
   ]
  },
  {
   "cell_type": "markdown",
   "id": "d8de7ad5",
   "metadata": {},
   "source": [
    "<h2>Effect of Learning Rate</h2>"
   ]
  },
  {
   "cell_type": "code",
   "execution_count": 7,
   "id": "45d44452",
   "metadata": {},
   "outputs": [
    {
     "name": "stderr",
     "output_type": "stream",
     "text": [
      "/var/folders/fq/rhmrwqtn21nbjh5rjcghp6400000gn/T/ipykernel_51104/1893676988.py:37: FutureWarning: A value is trying to be set on a copy of a DataFrame or Series through chained assignment using an inplace method.\n",
      "The behavior will change in pandas 3.0. This inplace method will never work because the intermediate object on which we are setting values always behaves as a copy.\n",
      "\n",
      "For example, when doing 'df[col].method(value, inplace=True)', try using 'df.method({col: value}, inplace=True)' or df[col] = df[col].method(value) instead, to perform the operation inplace on the original object.\n",
      "\n",
      "\n",
      "  train_norm['RUL'].clip(upper=rul_ub, inplace=True)\n"
     ]
    },
    {
     "name": "stdout",
     "output_type": "stream",
     "text": [
      "Learning Rate: 1, Hidden Size: 4 RMSE: 34.36882988297136\n",
      "Learning Rate: 0.1, Hidden Size: 4 RMSE: 38.08496864831375\n",
      "Learning Rate: 0.01, Hidden Size: 4 RMSE: 42.21963098794769\n",
      "Learning Rate: 0.001, Hidden Size: 4 RMSE: 28.96394314908712\n",
      "Learning Rate: 1, Hidden Size: 8 RMSE: 32.81515716949529\n",
      "Learning Rate: 0.1, Hidden Size: 8 RMSE: 28.217933986431326\n",
      "Learning Rate: 0.01, Hidden Size: 8 RMSE: 26.932689567787826\n",
      "Learning Rate: 0.001, Hidden Size: 8 RMSE: 28.688630815652672\n",
      "Learning Rate: 1, Hidden Size: 16 RMSE: 44.36378735785281\n",
      "Learning Rate: 0.1, Hidden Size: 16 RMSE: 43.58336664640697\n",
      "Learning Rate: 0.01, Hidden Size: 16 RMSE: 22.44945333157521\n",
      "Learning Rate: 0.001, Hidden Size: 16 RMSE: 25.311950789176382\n",
      "Learning Rate: 1, Hidden Size: 32 RMSE: 44.36378468657871\n",
      "Learning Rate: 0.1, Hidden Size: 32 RMSE: 20.434472669150793\n",
      "Learning Rate: 0.01, Hidden Size: 32 RMSE: 20.20735040935303\n",
      "Learning Rate: 0.001, Hidden Size: 32 RMSE: 20.850550703701114\n",
      "Learning Rate: 1, Hidden Size: 64 RMSE: 44.36378735785281\n",
      "Learning Rate: 0.1, Hidden Size: 64 RMSE: 21.369790843436732\n",
      "Learning Rate: 0.01, Hidden Size: 64 RMSE: 19.337884233186337\n",
      "Learning Rate: 0.001, Hidden Size: 64 RMSE: 19.916989278037402\n"
     ]
    }
   ],
   "source": [
    "# model, criterion, optimizer, group_train, group_test, y_test, result, rmse = run()\n",
    "# fetch basic information from data sets\n",
    "group_train_z, group_test_z, y_test_z = load_FD001(norm_type='zscore', rul_ub=RUL_UPPER_BOUND)\n",
    "y_test_z_array = y_test_z.to_numpy()  # convert to numpy array\n",
    "num_train_z, num_test_z = len(group_train_z.size()), len(group_test_z.size())\n",
    "input_size_z = group_train_z.get_group(1).shape[1] - 3  # number of features\n",
    "\n",
    "results = []\n",
    "for h in [4, 8, 16, 32, 64]:\n",
    "\tfor e in range(4):\n",
    "\t\tlr = 10**(-e)\n",
    "\t\tprint(f\"Learning Rate: {lr}, Hidden Size: {h}\", end=\" \")\n",
    "\t\t# LSTM model initialization\n",
    "\t\tmodel_z = LSTM1(input_size_z, hidden_size=h, num_layers=2)  # our lstm class\n",
    "\t\tcriterion_z = torch.nn.MSELoss()  # mean-squared error for regression\n",
    "\t\toptimizer_z = torch.optim.Adam(model_z.parameters(), lr=lr)\n",
    "\n",
    "\t\tresult_z, rmse_z = train(model_z, num_train_z, num_test_z, group_train_z, group_test_z, criterion_z, optimizer_z, y_test_z_array)\n",
    "\t\t# result, rmse = testing_function(model, num_test, group_test, y_test)\n",
    "\t\t# visualize(result_z, y_test_z, num_test_z, rmse_z)\n",
    "\t\tresults.append([h, e, rmse_z])\n",
    "\t\tprint(f\"RMSE: {rmse_z}\")"
   ]
  },
  {
   "cell_type": "code",
   "execution_count": 16,
   "id": "da4ab6f9",
   "metadata": {},
   "outputs": [
    {
     "data": {
      "text/plain": [
       "array([[ 2.        ,  2.        ,  2.        ,  2.        ,  3.        ,\n",
       "         3.        ,  3.        ,  3.        ,  4.        ,  4.        ,\n",
       "         4.        ,  4.        ,  5.        ,  5.        ,  5.        ,\n",
       "         5.        ,  6.        ,  6.        ,  6.        ,  6.        ],\n",
       "       [ 0.        ,  1.        ,  2.        ,  3.        ,  0.        ,\n",
       "         1.        ,  2.        ,  3.        ,  0.        ,  1.        ,\n",
       "         2.        ,  3.        ,  0.        ,  1.        ,  2.        ,\n",
       "         3.        ,  0.        ,  1.        ,  2.        ,  3.        ],\n",
       "       [34.36882988, 38.08496865, 42.21963099, 28.96394315, 32.81515717,\n",
       "        28.21793399, 26.93268957, 28.68863082, 44.36378736, 43.58336665,\n",
       "        22.44945333, 25.31195079, 44.36378469, 20.43447267, 20.20735041,\n",
       "        20.8505507 , 44.36378736, 21.36979084, 19.33788423, 19.91698928]])"
      ]
     },
     "execution_count": 16,
     "metadata": {},
     "output_type": "execute_result"
    }
   ],
   "source": [
    "results"
   ]
  },
  {
   "cell_type": "code",
   "execution_count": 25,
   "id": "ea387cb4",
   "metadata": {},
   "outputs": [
    {
     "data": {
      "application/vnd.plotly.v1+json": {
       "config": {
        "plotlyServerURL": "https://plot.ly"
       },
       "data": [
        {
         "hovertemplate": "Hidden Size=%{x}<br>Learning Rate=%{y}<br>RMSE=%{z}<br>color=%{marker.color}<extra></extra>",
         "legendgroup": "",
         "marker": {
          "color": [
           34.36882988297136,
           38.08496864831375,
           42.21963098794769,
           28.96394314908712,
           32.81515716949529,
           28.217933986431326,
           26.932689567787826,
           28.688630815652672,
           44.36378735785281,
           43.58336664640697,
           22.44945333157521,
           25.311950789176382,
           44.36378468657871,
           20.434472669150793,
           20.20735040935303,
           20.850550703701114,
           44.36378735785281,
           21.369790843436732,
           19.337884233186337,
           19.916989278037402
          ],
          "coloraxis": "coloraxis",
          "symbol": "circle"
         },
         "mode": "markers",
         "name": "",
         "scene": "scene",
         "showlegend": false,
         "type": "scatter3d",
         "x": [
          2,
          2,
          2,
          2,
          3,
          3,
          3,
          3,
          4,
          4,
          4,
          4,
          5,
          5,
          5,
          5,
          6,
          6,
          6,
          6
         ],
         "y": [
          0,
          1,
          2,
          3,
          0,
          1,
          2,
          3,
          0,
          1,
          2,
          3,
          0,
          1,
          2,
          3,
          0,
          1,
          2,
          3
         ],
         "z": [
          34.36882988297136,
          38.08496864831375,
          42.21963098794769,
          28.96394314908712,
          32.81515716949529,
          28.217933986431326,
          26.932689567787826,
          28.688630815652672,
          44.36378735785281,
          43.58336664640697,
          22.44945333157521,
          25.311950789176382,
          44.36378468657871,
          20.434472669150793,
          20.20735040935303,
          20.850550703701114,
          44.36378735785281,
          21.369790843436732,
          19.337884233186337,
          19.916989278037402
         ]
        }
       ],
       "layout": {
        "coloraxis": {
         "colorbar": {
          "title": {
           "text": "color"
          }
         },
         "colorscale": [
          [
           0,
           "#440154"
          ],
          [
           0.1111111111111111,
           "#482878"
          ],
          [
           0.2222222222222222,
           "#3e4989"
          ],
          [
           0.3333333333333333,
           "#31688e"
          ],
          [
           0.4444444444444444,
           "#26828e"
          ],
          [
           0.5555555555555556,
           "#1f9e89"
          ],
          [
           0.6666666666666666,
           "#35b779"
          ],
          [
           0.7777777777777778,
           "#6ece58"
          ],
          [
           0.8888888888888888,
           "#b5de2b"
          ],
          [
           1,
           "#fde725"
          ]
         ]
        },
        "legend": {
         "tracegroupgap": 0
        },
        "scene": {
         "domain": {
          "x": [
           0,
           1
          ],
          "y": [
           0,
           1
          ]
         },
         "xaxis": {
          "title": {
           "text": "Hidden Size"
          }
         },
         "yaxis": {
          "title": {
           "text": "Learning Rate"
          }
         },
         "zaxis": {
          "title": {
           "text": "RMSE"
          }
         }
        },
        "template": {
         "data": {
          "bar": [
           {
            "error_x": {
             "color": "#f2f5fa"
            },
            "error_y": {
             "color": "#f2f5fa"
            },
            "marker": {
             "line": {
              "color": "rgb(17,17,17)",
              "width": 0.5
             },
             "pattern": {
              "fillmode": "overlay",
              "size": 10,
              "solidity": 0.2
             }
            },
            "type": "bar"
           }
          ],
          "barpolar": [
           {
            "marker": {
             "line": {
              "color": "rgb(17,17,17)",
              "width": 0.5
             },
             "pattern": {
              "fillmode": "overlay",
              "size": 10,
              "solidity": 0.2
             }
            },
            "type": "barpolar"
           }
          ],
          "carpet": [
           {
            "aaxis": {
             "endlinecolor": "#A2B1C6",
             "gridcolor": "#506784",
             "linecolor": "#506784",
             "minorgridcolor": "#506784",
             "startlinecolor": "#A2B1C6"
            },
            "baxis": {
             "endlinecolor": "#A2B1C6",
             "gridcolor": "#506784",
             "linecolor": "#506784",
             "minorgridcolor": "#506784",
             "startlinecolor": "#A2B1C6"
            },
            "type": "carpet"
           }
          ],
          "choropleth": [
           {
            "colorbar": {
             "outlinewidth": 0,
             "ticks": ""
            },
            "type": "choropleth"
           }
          ],
          "contour": [
           {
            "colorbar": {
             "outlinewidth": 0,
             "ticks": ""
            },
            "colorscale": [
             [
              0,
              "#0d0887"
             ],
             [
              0.1111111111111111,
              "#46039f"
             ],
             [
              0.2222222222222222,
              "#7201a8"
             ],
             [
              0.3333333333333333,
              "#9c179e"
             ],
             [
              0.4444444444444444,
              "#bd3786"
             ],
             [
              0.5555555555555556,
              "#d8576b"
             ],
             [
              0.6666666666666666,
              "#ed7953"
             ],
             [
              0.7777777777777778,
              "#fb9f3a"
             ],
             [
              0.8888888888888888,
              "#fdca26"
             ],
             [
              1,
              "#f0f921"
             ]
            ],
            "type": "contour"
           }
          ],
          "contourcarpet": [
           {
            "colorbar": {
             "outlinewidth": 0,
             "ticks": ""
            },
            "type": "contourcarpet"
           }
          ],
          "heatmap": [
           {
            "colorbar": {
             "outlinewidth": 0,
             "ticks": ""
            },
            "colorscale": [
             [
              0,
              "#0d0887"
             ],
             [
              0.1111111111111111,
              "#46039f"
             ],
             [
              0.2222222222222222,
              "#7201a8"
             ],
             [
              0.3333333333333333,
              "#9c179e"
             ],
             [
              0.4444444444444444,
              "#bd3786"
             ],
             [
              0.5555555555555556,
              "#d8576b"
             ],
             [
              0.6666666666666666,
              "#ed7953"
             ],
             [
              0.7777777777777778,
              "#fb9f3a"
             ],
             [
              0.8888888888888888,
              "#fdca26"
             ],
             [
              1,
              "#f0f921"
             ]
            ],
            "type": "heatmap"
           }
          ],
          "heatmapgl": [
           {
            "colorbar": {
             "outlinewidth": 0,
             "ticks": ""
            },
            "colorscale": [
             [
              0,
              "#0d0887"
             ],
             [
              0.1111111111111111,
              "#46039f"
             ],
             [
              0.2222222222222222,
              "#7201a8"
             ],
             [
              0.3333333333333333,
              "#9c179e"
             ],
             [
              0.4444444444444444,
              "#bd3786"
             ],
             [
              0.5555555555555556,
              "#d8576b"
             ],
             [
              0.6666666666666666,
              "#ed7953"
             ],
             [
              0.7777777777777778,
              "#fb9f3a"
             ],
             [
              0.8888888888888888,
              "#fdca26"
             ],
             [
              1,
              "#f0f921"
             ]
            ],
            "type": "heatmapgl"
           }
          ],
          "histogram": [
           {
            "marker": {
             "pattern": {
              "fillmode": "overlay",
              "size": 10,
              "solidity": 0.2
             }
            },
            "type": "histogram"
           }
          ],
          "histogram2d": [
           {
            "colorbar": {
             "outlinewidth": 0,
             "ticks": ""
            },
            "colorscale": [
             [
              0,
              "#0d0887"
             ],
             [
              0.1111111111111111,
              "#46039f"
             ],
             [
              0.2222222222222222,
              "#7201a8"
             ],
             [
              0.3333333333333333,
              "#9c179e"
             ],
             [
              0.4444444444444444,
              "#bd3786"
             ],
             [
              0.5555555555555556,
              "#d8576b"
             ],
             [
              0.6666666666666666,
              "#ed7953"
             ],
             [
              0.7777777777777778,
              "#fb9f3a"
             ],
             [
              0.8888888888888888,
              "#fdca26"
             ],
             [
              1,
              "#f0f921"
             ]
            ],
            "type": "histogram2d"
           }
          ],
          "histogram2dcontour": [
           {
            "colorbar": {
             "outlinewidth": 0,
             "ticks": ""
            },
            "colorscale": [
             [
              0,
              "#0d0887"
             ],
             [
              0.1111111111111111,
              "#46039f"
             ],
             [
              0.2222222222222222,
              "#7201a8"
             ],
             [
              0.3333333333333333,
              "#9c179e"
             ],
             [
              0.4444444444444444,
              "#bd3786"
             ],
             [
              0.5555555555555556,
              "#d8576b"
             ],
             [
              0.6666666666666666,
              "#ed7953"
             ],
             [
              0.7777777777777778,
              "#fb9f3a"
             ],
             [
              0.8888888888888888,
              "#fdca26"
             ],
             [
              1,
              "#f0f921"
             ]
            ],
            "type": "histogram2dcontour"
           }
          ],
          "mesh3d": [
           {
            "colorbar": {
             "outlinewidth": 0,
             "ticks": ""
            },
            "type": "mesh3d"
           }
          ],
          "parcoords": [
           {
            "line": {
             "colorbar": {
              "outlinewidth": 0,
              "ticks": ""
             }
            },
            "type": "parcoords"
           }
          ],
          "pie": [
           {
            "automargin": true,
            "type": "pie"
           }
          ],
          "scatter": [
           {
            "marker": {
             "line": {
              "color": "#283442"
             }
            },
            "type": "scatter"
           }
          ],
          "scatter3d": [
           {
            "line": {
             "colorbar": {
              "outlinewidth": 0,
              "ticks": ""
             }
            },
            "marker": {
             "colorbar": {
              "outlinewidth": 0,
              "ticks": ""
             }
            },
            "type": "scatter3d"
           }
          ],
          "scattercarpet": [
           {
            "marker": {
             "colorbar": {
              "outlinewidth": 0,
              "ticks": ""
             }
            },
            "type": "scattercarpet"
           }
          ],
          "scattergeo": [
           {
            "marker": {
             "colorbar": {
              "outlinewidth": 0,
              "ticks": ""
             }
            },
            "type": "scattergeo"
           }
          ],
          "scattergl": [
           {
            "marker": {
             "line": {
              "color": "#283442"
             }
            },
            "type": "scattergl"
           }
          ],
          "scattermapbox": [
           {
            "marker": {
             "colorbar": {
              "outlinewidth": 0,
              "ticks": ""
             }
            },
            "type": "scattermapbox"
           }
          ],
          "scatterpolar": [
           {
            "marker": {
             "colorbar": {
              "outlinewidth": 0,
              "ticks": ""
             }
            },
            "type": "scatterpolar"
           }
          ],
          "scatterpolargl": [
           {
            "marker": {
             "colorbar": {
              "outlinewidth": 0,
              "ticks": ""
             }
            },
            "type": "scatterpolargl"
           }
          ],
          "scatterternary": [
           {
            "marker": {
             "colorbar": {
              "outlinewidth": 0,
              "ticks": ""
             }
            },
            "type": "scatterternary"
           }
          ],
          "surface": [
           {
            "colorbar": {
             "outlinewidth": 0,
             "ticks": ""
            },
            "colorscale": [
             [
              0,
              "#0d0887"
             ],
             [
              0.1111111111111111,
              "#46039f"
             ],
             [
              0.2222222222222222,
              "#7201a8"
             ],
             [
              0.3333333333333333,
              "#9c179e"
             ],
             [
              0.4444444444444444,
              "#bd3786"
             ],
             [
              0.5555555555555556,
              "#d8576b"
             ],
             [
              0.6666666666666666,
              "#ed7953"
             ],
             [
              0.7777777777777778,
              "#fb9f3a"
             ],
             [
              0.8888888888888888,
              "#fdca26"
             ],
             [
              1,
              "#f0f921"
             ]
            ],
            "type": "surface"
           }
          ],
          "table": [
           {
            "cells": {
             "fill": {
              "color": "#506784"
             },
             "line": {
              "color": "rgb(17,17,17)"
             }
            },
            "header": {
             "fill": {
              "color": "#2a3f5f"
             },
             "line": {
              "color": "rgb(17,17,17)"
             }
            },
            "type": "table"
           }
          ]
         },
         "layout": {
          "annotationdefaults": {
           "arrowcolor": "#f2f5fa",
           "arrowhead": 0,
           "arrowwidth": 1
          },
          "autotypenumbers": "strict",
          "coloraxis": {
           "colorbar": {
            "outlinewidth": 0,
            "ticks": ""
           }
          },
          "colorscale": {
           "diverging": [
            [
             0,
             "#8e0152"
            ],
            [
             0.1,
             "#c51b7d"
            ],
            [
             0.2,
             "#de77ae"
            ],
            [
             0.3,
             "#f1b6da"
            ],
            [
             0.4,
             "#fde0ef"
            ],
            [
             0.5,
             "#f7f7f7"
            ],
            [
             0.6,
             "#e6f5d0"
            ],
            [
             0.7,
             "#b8e186"
            ],
            [
             0.8,
             "#7fbc41"
            ],
            [
             0.9,
             "#4d9221"
            ],
            [
             1,
             "#276419"
            ]
           ],
           "sequential": [
            [
             0,
             "#0d0887"
            ],
            [
             0.1111111111111111,
             "#46039f"
            ],
            [
             0.2222222222222222,
             "#7201a8"
            ],
            [
             0.3333333333333333,
             "#9c179e"
            ],
            [
             0.4444444444444444,
             "#bd3786"
            ],
            [
             0.5555555555555556,
             "#d8576b"
            ],
            [
             0.6666666666666666,
             "#ed7953"
            ],
            [
             0.7777777777777778,
             "#fb9f3a"
            ],
            [
             0.8888888888888888,
             "#fdca26"
            ],
            [
             1,
             "#f0f921"
            ]
           ],
           "sequentialminus": [
            [
             0,
             "#0d0887"
            ],
            [
             0.1111111111111111,
             "#46039f"
            ],
            [
             0.2222222222222222,
             "#7201a8"
            ],
            [
             0.3333333333333333,
             "#9c179e"
            ],
            [
             0.4444444444444444,
             "#bd3786"
            ],
            [
             0.5555555555555556,
             "#d8576b"
            ],
            [
             0.6666666666666666,
             "#ed7953"
            ],
            [
             0.7777777777777778,
             "#fb9f3a"
            ],
            [
             0.8888888888888888,
             "#fdca26"
            ],
            [
             1,
             "#f0f921"
            ]
           ]
          },
          "colorway": [
           "#636efa",
           "#EF553B",
           "#00cc96",
           "#ab63fa",
           "#FFA15A",
           "#19d3f3",
           "#FF6692",
           "#B6E880",
           "#FF97FF",
           "#FECB52"
          ],
          "font": {
           "color": "#f2f5fa"
          },
          "geo": {
           "bgcolor": "rgb(17,17,17)",
           "lakecolor": "rgb(17,17,17)",
           "landcolor": "rgb(17,17,17)",
           "showlakes": true,
           "showland": true,
           "subunitcolor": "#506784"
          },
          "hoverlabel": {
           "align": "left"
          },
          "hovermode": "closest",
          "mapbox": {
           "style": "dark"
          },
          "paper_bgcolor": "rgb(17,17,17)",
          "plot_bgcolor": "rgb(17,17,17)",
          "polar": {
           "angularaxis": {
            "gridcolor": "#506784",
            "linecolor": "#506784",
            "ticks": ""
           },
           "bgcolor": "rgb(17,17,17)",
           "radialaxis": {
            "gridcolor": "#506784",
            "linecolor": "#506784",
            "ticks": ""
           }
          },
          "scene": {
           "xaxis": {
            "backgroundcolor": "rgb(17,17,17)",
            "gridcolor": "#506784",
            "gridwidth": 2,
            "linecolor": "#506784",
            "showbackground": true,
            "ticks": "",
            "zerolinecolor": "#C8D4E3"
           },
           "yaxis": {
            "backgroundcolor": "rgb(17,17,17)",
            "gridcolor": "#506784",
            "gridwidth": 2,
            "linecolor": "#506784",
            "showbackground": true,
            "ticks": "",
            "zerolinecolor": "#C8D4E3"
           },
           "zaxis": {
            "backgroundcolor": "rgb(17,17,17)",
            "gridcolor": "#506784",
            "gridwidth": 2,
            "linecolor": "#506784",
            "showbackground": true,
            "ticks": "",
            "zerolinecolor": "#C8D4E3"
           }
          },
          "shapedefaults": {
           "line": {
            "color": "#f2f5fa"
           }
          },
          "sliderdefaults": {
           "bgcolor": "#C8D4E3",
           "bordercolor": "rgb(17,17,17)",
           "borderwidth": 1,
           "tickwidth": 0
          },
          "ternary": {
           "aaxis": {
            "gridcolor": "#506784",
            "linecolor": "#506784",
            "ticks": ""
           },
           "baxis": {
            "gridcolor": "#506784",
            "linecolor": "#506784",
            "ticks": ""
           },
           "bgcolor": "rgb(17,17,17)",
           "caxis": {
            "gridcolor": "#506784",
            "linecolor": "#506784",
            "ticks": ""
           }
          },
          "title": {
           "x": 0.05
          },
          "updatemenudefaults": {
           "bgcolor": "#506784",
           "borderwidth": 0
          },
          "xaxis": {
           "automargin": true,
           "gridcolor": "#283442",
           "linecolor": "#506784",
           "ticks": "",
           "title": {
            "standoff": 15
           },
           "zerolinecolor": "#283442",
           "zerolinewidth": 2
          },
          "yaxis": {
           "automargin": true,
           "gridcolor": "#283442",
           "linecolor": "#506784",
           "ticks": "",
           "title": {
            "standoff": 15
           },
           "zerolinecolor": "#283442",
           "zerolinewidth": 2
          }
         }
        },
        "title": {
         "text": "3D Scatter Plot of Hidden Size, Learning Rate, and RMSE"
        }
       }
      }
     },
     "metadata": {},
     "output_type": "display_data"
    }
   ],
   "source": [
    "px.scatter_3d(\n",
    "    x=results[0],\n",
    "\ty=results[1],\n",
    "\tz=results[2],\n",
    "\ttitle='3D Scatter Plot of Hidden Size, Learning Rate, and RMSE',\n",
    "\tlabels={'x': 'Hidden Size', 'y': 'Learning Rate', 'z': 'RMSE'},\n",
    "\tcolor=results[2],\n",
    "\tcolor_continuous_scale=px.colors.sequential.Viridis\n",
    ").show()"
   ]
  },
  {
   "cell_type": "markdown",
   "id": "ac0d9218",
   "metadata": {},
   "source": [
    "<h2>Try batch_first = False</h2>"
   ]
  },
  {
   "cell_type": "code",
   "execution_count": 39,
   "id": "bfb585fb",
   "metadata": {},
   "outputs": [],
   "source": [
    "def testing_function_3(model, num_test, group_test, y_test):\n",
    "    rmse_test, result_test = 0, list()\n",
    "\n",
    "    for ite in range(1, num_test + 1):\n",
    "        X_test = group_test.get_group(ite).iloc[:, 2:]\n",
    "        X_test_tensors = Variable(torch.Tensor(X_test.to_numpy()))\n",
    "        X_test_tensors = torch.reshape(X_test_tensors, (X_test_tensors.shape[0], 1, X_test_tensors.shape[1]))\n",
    "\n",
    "        test_predict = model(X_test_tensors)\n",
    "        data_predict = max(test_predict[-1].detach().numpy(), 0)\n",
    "        result_test.append(data_predict)\n",
    "        rmse_test = np.add(np.power((data_predict - y_test[ite - 1]), 2), rmse_test)\n",
    "\n",
    "    rmse_test = (np.sqrt(rmse_test / num_test)).item()\n",
    "    return result_test, rmse_test\n",
    "\n",
    "\n",
    "def train_3(model, num_train, num_test, group_train, group_test, loss_fn, optimizer, y_test):\n",
    "    \"\"\"\n",
    "\n",
    "    :param model_for_train: initialized model\n",
    "    :param ntrain: number of samples in training set\n",
    "    :param group_for_train: grouped data per sample\n",
    "    :return: evaluation results\n",
    "    \"\"\"\n",
    "    rmse_temp = 100\n",
    "\n",
    "    for epoch in range(1, N_EPOCH + 1):\n",
    "\n",
    "        model.train()\n",
    "        epoch_loss = 0\n",
    "\n",
    "        for i in range(1, num_train + 1):\n",
    "            X, y = group_train.get_group(i).iloc[:, 2:-1], group_train.get_group(i).iloc[:, -1:]\n",
    "            X_train_tensors = Variable(torch.Tensor(X.to_numpy()))\n",
    "            y_train_tensors = Variable(torch.Tensor(y.to_numpy()))\n",
    "            # X_train_tensors = torch.reshape(X_train_tensors, (X_train_tensors.shape[0], 1, X_train_tensors.shape[1]))\n",
    "\n",
    "            outputs = model(X_train_tensors)  # forward pass\n",
    "\n",
    "            optimizer.zero_grad()  # calculate the gradient, manually setting to 0\n",
    "            loss = loss_fn(outputs, y_train_tensors)  # obtain the loss function\n",
    "            epoch_loss += loss.item()\n",
    "            loss.backward()  # calculates the loss of the loss function\n",
    "            optimizer.step()  # improve from loss, i.e back propagation\n",
    "\n",
    "        if epoch % 1 == 0:  # evaluate the model on testing set with each epoch\n",
    "            model.eval()  # evaluate model\n",
    "            result, rmse = testing_function(model, num_test, group_test, y_test)\n",
    "            if rmse_temp < rmse and rmse_temp < 15:\n",
    "                result, rmse = result_temp, rmse_temp\n",
    "                break\n",
    "            rmse_temp, result_temp = rmse, result  # store the last rmse\n",
    "            print(\"Epoch: %d, loss: %1.5f, rmse: %1.5f\" % (epoch, epoch_loss / num_train, rmse))\n",
    "\n",
    "    return result, rmse"
   ]
  },
  {
   "cell_type": "code",
   "execution_count": 68,
   "id": "db1bf152",
   "metadata": {},
   "outputs": [],
   "source": [
    "import torch\n",
    "import torch.nn as nn\n",
    "from torch.autograd import Variable\n",
    "\n",
    "\n",
    "class LSTM_3(nn.Module):\n",
    "    \"\"\"LSTM architecture\"\"\"\n",
    "\n",
    "    def __init__(self, input_size, hidden_size, num_layers, seq_length=1):\n",
    "        super(LSTM_3, self).__init__()\n",
    "        self.input_size = input_size  # input size\n",
    "        self.hidden_size = hidden_size  # hidden state\n",
    "        self.num_layers = num_layers  # number of layers\n",
    "        self.seq_length = seq_length  # sequence length\n",
    "\n",
    "        self.lstm = nn.LSTM(input_size=input_size, \n",
    "                            hidden_size=hidden_size, \n",
    "                            num_layers=num_layers, \n",
    "                            batch_first=True,\n",
    "                            dropout=0.1)\n",
    "        print(\"batch_first=False\")\n",
    "        self.fc_1 = nn.Linear(hidden_size, 16)  # fully connected 1\n",
    "        self.fc_2 = nn.Linear(16, 8)  # fully connected 2\n",
    "        self.fc = nn.Linear(8, 1)  # fully connected last layer\n",
    "\n",
    "        self.dropout = nn.Dropout(0.1)\n",
    "        self.relu = nn.ReLU()\n",
    "\n",
    "    def forward(self, x):\n",
    "        \"\"\"\n",
    "\n",
    "        :param x: input features\n",
    "        :return: prediction results\n",
    "        \"\"\"\n",
    "        # h_0 = Variable(torch.zeros(self.num_layers, 1, self.hidden_size))  # hidden state\n",
    "        # c_0 = Variable(torch.zeros(self.num_layers, 1, self.hidden_size))  # internal state\n",
    "        output, (hn, cn) = self.lstm(x)  # lstm with input, hidden, and internal state\n",
    "\n",
    "        hn_o = torch.Tensor(hn.detach().numpy()[-1, :])\n",
    "        hn_o = hn_o.view(-1, self.hidden_size)\n",
    "        hn_1 = torch.Tensor(hn.detach().numpy()[1, :])\n",
    "        hn_1 = hn_1.view(-1, self.hidden_size)\n",
    "\n",
    "        out_1 = self.relu(self.fc_1(self.relu(hn_o + hn_1)))\n",
    "        out_2 = self.relu(self.fc_2(out_1))\n",
    "        out_dp = self.dropout(out_2)\n",
    "        out = self.fc(out_dp)\n",
    "        return out, (hn, cn), out_1, out_2, out_dp\n"
   ]
  },
  {
   "cell_type": "code",
   "execution_count": 69,
   "id": "116b8ed6",
   "metadata": {},
   "outputs": [
    {
     "name": "stdout",
     "output_type": "stream",
     "text": [
      "batch_first=False\n"
     ]
    },
    {
     "name": "stderr",
     "output_type": "stream",
     "text": [
      "/var/folders/fq/rhmrwqtn21nbjh5rjcghp6400000gn/T/ipykernel_55154/1893676988.py:37: FutureWarning:\n",
      "\n",
      "A value is trying to be set on a copy of a DataFrame or Series through chained assignment using an inplace method.\n",
      "The behavior will change in pandas 3.0. This inplace method will never work because the intermediate object on which we are setting values always behaves as a copy.\n",
      "\n",
      "For example, when doing 'df[col].method(value, inplace=True)', try using 'df.method({col: value}, inplace=True)' or df[col] = df[col].method(value) instead, to perform the operation inplace on the original object.\n",
      "\n",
      "\n",
      "\n"
     ]
    }
   ],
   "source": [
    "# model, criterion, optimizer, group_train, group_test, y_test, result, rmse = run()\n",
    "# fetch basic information from data sets\n",
    "group_train, group_test, y_test = load_FD001(norm_type='zscore', rul_ub=RUL_UPPER_BOUND)\n",
    "y_test_array = y_test.to_numpy()  # convert to numpy array\n",
    "num_train, num_test = len(group_train.size()), len(group_test.size())\n",
    "input_size = group_train.get_group(1).shape[1] - 3  # number of features\n",
    "\n",
    "# LSTM model initialization\n",
    "model = LSTM_3(input_size, N_HIDDEN, N_LAYER)  # our lstm class\n",
    "criterion = torch.nn.MSELoss()  # mean-squared error for regression\n",
    "optimizer = torch.optim.Adam(model.parameters(), lr=LR)"
   ]
  },
  {
   "cell_type": "code",
   "execution_count": 45,
   "id": "7fa845e6",
   "metadata": {},
   "outputs": [
    {
     "name": "stderr",
     "output_type": "stream",
     "text": [
      "/Users/neerajsohani/anaconda3/envs/lstm_rul_env/lib/python3.11/site-packages/torch/nn/modules/loss.py:608: UserWarning:\n",
      "\n",
      "Using a target size (torch.Size([192, 1])) that is different to the input size (torch.Size([1, 1])). This will likely lead to incorrect results due to broadcasting. Please ensure they have the same size.\n",
      "\n",
      "/Users/neerajsohani/anaconda3/envs/lstm_rul_env/lib/python3.11/site-packages/torch/nn/modules/loss.py:608: UserWarning:\n",
      "\n",
      "Using a target size (torch.Size([287, 1])) that is different to the input size (torch.Size([1, 1])). This will likely lead to incorrect results due to broadcasting. Please ensure they have the same size.\n",
      "\n",
      "/Users/neerajsohani/anaconda3/envs/lstm_rul_env/lib/python3.11/site-packages/torch/nn/modules/loss.py:608: UserWarning:\n",
      "\n",
      "Using a target size (torch.Size([179, 1])) that is different to the input size (torch.Size([1, 1])). This will likely lead to incorrect results due to broadcasting. Please ensure they have the same size.\n",
      "\n",
      "/Users/neerajsohani/anaconda3/envs/lstm_rul_env/lib/python3.11/site-packages/torch/nn/modules/loss.py:608: UserWarning:\n",
      "\n",
      "Using a target size (torch.Size([189, 1])) that is different to the input size (torch.Size([1, 1])). This will likely lead to incorrect results due to broadcasting. Please ensure they have the same size.\n",
      "\n",
      "/Users/neerajsohani/anaconda3/envs/lstm_rul_env/lib/python3.11/site-packages/torch/nn/modules/loss.py:608: UserWarning:\n",
      "\n",
      "Using a target size (torch.Size([269, 1])) that is different to the input size (torch.Size([1, 1])). This will likely lead to incorrect results due to broadcasting. Please ensure they have the same size.\n",
      "\n",
      "/Users/neerajsohani/anaconda3/envs/lstm_rul_env/lib/python3.11/site-packages/torch/nn/modules/loss.py:608: UserWarning:\n",
      "\n",
      "Using a target size (torch.Size([188, 1])) that is different to the input size (torch.Size([1, 1])). This will likely lead to incorrect results due to broadcasting. Please ensure they have the same size.\n",
      "\n",
      "/Users/neerajsohani/anaconda3/envs/lstm_rul_env/lib/python3.11/site-packages/torch/nn/modules/loss.py:608: UserWarning:\n",
      "\n",
      "Using a target size (torch.Size([259, 1])) that is different to the input size (torch.Size([1, 1])). This will likely lead to incorrect results due to broadcasting. Please ensure they have the same size.\n",
      "\n",
      "/Users/neerajsohani/anaconda3/envs/lstm_rul_env/lib/python3.11/site-packages/torch/nn/modules/loss.py:608: UserWarning:\n",
      "\n",
      "Using a target size (torch.Size([150, 1])) that is different to the input size (torch.Size([1, 1])). This will likely lead to incorrect results due to broadcasting. Please ensure they have the same size.\n",
      "\n",
      "/Users/neerajsohani/anaconda3/envs/lstm_rul_env/lib/python3.11/site-packages/torch/nn/modules/loss.py:608: UserWarning:\n",
      "\n",
      "Using a target size (torch.Size([201, 1])) that is different to the input size (torch.Size([1, 1])). This will likely lead to incorrect results due to broadcasting. Please ensure they have the same size.\n",
      "\n",
      "/Users/neerajsohani/anaconda3/envs/lstm_rul_env/lib/python3.11/site-packages/torch/nn/modules/loss.py:608: UserWarning:\n",
      "\n",
      "Using a target size (torch.Size([222, 1])) that is different to the input size (torch.Size([1, 1])). This will likely lead to incorrect results due to broadcasting. Please ensure they have the same size.\n",
      "\n",
      "/Users/neerajsohani/anaconda3/envs/lstm_rul_env/lib/python3.11/site-packages/torch/nn/modules/loss.py:608: UserWarning:\n",
      "\n",
      "Using a target size (torch.Size([240, 1])) that is different to the input size (torch.Size([1, 1])). This will likely lead to incorrect results due to broadcasting. Please ensure they have the same size.\n",
      "\n",
      "/Users/neerajsohani/anaconda3/envs/lstm_rul_env/lib/python3.11/site-packages/torch/nn/modules/loss.py:608: UserWarning:\n",
      "\n",
      "Using a target size (torch.Size([170, 1])) that is different to the input size (torch.Size([1, 1])). This will likely lead to incorrect results due to broadcasting. Please ensure they have the same size.\n",
      "\n",
      "/Users/neerajsohani/anaconda3/envs/lstm_rul_env/lib/python3.11/site-packages/torch/nn/modules/loss.py:608: UserWarning:\n",
      "\n",
      "Using a target size (torch.Size([163, 1])) that is different to the input size (torch.Size([1, 1])). This will likely lead to incorrect results due to broadcasting. Please ensure they have the same size.\n",
      "\n",
      "/Users/neerajsohani/anaconda3/envs/lstm_rul_env/lib/python3.11/site-packages/torch/nn/modules/loss.py:608: UserWarning:\n",
      "\n",
      "Using a target size (torch.Size([180, 1])) that is different to the input size (torch.Size([1, 1])). This will likely lead to incorrect results due to broadcasting. Please ensure they have the same size.\n",
      "\n",
      "/Users/neerajsohani/anaconda3/envs/lstm_rul_env/lib/python3.11/site-packages/torch/nn/modules/loss.py:608: UserWarning:\n",
      "\n",
      "Using a target size (torch.Size([207, 1])) that is different to the input size (torch.Size([1, 1])). This will likely lead to incorrect results due to broadcasting. Please ensure they have the same size.\n",
      "\n",
      "/Users/neerajsohani/anaconda3/envs/lstm_rul_env/lib/python3.11/site-packages/torch/nn/modules/loss.py:608: UserWarning:\n",
      "\n",
      "Using a target size (torch.Size([209, 1])) that is different to the input size (torch.Size([1, 1])). This will likely lead to incorrect results due to broadcasting. Please ensure they have the same size.\n",
      "\n",
      "/Users/neerajsohani/anaconda3/envs/lstm_rul_env/lib/python3.11/site-packages/torch/nn/modules/loss.py:608: UserWarning:\n",
      "\n",
      "Using a target size (torch.Size([276, 1])) that is different to the input size (torch.Size([1, 1])). This will likely lead to incorrect results due to broadcasting. Please ensure they have the same size.\n",
      "\n",
      "/Users/neerajsohani/anaconda3/envs/lstm_rul_env/lib/python3.11/site-packages/torch/nn/modules/loss.py:608: UserWarning:\n",
      "\n",
      "Using a target size (torch.Size([195, 1])) that is different to the input size (torch.Size([1, 1])). This will likely lead to incorrect results due to broadcasting. Please ensure they have the same size.\n",
      "\n",
      "/Users/neerajsohani/anaconda3/envs/lstm_rul_env/lib/python3.11/site-packages/torch/nn/modules/loss.py:608: UserWarning:\n",
      "\n",
      "Using a target size (torch.Size([158, 1])) that is different to the input size (torch.Size([1, 1])). This will likely lead to incorrect results due to broadcasting. Please ensure they have the same size.\n",
      "\n",
      "/Users/neerajsohani/anaconda3/envs/lstm_rul_env/lib/python3.11/site-packages/torch/nn/modules/loss.py:608: UserWarning:\n",
      "\n",
      "Using a target size (torch.Size([234, 1])) that is different to the input size (torch.Size([1, 1])). This will likely lead to incorrect results due to broadcasting. Please ensure they have the same size.\n",
      "\n",
      "/Users/neerajsohani/anaconda3/envs/lstm_rul_env/lib/python3.11/site-packages/torch/nn/modules/loss.py:608: UserWarning:\n",
      "\n",
      "Using a target size (torch.Size([202, 1])) that is different to the input size (torch.Size([1, 1])). This will likely lead to incorrect results due to broadcasting. Please ensure they have the same size.\n",
      "\n",
      "/Users/neerajsohani/anaconda3/envs/lstm_rul_env/lib/python3.11/site-packages/torch/nn/modules/loss.py:608: UserWarning:\n",
      "\n",
      "Using a target size (torch.Size([168, 1])) that is different to the input size (torch.Size([1, 1])). This will likely lead to incorrect results due to broadcasting. Please ensure they have the same size.\n",
      "\n",
      "/Users/neerajsohani/anaconda3/envs/lstm_rul_env/lib/python3.11/site-packages/torch/nn/modules/loss.py:608: UserWarning:\n",
      "\n",
      "Using a target size (torch.Size([147, 1])) that is different to the input size (torch.Size([1, 1])). This will likely lead to incorrect results due to broadcasting. Please ensure they have the same size.\n",
      "\n",
      "/Users/neerajsohani/anaconda3/envs/lstm_rul_env/lib/python3.11/site-packages/torch/nn/modules/loss.py:608: UserWarning:\n",
      "\n",
      "Using a target size (torch.Size([230, 1])) that is different to the input size (torch.Size([1, 1])). This will likely lead to incorrect results due to broadcasting. Please ensure they have the same size.\n",
      "\n",
      "/Users/neerajsohani/anaconda3/envs/lstm_rul_env/lib/python3.11/site-packages/torch/nn/modules/loss.py:608: UserWarning:\n",
      "\n",
      "Using a target size (torch.Size([199, 1])) that is different to the input size (torch.Size([1, 1])). This will likely lead to incorrect results due to broadcasting. Please ensure they have the same size.\n",
      "\n",
      "/Users/neerajsohani/anaconda3/envs/lstm_rul_env/lib/python3.11/site-packages/torch/nn/modules/loss.py:608: UserWarning:\n",
      "\n",
      "Using a target size (torch.Size([156, 1])) that is different to the input size (torch.Size([1, 1])). This will likely lead to incorrect results due to broadcasting. Please ensure they have the same size.\n",
      "\n",
      "/Users/neerajsohani/anaconda3/envs/lstm_rul_env/lib/python3.11/site-packages/torch/nn/modules/loss.py:608: UserWarning:\n",
      "\n",
      "Using a target size (torch.Size([165, 1])) that is different to the input size (torch.Size([1, 1])). This will likely lead to incorrect results due to broadcasting. Please ensure they have the same size.\n",
      "\n",
      "/Users/neerajsohani/anaconda3/envs/lstm_rul_env/lib/python3.11/site-packages/torch/nn/modules/loss.py:608: UserWarning:\n",
      "\n",
      "Using a target size (torch.Size([194, 1])) that is different to the input size (torch.Size([1, 1])). This will likely lead to incorrect results due to broadcasting. Please ensure they have the same size.\n",
      "\n",
      "/Users/neerajsohani/anaconda3/envs/lstm_rul_env/lib/python3.11/site-packages/torch/nn/modules/loss.py:608: UserWarning:\n",
      "\n",
      "Using a target size (torch.Size([191, 1])) that is different to the input size (torch.Size([1, 1])). This will likely lead to incorrect results due to broadcasting. Please ensure they have the same size.\n",
      "\n",
      "/Users/neerajsohani/anaconda3/envs/lstm_rul_env/lib/python3.11/site-packages/torch/nn/modules/loss.py:608: UserWarning:\n",
      "\n",
      "Using a target size (torch.Size([200, 1])) that is different to the input size (torch.Size([1, 1])). This will likely lead to incorrect results due to broadcasting. Please ensure they have the same size.\n",
      "\n",
      "/Users/neerajsohani/anaconda3/envs/lstm_rul_env/lib/python3.11/site-packages/torch/nn/modules/loss.py:608: UserWarning:\n",
      "\n",
      "Using a target size (torch.Size([181, 1])) that is different to the input size (torch.Size([1, 1])). This will likely lead to incorrect results due to broadcasting. Please ensure they have the same size.\n",
      "\n",
      "/Users/neerajsohani/anaconda3/envs/lstm_rul_env/lib/python3.11/site-packages/torch/nn/modules/loss.py:608: UserWarning:\n",
      "\n",
      "Using a target size (torch.Size([128, 1])) that is different to the input size (torch.Size([1, 1])). This will likely lead to incorrect results due to broadcasting. Please ensure they have the same size.\n",
      "\n",
      "/Users/neerajsohani/anaconda3/envs/lstm_rul_env/lib/python3.11/site-packages/torch/nn/modules/loss.py:608: UserWarning:\n",
      "\n",
      "Using a target size (torch.Size([216, 1])) that is different to the input size (torch.Size([1, 1])). This will likely lead to incorrect results due to broadcasting. Please ensure they have the same size.\n",
      "\n",
      "/Users/neerajsohani/anaconda3/envs/lstm_rul_env/lib/python3.11/site-packages/torch/nn/modules/loss.py:608: UserWarning:\n",
      "\n",
      "Using a target size (torch.Size([196, 1])) that is different to the input size (torch.Size([1, 1])). This will likely lead to incorrect results due to broadcasting. Please ensure they have the same size.\n",
      "\n",
      "/Users/neerajsohani/anaconda3/envs/lstm_rul_env/lib/python3.11/site-packages/torch/nn/modules/loss.py:608: UserWarning:\n",
      "\n",
      "Using a target size (torch.Size([256, 1])) that is different to the input size (torch.Size([1, 1])). This will likely lead to incorrect results due to broadcasting. Please ensure they have the same size.\n",
      "\n",
      "/Users/neerajsohani/anaconda3/envs/lstm_rul_env/lib/python3.11/site-packages/torch/nn/modules/loss.py:608: UserWarning:\n",
      "\n",
      "Using a target size (torch.Size([214, 1])) that is different to the input size (torch.Size([1, 1])). This will likely lead to incorrect results due to broadcasting. Please ensure they have the same size.\n",
      "\n",
      "/Users/neerajsohani/anaconda3/envs/lstm_rul_env/lib/python3.11/site-packages/torch/nn/modules/loss.py:608: UserWarning:\n",
      "\n",
      "Using a target size (torch.Size([231, 1])) that is different to the input size (torch.Size([1, 1])). This will likely lead to incorrect results due to broadcasting. Please ensure they have the same size.\n",
      "\n",
      "/Users/neerajsohani/anaconda3/envs/lstm_rul_env/lib/python3.11/site-packages/torch/nn/modules/loss.py:608: UserWarning:\n",
      "\n",
      "Using a target size (torch.Size([215, 1])) that is different to the input size (torch.Size([1, 1])). This will likely lead to incorrect results due to broadcasting. Please ensure they have the same size.\n",
      "\n",
      "/Users/neerajsohani/anaconda3/envs/lstm_rul_env/lib/python3.11/site-packages/torch/nn/modules/loss.py:608: UserWarning:\n",
      "\n",
      "Using a target size (torch.Size([198, 1])) that is different to the input size (torch.Size([1, 1])). This will likely lead to incorrect results due to broadcasting. Please ensure they have the same size.\n",
      "\n",
      "/Users/neerajsohani/anaconda3/envs/lstm_rul_env/lib/python3.11/site-packages/torch/nn/modules/loss.py:608: UserWarning:\n",
      "\n",
      "Using a target size (torch.Size([213, 1])) that is different to the input size (torch.Size([1, 1])). This will likely lead to incorrect results due to broadcasting. Please ensure they have the same size.\n",
      "\n",
      "/Users/neerajsohani/anaconda3/envs/lstm_rul_env/lib/python3.11/site-packages/torch/nn/modules/loss.py:608: UserWarning:\n",
      "\n",
      "Using a target size (torch.Size([257, 1])) that is different to the input size (torch.Size([1, 1])). This will likely lead to incorrect results due to broadcasting. Please ensure they have the same size.\n",
      "\n",
      "/Users/neerajsohani/anaconda3/envs/lstm_rul_env/lib/python3.11/site-packages/torch/nn/modules/loss.py:608: UserWarning:\n",
      "\n",
      "Using a target size (torch.Size([193, 1])) that is different to the input size (torch.Size([1, 1])). This will likely lead to incorrect results due to broadcasting. Please ensure they have the same size.\n",
      "\n",
      "/Users/neerajsohani/anaconda3/envs/lstm_rul_env/lib/python3.11/site-packages/torch/nn/modules/loss.py:608: UserWarning:\n",
      "\n",
      "Using a target size (torch.Size([275, 1])) that is different to the input size (torch.Size([1, 1])). This will likely lead to incorrect results due to broadcasting. Please ensure they have the same size.\n",
      "\n",
      "/Users/neerajsohani/anaconda3/envs/lstm_rul_env/lib/python3.11/site-packages/torch/nn/modules/loss.py:608: UserWarning:\n",
      "\n",
      "Using a target size (torch.Size([137, 1])) that is different to the input size (torch.Size([1, 1])). This will likely lead to incorrect results due to broadcasting. Please ensure they have the same size.\n",
      "\n",
      "/Users/neerajsohani/anaconda3/envs/lstm_rul_env/lib/python3.11/site-packages/torch/nn/modules/loss.py:608: UserWarning:\n",
      "\n",
      "Using a target size (torch.Size([172, 1])) that is different to the input size (torch.Size([1, 1])). This will likely lead to incorrect results due to broadcasting. Please ensure they have the same size.\n",
      "\n",
      "/Users/neerajsohani/anaconda3/envs/lstm_rul_env/lib/python3.11/site-packages/torch/nn/modules/loss.py:608: UserWarning:\n",
      "\n",
      "Using a target size (torch.Size([185, 1])) that is different to the input size (torch.Size([1, 1])). This will likely lead to incorrect results due to broadcasting. Please ensure they have the same size.\n",
      "\n",
      "/Users/neerajsohani/anaconda3/envs/lstm_rul_env/lib/python3.11/site-packages/torch/nn/modules/loss.py:608: UserWarning:\n",
      "\n",
      "Using a target size (torch.Size([174, 1])) that is different to the input size (torch.Size([1, 1])). This will likely lead to incorrect results due to broadcasting. Please ensure they have the same size.\n",
      "\n",
      "/Users/neerajsohani/anaconda3/envs/lstm_rul_env/lib/python3.11/site-packages/torch/nn/modules/loss.py:608: UserWarning:\n",
      "\n",
      "Using a target size (torch.Size([283, 1])) that is different to the input size (torch.Size([1, 1])). This will likely lead to incorrect results due to broadcasting. Please ensure they have the same size.\n",
      "\n",
      "/Users/neerajsohani/anaconda3/envs/lstm_rul_env/lib/python3.11/site-packages/torch/nn/modules/loss.py:608: UserWarning:\n",
      "\n",
      "Using a target size (torch.Size([153, 1])) that is different to the input size (torch.Size([1, 1])). This will likely lead to incorrect results due to broadcasting. Please ensure they have the same size.\n",
      "\n",
      "/Users/neerajsohani/anaconda3/envs/lstm_rul_env/lib/python3.11/site-packages/torch/nn/modules/loss.py:608: UserWarning:\n",
      "\n",
      "Using a target size (torch.Size([313, 1])) that is different to the input size (torch.Size([1, 1])). This will likely lead to incorrect results due to broadcasting. Please ensure they have the same size.\n",
      "\n",
      "/Users/neerajsohani/anaconda3/envs/lstm_rul_env/lib/python3.11/site-packages/torch/nn/modules/loss.py:608: UserWarning:\n",
      "\n",
      "Using a target size (torch.Size([362, 1])) that is different to the input size (torch.Size([1, 1])). This will likely lead to incorrect results due to broadcasting. Please ensure they have the same size.\n",
      "\n",
      "/Users/neerajsohani/anaconda3/envs/lstm_rul_env/lib/python3.11/site-packages/torch/nn/modules/loss.py:608: UserWarning:\n",
      "\n",
      "Using a target size (torch.Size([208, 1])) that is different to the input size (torch.Size([1, 1])). This will likely lead to incorrect results due to broadcasting. Please ensure they have the same size.\n",
      "\n",
      "/Users/neerajsohani/anaconda3/envs/lstm_rul_env/lib/python3.11/site-packages/torch/nn/modules/loss.py:608: UserWarning:\n",
      "\n",
      "Using a target size (torch.Size([166, 1])) that is different to the input size (torch.Size([1, 1])). This will likely lead to incorrect results due to broadcasting. Please ensure they have the same size.\n",
      "\n",
      "/Users/neerajsohani/anaconda3/envs/lstm_rul_env/lib/python3.11/site-packages/torch/nn/modules/loss.py:608: UserWarning:\n",
      "\n",
      "Using a target size (torch.Size([229, 1])) that is different to the input size (torch.Size([1, 1])). This will likely lead to incorrect results due to broadcasting. Please ensure they have the same size.\n",
      "\n",
      "/Users/neerajsohani/anaconda3/envs/lstm_rul_env/lib/python3.11/site-packages/torch/nn/modules/loss.py:608: UserWarning:\n",
      "\n",
      "Using a target size (torch.Size([210, 1])) that is different to the input size (torch.Size([1, 1])). This will likely lead to incorrect results due to broadcasting. Please ensure they have the same size.\n",
      "\n",
      "/Users/neerajsohani/anaconda3/envs/lstm_rul_env/lib/python3.11/site-packages/torch/nn/modules/loss.py:608: UserWarning:\n",
      "\n",
      "Using a target size (torch.Size([154, 1])) that is different to the input size (torch.Size([1, 1])). This will likely lead to incorrect results due to broadcasting. Please ensure they have the same size.\n",
      "\n",
      "/Users/neerajsohani/anaconda3/envs/lstm_rul_env/lib/python3.11/site-packages/torch/nn/modules/loss.py:608: UserWarning:\n",
      "\n",
      "Using a target size (torch.Size([293, 1])) that is different to the input size (torch.Size([1, 1])). This will likely lead to incorrect results due to broadcasting. Please ensure they have the same size.\n",
      "\n",
      "/Users/neerajsohani/anaconda3/envs/lstm_rul_env/lib/python3.11/site-packages/torch/nn/modules/loss.py:608: UserWarning:\n",
      "\n",
      "Using a target size (torch.Size([267, 1])) that is different to the input size (torch.Size([1, 1])). This will likely lead to incorrect results due to broadcasting. Please ensure they have the same size.\n",
      "\n",
      "/Users/neerajsohani/anaconda3/envs/lstm_rul_env/lib/python3.11/site-packages/torch/nn/modules/loss.py:608: UserWarning:\n",
      "\n",
      "Using a target size (torch.Size([278, 1])) that is different to the input size (torch.Size([1, 1])). This will likely lead to incorrect results due to broadcasting. Please ensure they have the same size.\n",
      "\n",
      "/Users/neerajsohani/anaconda3/envs/lstm_rul_env/lib/python3.11/site-packages/torch/nn/modules/loss.py:608: UserWarning:\n",
      "\n",
      "Using a target size (torch.Size([178, 1])) that is different to the input size (torch.Size([1, 1])). This will likely lead to incorrect results due to broadcasting. Please ensure they have the same size.\n",
      "\n",
      "/Users/neerajsohani/anaconda3/envs/lstm_rul_env/lib/python3.11/site-packages/torch/nn/modules/loss.py:608: UserWarning:\n",
      "\n",
      "Using a target size (torch.Size([217, 1])) that is different to the input size (torch.Size([1, 1])). This will likely lead to incorrect results due to broadcasting. Please ensure they have the same size.\n",
      "\n",
      "/Users/neerajsohani/anaconda3/envs/lstm_rul_env/lib/python3.11/site-packages/torch/nn/modules/loss.py:608: UserWarning:\n",
      "\n",
      "Using a target size (torch.Size([135, 1])) that is different to the input size (torch.Size([1, 1])). This will likely lead to incorrect results due to broadcasting. Please ensure they have the same size.\n",
      "\n",
      "/Users/neerajsohani/anaconda3/envs/lstm_rul_env/lib/python3.11/site-packages/torch/nn/modules/loss.py:608: UserWarning:\n",
      "\n",
      "Using a target size (torch.Size([341, 1])) that is different to the input size (torch.Size([1, 1])). This will likely lead to incorrect results due to broadcasting. Please ensure they have the same size.\n",
      "\n",
      "/Users/neerajsohani/anaconda3/envs/lstm_rul_env/lib/python3.11/site-packages/torch/nn/modules/loss.py:608: UserWarning:\n",
      "\n",
      "Using a target size (torch.Size([155, 1])) that is different to the input size (torch.Size([1, 1])). This will likely lead to incorrect results due to broadcasting. Please ensure they have the same size.\n",
      "\n",
      "/Users/neerajsohani/anaconda3/envs/lstm_rul_env/lib/python3.11/site-packages/torch/nn/modules/loss.py:608: UserWarning:\n",
      "\n",
      "Using a target size (torch.Size([258, 1])) that is different to the input size (torch.Size([1, 1])). This will likely lead to incorrect results due to broadcasting. Please ensure they have the same size.\n",
      "\n",
      "/Users/neerajsohani/anaconda3/envs/lstm_rul_env/lib/python3.11/site-packages/torch/nn/modules/loss.py:608: UserWarning:\n",
      "\n",
      "Using a target size (torch.Size([336, 1])) that is different to the input size (torch.Size([1, 1])). This will likely lead to incorrect results due to broadcasting. Please ensure they have the same size.\n",
      "\n"
     ]
    },
    {
     "ename": "KeyboardInterrupt",
     "evalue": "",
     "output_type": "error",
     "traceback": [
      "\u001b[0;31m---------------------------------------------------------------------------\u001b[0m",
      "\u001b[0;31mKeyboardInterrupt\u001b[0m                         Traceback (most recent call last)",
      "Cell \u001b[0;32mIn[45], line 1\u001b[0m\n\u001b[0;32m----> 1\u001b[0m result, rmse \u001b[38;5;241m=\u001b[39m \u001b[43mtrain_3\u001b[49m\u001b[43m(\u001b[49m\u001b[43mmodel\u001b[49m\u001b[43m,\u001b[49m\u001b[43m \u001b[49m\u001b[43mnum_train\u001b[49m\u001b[43m,\u001b[49m\u001b[43m \u001b[49m\u001b[43mnum_test\u001b[49m\u001b[43m,\u001b[49m\u001b[43m \u001b[49m\u001b[43mgroup_train\u001b[49m\u001b[43m,\u001b[49m\u001b[43m \u001b[49m\u001b[43mgroup_test\u001b[49m\u001b[43m,\u001b[49m\u001b[43m \u001b[49m\u001b[43mcriterion\u001b[49m\u001b[43m,\u001b[49m\u001b[43m \u001b[49m\u001b[43moptimizer\u001b[49m\u001b[43m,\u001b[49m\u001b[43m \u001b[49m\u001b[43my_test_array\u001b[49m\u001b[43m)\u001b[49m\n\u001b[1;32m      2\u001b[0m \u001b[38;5;66;03m# result, rmse = testing_function(model, num_test, group_test, y_test)\u001b[39;00m\n\u001b[1;32m      3\u001b[0m visualize(result, y_test, num_test, rmse)\n",
      "Cell \u001b[0;32mIn[39], line 49\u001b[0m, in \u001b[0;36mtrain_3\u001b[0;34m(model, num_train, num_test, group_train, group_test, loss_fn, optimizer, y_test)\u001b[0m\n\u001b[1;32m     47\u001b[0m \u001b[38;5;28;01mif\u001b[39;00m epoch \u001b[38;5;241m%\u001b[39m \u001b[38;5;241m1\u001b[39m \u001b[38;5;241m==\u001b[39m \u001b[38;5;241m0\u001b[39m:  \u001b[38;5;66;03m# evaluate the model on testing set with each epoch\u001b[39;00m\n\u001b[1;32m     48\u001b[0m     model\u001b[38;5;241m.\u001b[39meval()  \u001b[38;5;66;03m# evaluate model\u001b[39;00m\n\u001b[0;32m---> 49\u001b[0m     result, rmse \u001b[38;5;241m=\u001b[39m \u001b[43mtesting_function\u001b[49m\u001b[43m(\u001b[49m\u001b[43mmodel\u001b[49m\u001b[43m,\u001b[49m\u001b[43m \u001b[49m\u001b[43mnum_test\u001b[49m\u001b[43m,\u001b[49m\u001b[43m \u001b[49m\u001b[43mgroup_test\u001b[49m\u001b[43m,\u001b[49m\u001b[43m \u001b[49m\u001b[43my_test\u001b[49m\u001b[43m)\u001b[49m\n\u001b[1;32m     50\u001b[0m     \u001b[38;5;28;01mif\u001b[39;00m rmse_temp \u001b[38;5;241m<\u001b[39m rmse \u001b[38;5;129;01mand\u001b[39;00m rmse_temp \u001b[38;5;241m<\u001b[39m \u001b[38;5;241m15\u001b[39m:\n\u001b[1;32m     51\u001b[0m         result, rmse \u001b[38;5;241m=\u001b[39m result_temp, rmse_temp\n",
      "File \u001b[0;32m~/Documents/python/PyTorch-LSTM-for-RUL-Prediction/main.py:22\u001b[0m, in \u001b[0;36mtesting_function\u001b[0;34m(model, num_test, group_test, y_test)\u001b[0m\n\u001b[1;32m     19\u001b[0m X_test_tensors \u001b[38;5;241m=\u001b[39m Variable(torch\u001b[38;5;241m.\u001b[39mTensor(X_test\u001b[38;5;241m.\u001b[39mto_numpy()))\n\u001b[1;32m     20\u001b[0m X_test_tensors \u001b[38;5;241m=\u001b[39m torch\u001b[38;5;241m.\u001b[39mreshape(X_test_tensors, (X_test_tensors\u001b[38;5;241m.\u001b[39mshape[\u001b[38;5;241m0\u001b[39m], \u001b[38;5;241m1\u001b[39m, X_test_tensors\u001b[38;5;241m.\u001b[39mshape[\u001b[38;5;241m1\u001b[39m]))\n\u001b[0;32m---> 22\u001b[0m test_predict \u001b[38;5;241m=\u001b[39m \u001b[43mmodel\u001b[49m\u001b[43m(\u001b[49m\u001b[43mX_test_tensors\u001b[49m\u001b[43m)\u001b[49m\n\u001b[1;32m     23\u001b[0m data_predict \u001b[38;5;241m=\u001b[39m \u001b[38;5;28mmax\u001b[39m(test_predict[\u001b[38;5;241m-\u001b[39m\u001b[38;5;241m1\u001b[39m]\u001b[38;5;241m.\u001b[39mdetach()\u001b[38;5;241m.\u001b[39mnumpy(), \u001b[38;5;241m0\u001b[39m)\n\u001b[1;32m     24\u001b[0m result_test\u001b[38;5;241m.\u001b[39mappend(data_predict)\n",
      "File \u001b[0;32m~/anaconda3/envs/lstm_rul_env/lib/python3.11/site-packages/torch/nn/modules/module.py:1736\u001b[0m, in \u001b[0;36mModule._wrapped_call_impl\u001b[0;34m(self, *args, **kwargs)\u001b[0m\n\u001b[1;32m   1734\u001b[0m     \u001b[38;5;28;01mreturn\u001b[39;00m \u001b[38;5;28mself\u001b[39m\u001b[38;5;241m.\u001b[39m_compiled_call_impl(\u001b[38;5;241m*\u001b[39margs, \u001b[38;5;241m*\u001b[39m\u001b[38;5;241m*\u001b[39mkwargs)  \u001b[38;5;66;03m# type: ignore[misc]\u001b[39;00m\n\u001b[1;32m   1735\u001b[0m \u001b[38;5;28;01melse\u001b[39;00m:\n\u001b[0;32m-> 1736\u001b[0m     \u001b[38;5;28;01mreturn\u001b[39;00m \u001b[38;5;28;43mself\u001b[39;49m\u001b[38;5;241;43m.\u001b[39;49m\u001b[43m_call_impl\u001b[49m\u001b[43m(\u001b[49m\u001b[38;5;241;43m*\u001b[39;49m\u001b[43margs\u001b[49m\u001b[43m,\u001b[49m\u001b[43m \u001b[49m\u001b[38;5;241;43m*\u001b[39;49m\u001b[38;5;241;43m*\u001b[39;49m\u001b[43mkwargs\u001b[49m\u001b[43m)\u001b[49m\n",
      "File \u001b[0;32m~/anaconda3/envs/lstm_rul_env/lib/python3.11/site-packages/torch/nn/modules/module.py:1747\u001b[0m, in \u001b[0;36mModule._call_impl\u001b[0;34m(self, *args, **kwargs)\u001b[0m\n\u001b[1;32m   1742\u001b[0m \u001b[38;5;66;03m# If we don't have any hooks, we want to skip the rest of the logic in\u001b[39;00m\n\u001b[1;32m   1743\u001b[0m \u001b[38;5;66;03m# this function, and just call forward.\u001b[39;00m\n\u001b[1;32m   1744\u001b[0m \u001b[38;5;28;01mif\u001b[39;00m \u001b[38;5;129;01mnot\u001b[39;00m (\u001b[38;5;28mself\u001b[39m\u001b[38;5;241m.\u001b[39m_backward_hooks \u001b[38;5;129;01mor\u001b[39;00m \u001b[38;5;28mself\u001b[39m\u001b[38;5;241m.\u001b[39m_backward_pre_hooks \u001b[38;5;129;01mor\u001b[39;00m \u001b[38;5;28mself\u001b[39m\u001b[38;5;241m.\u001b[39m_forward_hooks \u001b[38;5;129;01mor\u001b[39;00m \u001b[38;5;28mself\u001b[39m\u001b[38;5;241m.\u001b[39m_forward_pre_hooks\n\u001b[1;32m   1745\u001b[0m         \u001b[38;5;129;01mor\u001b[39;00m _global_backward_pre_hooks \u001b[38;5;129;01mor\u001b[39;00m _global_backward_hooks\n\u001b[1;32m   1746\u001b[0m         \u001b[38;5;129;01mor\u001b[39;00m _global_forward_hooks \u001b[38;5;129;01mor\u001b[39;00m _global_forward_pre_hooks):\n\u001b[0;32m-> 1747\u001b[0m     \u001b[38;5;28;01mreturn\u001b[39;00m \u001b[43mforward_call\u001b[49m\u001b[43m(\u001b[49m\u001b[38;5;241;43m*\u001b[39;49m\u001b[43margs\u001b[49m\u001b[43m,\u001b[49m\u001b[43m \u001b[49m\u001b[38;5;241;43m*\u001b[39;49m\u001b[38;5;241;43m*\u001b[39;49m\u001b[43mkwargs\u001b[49m\u001b[43m)\u001b[49m\n\u001b[1;32m   1749\u001b[0m result \u001b[38;5;241m=\u001b[39m \u001b[38;5;28;01mNone\u001b[39;00m\n\u001b[1;32m   1750\u001b[0m called_always_called_hooks \u001b[38;5;241m=\u001b[39m \u001b[38;5;28mset\u001b[39m()\n",
      "Cell \u001b[0;32mIn[43], line 37\u001b[0m, in \u001b[0;36mLSTM_3.forward\u001b[0;34m(self, x)\u001b[0m\n\u001b[1;32m     30\u001b[0m \u001b[38;5;250m\u001b[39m\u001b[38;5;124;03m\"\"\"\u001b[39;00m\n\u001b[1;32m     31\u001b[0m \n\u001b[1;32m     32\u001b[0m \u001b[38;5;124;03m:param x: input features\u001b[39;00m\n\u001b[1;32m     33\u001b[0m \u001b[38;5;124;03m:return: prediction results\u001b[39;00m\n\u001b[1;32m     34\u001b[0m \u001b[38;5;124;03m\"\"\"\u001b[39;00m\n\u001b[1;32m     35\u001b[0m \u001b[38;5;66;03m# h_0 = Variable(torch.zeros(self.num_layers, 1, self.hidden_size))  # hidden state\u001b[39;00m\n\u001b[1;32m     36\u001b[0m \u001b[38;5;66;03m# c_0 = Variable(torch.zeros(self.num_layers, 1, self.hidden_size))  # internal state\u001b[39;00m\n\u001b[0;32m---> 37\u001b[0m output, (hn, cn) \u001b[38;5;241m=\u001b[39m \u001b[38;5;28;43mself\u001b[39;49m\u001b[38;5;241;43m.\u001b[39;49m\u001b[43mlstm\u001b[49m\u001b[43m(\u001b[49m\u001b[43mx\u001b[49m\u001b[43m)\u001b[49m  \u001b[38;5;66;03m# lstm with input, hidden, and internal state\u001b[39;00m\n\u001b[1;32m     39\u001b[0m hn_o \u001b[38;5;241m=\u001b[39m torch\u001b[38;5;241m.\u001b[39mTensor(hn\u001b[38;5;241m.\u001b[39mdetach()\u001b[38;5;241m.\u001b[39mnumpy()[\u001b[38;5;241m-\u001b[39m\u001b[38;5;241m1\u001b[39m, :])\n\u001b[1;32m     40\u001b[0m hn_o \u001b[38;5;241m=\u001b[39m hn_o\u001b[38;5;241m.\u001b[39mview(\u001b[38;5;241m-\u001b[39m\u001b[38;5;241m1\u001b[39m, \u001b[38;5;28mself\u001b[39m\u001b[38;5;241m.\u001b[39mhidden_size)\n",
      "File \u001b[0;32m~/anaconda3/envs/lstm_rul_env/lib/python3.11/site-packages/torch/nn/modules/module.py:1736\u001b[0m, in \u001b[0;36mModule._wrapped_call_impl\u001b[0;34m(self, *args, **kwargs)\u001b[0m\n\u001b[1;32m   1734\u001b[0m     \u001b[38;5;28;01mreturn\u001b[39;00m \u001b[38;5;28mself\u001b[39m\u001b[38;5;241m.\u001b[39m_compiled_call_impl(\u001b[38;5;241m*\u001b[39margs, \u001b[38;5;241m*\u001b[39m\u001b[38;5;241m*\u001b[39mkwargs)  \u001b[38;5;66;03m# type: ignore[misc]\u001b[39;00m\n\u001b[1;32m   1735\u001b[0m \u001b[38;5;28;01melse\u001b[39;00m:\n\u001b[0;32m-> 1736\u001b[0m     \u001b[38;5;28;01mreturn\u001b[39;00m \u001b[38;5;28;43mself\u001b[39;49m\u001b[38;5;241;43m.\u001b[39;49m\u001b[43m_call_impl\u001b[49m\u001b[43m(\u001b[49m\u001b[38;5;241;43m*\u001b[39;49m\u001b[43margs\u001b[49m\u001b[43m,\u001b[49m\u001b[43m \u001b[49m\u001b[38;5;241;43m*\u001b[39;49m\u001b[38;5;241;43m*\u001b[39;49m\u001b[43mkwargs\u001b[49m\u001b[43m)\u001b[49m\n",
      "File \u001b[0;32m~/anaconda3/envs/lstm_rul_env/lib/python3.11/site-packages/torch/nn/modules/module.py:1747\u001b[0m, in \u001b[0;36mModule._call_impl\u001b[0;34m(self, *args, **kwargs)\u001b[0m\n\u001b[1;32m   1742\u001b[0m \u001b[38;5;66;03m# If we don't have any hooks, we want to skip the rest of the logic in\u001b[39;00m\n\u001b[1;32m   1743\u001b[0m \u001b[38;5;66;03m# this function, and just call forward.\u001b[39;00m\n\u001b[1;32m   1744\u001b[0m \u001b[38;5;28;01mif\u001b[39;00m \u001b[38;5;129;01mnot\u001b[39;00m (\u001b[38;5;28mself\u001b[39m\u001b[38;5;241m.\u001b[39m_backward_hooks \u001b[38;5;129;01mor\u001b[39;00m \u001b[38;5;28mself\u001b[39m\u001b[38;5;241m.\u001b[39m_backward_pre_hooks \u001b[38;5;129;01mor\u001b[39;00m \u001b[38;5;28mself\u001b[39m\u001b[38;5;241m.\u001b[39m_forward_hooks \u001b[38;5;129;01mor\u001b[39;00m \u001b[38;5;28mself\u001b[39m\u001b[38;5;241m.\u001b[39m_forward_pre_hooks\n\u001b[1;32m   1745\u001b[0m         \u001b[38;5;129;01mor\u001b[39;00m _global_backward_pre_hooks \u001b[38;5;129;01mor\u001b[39;00m _global_backward_hooks\n\u001b[1;32m   1746\u001b[0m         \u001b[38;5;129;01mor\u001b[39;00m _global_forward_hooks \u001b[38;5;129;01mor\u001b[39;00m _global_forward_pre_hooks):\n\u001b[0;32m-> 1747\u001b[0m     \u001b[38;5;28;01mreturn\u001b[39;00m \u001b[43mforward_call\u001b[49m\u001b[43m(\u001b[49m\u001b[38;5;241;43m*\u001b[39;49m\u001b[43margs\u001b[49m\u001b[43m,\u001b[49m\u001b[43m \u001b[49m\u001b[38;5;241;43m*\u001b[39;49m\u001b[38;5;241;43m*\u001b[39;49m\u001b[43mkwargs\u001b[49m\u001b[43m)\u001b[49m\n\u001b[1;32m   1749\u001b[0m result \u001b[38;5;241m=\u001b[39m \u001b[38;5;28;01mNone\u001b[39;00m\n\u001b[1;32m   1750\u001b[0m called_always_called_hooks \u001b[38;5;241m=\u001b[39m \u001b[38;5;28mset\u001b[39m()\n",
      "File \u001b[0;32m~/anaconda3/envs/lstm_rul_env/lib/python3.11/site-packages/torch/nn/modules/rnn.py:1123\u001b[0m, in \u001b[0;36mLSTM.forward\u001b[0;34m(self, input, hx)\u001b[0m\n\u001b[1;32m   1120\u001b[0m         hx \u001b[38;5;241m=\u001b[39m \u001b[38;5;28mself\u001b[39m\u001b[38;5;241m.\u001b[39mpermute_hidden(hx, sorted_indices)\n\u001b[1;32m   1122\u001b[0m \u001b[38;5;28;01mif\u001b[39;00m batch_sizes \u001b[38;5;129;01mis\u001b[39;00m \u001b[38;5;28;01mNone\u001b[39;00m:\n\u001b[0;32m-> 1123\u001b[0m     result \u001b[38;5;241m=\u001b[39m \u001b[43m_VF\u001b[49m\u001b[38;5;241;43m.\u001b[39;49m\u001b[43mlstm\u001b[49m\u001b[43m(\u001b[49m\n\u001b[1;32m   1124\u001b[0m \u001b[43m        \u001b[49m\u001b[38;5;28;43minput\u001b[39;49m\u001b[43m,\u001b[49m\n\u001b[1;32m   1125\u001b[0m \u001b[43m        \u001b[49m\u001b[43mhx\u001b[49m\u001b[43m,\u001b[49m\n\u001b[1;32m   1126\u001b[0m \u001b[43m        \u001b[49m\u001b[38;5;28;43mself\u001b[39;49m\u001b[38;5;241;43m.\u001b[39;49m\u001b[43m_flat_weights\u001b[49m\u001b[43m,\u001b[49m\n\u001b[1;32m   1127\u001b[0m \u001b[43m        \u001b[49m\u001b[38;5;28;43mself\u001b[39;49m\u001b[38;5;241;43m.\u001b[39;49m\u001b[43mbias\u001b[49m\u001b[43m,\u001b[49m\n\u001b[1;32m   1128\u001b[0m \u001b[43m        \u001b[49m\u001b[38;5;28;43mself\u001b[39;49m\u001b[38;5;241;43m.\u001b[39;49m\u001b[43mnum_layers\u001b[49m\u001b[43m,\u001b[49m\n\u001b[1;32m   1129\u001b[0m \u001b[43m        \u001b[49m\u001b[38;5;28;43mself\u001b[39;49m\u001b[38;5;241;43m.\u001b[39;49m\u001b[43mdropout\u001b[49m\u001b[43m,\u001b[49m\n\u001b[1;32m   1130\u001b[0m \u001b[43m        \u001b[49m\u001b[38;5;28;43mself\u001b[39;49m\u001b[38;5;241;43m.\u001b[39;49m\u001b[43mtraining\u001b[49m\u001b[43m,\u001b[49m\n\u001b[1;32m   1131\u001b[0m \u001b[43m        \u001b[49m\u001b[38;5;28;43mself\u001b[39;49m\u001b[38;5;241;43m.\u001b[39;49m\u001b[43mbidirectional\u001b[49m\u001b[43m,\u001b[49m\n\u001b[1;32m   1132\u001b[0m \u001b[43m        \u001b[49m\u001b[38;5;28;43mself\u001b[39;49m\u001b[38;5;241;43m.\u001b[39;49m\u001b[43mbatch_first\u001b[49m\u001b[43m,\u001b[49m\n\u001b[1;32m   1133\u001b[0m \u001b[43m    \u001b[49m\u001b[43m)\u001b[49m\n\u001b[1;32m   1134\u001b[0m \u001b[38;5;28;01melse\u001b[39;00m:\n\u001b[1;32m   1135\u001b[0m     result \u001b[38;5;241m=\u001b[39m _VF\u001b[38;5;241m.\u001b[39mlstm(\n\u001b[1;32m   1136\u001b[0m         \u001b[38;5;28minput\u001b[39m,\n\u001b[1;32m   1137\u001b[0m         batch_sizes,\n\u001b[0;32m   (...)\u001b[0m\n\u001b[1;32m   1144\u001b[0m         \u001b[38;5;28mself\u001b[39m\u001b[38;5;241m.\u001b[39mbidirectional,\n\u001b[1;32m   1145\u001b[0m     )\n",
      "\u001b[0;31mKeyboardInterrupt\u001b[0m: "
     ]
    }
   ],
   "source": [
    "result, rmse = train_3(model, num_train, num_test, group_train, group_test, criterion, optimizer, y_test_array)\n",
    "# result, rmse = testing_function(model, num_test, group_test, y_test)\n",
    "visualize(result, y_test, num_test, rmse)"
   ]
  },
  {
   "cell_type": "code",
   "execution_count": 70,
   "id": "fc33361b",
   "metadata": {},
   "outputs": [],
   "source": [
    "X, y = group_train.get_group(1).iloc[:, 2:-1], group_train.get_group(1).iloc[:, -1:]\n",
    "X_train_tensors = Variable(torch.Tensor(X.to_numpy()))\n",
    "y_train_tensors = Variable(torch.Tensor(y.to_numpy()))\n",
    "X_train_tensors = torch.reshape(X_train_tensors, (X_train_tensors.shape[0], 1, X_train_tensors.shape[1]))\n",
    "\n",
    "outputs, (hn, cn), out_1, out_2, out_dp = model(X_train_tensors)  # forward pass"
   ]
  },
  {
   "cell_type": "code",
   "execution_count": 74,
   "id": "27cd3fd3",
   "metadata": {},
   "outputs": [],
   "source": [
    "hn_o = torch.Tensor(hn.detach().numpy()[-1, :])\n",
    "hn_o = hn_o.view(-1, 96)"
   ]
  },
  {
   "cell_type": "code",
   "execution_count": 77,
   "id": "4fcf81bf",
   "metadata": {},
   "outputs": [
    {
     "data": {
      "text/plain": [
       "(torch.Size([4, 192, 96]),\n",
       " torch.Size([192, 96]),\n",
       " torch.Size([192, 16]),\n",
       " torch.Size([192, 8]),\n",
       " torch.Size([192, 8]),\n",
       " torch.Size([192, 1]))"
      ]
     },
     "execution_count": 77,
     "metadata": {},
     "output_type": "execute_result"
    }
   ],
   "source": [
    "hn.shape, hn_o.shape, out_1.shape, out_2.shape, out_dp.shape, outputs.shape"
   ]
  },
  {
   "cell_type": "markdown",
   "id": "60e53740",
   "metadata": {},
   "source": [
    "<p>The original code is using each time step as individual batches. This should mean that the \"time\" part of learning is lost. Each prediction is based on the sensor output at the time itself, instead of taking into account all the previous time steps. This is explored in the next section.</p>"
   ]
  },
  {
   "cell_type": "markdown",
   "id": "ad22f7ea",
   "metadata": {},
   "source": [
    "<h2>I think the original model is wrong because of the batch thing</h2>"
   ]
  },
  {
   "cell_type": "code",
   "execution_count": 53,
   "id": "45df5698",
   "metadata": {},
   "outputs": [
    {
     "name": "stdout",
     "output_type": "stream",
     "text": [
      "Model loaded from ./results/model_base_H96L4_rmse23p66.pth\n"
     ]
    },
    {
     "name": "stderr",
     "output_type": "stream",
     "text": [
      "/Users/neerajsohani/Documents/python/PyTorch-LSTM-for-RUL-Prediction/main.py:95: FutureWarning: You are using `torch.load` with `weights_only=False` (the current default value), which uses the default pickle module implicitly. It is possible to construct malicious pickle data which will execute arbitrary code during unpickling (See https://github.com/pytorch/pytorch/blob/main/SECURITY.md#untrusted-models for more details). In a future release, the default value for `weights_only` will be flipped to `True`. This limits the functions that could be executed during unpickling. Arbitrary objects will no longer be allowed to be loaded via this mode unless they are explicitly allowlisted by the user via `torch.serialization.add_safe_globals`. We recommend you start setting `weights_only=True` for any use case where you don't have full control of the loaded file. Please open an issue on GitHub for any issues related to this experimental feature.\n",
      "  model.load_state_dict(torch.load(path))\n"
     ]
    }
   ],
   "source": [
    "# model, criterion, optimizer, group_train, group_test, y_test, result, rmse = run()\n",
    "# fetch basic information from data sets\n",
    "group_train, group_test, y_test = load_FD001()\n",
    "y_test_array = y_test.to_numpy()  # convert to numpy array\n",
    "num_train, num_test = len(group_train.size()), len(group_test.size())\n",
    "input_size = group_train.get_group(1).shape[1] - 3  # number of features\n",
    "\n",
    "# LSTM model initialization\n",
    "model = LSTM1(input_size, N_HIDDEN, N_LAYER)  # our lstm class\n",
    "\n",
    "load_model(model, './results/model_base_H96L4_rmse23p66.pth')  # load the pre-trained model\n",
    "model.eval()  # set the model to evaluation mode\n",
    "criterion = torch.nn.MSELoss()  # mean-squared error for regression\n",
    "optimizer = torch.optim.Adam(model.parameters(), lr=LR)"
   ]
  },
  {
   "cell_type": "code",
   "execution_count": null,
   "id": "58c542c2",
   "metadata": {},
   "outputs": [],
   "source": [
    "\"\"\"\n",
    "Computes the predictions for a given unit,\n",
    "i.e., a given sequence of sensor data, in the standard way.\n",
    "You give the entire sequence all at once and get a output array\n",
    "with prediction for each time step. Ideally the prediction at time step t should\n",
    "depend on the sensor data from all previous time steps.\n",
    "\"\"\"\n",
    "predictions_all_at_once = []\n",
    "for unit_nr in range(1, 101):\n",
    "    X = group_train.get_group(unit_nr).iloc[:, 2:-1]\n",
    "    X_train_tensors = Variable(torch.Tensor(X.to_numpy()))\n",
    "    X_train_tensors = torch.reshape(X_train_tensors, (X_train_tensors.shape[0], 1, X_train_tensors.shape[1]))\n",
    "    predictions_all_at_once.append(model(X_train_tensors).detach().numpy().squeeze().reshape)  # forward pass"
   ]
  },
  {
   "cell_type": "code",
   "execution_count": null,
   "id": "cbebeaed",
   "metadata": {},
   "outputs": [],
   "source": [
    "\"\"\"\n",
    "Computes the predictions for a given all time steps one at a time,\n",
    "i.e., the model is called for each time step to get the prediction for that time step.\n",
    "This ensures that the model is getting any past information for the prediction.\n",
    "\"\"\"\n",
    "predictions_one_at_a_time = []\n",
    "for unit_nr in range(1, 101):\n",
    "    unit_X = group_train.get_group(unit_nr).iloc[:, 2:-1]\n",
    "    output = []\n",
    "    # get all predictions one sensor data at a time\n",
    "    for i in range(-unit_X.shape[0], -1):\n",
    "        X = unit_X.iloc[i:i+1, :]\n",
    "        X_train_tensors = Variable(torch.Tensor(X.to_numpy()))\n",
    "        X_train_tensors = torch.reshape(X_train_tensors, (X_train_tensors.shape[0], 1, X_train_tensors.shape[1]))\n",
    "        tmp = model(X_train_tensors).detach().numpy().squeeze()  # forward pass\n",
    "        output.append(tmp)  # forward pass\n",
    "    # get the last prediction\n",
    "    X = unit_X.iloc[-1:, :]\n",
    "    X_train_tensors = Variable(torch.Tensor(X.to_numpy()))\n",
    "    X_train_tensors = torch.reshape(X_train_tensors, (X_train_tensors.shape[0], 1, X_train_tensors.shape[1]))\n",
    "    output.append(model(X_train_tensors).detach().numpy().squeeze())  # forward pass\n",
    "    output = np.array(output)\n",
    "    output = output.reshape(-1)\n",
    "    predictions_one_at_a_time.append(output)  # forward pass"
   ]
  },
  {
   "cell_type": "code",
   "execution_count": null,
   "id": "ff413f6d",
   "metadata": {},
   "outputs": [
    {
     "name": "stdout",
     "output_type": "stream",
     "text": [
      "Number of units with different predictions: 0\n"
     ]
    }
   ],
   "source": [
    "\"\"\"\n",
    "Compares the two predictions for each time step for each unit.\n",
    "\"\"\"\n",
    "num_units_with_diff = 0\n",
    "for unit_nr in range(1, 101):\n",
    "    a, b = predictions_all_at_once[unit_nr - 1], predictions_one_at_a_time[unit_nr - 1]\n",
    "    c = a - b\n",
    "    stats = max(c).item(), min(c).item()\n",
    "    if stats[0] != 0 and stats[1] != 0:\n",
    "        num_units_with_diff += 1\n",
    "        print(f\"Unit {unit_nr}: Max: {stats[0]}, Min: {stats[1]}\")\n",
    "print(f\"Number of units with different predictions: {num_units_with_diff}\")"
   ]
  },
  {
   "cell_type": "markdown",
   "id": "5a7885fd",
   "metadata": {},
   "source": [
    "<p>Both the predictions are exactly the same for all units and time steps. This means that the original code is not using the past sensor data to make the prediction for the current time step. THIS IS WRONG. This happens because the input of size (L,1,F) is being fed into the LSTM with batch_first=True. L - #TimeSteps, F - #Features. Hence, the LSTM is considering each time step as a separate batch!!</p>"
   ]
  }
 ],
 "metadata": {
  "kernelspec": {
   "display_name": "lstm_rul_env",
   "language": "python",
   "name": "python3"
  },
  "language_info": {
   "codemirror_mode": {
    "name": "ipython",
    "version": 3
   },
   "file_extension": ".py",
   "mimetype": "text/x-python",
   "name": "python",
   "nbconvert_exporter": "python",
   "pygments_lexer": "ipython3",
   "version": "3.11.11"
  }
 },
 "nbformat": 4,
 "nbformat_minor": 5
}
